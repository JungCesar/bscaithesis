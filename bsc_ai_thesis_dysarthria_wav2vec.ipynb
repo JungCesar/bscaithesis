{
  "cells": [
    {
      "cell_type": "markdown",
      "metadata": {
        "id": "view-in-github",
        "colab_type": "text"
      },
      "source": [
        "<a href=\"https://colab.research.google.com/github/JungCesar/bscaithesis/blob/master/bsc_ai_thesis_dysarthria_wav2vec.ipynb\" target=\"_parent\"><img src=\"https://colab.research.google.com/assets/colab-badge.svg\" alt=\"Open In Colab\"/></a>"
      ]
    },
    {
      "cell_type": "markdown",
      "metadata": {
        "id": "4uKhO4nxZIpd",
        "tags": []
      },
      "source": [
        "# Dysarthria Classification Algorithm\n",
        "\n",
        "In this notebook, I will create a dyasarthria classification algorithm for my bachelor's thesis Artificial Intelligence at the University of Amsterdam. Dysarthria occurs when the muscles you use for speech are weak or you have difficulty controlling them. The title of my thesis is \"Investigating Pre-Trained Self-Supervised Deep Learning Models for Disease Recognition\". The idea is to apply the algorithm created here to other datasets as well, for example audiofiles from the DementiaBank databases.\n",
        "\n",
        "The [Torgo](http://www.cs.toronto.edu/~complingweb/data/TORGO/torgo.html) dataste perfectly fits this purpose. It consists of dyasrthric male and female speakers, either caused by cerebral palsy (CP) or amyotrophic lateral sclerosis (ALS) and their non-dysarthric counterparts, also known as the healthy control group.\n",
        "\n",
        "I will fine-tune a pre-trained self-supervised deep-learning model, namely Facebook's [wav2vec](https://ai.facebook.com/blog/wav2vec-20-learning-the-structure-of-speech-from-raw-audio/), on our specific training data. Then I will extract the fine-tuned wav2vec features from our test data. Then, these features will be used as input for the classifier to distinnguish between the two categories.\n",
        "\n",
        "I will take a bottom-up approach, try to be as operating system-independent as possible and explain the steps in detail below. The structure will be as follows:\n",
        "\n",
        "1.   Installing and Exlpaining Necessary Packages\n",
        "2.   Downloading, Storing, and Accessing (Loading) the Dataset\n",
        "3.   Exploratory Data Analysis (EDA)\n",
        "4.   Dataset Preprocessing\n",
        "5.   Dataset Splitting (into a train- and test set)\n",
        "6.   Fine-tuning Wav2vec\n",
        "7.   Feature Extraction\n",
        "8.   Training Classifier\n",
        "9.   Model Validation\n",
        "10.   Model Evaluation\n",
        "\n",
        "Notes:\n",
        "\n",
        "*   The above link to TORGO redirects to the Computational Linguistics website of the university of Toronto. An in-depth explanation can be found there, but the actual dataset that will be used in this notebook, comes from Kaggle. [Kaggle's version of Torgo](https://www.kaggle.com/datasets/iamhungundji/dysarthria-detection) is already some sort of preprocessed form of the original one.\n",
        "*   Wav2vec has been made publicly available by Facebook on Hugging Face, it can be found [here](https://huggingface.co/facebook/wav2vec2-base)."
      ]
    },
    {
      "cell_type": "markdown",
      "metadata": {
        "id": "sk7KEVHPgQEm",
        "tags": []
      },
      "source": [
        "## 1. Installing Necessary Packages and Explaining Them\n",
        "Huggins Face's Transformers provides APIs and tools to easily download and train state-of-the-art pretrained models, like wav2vec. Installing Datasets is optional if you want to use one of the available datasets on their platform. Evaluate is a package for easily evaluating machine learning models and datasets.\n",
        "\n",
        "Accelerate is a library that enables the same PyTorch code to be run across any distributed configuration by adding just four lines of code! In short, training and inference at scale made simple, efficient and adaptable.\n",
        "\n",
        "Uninstalling and installing transformers and accelerate again was the solution to a bug I perceived."
      ]
    },
    {
      "cell_type": "code",
      "execution_count": 1,
      "metadata": {
        "id": "8cO03xqmgK3W",
        "tags": [],
        "colab": {
          "base_uri": "https://localhost:8080/"
        },
        "outputId": "718b66dd-a9a6-4055-c320-699737066bfb"
      },
      "outputs": [
        {
          "output_type": "stream",
          "name": "stdout",
          "text": [
            "Looking in indexes: https://pypi.org/simple, https://us-python.pkg.dev/colab-wheels/public/simple/\n",
            "Requirement already satisfied: pip in /usr/local/lib/python3.10/dist-packages (23.1.2)\n",
            "Looking in indexes: https://pypi.org/simple, https://us-python.pkg.dev/colab-wheels/public/simple/\n",
            "Collecting transformers==4.28.0\n",
            "  Downloading transformers-4.28.0-py3-none-any.whl (7.0 MB)\n",
            "\u001b[2K     \u001b[90m━━━━━━━━━━━━━━━━━━━━━━━━━━━━━━━━━━━━━━━━\u001b[0m \u001b[32m7.0/7.0 MB\u001b[0m \u001b[31m77.7 MB/s\u001b[0m eta \u001b[36m0:00:00\u001b[0m\n",
            "\u001b[?25hCollecting datasets\n",
            "  Downloading datasets-2.12.0-py3-none-any.whl (474 kB)\n",
            "\u001b[2K     \u001b[90m━━━━━━━━━━━━━━━━━━━━━━━━━━━━━━━━━━━━━━\u001b[0m \u001b[32m474.6/474.6 kB\u001b[0m \u001b[31m51.9 MB/s\u001b[0m eta \u001b[36m0:00:00\u001b[0m\n",
            "\u001b[?25hCollecting evaluate\n",
            "  Downloading evaluate-0.4.0-py3-none-any.whl (81 kB)\n",
            "\u001b[2K     \u001b[90m━━━━━━━━━━━━━━━━━━━━━━━━━━━━━━━━━━━━━━━━\u001b[0m \u001b[32m81.4/81.4 kB\u001b[0m \u001b[31m9.6 MB/s\u001b[0m eta \u001b[36m0:00:00\u001b[0m\n",
            "\u001b[?25hRequirement already satisfied: filelock in /usr/local/lib/python3.10/dist-packages (from transformers==4.28.0) (3.12.0)\n",
            "Collecting huggingface-hub<1.0,>=0.11.0 (from transformers==4.28.0)\n",
            "  Downloading huggingface_hub-0.15.1-py3-none-any.whl (236 kB)\n",
            "\u001b[2K     \u001b[90m━━━━━━━━━━━━━━━━━━━━━━━━━━━━━━━━━━━━━━\u001b[0m \u001b[32m236.8/236.8 kB\u001b[0m \u001b[31m11.0 MB/s\u001b[0m eta \u001b[36m0:00:00\u001b[0m\n",
            "\u001b[?25hRequirement already satisfied: numpy>=1.17 in /usr/local/lib/python3.10/dist-packages (from transformers==4.28.0) (1.22.4)\n",
            "Requirement already satisfied: packaging>=20.0 in /usr/local/lib/python3.10/dist-packages (from transformers==4.28.0) (23.1)\n",
            "Requirement already satisfied: pyyaml>=5.1 in /usr/local/lib/python3.10/dist-packages (from transformers==4.28.0) (6.0)\n",
            "Requirement already satisfied: regex!=2019.12.17 in /usr/local/lib/python3.10/dist-packages (from transformers==4.28.0) (2022.10.31)\n",
            "Requirement already satisfied: requests in /usr/local/lib/python3.10/dist-packages (from transformers==4.28.0) (2.27.1)\n",
            "Collecting tokenizers!=0.11.3,<0.14,>=0.11.1 (from transformers==4.28.0)\n",
            "  Downloading tokenizers-0.13.3-cp310-cp310-manylinux_2_17_x86_64.manylinux2014_x86_64.whl (7.8 MB)\n",
            "\u001b[2K     \u001b[90m━━━━━━━━━━━━━━━━━━━━━━━━━━━━━━━━━━━━━━━━\u001b[0m \u001b[32m7.8/7.8 MB\u001b[0m \u001b[31m44.5 MB/s\u001b[0m eta \u001b[36m0:00:00\u001b[0m\n",
            "\u001b[?25hRequirement already satisfied: tqdm>=4.27 in /usr/local/lib/python3.10/dist-packages (from transformers==4.28.0) (4.65.0)\n",
            "Requirement already satisfied: pyarrow>=8.0.0 in /usr/local/lib/python3.10/dist-packages (from datasets) (9.0.0)\n",
            "Collecting dill<0.3.7,>=0.3.0 (from datasets)\n",
            "  Downloading dill-0.3.6-py3-none-any.whl (110 kB)\n",
            "\u001b[2K     \u001b[90m━━━━━━━━━━━━━━━━━━━━━━━━━━━━━━━━━━━━━━\u001b[0m \u001b[32m110.5/110.5 kB\u001b[0m \u001b[31m12.5 MB/s\u001b[0m eta \u001b[36m0:00:00\u001b[0m\n",
            "\u001b[?25hRequirement already satisfied: pandas in /usr/local/lib/python3.10/dist-packages (from datasets) (1.5.3)\n",
            "Collecting xxhash (from datasets)\n",
            "  Downloading xxhash-3.2.0-cp310-cp310-manylinux_2_17_x86_64.manylinux2014_x86_64.whl (212 kB)\n",
            "\u001b[2K     \u001b[90m━━━━━━━━━━━━━━━━━━━━━━━━━━━━━━━━━━━━━━\u001b[0m \u001b[32m212.5/212.5 kB\u001b[0m \u001b[31m23.1 MB/s\u001b[0m eta \u001b[36m0:00:00\u001b[0m\n",
            "\u001b[?25hCollecting multiprocess (from datasets)\n",
            "  Downloading multiprocess-0.70.14-py310-none-any.whl (134 kB)\n",
            "\u001b[2K     \u001b[90m━━━━━━━━━━━━━━━━━━━━━━━━━━━━━━━━━━━━━━\u001b[0m \u001b[32m134.3/134.3 kB\u001b[0m \u001b[31m16.3 MB/s\u001b[0m eta \u001b[36m0:00:00\u001b[0m\n",
            "\u001b[?25hRequirement already satisfied: fsspec[http]>=2021.11.1 in /usr/local/lib/python3.10/dist-packages (from datasets) (2023.4.0)\n",
            "Collecting aiohttp (from datasets)\n",
            "  Downloading aiohttp-3.8.4-cp310-cp310-manylinux_2_17_x86_64.manylinux2014_x86_64.whl (1.0 MB)\n",
            "\u001b[2K     \u001b[90m━━━━━━━━━━━━━━━━━━━━━━━━━━━━━━━━━━━━━━━━\u001b[0m \u001b[32m1.0/1.0 MB\u001b[0m \u001b[31m66.3 MB/s\u001b[0m eta \u001b[36m0:00:00\u001b[0m\n",
            "\u001b[?25hCollecting responses<0.19 (from datasets)\n",
            "  Downloading responses-0.18.0-py3-none-any.whl (38 kB)\n",
            "Requirement already satisfied: attrs>=17.3.0 in /usr/local/lib/python3.10/dist-packages (from aiohttp->datasets) (23.1.0)\n",
            "Requirement already satisfied: charset-normalizer<4.0,>=2.0 in /usr/local/lib/python3.10/dist-packages (from aiohttp->datasets) (2.0.12)\n",
            "Collecting multidict<7.0,>=4.5 (from aiohttp->datasets)\n",
            "  Downloading multidict-6.0.4-cp310-cp310-manylinux_2_17_x86_64.manylinux2014_x86_64.whl (114 kB)\n",
            "\u001b[2K     \u001b[90m━━━━━━━━━━━━━━━━━━━━━━━━━━━━━━━━━━━━━━\u001b[0m \u001b[32m114.5/114.5 kB\u001b[0m \u001b[31m14.0 MB/s\u001b[0m eta \u001b[36m0:00:00\u001b[0m\n",
            "\u001b[?25hCollecting async-timeout<5.0,>=4.0.0a3 (from aiohttp->datasets)\n",
            "  Downloading async_timeout-4.0.2-py3-none-any.whl (5.8 kB)\n",
            "Collecting yarl<2.0,>=1.0 (from aiohttp->datasets)\n",
            "  Downloading yarl-1.9.2-cp310-cp310-manylinux_2_17_x86_64.manylinux2014_x86_64.whl (268 kB)\n",
            "\u001b[2K     \u001b[90m━━━━━━━━━━━━━━━━━━━━━━━━━━━━━━━━━━━━━━\u001b[0m \u001b[32m268.8/268.8 kB\u001b[0m \u001b[31m32.6 MB/s\u001b[0m eta \u001b[36m0:00:00\u001b[0m\n",
            "\u001b[?25hCollecting frozenlist>=1.1.1 (from aiohttp->datasets)\n",
            "  Downloading frozenlist-1.3.3-cp310-cp310-manylinux_2_5_x86_64.manylinux1_x86_64.manylinux_2_17_x86_64.manylinux2014_x86_64.whl (149 kB)\n",
            "\u001b[2K     \u001b[90m━━━━━━━━━━━━━━━━━━━━━━━━━━━━━━━━━━━━━━\u001b[0m \u001b[32m149.6/149.6 kB\u001b[0m \u001b[31m19.1 MB/s\u001b[0m eta \u001b[36m0:00:00\u001b[0m\n",
            "\u001b[?25hCollecting aiosignal>=1.1.2 (from aiohttp->datasets)\n",
            "  Downloading aiosignal-1.3.1-py3-none-any.whl (7.6 kB)\n",
            "Requirement already satisfied: typing-extensions>=3.7.4.3 in /usr/local/lib/python3.10/dist-packages (from huggingface-hub<1.0,>=0.11.0->transformers==4.28.0) (4.5.0)\n",
            "Requirement already satisfied: urllib3<1.27,>=1.21.1 in /usr/local/lib/python3.10/dist-packages (from requests->transformers==4.28.0) (1.26.15)\n",
            "Requirement already satisfied: certifi>=2017.4.17 in /usr/local/lib/python3.10/dist-packages (from requests->transformers==4.28.0) (2022.12.7)\n",
            "Requirement already satisfied: idna<4,>=2.5 in /usr/local/lib/python3.10/dist-packages (from requests->transformers==4.28.0) (3.4)\n",
            "Requirement already satisfied: python-dateutil>=2.8.1 in /usr/local/lib/python3.10/dist-packages (from pandas->datasets) (2.8.2)\n",
            "Requirement already satisfied: pytz>=2020.1 in /usr/local/lib/python3.10/dist-packages (from pandas->datasets) (2022.7.1)\n",
            "Requirement already satisfied: six>=1.5 in /usr/local/lib/python3.10/dist-packages (from python-dateutil>=2.8.1->pandas->datasets) (1.16.0)\n",
            "Installing collected packages: tokenizers, xxhash, multidict, frozenlist, dill, async-timeout, yarl, responses, multiprocess, huggingface-hub, aiosignal, transformers, aiohttp, datasets, evaluate\n",
            "Successfully installed aiohttp-3.8.4 aiosignal-1.3.1 async-timeout-4.0.2 datasets-2.12.0 dill-0.3.6 evaluate-0.4.0 frozenlist-1.3.3 huggingface-hub-0.15.1 multidict-6.0.4 multiprocess-0.70.14 responses-0.18.0 tokenizers-0.13.3 transformers-4.28.0 xxhash-3.2.0 yarl-1.9.2\n",
            "Found existing installation: transformers 4.28.0\n",
            "Uninstalling transformers-4.28.0:\n",
            "  Successfully uninstalled transformers-4.28.0\n",
            "\u001b[33mWARNING: Skipping accelerate as it is not installed.\u001b[0m\u001b[33m\n",
            "\u001b[0mLooking in indexes: https://pypi.org/simple, https://us-python.pkg.dev/colab-wheels/public/simple/\n",
            "Collecting transformers\n",
            "  Downloading transformers-4.29.2-py3-none-any.whl (7.1 MB)\n",
            "\u001b[2K     \u001b[90m━━━━━━━━━━━━━━━━━━━━━━━━━━━━━━━━━━━━━━━━\u001b[0m \u001b[32m7.1/7.1 MB\u001b[0m \u001b[31m81.5 MB/s\u001b[0m eta \u001b[36m0:00:00\u001b[0m\n",
            "\u001b[?25hCollecting accelerate\n",
            "  Downloading accelerate-0.20.1-py3-none-any.whl (227 kB)\n",
            "\u001b[2K     \u001b[90m━━━━━━━━━━━━━━━━━━━━━━━━━━━━━━━━━━━━━━\u001b[0m \u001b[32m227.5/227.5 kB\u001b[0m \u001b[31m26.9 MB/s\u001b[0m eta \u001b[36m0:00:00\u001b[0m\n",
            "\u001b[?25hRequirement already satisfied: filelock in /usr/local/lib/python3.10/dist-packages (from transformers) (3.12.0)\n",
            "Requirement already satisfied: huggingface-hub<1.0,>=0.14.1 in /usr/local/lib/python3.10/dist-packages (from transformers) (0.15.1)\n",
            "Requirement already satisfied: numpy>=1.17 in /usr/local/lib/python3.10/dist-packages (from transformers) (1.22.4)\n",
            "Requirement already satisfied: packaging>=20.0 in /usr/local/lib/python3.10/dist-packages (from transformers) (23.1)\n",
            "Requirement already satisfied: pyyaml>=5.1 in /usr/local/lib/python3.10/dist-packages (from transformers) (6.0)\n",
            "Requirement already satisfied: regex!=2019.12.17 in /usr/local/lib/python3.10/dist-packages (from transformers) (2022.10.31)\n",
            "Requirement already satisfied: requests in /usr/local/lib/python3.10/dist-packages (from transformers) (2.27.1)\n",
            "Requirement already satisfied: tokenizers!=0.11.3,<0.14,>=0.11.1 in /usr/local/lib/python3.10/dist-packages (from transformers) (0.13.3)\n",
            "Requirement already satisfied: tqdm>=4.27 in /usr/local/lib/python3.10/dist-packages (from transformers) (4.65.0)\n",
            "Requirement already satisfied: psutil in /usr/local/lib/python3.10/dist-packages (from accelerate) (5.9.5)\n",
            "Requirement already satisfied: torch>=1.6.0 in /usr/local/lib/python3.10/dist-packages (from accelerate) (2.0.1+cu118)\n",
            "Requirement already satisfied: fsspec in /usr/local/lib/python3.10/dist-packages (from huggingface-hub<1.0,>=0.14.1->transformers) (2023.4.0)\n",
            "Requirement already satisfied: typing-extensions>=3.7.4.3 in /usr/local/lib/python3.10/dist-packages (from huggingface-hub<1.0,>=0.14.1->transformers) (4.5.0)\n",
            "Requirement already satisfied: sympy in /usr/local/lib/python3.10/dist-packages (from torch>=1.6.0->accelerate) (1.11.1)\n",
            "Requirement already satisfied: networkx in /usr/local/lib/python3.10/dist-packages (from torch>=1.6.0->accelerate) (3.1)\n",
            "Requirement already satisfied: jinja2 in /usr/local/lib/python3.10/dist-packages (from torch>=1.6.0->accelerate) (3.1.2)\n",
            "Requirement already satisfied: triton==2.0.0 in /usr/local/lib/python3.10/dist-packages (from torch>=1.6.0->accelerate) (2.0.0)\n",
            "Requirement already satisfied: cmake in /usr/local/lib/python3.10/dist-packages (from triton==2.0.0->torch>=1.6.0->accelerate) (3.25.2)\n",
            "Requirement already satisfied: lit in /usr/local/lib/python3.10/dist-packages (from triton==2.0.0->torch>=1.6.0->accelerate) (16.0.5)\n",
            "Requirement already satisfied: urllib3<1.27,>=1.21.1 in /usr/local/lib/python3.10/dist-packages (from requests->transformers) (1.26.15)\n",
            "Requirement already satisfied: certifi>=2017.4.17 in /usr/local/lib/python3.10/dist-packages (from requests->transformers) (2022.12.7)\n",
            "Requirement already satisfied: charset-normalizer~=2.0.0 in /usr/local/lib/python3.10/dist-packages (from requests->transformers) (2.0.12)\n",
            "Requirement already satisfied: idna<4,>=2.5 in /usr/local/lib/python3.10/dist-packages (from requests->transformers) (3.4)\n",
            "Requirement already satisfied: MarkupSafe>=2.0 in /usr/local/lib/python3.10/dist-packages (from jinja2->torch>=1.6.0->accelerate) (2.1.2)\n",
            "Requirement already satisfied: mpmath>=0.19 in /usr/local/lib/python3.10/dist-packages (from sympy->torch>=1.6.0->accelerate) (1.3.0)\n",
            "Installing collected packages: transformers, accelerate\n",
            "Successfully installed accelerate-0.20.1 transformers-4.29.2\n",
            "Looking in indexes: https://pypi.org/simple, https://us-python.pkg.dev/colab-wheels/public/simple/\n",
            "Requirement already satisfied: torchaudio in /usr/local/lib/python3.10/dist-packages (2.0.2+cu118)\n",
            "Requirement already satisfied: torch==2.0.1 in /usr/local/lib/python3.10/dist-packages (from torchaudio) (2.0.1+cu118)\n",
            "Requirement already satisfied: filelock in /usr/local/lib/python3.10/dist-packages (from torch==2.0.1->torchaudio) (3.12.0)\n",
            "Requirement already satisfied: typing-extensions in /usr/local/lib/python3.10/dist-packages (from torch==2.0.1->torchaudio) (4.5.0)\n",
            "Requirement already satisfied: sympy in /usr/local/lib/python3.10/dist-packages (from torch==2.0.1->torchaudio) (1.11.1)\n",
            "Requirement already satisfied: networkx in /usr/local/lib/python3.10/dist-packages (from torch==2.0.1->torchaudio) (3.1)\n",
            "Requirement already satisfied: jinja2 in /usr/local/lib/python3.10/dist-packages (from torch==2.0.1->torchaudio) (3.1.2)\n",
            "Requirement already satisfied: triton==2.0.0 in /usr/local/lib/python3.10/dist-packages (from torch==2.0.1->torchaudio) (2.0.0)\n",
            "Requirement already satisfied: cmake in /usr/local/lib/python3.10/dist-packages (from triton==2.0.0->torch==2.0.1->torchaudio) (3.25.2)\n",
            "Requirement already satisfied: lit in /usr/local/lib/python3.10/dist-packages (from triton==2.0.0->torch==2.0.1->torchaudio) (16.0.5)\n",
            "Requirement already satisfied: MarkupSafe>=2.0 in /usr/local/lib/python3.10/dist-packages (from jinja2->torch==2.0.1->torchaudio) (2.1.2)\n",
            "Requirement already satisfied: mpmath>=0.19 in /usr/local/lib/python3.10/dist-packages (from sympy->torch==2.0.1->torchaudio) (1.3.0)\n"
          ]
        }
      ],
      "source": [
        "# %%capture\n",
        "!pip install --upgrade pip\n",
        "!pip install transformers==4.28.0 datasets evaluate accelerate\n",
        "!pip uninstall -y transformers accelerate\n",
        "!pip install transformers accelerate\n",
        "!pip install torchaudio"
      ]
    },
    {
      "cell_type": "code",
      "execution_count": null,
      "metadata": {
        "id": "ynO9Q30ltdJl",
        "tags": []
      },
      "outputs": [],
      "source": [
        "from sklearn.model_selection import train_test_split\n",
        "\n",
        "import os\n",
        "import sys"
      ]
    },
    {
      "cell_type": "markdown",
      "metadata": {
        "id": "j9SoDgTOq-HM",
        "tags": []
      },
      "source": [
        "## 2. Downloading, Storing, and Accessing (Loading) the Dataset\n",
        "\n",
        "There are two obvious ways to do this: downloading the dataset and keep storing it locally or uploading it to Google Drive and working from there. The latter is especially useful when working in Google Colab, then you don't need to upload the whole dataset every time you start a new session. I will show both ways for clarity and operating system independence, but I will be in the form of a comment in the final version.\n",
        "\n",
        "I will load the individual TORGO wav files into a Python dictionary and put all of those dicts together into a list called **data**.\n",
        "\n",
        "**Note: The Google Drive method should only be used when working in Google Colab environment. Then, uncomment the cell below to mount you Drive."
      ]
    },
    {
      "cell_type": "code",
      "execution_count": null,
      "metadata": {
        "tags": [],
        "id": "QNI1attRNpGR"
      },
      "outputs": [],
      "source": [
        "# # Get access to Google Drive \n",
        "# from google.colab import drive\n",
        "# drive.mount('/content/drive')"
      ]
    },
    {
      "cell_type": "code",
      "execution_count": null,
      "metadata": {
        "id": "aPD2jaW8oFmF",
        "tags": []
      },
      "outputs": [],
      "source": [
        "# str(path) returns something like: /content/drive/MyDrive/bsc-ai-thesis/torgo_data/dysarthria_female/F01_Session1_0002.wav\n",
        "# tqdm is used to create a smart progress bar for the loops, for example it shows loading time\n",
        "import glob\n",
        "import torchaudio\n",
        "from pathlib import Path\n",
        "from tqdm import tqdm\n",
        "\n",
        "# Specify where the folder with all audio data is stored\n",
        "# For Google Drive, use the first, for local, use the second\n",
        "# folder_path = \"/content/drive/MyDrive/bsc-ai-thesis/torgo_data\"\n",
        "folder_path = \"C:/Users/Gebruiker/Documents/bsc-ai-thesis/torgo_data\"\n",
        "\n",
        "data = []\n",
        "for path in tqdm(Path(folder_path).glob(\"**/*.wav\")):\n",
        "    path_str = str(path).replace('\\\\', '/')\n",
        "    name = str(path_str).split('/')[-1].split('.')[0]\n",
        "    label = str(path_str).split('/')[-2]\n",
        "    \n",
        "    try:\n",
        "        # There are some broken files\n",
        "        s = torchaudio.load(path)\n",
        "        data.append({\n",
        "            \"filename\": name,\n",
        "            \"path\": path_str,\n",
        "            \"disease_class\": label\n",
        "        })\n",
        "\n",
        "    except Exception as e:\n",
        "        print(str(path), e)\n",
        "        pass"
      ]
    },
    {
      "cell_type": "markdown",
      "metadata": {
        "id": "iuYf7wv993xP",
        "tags": []
      },
      "source": [
        "## Explore and Prepare Data\n",
        "\n",
        "1.   Convert the previously assembled data into a Pandas DataFrame\n",
        "2.   Print and check for inconsistencies \n",
        "3.   Filter out inconsistencies\n",
        "4.   Show new distribution\n",
        "5.   Split dataset into: train, validation and test subsets\n",
        "\n",
        "To start, I want to know what the data looks or sounds like. Then I need to find out if there are some inconsistencies within the data and if I need to make some adaptions to it."
      ]
    },
    {
      "cell_type": "code",
      "execution_count": null,
      "metadata": {
        "colab": {
          "base_uri": "https://localhost:8080/",
          "height": 206
        },
        "id": "VN1bSU4E8EZN",
        "outputId": "31cc88f2-c765-4480-b9fc-2171fda39f8f",
        "tags": []
      },
      "outputs": [
        {
          "data": {
            "text/html": [
              "<div>\n",
              "<style scoped>\n",
              "    .dataframe tbody tr th:only-of-type {\n",
              "        vertical-align: middle;\n",
              "    }\n",
              "\n",
              "    .dataframe tbody tr th {\n",
              "        vertical-align: top;\n",
              "    }\n",
              "\n",
              "    .dataframe thead th {\n",
              "        text-align: right;\n",
              "    }\n",
              "</style>\n",
              "<table border=\"1\" class=\"dataframe\">\n",
              "  <thead>\n",
              "    <tr style=\"text-align: right;\">\n",
              "      <th></th>\n",
              "      <th>filename</th>\n",
              "      <th>path</th>\n",
              "      <th>disease_class</th>\n",
              "    </tr>\n",
              "  </thead>\n",
              "  <tbody>\n",
              "    <tr>\n",
              "      <th>0</th>\n",
              "      <td>F01_Session1_0001</td>\n",
              "      <td>C:/Users/Gebruiker/Documents/bsc-ai-thesis/tor...</td>\n",
              "      <td>dysarthria_female</td>\n",
              "    </tr>\n",
              "    <tr>\n",
              "      <th>1</th>\n",
              "      <td>F01_Session1_0002</td>\n",
              "      <td>C:/Users/Gebruiker/Documents/bsc-ai-thesis/tor...</td>\n",
              "      <td>dysarthria_female</td>\n",
              "    </tr>\n",
              "    <tr>\n",
              "      <th>2</th>\n",
              "      <td>F01_Session1_0004</td>\n",
              "      <td>C:/Users/Gebruiker/Documents/bsc-ai-thesis/tor...</td>\n",
              "      <td>dysarthria_female</td>\n",
              "    </tr>\n",
              "    <tr>\n",
              "      <th>3</th>\n",
              "      <td>F01_Session1_0006</td>\n",
              "      <td>C:/Users/Gebruiker/Documents/bsc-ai-thesis/tor...</td>\n",
              "      <td>dysarthria_female</td>\n",
              "    </tr>\n",
              "    <tr>\n",
              "      <th>4</th>\n",
              "      <td>F01_Session1_0007</td>\n",
              "      <td>C:/Users/Gebruiker/Documents/bsc-ai-thesis/tor...</td>\n",
              "      <td>dysarthria_female</td>\n",
              "    </tr>\n",
              "  </tbody>\n",
              "</table>\n",
              "</div>"
            ],
            "text/plain": [
              "            filename                                               path  \\\n",
              "0  F01_Session1_0001  C:/Users/Gebruiker/Documents/bsc-ai-thesis/tor...   \n",
              "1  F01_Session1_0002  C:/Users/Gebruiker/Documents/bsc-ai-thesis/tor...   \n",
              "2  F01_Session1_0004  C:/Users/Gebruiker/Documents/bsc-ai-thesis/tor...   \n",
              "3  F01_Session1_0006  C:/Users/Gebruiker/Documents/bsc-ai-thesis/tor...   \n",
              "4  F01_Session1_0007  C:/Users/Gebruiker/Documents/bsc-ai-thesis/tor...   \n",
              "\n",
              "       disease_class  \n",
              "0  dysarthria_female  \n",
              "1  dysarthria_female  \n",
              "2  dysarthria_female  \n",
              "3  dysarthria_female  \n",
              "4  dysarthria_female  "
            ]
          },
          "execution_count": 26,
          "metadata": {},
          "output_type": "execute_result"
        }
      ],
      "source": [
        "# Show how the Pandas dataframe looks like currently\n",
        "import pandas as pd\n",
        "df = pd.DataFrame(data)\n",
        "df.head()"
      ]
    },
    {
      "cell_type": "code",
      "execution_count": null,
      "metadata": {
        "colab": {
          "base_uri": "https://localhost:8080/",
          "height": 206
        },
        "id": "nLgnxCwUuwt6",
        "outputId": "99bba3cd-9867-4c19-ffd7-a9b9027527f4",
        "tags": []
      },
      "outputs": [
        {
          "data": {
            "text/html": [
              "\n",
              "  <div id=\"df-c6071af6-aa03-4dfd-b557-cec8037be532\">\n",
              "    <div class=\"colab-df-container\">\n",
              "      <div>\n",
              "<style scoped>\n",
              "    .dataframe tbody tr th:only-of-type {\n",
              "        vertical-align: middle;\n",
              "    }\n",
              "\n",
              "    .dataframe tbody tr th {\n",
              "        vertical-align: top;\n",
              "    }\n",
              "\n",
              "    .dataframe thead th {\n",
              "        text-align: right;\n",
              "    }\n",
              "</style>\n",
              "<table border=\"1\" class=\"dataframe\">\n",
              "  <thead>\n",
              "    <tr style=\"text-align: right;\">\n",
              "      <th></th>\n",
              "      <th>path</th>\n",
              "    </tr>\n",
              "    <tr>\n",
              "      <th>disease_class</th>\n",
              "      <th></th>\n",
              "    </tr>\n",
              "  </thead>\n",
              "  <tbody>\n",
              "    <tr>\n",
              "      <th>dysarthria_female</th>\n",
              "      <td>499</td>\n",
              "    </tr>\n",
              "    <tr>\n",
              "      <th>dysarthria_male</th>\n",
              "      <td>500</td>\n",
              "    </tr>\n",
              "    <tr>\n",
              "      <th>non_dysarthria_female</th>\n",
              "      <td>500</td>\n",
              "    </tr>\n",
              "    <tr>\n",
              "      <th>non_dysarthria_male</th>\n",
              "      <td>500</td>\n",
              "    </tr>\n",
              "  </tbody>\n",
              "</table>\n",
              "</div>\n",
              "      <button class=\"colab-df-convert\" onclick=\"convertToInteractive('df-c6071af6-aa03-4dfd-b557-cec8037be532')\"\n",
              "              title=\"Convert this dataframe to an interactive table.\"\n",
              "              style=\"display:none;\">\n",
              "        \n",
              "  <svg xmlns=\"http://www.w3.org/2000/svg\" height=\"24px\"viewBox=\"0 0 24 24\"\n",
              "       width=\"24px\">\n",
              "    <path d=\"M0 0h24v24H0V0z\" fill=\"none\"/>\n",
              "    <path d=\"M18.56 5.44l.94 2.06.94-2.06 2.06-.94-2.06-.94-.94-2.06-.94 2.06-2.06.94zm-11 1L8.5 8.5l.94-2.06 2.06-.94-2.06-.94L8.5 2.5l-.94 2.06-2.06.94zm10 10l.94 2.06.94-2.06 2.06-.94-2.06-.94-.94-2.06-.94 2.06-2.06.94z\"/><path d=\"M17.41 7.96l-1.37-1.37c-.4-.4-.92-.59-1.43-.59-.52 0-1.04.2-1.43.59L10.3 9.45l-7.72 7.72c-.78.78-.78 2.05 0 2.83L4 21.41c.39.39.9.59 1.41.59.51 0 1.02-.2 1.41-.59l7.78-7.78 2.81-2.81c.8-.78.8-2.07 0-2.86zM5.41 20L4 18.59l7.72-7.72 1.47 1.35L5.41 20z\"/>\n",
              "  </svg>\n",
              "      </button>\n",
              "      \n",
              "  <style>\n",
              "    .colab-df-container {\n",
              "      display:flex;\n",
              "      flex-wrap:wrap;\n",
              "      gap: 12px;\n",
              "    }\n",
              "\n",
              "    .colab-df-convert {\n",
              "      background-color: #E8F0FE;\n",
              "      border: none;\n",
              "      border-radius: 50%;\n",
              "      cursor: pointer;\n",
              "      display: none;\n",
              "      fill: #1967D2;\n",
              "      height: 32px;\n",
              "      padding: 0 0 0 0;\n",
              "      width: 32px;\n",
              "    }\n",
              "\n",
              "    .colab-df-convert:hover {\n",
              "      background-color: #E2EBFA;\n",
              "      box-shadow: 0px 1px 2px rgba(60, 64, 67, 0.3), 0px 1px 3px 1px rgba(60, 64, 67, 0.15);\n",
              "      fill: #174EA6;\n",
              "    }\n",
              "\n",
              "    [theme=dark] .colab-df-convert {\n",
              "      background-color: #3B4455;\n",
              "      fill: #D2E3FC;\n",
              "    }\n",
              "\n",
              "    [theme=dark] .colab-df-convert:hover {\n",
              "      background-color: #434B5C;\n",
              "      box-shadow: 0px 1px 3px 1px rgba(0, 0, 0, 0.15);\n",
              "      filter: drop-shadow(0px 1px 2px rgba(0, 0, 0, 0.3));\n",
              "      fill: #FFFFFF;\n",
              "    }\n",
              "  </style>\n",
              "\n",
              "      <script>\n",
              "        const buttonEl =\n",
              "          document.querySelector('#df-c6071af6-aa03-4dfd-b557-cec8037be532 button.colab-df-convert');\n",
              "        buttonEl.style.display =\n",
              "          google.colab.kernel.accessAllowed ? 'block' : 'none';\n",
              "\n",
              "        async function convertToInteractive(key) {\n",
              "          const element = document.querySelector('#df-c6071af6-aa03-4dfd-b557-cec8037be532');\n",
              "          const dataTable =\n",
              "            await google.colab.kernel.invokeFunction('convertToInteractive',\n",
              "                                                     [key], {});\n",
              "          if (!dataTable) return;\n",
              "\n",
              "          const docLinkHtml = 'Like what you see? Visit the ' +\n",
              "            '<a target=\"_blank\" href=https://colab.research.google.com/notebooks/data_table.ipynb>data table notebook</a>'\n",
              "            + ' to learn more about interactive tables.';\n",
              "          element.innerHTML = '';\n",
              "          dataTable['output_type'] = 'display_data';\n",
              "          await google.colab.output.renderOutput(dataTable, element);\n",
              "          const docLink = document.createElement('div');\n",
              "          docLink.innerHTML = docLinkHtml;\n",
              "          element.appendChild(docLink);\n",
              "        }\n",
              "      </script>\n",
              "    </div>\n",
              "  </div>\n",
              "  "
            ],
            "text/plain": [
              "                       path\n",
              "disease_class              \n",
              "dysarthria_female       499\n",
              "dysarthria_male         500\n",
              "non_dysarthria_female   500\n",
              "non_dysarthria_male     500"
            ]
          },
          "execution_count": 8,
          "metadata": {},
          "output_type": "execute_result"
        }
      ],
      "source": [
        "# Show the distribution over the different categories or labels\n",
        "df.groupby(\"disease_class\").count()[[\"path\"]]"
      ]
    },
    {
      "cell_type": "markdown",
      "metadata": {
        "id": "6vfypmKmgJke"
      },
      "source": [
        "While loading the data into the first datastructure, I receive the following error:\n",
        "\n",
        ">1498it [00:14, 362.78it/s]/content/drive/MyDrive/bsc-ai-thesis/torgo_data/>dysarthria_female/F01_Session1_0068.wav Failed to open the input \"/content/?>drive/MyDrive/bsc-ai-thesis/torgo_data/dysarthria_female/F01_Session1_0068.>wav\" (Invalid data found when processing input).\n",
        "\n",
        "Therefore I filter the dataset for these types of errors:"
      ]
    },
    {
      "cell_type": "code",
      "execution_count": null,
      "metadata": {
        "colab": {
          "base_uri": "https://localhost:8080/"
        },
        "id": "rW7CRRRLDNZG",
        "outputId": "872c5a87-52bc-47b5-d0ea-6a6d667340db"
      },
      "outputs": [
        {
          "name": "stdout",
          "output_type": "stream",
          "text": [
            "Step 0: 1999\n",
            "Step 1: 1999\n"
          ]
        }
      ],
      "source": [
        "# Filter broken and non-existed paths\n",
        "print(f\"Step 0: {len(df)}\")\n",
        "\n",
        "df[\"status\"] = df[\"path\"].apply(lambda path: True if os.path.exists(path) else None)\n",
        "df = df.dropna(subset=[\"path\"])\n",
        "df = df.drop(columns='status')\n",
        "\n",
        "print(f\"Step 1: {len(df)}\")\n",
        "\n",
        "df = df.sample(frac=1)\n",
        "df = df.reset_index(drop=True)"
      ]
    },
    {
      "cell_type": "markdown",
      "metadata": {
        "id": "-2G_5xcVe5pZ"
      },
      "source": [
        "Since the goal is to train a model to recognize the presence or absence of disease in speech, it would be appropriate to combine the four data folders into two categories: patients with the disease and patients without the disease. This will simplify the training process and ensure that the model is focused on recognizing the disease, rather than gender.\n",
        "\n",
        "Now, let's explore how many audio files (examples of dysarthria or healthy speech) each of folder contains.\n",
        "\n",
        "It is noticable that there was one instance of audio filtered out previously, specifically an instance of 'dysarthria'."
      ]
    },
    {
      "cell_type": "code",
      "execution_count": null,
      "metadata": {
        "colab": {
          "base_uri": "https://localhost:8080/",
          "height": 178
        },
        "id": "tNKnWN_2lA5z",
        "outputId": "5dc19579-936b-4eca-8976-d3ed91fc9b2a"
      },
      "outputs": [
        {
          "name": "stdout",
          "output_type": "stream",
          "text": [
            "Labels:  ['dysarthria' 'non_dysarthria']\n",
            "\n"
          ]
        },
        {
          "data": {
            "text/html": [
              "\n",
              "  <div id=\"df-69ba5198-e9da-4caa-a020-0e3174b0db99\">\n",
              "    <div class=\"colab-df-container\">\n",
              "      <div>\n",
              "<style scoped>\n",
              "    .dataframe tbody tr th:only-of-type {\n",
              "        vertical-align: middle;\n",
              "    }\n",
              "\n",
              "    .dataframe tbody tr th {\n",
              "        vertical-align: top;\n",
              "    }\n",
              "\n",
              "    .dataframe thead th {\n",
              "        text-align: right;\n",
              "    }\n",
              "</style>\n",
              "<table border=\"1\" class=\"dataframe\">\n",
              "  <thead>\n",
              "    <tr style=\"text-align: right;\">\n",
              "      <th></th>\n",
              "      <th>path</th>\n",
              "    </tr>\n",
              "    <tr>\n",
              "      <th>disease_class</th>\n",
              "      <th></th>\n",
              "    </tr>\n",
              "  </thead>\n",
              "  <tbody>\n",
              "    <tr>\n",
              "      <th>dysarthria</th>\n",
              "      <td>999</td>\n",
              "    </tr>\n",
              "    <tr>\n",
              "      <th>non_dysarthria</th>\n",
              "      <td>1000</td>\n",
              "    </tr>\n",
              "  </tbody>\n",
              "</table>\n",
              "</div>\n",
              "      <button class=\"colab-df-convert\" onclick=\"convertToInteractive('df-69ba5198-e9da-4caa-a020-0e3174b0db99')\"\n",
              "              title=\"Convert this dataframe to an interactive table.\"\n",
              "              style=\"display:none;\">\n",
              "        \n",
              "  <svg xmlns=\"http://www.w3.org/2000/svg\" height=\"24px\"viewBox=\"0 0 24 24\"\n",
              "       width=\"24px\">\n",
              "    <path d=\"M0 0h24v24H0V0z\" fill=\"none\"/>\n",
              "    <path d=\"M18.56 5.44l.94 2.06.94-2.06 2.06-.94-2.06-.94-.94-2.06-.94 2.06-2.06.94zm-11 1L8.5 8.5l.94-2.06 2.06-.94-2.06-.94L8.5 2.5l-.94 2.06-2.06.94zm10 10l.94 2.06.94-2.06 2.06-.94-2.06-.94-.94-2.06-.94 2.06-2.06.94z\"/><path d=\"M17.41 7.96l-1.37-1.37c-.4-.4-.92-.59-1.43-.59-.52 0-1.04.2-1.43.59L10.3 9.45l-7.72 7.72c-.78.78-.78 2.05 0 2.83L4 21.41c.39.39.9.59 1.41.59.51 0 1.02-.2 1.41-.59l7.78-7.78 2.81-2.81c.8-.78.8-2.07 0-2.86zM5.41 20L4 18.59l7.72-7.72 1.47 1.35L5.41 20z\"/>\n",
              "  </svg>\n",
              "      </button>\n",
              "      \n",
              "  <style>\n",
              "    .colab-df-container {\n",
              "      display:flex;\n",
              "      flex-wrap:wrap;\n",
              "      gap: 12px;\n",
              "    }\n",
              "\n",
              "    .colab-df-convert {\n",
              "      background-color: #E8F0FE;\n",
              "      border: none;\n",
              "      border-radius: 50%;\n",
              "      cursor: pointer;\n",
              "      display: none;\n",
              "      fill: #1967D2;\n",
              "      height: 32px;\n",
              "      padding: 0 0 0 0;\n",
              "      width: 32px;\n",
              "    }\n",
              "\n",
              "    .colab-df-convert:hover {\n",
              "      background-color: #E2EBFA;\n",
              "      box-shadow: 0px 1px 2px rgba(60, 64, 67, 0.3), 0px 1px 3px 1px rgba(60, 64, 67, 0.15);\n",
              "      fill: #174EA6;\n",
              "    }\n",
              "\n",
              "    [theme=dark] .colab-df-convert {\n",
              "      background-color: #3B4455;\n",
              "      fill: #D2E3FC;\n",
              "    }\n",
              "\n",
              "    [theme=dark] .colab-df-convert:hover {\n",
              "      background-color: #434B5C;\n",
              "      box-shadow: 0px 1px 3px 1px rgba(0, 0, 0, 0.15);\n",
              "      filter: drop-shadow(0px 1px 2px rgba(0, 0, 0, 0.3));\n",
              "      fill: #FFFFFF;\n",
              "    }\n",
              "  </style>\n",
              "\n",
              "      <script>\n",
              "        const buttonEl =\n",
              "          document.querySelector('#df-69ba5198-e9da-4caa-a020-0e3174b0db99 button.colab-df-convert');\n",
              "        buttonEl.style.display =\n",
              "          google.colab.kernel.accessAllowed ? 'block' : 'none';\n",
              "\n",
              "        async function convertToInteractive(key) {\n",
              "          const element = document.querySelector('#df-69ba5198-e9da-4caa-a020-0e3174b0db99');\n",
              "          const dataTable =\n",
              "            await google.colab.kernel.invokeFunction('convertToInteractive',\n",
              "                                                     [key], {});\n",
              "          if (!dataTable) return;\n",
              "\n",
              "          const docLinkHtml = 'Like what you see? Visit the ' +\n",
              "            '<a target=\"_blank\" href=https://colab.research.google.com/notebooks/data_table.ipynb>data table notebook</a>'\n",
              "            + ' to learn more about interactive tables.';\n",
              "          element.innerHTML = '';\n",
              "          dataTable['output_type'] = 'display_data';\n",
              "          await google.colab.output.renderOutput(dataTable, element);\n",
              "          const docLink = document.createElement('div');\n",
              "          docLink.innerHTML = docLinkHtml;\n",
              "          element.appendChild(docLink);\n",
              "        }\n",
              "      </script>\n",
              "    </div>\n",
              "  </div>\n",
              "  "
            ],
            "text/plain": [
              "                path\n",
              "disease_class       \n",
              "dysarthria       999\n",
              "non_dysarthria  1000"
            ]
          },
          "execution_count": 10,
          "metadata": {},
          "output_type": "execute_result"
        }
      ],
      "source": [
        "# Eliminate difference between male and female and print distribbution\n",
        "df = df.replace({'disease_class' : {'dysarthria_female': 'dysarthria', 'dysarthria_male': 'dysarthria', 'non_dysarthria_female': 'non_dysarthria', 'non_dysarthria_male': 'non_dysarthria'}})\n",
        "print(\"Labels: \", df[\"disease_class\"].unique())\n",
        "print()\n",
        "df.groupby(\"disease_class\").count()[[\"path\"]]"
      ]
    },
    {
      "cell_type": "markdown",
      "metadata": {
        "id": "AWbaZGLQJ_qI"
      },
      "source": [
        "Let's display a random sample of the dataset and run it a couple of times to get a feeling for the audio and the dysarthria label."
      ]
    },
    {
      "cell_type": "code",
      "execution_count": null,
      "metadata": {
        "colab": {
          "base_uri": "https://localhost:8080/",
          "height": 128
        },
        "id": "DsnKVa6wIuke",
        "outputId": "18ff1939-c4c1-4a6d-8c91-d9cbf674b4e3"
      },
      "outputs": [
        {
          "name": "stdout",
          "output_type": "stream",
          "text": [
            "ID Location: 1336\n",
            "      Label: non_dysarthria\n",
            "\n"
          ]
        },
        {
          "data": {
            "text/html": [
              "\n",
              "                <audio  controls=\"controls\" autoplay=\"autoplay\">\n",
              "                    <source src=\"data:audio/wav;base64,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\" type=\"audio/wav\" />\n",
              "                    Your browser does not support the audio element.\n",
              "                </audio>\n",
              "              "
            ],
            "text/plain": [
              "<IPython.lib.display.Audio object>"
            ]
          },
          "execution_count": 11,
          "metadata": {},
          "output_type": "execute_result"
        }
      ],
      "source": [
        "import torchaudio\n",
        "import librosa\n",
        "import IPython.display as ipd\n",
        "import numpy as np\n",
        "\n",
        "idx = np.random.randint(0, len(df))\n",
        "sample = df.iloc[idx]\n",
        "path = sample[\"path\"]\n",
        "label = sample[\"disease_class\"]\n",
        "\n",
        "print(f\"ID Location: {idx}\")\n",
        "print(f\"      Label: {label}\")\n",
        "print()\n",
        "\n",
        "speech, sr = torchaudio.load(path)\n",
        "speech = speech[0].numpy().squeeze()\n",
        "speech = librosa.resample(np.asarray(speech), orig_sr=sr, target_sr=16_000)\n",
        "ipd.Audio(data=np.asarray(speech), autoplay=True, rate=16000)"
      ]
    },
    {
      "cell_type": "markdown",
      "metadata": {
        "id": "V-ebms25yU5p"
      },
      "source": [
        "Difference between sklearn.model_selection.train_test_split and cross-validation: \n",
        "\n",
        "Cross-validation is used only when you have smaller datasets and cannot afford to get statistically representative samples after splitting the dataset. "
      ]
    },
    {
      "cell_type": "markdown",
      "metadata": {
        "id": "z1CGu00iYqNF"
      },
      "source": [
        "Hugging’s models require tensors as input"
      ]
    },
    {
      "cell_type": "code",
      "execution_count": null,
      "metadata": {
        "colab": {
          "base_uri": "https://localhost:8080/",
          "height": 423
        },
        "id": "UqgQkbvUZvRs",
        "outputId": "9ca4f5cd-0063-4e90-c617-84826fe19734"
      },
      "outputs": [
        {
          "data": {
            "text/html": [
              "\n",
              "  <div id=\"df-e2084342-7db7-4a19-8baa-9777b83639a2\">\n",
              "    <div class=\"colab-df-container\">\n",
              "      <div>\n",
              "<style scoped>\n",
              "    .dataframe tbody tr th:only-of-type {\n",
              "        vertical-align: middle;\n",
              "    }\n",
              "\n",
              "    .dataframe tbody tr th {\n",
              "        vertical-align: top;\n",
              "    }\n",
              "\n",
              "    .dataframe thead th {\n",
              "        text-align: right;\n",
              "    }\n",
              "</style>\n",
              "<table border=\"1\" class=\"dataframe\">\n",
              "  <thead>\n",
              "    <tr style=\"text-align: right;\">\n",
              "      <th></th>\n",
              "      <th>filename</th>\n",
              "      <th>path</th>\n",
              "      <th>disease_class</th>\n",
              "    </tr>\n",
              "  </thead>\n",
              "  <tbody>\n",
              "    <tr>\n",
              "      <th>0</th>\n",
              "      <td>F03_Session3_0032</td>\n",
              "      <td>/content/drive/MyDrive/bsc-ai-thesis/torgo_dat...</td>\n",
              "      <td>dysarthria</td>\n",
              "    </tr>\n",
              "    <tr>\n",
              "      <th>1</th>\n",
              "      <td>F01_Session1_0106</td>\n",
              "      <td>/content/drive/MyDrive/bsc-ai-thesis/torgo_dat...</td>\n",
              "      <td>dysarthria</td>\n",
              "    </tr>\n",
              "    <tr>\n",
              "      <th>2</th>\n",
              "      <td>F03_Session3_0050</td>\n",
              "      <td>/content/drive/MyDrive/bsc-ai-thesis/torgo_dat...</td>\n",
              "      <td>dysarthria</td>\n",
              "    </tr>\n",
              "    <tr>\n",
              "      <th>3</th>\n",
              "      <td>FC02_Session3_0293</td>\n",
              "      <td>/content/drive/MyDrive/bsc-ai-thesis/torgo_dat...</td>\n",
              "      <td>non_dysarthria</td>\n",
              "    </tr>\n",
              "    <tr>\n",
              "      <th>4</th>\n",
              "      <td>MC02_Session1_0290</td>\n",
              "      <td>/content/drive/MyDrive/bsc-ai-thesis/torgo_dat...</td>\n",
              "      <td>non_dysarthria</td>\n",
              "    </tr>\n",
              "    <tr>\n",
              "      <th>...</th>\n",
              "      <td>...</td>\n",
              "      <td>...</td>\n",
              "      <td>...</td>\n",
              "    </tr>\n",
              "    <tr>\n",
              "      <th>1994</th>\n",
              "      <td>M02_Session1_0044</td>\n",
              "      <td>/content/drive/MyDrive/bsc-ai-thesis/torgo_dat...</td>\n",
              "      <td>dysarthria</td>\n",
              "    </tr>\n",
              "    <tr>\n",
              "      <th>1995</th>\n",
              "      <td>F03_Session3_0071</td>\n",
              "      <td>/content/drive/MyDrive/bsc-ai-thesis/torgo_dat...</td>\n",
              "      <td>dysarthria</td>\n",
              "    </tr>\n",
              "    <tr>\n",
              "      <th>1996</th>\n",
              "      <td>M01_Session1_0040</td>\n",
              "      <td>/content/drive/MyDrive/bsc-ai-thesis/torgo_dat...</td>\n",
              "      <td>dysarthria</td>\n",
              "    </tr>\n",
              "    <tr>\n",
              "      <th>1997</th>\n",
              "      <td>F01_Session1_0030</td>\n",
              "      <td>/content/drive/MyDrive/bsc-ai-thesis/torgo_dat...</td>\n",
              "      <td>dysarthria</td>\n",
              "    </tr>\n",
              "    <tr>\n",
              "      <th>1998</th>\n",
              "      <td>FC02_Session3_0213</td>\n",
              "      <td>/content/drive/MyDrive/bsc-ai-thesis/torgo_dat...</td>\n",
              "      <td>non_dysarthria</td>\n",
              "    </tr>\n",
              "  </tbody>\n",
              "</table>\n",
              "<p>1999 rows × 3 columns</p>\n",
              "</div>\n",
              "      <button class=\"colab-df-convert\" onclick=\"convertToInteractive('df-e2084342-7db7-4a19-8baa-9777b83639a2')\"\n",
              "              title=\"Convert this dataframe to an interactive table.\"\n",
              "              style=\"display:none;\">\n",
              "        \n",
              "  <svg xmlns=\"http://www.w3.org/2000/svg\" height=\"24px\"viewBox=\"0 0 24 24\"\n",
              "       width=\"24px\">\n",
              "    <path d=\"M0 0h24v24H0V0z\" fill=\"none\"/>\n",
              "    <path d=\"M18.56 5.44l.94 2.06.94-2.06 2.06-.94-2.06-.94-.94-2.06-.94 2.06-2.06.94zm-11 1L8.5 8.5l.94-2.06 2.06-.94-2.06-.94L8.5 2.5l-.94 2.06-2.06.94zm10 10l.94 2.06.94-2.06 2.06-.94-2.06-.94-.94-2.06-.94 2.06-2.06.94z\"/><path d=\"M17.41 7.96l-1.37-1.37c-.4-.4-.92-.59-1.43-.59-.52 0-1.04.2-1.43.59L10.3 9.45l-7.72 7.72c-.78.78-.78 2.05 0 2.83L4 21.41c.39.39.9.59 1.41.59.51 0 1.02-.2 1.41-.59l7.78-7.78 2.81-2.81c.8-.78.8-2.07 0-2.86zM5.41 20L4 18.59l7.72-7.72 1.47 1.35L5.41 20z\"/>\n",
              "  </svg>\n",
              "      </button>\n",
              "      \n",
              "  <style>\n",
              "    .colab-df-container {\n",
              "      display:flex;\n",
              "      flex-wrap:wrap;\n",
              "      gap: 12px;\n",
              "    }\n",
              "\n",
              "    .colab-df-convert {\n",
              "      background-color: #E8F0FE;\n",
              "      border: none;\n",
              "      border-radius: 50%;\n",
              "      cursor: pointer;\n",
              "      display: none;\n",
              "      fill: #1967D2;\n",
              "      height: 32px;\n",
              "      padding: 0 0 0 0;\n",
              "      width: 32px;\n",
              "    }\n",
              "\n",
              "    .colab-df-convert:hover {\n",
              "      background-color: #E2EBFA;\n",
              "      box-shadow: 0px 1px 2px rgba(60, 64, 67, 0.3), 0px 1px 3px 1px rgba(60, 64, 67, 0.15);\n",
              "      fill: #174EA6;\n",
              "    }\n",
              "\n",
              "    [theme=dark] .colab-df-convert {\n",
              "      background-color: #3B4455;\n",
              "      fill: #D2E3FC;\n",
              "    }\n",
              "\n",
              "    [theme=dark] .colab-df-convert:hover {\n",
              "      background-color: #434B5C;\n",
              "      box-shadow: 0px 1px 3px 1px rgba(0, 0, 0, 0.15);\n",
              "      filter: drop-shadow(0px 1px 2px rgba(0, 0, 0, 0.3));\n",
              "      fill: #FFFFFF;\n",
              "    }\n",
              "  </style>\n",
              "\n",
              "      <script>\n",
              "        const buttonEl =\n",
              "          document.querySelector('#df-e2084342-7db7-4a19-8baa-9777b83639a2 button.colab-df-convert');\n",
              "        buttonEl.style.display =\n",
              "          google.colab.kernel.accessAllowed ? 'block' : 'none';\n",
              "\n",
              "        async function convertToInteractive(key) {\n",
              "          const element = document.querySelector('#df-e2084342-7db7-4a19-8baa-9777b83639a2');\n",
              "          const dataTable =\n",
              "            await google.colab.kernel.invokeFunction('convertToInteractive',\n",
              "                                                     [key], {});\n",
              "          if (!dataTable) return;\n",
              "\n",
              "          const docLinkHtml = 'Like what you see? Visit the ' +\n",
              "            '<a target=\"_blank\" href=https://colab.research.google.com/notebooks/data_table.ipynb>data table notebook</a>'\n",
              "            + ' to learn more about interactive tables.';\n",
              "          element.innerHTML = '';\n",
              "          dataTable['output_type'] = 'display_data';\n",
              "          await google.colab.output.renderOutput(dataTable, element);\n",
              "          const docLink = document.createElement('div');\n",
              "          docLink.innerHTML = docLinkHtml;\n",
              "          element.appendChild(docLink);\n",
              "        }\n",
              "      </script>\n",
              "    </div>\n",
              "  </div>\n",
              "  "
            ],
            "text/plain": [
              "                filename                                               path  \\\n",
              "0      F03_Session3_0032  /content/drive/MyDrive/bsc-ai-thesis/torgo_dat...   \n",
              "1      F01_Session1_0106  /content/drive/MyDrive/bsc-ai-thesis/torgo_dat...   \n",
              "2      F03_Session3_0050  /content/drive/MyDrive/bsc-ai-thesis/torgo_dat...   \n",
              "3     FC02_Session3_0293  /content/drive/MyDrive/bsc-ai-thesis/torgo_dat...   \n",
              "4     MC02_Session1_0290  /content/drive/MyDrive/bsc-ai-thesis/torgo_dat...   \n",
              "...                  ...                                                ...   \n",
              "1994   M02_Session1_0044  /content/drive/MyDrive/bsc-ai-thesis/torgo_dat...   \n",
              "1995   F03_Session3_0071  /content/drive/MyDrive/bsc-ai-thesis/torgo_dat...   \n",
              "1996   M01_Session1_0040  /content/drive/MyDrive/bsc-ai-thesis/torgo_dat...   \n",
              "1997   F01_Session1_0030  /content/drive/MyDrive/bsc-ai-thesis/torgo_dat...   \n",
              "1998  FC02_Session3_0213  /content/drive/MyDrive/bsc-ai-thesis/torgo_dat...   \n",
              "\n",
              "       disease_class  \n",
              "0         dysarthria  \n",
              "1         dysarthria  \n",
              "2         dysarthria  \n",
              "3     non_dysarthria  \n",
              "4     non_dysarthria  \n",
              "...              ...  \n",
              "1994      dysarthria  \n",
              "1995      dysarthria  \n",
              "1996      dysarthria  \n",
              "1997      dysarthria  \n",
              "1998  non_dysarthria  \n",
              "\n",
              "[1999 rows x 3 columns]"
            ]
          },
          "metadata": {},
          "output_type": "display_data"
        }
      ],
      "source": [
        "display(df)"
      ]
    },
    {
      "cell_type": "code",
      "execution_count": null,
      "metadata": {
        "colab": {
          "base_uri": "https://localhost:8080/"
        },
        "id": "DPuxhE8_31wt",
        "outputId": "269ec07f-11fa-433c-8954-63c0e12aa3dd"
      },
      "outputs": [
        {
          "data": {
            "text/plain": [
              "Dataset({\n",
              "    features: ['filename', 'path', 'disease_class'],\n",
              "    num_rows: 1999\n",
              "})"
            ]
          },
          "execution_count": 13,
          "metadata": {},
          "output_type": "execute_result"
        }
      ],
      "source": [
        "from datasets import Dataset, Audio\n",
        "\n",
        "# load Dataset from Pandas DataFrame\n",
        "dataset = Dataset.from_pandas(df)\n",
        "\n",
        "dataset"
      ]
    },
    {
      "cell_type": "code",
      "execution_count": null,
      "metadata": {
        "colab": {
          "base_uri": "https://localhost:8080/"
        },
        "id": "6pXu1Dryvsiv",
        "outputId": "384cdd18-f8de-415b-b932-ab07ff87ee9e"
      },
      "outputs": [
        {
          "data": {
            "text/plain": [
              "{'filename': Value(dtype='string', id=None),\n",
              " 'path': Value(dtype='string', id=None),\n",
              " 'disease_class': Value(dtype='string', id=None)}"
            ]
          },
          "execution_count": 14,
          "metadata": {},
          "output_type": "execute_result"
        }
      ],
      "source": [
        "dataset.features"
      ]
    },
    {
      "cell_type": "code",
      "execution_count": null,
      "metadata": {
        "colab": {
          "base_uri": "https://localhost:8080/"
        },
        "id": "OMYYz53Z0L0c",
        "outputId": "9743b531-1b8f-490a-fe36-6c4e0e50e238"
      },
      "outputs": [
        {
          "data": {
            "text/plain": [
              "Dataset({\n",
              "    features: ['filename', 'audio', 'disease_class'],\n",
              "    num_rows: 1999\n",
              "})"
            ]
          },
          "execution_count": 15,
          "metadata": {},
          "output_type": "execute_result"
        }
      ],
      "source": [
        "dataset = dataset.cast_column(\"path\", Audio(sampling_rate=16_000))\n",
        "dataset = dataset.rename_column(\"path\", \"audio\")\n",
        "dataset"
      ]
    },
    {
      "cell_type": "code",
      "execution_count": null,
      "metadata": {
        "colab": {
          "base_uri": "https://localhost:8080/"
        },
        "id": "eZYLFSlb0ew4",
        "outputId": "23d57621-3be4-478f-d92f-1b1bb896c1b7"
      },
      "outputs": [
        {
          "data": {
            "text/plain": [
              "Audio(sampling_rate=16000, mono=True, decode=True, id=None)"
            ]
          },
          "execution_count": 16,
          "metadata": {},
          "output_type": "execute_result"
        }
      ],
      "source": [
        "dataset.features['audio']"
      ]
    },
    {
      "cell_type": "code",
      "execution_count": null,
      "metadata": {
        "id": "ljb1h4ojvqDP"
      },
      "outputs": [],
      "source": [
        "# # add audio info to dataset: array and sample rate\n",
        "# paths = df[\"path\"].values\n",
        "# audio_info = Dataset.from_dict({\"audio\": paths}).cast_column(\"audio\", Audio())\n",
        "# dataset = dataset.cast_column(\"path\", audio_info)\n",
        "\n",
        "# dataset"
      ]
    },
    {
      "cell_type": "code",
      "execution_count": null,
      "metadata": {
        "colab": {
          "base_uri": "https://localhost:8080/"
        },
        "id": "2Jw5vIF5uhbE",
        "outputId": "04f396ee-5e54-47b4-c3a6-1bd1f3bee989"
      },
      "outputs": [
        {
          "data": {
            "text/plain": [
              "{'filename': Value(dtype='string', id=None),\n",
              " 'audio': Audio(sampling_rate=16000, mono=True, decode=True, id=None),\n",
              " 'disease_class': Value(dtype='string', id=None)}"
            ]
          },
          "execution_count": 18,
          "metadata": {},
          "output_type": "execute_result"
        }
      ],
      "source": [
        "dataset.features"
      ]
    },
    {
      "cell_type": "code",
      "execution_count": null,
      "metadata": {
        "colab": {
          "base_uri": "https://localhost:8080/"
        },
        "id": "A0_yNWQuuh93",
        "outputId": "daea576e-5ae5-4173-a624-60f0b986c808"
      },
      "outputs": [
        {
          "data": {
            "text/plain": [
              "Audio(sampling_rate=16000, mono=True, decode=True, id=None)"
            ]
          },
          "execution_count": 19,
          "metadata": {},
          "output_type": "execute_result"
        }
      ],
      "source": [
        "dataset.features[\"audio\"]"
      ]
    },
    {
      "cell_type": "markdown",
      "metadata": {
        "id": "P3gMAGKhqtFS"
      },
      "source": [
        "Add [ClassLabels](https://discuss.huggingface.co/t/how-to-create-custom-classlabels/13650) to the dataset instead of normal dysarthria label, use the Huggingface instance"
      ]
    },
    {
      "cell_type": "code",
      "execution_count": null,
      "metadata": {
        "colab": {
          "base_uri": "https://localhost:8080/",
          "height": 86,
          "referenced_widgets": [
            "5602b9cb683a4b8187c7999454d78500",
            "a12e0d337fc64b0cbcc55c7b85716641",
            "278cca09cfd041ebbc3514d8825ad9a1",
            "aba283f75c644f858edb5280c72bf364",
            "6efb3260ec7241f4b1ea8e5d55b14488",
            "9fbcb4a3ecdb4d2b941446e647dc0a8f",
            "1341932026364eebbd31b7a4fbe4bd79",
            "4de1f4f7997647de9b28137dc0f2363e",
            "a0c48f35a2f5433fb47c96c2fd722a2c",
            "e10c103694074edeb16adfdab9eb949c",
            "424633447f784bee9a7047a14ef8e125"
          ]
        },
        "id": "fKeiijNjseh6",
        "outputId": "4cac8031-caea-44e9-d79d-92a5797e8014"
      },
      "outputs": [
        {
          "data": {
            "application/vnd.jupyter.widget-view+json": {
              "model_id": "5602b9cb683a4b8187c7999454d78500",
              "version_major": 2,
              "version_minor": 0
            },
            "text/plain": [
              "Casting the dataset:   0%|          | 0/1999 [00:00<?, ? examples/s]"
            ]
          },
          "metadata": {},
          "output_type": "display_data"
        },
        {
          "data": {
            "text/plain": [
              "Dataset({\n",
              "    features: ['filename', 'audio', 'disease_class'],\n",
              "    num_rows: 1999\n",
              "})"
            ]
          },
          "execution_count": 20,
          "metadata": {},
          "output_type": "execute_result"
        }
      ],
      "source": [
        "from datasets import ClassLabel\n",
        "\n",
        "# Set classes as column names\n",
        "disease_class = ClassLabel(num_classes = 2, names=[\"dysarthria\", \"non_dysarthria\"])\n",
        "dataset = dataset.cast_column(\"disease_class\", disease_class)\n",
        "\n",
        "# Check to see if it worked out\n",
        "dataset"
      ]
    },
    {
      "cell_type": "code",
      "execution_count": null,
      "metadata": {
        "colab": {
          "base_uri": "https://localhost:8080/"
        },
        "id": "ihFnV1YPDFWd",
        "outputId": "5fa89535-f7dc-4228-dc14-a508cce69e1f"
      },
      "outputs": [
        {
          "data": {
            "text/plain": [
              "DatasetDict({\n",
              "    train: Dataset({\n",
              "        features: ['filename', 'audio', 'disease_class'],\n",
              "        num_rows: 1599\n",
              "    })\n",
              "    test: Dataset({\n",
              "        features: ['filename', 'audio', 'disease_class'],\n",
              "        num_rows: 400\n",
              "    })\n",
              "})"
            ]
          },
          "execution_count": 21,
          "metadata": {},
          "output_type": "execute_result"
        }
      ],
      "source": [
        "# # split the dataset into train and test subset and save them on Google Drive\n",
        "# save_path = \"/content/drive/MyDrive/bsc-ai-thesis/torgo_data\"\n",
        "\n",
        "# Since the dataset is not perfectly balances after filtering, I could choose for stratifying here\n",
        "# Shuffle could be set to False for making a more honest comparison\n",
        "# train_df, test_df = train_test_split(df, test_size=0.2, random_state=101, stratify=df[\"dysarthria\"])\n",
        "dataset = dataset.train_test_split(test_size=0.2, shuffle=False)\n",
        "\n",
        "dataset\n",
        "\n",
        "# train_df = dataset[\"train\"].reset_index(drop=True)\n",
        "# test_df = dataset[\"test\"].reset_index(drop=True)\n",
        "\n",
        "# train_df.to_csv(f\"{save_path}/train.csv\", sep=\"\\t\", encoding=\"utf-8\", index=False)\n",
        "# test_df.to_csv(f\"{save_path}/test.csv\", sep=\"\\t\", encoding=\"utf-8\", index=False)"
      ]
    },
    {
      "cell_type": "code",
      "execution_count": null,
      "metadata": {
        "colab": {
          "base_uri": "https://localhost:8080/"
        },
        "id": "E5lrVgizYNwL",
        "outputId": "b162e53d-f96b-49a5-eb2c-1593efdb2991"
      },
      "outputs": [
        {
          "data": {
            "text/plain": [
              "{'audio': {'path': '/content/drive/MyDrive/bsc-ai-thesis/torgo_data/dysarthria_female/F03_Session3_0032.wav',\n",
              "  'array': array([-0.01342773, -0.0010376 , -0.00497437, ..., -0.00097656,\n",
              "         -0.00552368,  0.00436401]),\n",
              "  'sampling_rate': 16000},\n",
              " 'disease_class': 0}"
            ]
          },
          "execution_count": 22,
          "metadata": {},
          "output_type": "execute_result"
        }
      ],
      "source": [
        "dataset = dataset.remove_columns([\"filename\"])\n",
        "dataset[\"train\"][0]"
      ]
    },
    {
      "cell_type": "markdown",
      "metadata": {
        "id": "kkKm5U9DShKL"
      },
      "source": [
        "To make it easier for the model to get the label name from the label id, create a dictionary that maps the label name to an integer and vice versa:"
      ]
    },
    {
      "cell_type": "code",
      "execution_count": null,
      "metadata": {
        "id": "6Sebf3NoUQLr"
      },
      "outputs": [],
      "source": [
        "# FUTURE WORK: ClassLabel\n",
        "labels = dataset[\"train\"].features[\"disease_class\"].names\n",
        "label2id, id2label = dict(), dict()\n",
        "for i, label in enumerate(labels):\n",
        "    label2id[label] = str(i)\n",
        "    id2label[str(i)] = label"
      ]
    },
    {
      "cell_type": "markdown",
      "metadata": {
        "id": "QtRofxcnXZEP"
      },
      "source": [
        "Now you can convert the label id to a label name:"
      ]
    },
    {
      "cell_type": "code",
      "execution_count": null,
      "metadata": {
        "colab": {
          "base_uri": "https://localhost:8080/",
          "height": 36
        },
        "id": "yfugCvk8XYP4",
        "outputId": "13a9bbf5-016b-42fc-c822-21bfa0fc94af"
      },
      "outputs": [
        {
          "data": {
            "application/vnd.google.colaboratory.intrinsic+json": {
              "type": "string"
            },
            "text/plain": [
              "'non_dysarthria'"
            ]
          },
          "execution_count": 24,
          "metadata": {},
          "output_type": "execute_result"
        }
      ],
      "source": [
        "id2label[str(1)]"
      ]
    },
    {
      "cell_type": "code",
      "execution_count": null,
      "metadata": {
        "id": "nqLU4MkKLZZ2"
      },
      "outputs": [],
      "source": [
        "# Loading the created dataset using datasets\n",
        "# from datasets import load_dataset, load_metric\n",
        "\n",
        "# data_files = {\n",
        "#     \"train\": \"/content/drive/MyDrive//bsc-ai-thesis/torgo_data/train.csv\", \n",
        "#     \"validation\": \"/content/drive/MyDrive//bsc-ai-thesis/torgo_data/test.csv\",\n",
        "# }\n",
        "\n",
        "# dataset = load_dataset(\"csv\", data_files=data_files, delimiter=\"\\t\", )\n",
        "# train_dataset = dataset[\"train\"]\n",
        "# eval_dataset = dataset[\"validation\"]\n",
        "\n",
        "# print(train_dataset)\n",
        "# print(eval_dataset)"
      ]
    },
    {
      "cell_type": "code",
      "execution_count": null,
      "metadata": {
        "id": "xiDS2KyHLx2b"
      },
      "outputs": [],
      "source": [
        "# # We need to specify the input and output column\n",
        "# input_column = \"path\"\n",
        "# output_column = \"disease_class\""
      ]
    },
    {
      "cell_type": "code",
      "execution_count": null,
      "metadata": {
        "id": "LsGCB0YTL41x"
      },
      "outputs": [],
      "source": [
        "# # we need to distinguish the unique labels in our Dysarthria dataset\n",
        "# label_list = train_dataset.unique(output_column)\n",
        "# label_list.sort()  # Let's sort it for determinism\n",
        "# num_labels = len(label_list)\n",
        "# print(f\"A classification problem with {num_labels} classes: {label_list}\")"
      ]
    },
    {
      "cell_type": "markdown",
      "metadata": {
        "id": "cThCNA8k2UZK"
      },
      "source": [
        "## Preprocess Data\n",
        "\n",
        "So far, we downloaded, loaded, and split the Dysarhtria dataset into train and test sets.\n",
        "\n",
        "Now, we need to extract features from the audio path in context representation tensors and feed them into our classification model to determine the presence of dysarthria in the speech.\n",
        "\n",
        "Therefore, the next step is to load a Wav2Vec2 feature extractor to process the audio signal:"
      ]
    },
    {
      "cell_type": "code",
      "execution_count": null,
      "metadata": {
        "colab": {
          "base_uri": "https://localhost:8080/",
          "height": 136,
          "referenced_widgets": [
            "6d9f004e2c4d4588b768d08ffdcd0e9d",
            "5ff21c6a016d4cbd968c3f2048d676a6",
            "21a6897ad7c0457ba20e1ebef343e825",
            "a9f91fd9a2ff4f4aa205bb4794e968ac",
            "d1c7aece9433453b8d34adc6a0534b4e",
            "874a0a7f32634a9a98945e92d9147773",
            "36b46fae0e4848c4a1a7c3a94471f6ea",
            "4136026e441f4a39a6dfd9ecefc41503",
            "535c113240784998b49380e9c0122f28",
            "f0dba057688449af83084b22a2782d6f",
            "d738d5ec4d544bcb9e6c3a6f97ff347d",
            "1c89b19f143645b3be8b826c4ac44009",
            "d679a1053e7a44b1bdd5ed6033ecbe1f",
            "906ad001e50943c184a7189e9ce64e45",
            "db78ad4c5c15409d92060234366cc020",
            "f35f6f7462ed49689623204b41901a60",
            "6180b86251b244dbbe8798af9a46bd64",
            "5e0aaeb03b3147fcb7bb184b976279f2",
            "d3f779cf7102450e92950627b97b15cb",
            "8c98c2c207d244e6a6481c0ed6876c01",
            "e474deeb18e24dd1a9bb196585a5e149",
            "5accf8ec3beb4791aaf82c1ba0cbf217"
          ]
        },
        "id": "fauoIEV53iw8",
        "outputId": "55c7c7c2-ae37-4d6b-faaa-a48767b1106d"
      },
      "outputs": [
        {
          "data": {
            "application/vnd.jupyter.widget-view+json": {
              "model_id": "6d9f004e2c4d4588b768d08ffdcd0e9d",
              "version_major": 2,
              "version_minor": 0
            },
            "text/plain": [
              "Downloading (…)rocessor_config.json:   0%|          | 0.00/159 [00:00<?, ?B/s]"
            ]
          },
          "metadata": {},
          "output_type": "display_data"
        },
        {
          "data": {
            "application/vnd.jupyter.widget-view+json": {
              "model_id": "1c89b19f143645b3be8b826c4ac44009",
              "version_major": 2,
              "version_minor": 0
            },
            "text/plain": [
              "Downloading (…)lve/main/config.json:   0%|          | 0.00/1.84k [00:00<?, ?B/s]"
            ]
          },
          "metadata": {},
          "output_type": "display_data"
        },
        {
          "name": "stderr",
          "output_type": "stream",
          "text": [
            "/usr/local/lib/python3.10/dist-packages/transformers/configuration_utils.py:380: UserWarning: Passing `gradient_checkpointing` to a config initialization is deprecated and will be removed in v5 Transformers. Using `model.gradient_checkpointing_enable()` instead, or if you are using the `Trainer` API, pass `gradient_checkpointing=True` in your `TrainingArguments`.\n",
            "  warnings.warn(\n"
          ]
        }
      ],
      "source": [
        "# from transformers import Wav2Vec2FeatureExtractor\n",
        "\n",
        "# feature_extractor = Wav2Vec2FeatureExtractor(feature_size=1, sampling_rate=16000, padding_value=0.0, do_normalize=True, return_attention_mask=False)\n",
        "\n",
        "from transformers import AutoFeatureExtractor\n",
        "\n",
        "feature_extractor = AutoFeatureExtractor.from_pretrained(\"facebook/wav2vec2-base\")"
      ]
    },
    {
      "cell_type": "code",
      "execution_count": null,
      "metadata": {
        "colab": {
          "base_uri": "https://localhost:8080/"
        },
        "id": "MQGqFxn0Gi2B",
        "outputId": "ed04fc01-450b-4cc2-f8cb-c5638c64d585"
      },
      "outputs": [
        {
          "data": {
            "text/plain": [
              "{'audio': {'path': '/content/drive/MyDrive/bsc-ai-thesis/torgo_data/dysarthria_female/F03_Session3_0032.wav',\n",
              "  'array': array([-0.01342773, -0.0010376 , -0.00497437, ..., -0.00097656,\n",
              "         -0.00552368,  0.00436401]),\n",
              "  'sampling_rate': 16000},\n",
              " 'disease_class': 0}"
            ]
          },
          "execution_count": 29,
          "metadata": {},
          "output_type": "execute_result"
        }
      ],
      "source": [
        "dataset = dataset.cast_column(\"audio\", Audio(sampling_rate=16_000))\n",
        "dataset[\"train\"][0]"
      ]
    },
    {
      "cell_type": "markdown",
      "metadata": {
        "id": "2a_IFzGIaRR4"
      },
      "source": [
        "Now create a preprocessing function that:\n",
        "\n",
        "1. Calls the `audio` column to load, and if necessary, resample the audio file. (is already at required sample rate.)\n",
        "2. Checks if the sampling rate of the audio file matches the sampling rate of the audio data a model was pretrained with. You can find this information in the Wav2Vec2 [model card](https://huggingface.co/facebook/wav2vec2-base).\n",
        "3. Set a maximum input length to batch longer inputs without truncating them."
      ]
    },
    {
      "cell_type": "code",
      "execution_count": null,
      "metadata": {
        "id": "XJxBMeEiT4Nz"
      },
      "outputs": [],
      "source": [
        "def preprocess_function(examples):\n",
        "    audio_arrays = [x[\"array\"] for x in examples[\"audio\"]]\n",
        "    inputs = feature_extractor(\n",
        "        audio_arrays, sampling_rate=feature_extractor.sampling_rate, max_length=16000, truncation=True\n",
        "    )\n",
        "    return inputs"
      ]
    },
    {
      "cell_type": "markdown",
      "metadata": {
        "id": "5j-K71SLT4Nz"
      },
      "source": [
        "To apply the preprocessing function over the entire dataset, use 🤗 Datasets [map](https://huggingface.co/docs/datasets/main/en/package_reference/main_classes#datasets.Dataset.map) function. You can speed up `map` by setting `batched=True` to process multiple elements of the dataset at once. Remove the columns you don't need, and rename `intent_class` to `label` because that's the name the model expects:"
      ]
    },
    {
      "cell_type": "code",
      "execution_count": null,
      "metadata": {
        "colab": {
          "base_uri": "https://localhost:8080/",
          "height": 72,
          "referenced_widgets": [
            "ac8200b8b7b54ea59099b09a900d410f",
            "0b7109e8720a4d279c0e6b39c05b3152",
            "d3be57923ba54554a1157853dfb557a9",
            "05e30e475fb440feb875362976464afc",
            "0959f951ecfd40c6afd671bcdadec88e",
            "b42a27a68e774ff58fe343bd701c4ad6",
            "08d215f81a8d40a3bbc2cf8ea4f49e70",
            "fc5905ac8f784480ace9a969bbb26a23",
            "04b3b0398683446b9dc2a77aac28e025",
            "01fe728abd124870a623ecb5bd18cb97",
            "905c20dff3174cdda721d8fb4fb61938",
            "ce3f2139bbe0435a8b6ffed40e3501db",
            "ad80c0cd8b93464aa04f841c1348bfd8",
            "edf0d1d7dedf42e297b12b8e91f6b97f",
            "22f4bf5b86c54057a78372b784ef12f9",
            "e58b3579b1bc470e91acd7166c3499aa",
            "0079b44e7c7b4f0f861ea90cf96d38cf",
            "3e92653cbb904f63aaddbd9728015edd",
            "b44cb392297d4fcd9806d0ba871c891d",
            "845c7bb0527e4f4d88f1ec587206b13f",
            "af94618e14e445f1910a9ac5a5cec359",
            "50479255a15d4050be913f336faa97b8"
          ]
        },
        "id": "uciGO_igT4Nz",
        "outputId": "9e3e1398-5def-4b1c-8c88-ba789114f59b"
      },
      "outputs": [
        {
          "data": {
            "application/vnd.jupyter.widget-view+json": {
              "model_id": "ac8200b8b7b54ea59099b09a900d410f",
              "version_major": 2,
              "version_minor": 0
            },
            "text/plain": [
              "Map:   0%|          | 0/1599 [00:00<?, ? examples/s]"
            ]
          },
          "metadata": {},
          "output_type": "display_data"
        },
        {
          "name": "stderr",
          "output_type": "stream",
          "text": [
            "/usr/local/lib/python3.10/dist-packages/transformers/feature_extraction_utils.py:166: VisibleDeprecationWarning: Creating an ndarray from ragged nested sequences (which is a list-or-tuple of lists-or-tuples-or ndarrays with different lengths or shapes) is deprecated. If you meant to do this, you must specify 'dtype=object' when creating the ndarray.\n",
            "  tensor = as_tensor(value)\n"
          ]
        },
        {
          "data": {
            "application/vnd.jupyter.widget-view+json": {
              "model_id": "ce3f2139bbe0435a8b6ffed40e3501db",
              "version_major": 2,
              "version_minor": 0
            },
            "text/plain": [
              "Map:   0%|          | 0/400 [00:00<?, ? examples/s]"
            ]
          },
          "metadata": {},
          "output_type": "display_data"
        }
      ],
      "source": [
        "encoded_torgo = dataset.map(preprocess_function, remove_columns=\"audio\", batched=True)\n",
        "encoded_torgo = encoded_torgo.rename_column(\"disease_class\", \"label\")"
      ]
    },
    {
      "cell_type": "markdown",
      "metadata": {
        "id": "31DXDD0Fasey"
      },
      "source": [
        "## Evaluate\n",
        "\n",
        "Including a metric during training is often helpful for evaluating your model's performance. You can quickly load a evaluation method with the 🤗 [Evaluate](https://huggingface.co/docs/evaluate/index) library. For this task, load the [accuracy](https://huggingface.co/spaces/evaluate-metric/accuracy) metric (see the 🤗 Evaluate [quick tour](https://huggingface.co/docs/evaluate/a_quick_tour) to learn more about how to load and compute a metric):"
      ]
    },
    {
      "cell_type": "code",
      "execution_count": null,
      "metadata": {
        "colab": {
          "base_uri": "https://localhost:8080/",
          "height": 49,
          "referenced_widgets": [
            "100720d0fdd849aa866d0eb4bf1855f3",
            "b3edf052b52a4398ae0c5b9082f4794c",
            "1ed04b527a454170a6ca912d4cb666e3",
            "ab0085d9f0754d6485fb2e4ab30babcd",
            "05f8ffd9765d4a3586dfa0fef7140a97",
            "89d0bff28f9c4cd29ec8e597519a758d",
            "84cc51caac5745a79dab00a71980bc03",
            "c93d28a8ea8d4dd886ee9ede5117d1db",
            "b43a3f8c1f6e468fa9dd02d4fe075b63",
            "a158547e38f843ac895acb0fe69b8a92",
            "bd2f6121a0cf409483312e691fca0a37"
          ]
        },
        "id": "hSj2gmj7aQ7N",
        "outputId": "39a0e77c-38f6-4d60-be1d-f071817953dd"
      },
      "outputs": [
        {
          "data": {
            "application/vnd.jupyter.widget-view+json": {
              "model_id": "100720d0fdd849aa866d0eb4bf1855f3",
              "version_major": 2,
              "version_minor": 0
            },
            "text/plain": [
              "Downloading builder script:   0%|          | 0.00/4.20k [00:00<?, ?B/s]"
            ]
          },
          "metadata": {},
          "output_type": "display_data"
        }
      ],
      "source": [
        "import evaluate\n",
        "\n",
        "accuracy = evaluate.load(\"accuracy\")"
      ]
    },
    {
      "cell_type": "markdown",
      "metadata": {
        "id": "uDQismtIcnfe"
      },
      "source": [
        "Then create a function that passes your predictions and labels to [compute](https://huggingface.co/docs/evaluate/main/en/package_reference/main_classes#evaluate.EvaluationModule.compute) the accuracy:"
      ]
    },
    {
      "cell_type": "code",
      "execution_count": null,
      "metadata": {
        "id": "fCM7GCrFffrL"
      },
      "outputs": [],
      "source": [
        "import numpy as np\n",
        "\n",
        "def compute_metrics(eval_pred):\n",
        "    predictions = np.argmax(eval_pred.predictions, axis=1)\n",
        "    return accuracy.compute(predictions=predictions, references=eval_pred.label_ids)"
      ]
    },
    {
      "cell_type": "markdown",
      "metadata": {
        "id": "KKo7T7Kxcuwd"
      },
      "source": [
        "Your compute_metrics function is ready to go now, and you'll return to it when you setup your training."
      ]
    },
    {
      "cell_type": "markdown",
      "metadata": {
        "id": "aHZSWVHacw2O"
      },
      "source": [
        "##Train\n",
        "\n",
        "Now, I am ready to start training my model! I load Wav2Vec2 with AutoModelForAudioClassification along with the number of expected labels, and the label mappings:"
      ]
    },
    {
      "cell_type": "code",
      "execution_count": null,
      "metadata": {
        "colab": {
          "base_uri": "https://localhost:8080/",
          "height": 190,
          "referenced_widgets": [
            "eeb3440243ee447fb7fadd43a9bcb06b",
            "e95c993cc7294794bbdc3e1e3b2530c4",
            "2a3fefc48a4643bb848eec2a49d600de",
            "f137db6ae3cd43f1859767ffbc4d6861",
            "7ee412ebdd8d4f8aad166175a1a47fa3",
            "6ed8a89409db418eaef8e7a800227792",
            "d4b1c8751f9f4cbca776eb25d69fc69a",
            "405473d3d9374a9aa96dcce620a51359",
            "72d8bb87e8cb4d9388624e6ae6fbd0a8",
            "49b232bf97474d9181d353994bdc407c",
            "4d215d92195a479fae8e154f7dfba7f4"
          ]
        },
        "id": "HEMiNzTrcwLe",
        "outputId": "d98a5548-9f64-4e9c-96f0-bd94df764e00"
      },
      "outputs": [
        {
          "name": "stderr",
          "output_type": "stream",
          "text": [
            "/usr/local/lib/python3.10/dist-packages/transformers/configuration_utils.py:380: UserWarning: Passing `gradient_checkpointing` to a config initialization is deprecated and will be removed in v5 Transformers. Using `model.gradient_checkpointing_enable()` instead, or if you are using the `Trainer` API, pass `gradient_checkpointing=True` in your `TrainingArguments`.\n",
            "  warnings.warn(\n"
          ]
        },
        {
          "data": {
            "application/vnd.jupyter.widget-view+json": {
              "model_id": "eeb3440243ee447fb7fadd43a9bcb06b",
              "version_major": 2,
              "version_minor": 0
            },
            "text/plain": [
              "Downloading pytorch_model.bin:   0%|          | 0.00/380M [00:00<?, ?B/s]"
            ]
          },
          "metadata": {},
          "output_type": "display_data"
        },
        {
          "name": "stderr",
          "output_type": "stream",
          "text": [
            "Some weights of the model checkpoint at facebook/wav2vec2-base were not used when initializing Wav2Vec2ForSequenceClassification: ['quantizer.codevectors', 'project_hid.bias', 'project_q.bias', 'project_hid.weight', 'quantizer.weight_proj.bias', 'project_q.weight', 'quantizer.weight_proj.weight']\n",
            "- This IS expected if you are initializing Wav2Vec2ForSequenceClassification from the checkpoint of a model trained on another task or with another architecture (e.g. initializing a BertForSequenceClassification model from a BertForPreTraining model).\n",
            "- This IS NOT expected if you are initializing Wav2Vec2ForSequenceClassification from the checkpoint of a model that you expect to be exactly identical (initializing a BertForSequenceClassification model from a BertForSequenceClassification model).\n",
            "Some weights of Wav2Vec2ForSequenceClassification were not initialized from the model checkpoint at facebook/wav2vec2-base and are newly initialized: ['classifier.bias', 'projector.bias', 'projector.weight', 'classifier.weight']\n",
            "You should probably TRAIN this model on a down-stream task to be able to use it for predictions and inference.\n"
          ]
        }
      ],
      "source": [
        "from transformers import AutoModelForAudioClassification, TrainingArguments, Trainer\n",
        "\n",
        "num_labels = len(id2label)\n",
        "model = AutoModelForAudioClassification.from_pretrained(\n",
        "    \"facebook/wav2vec2-base\", num_labels=num_labels, label2id=label2id, id2label=id2label\n",
        ")"
      ]
    },
    {
      "cell_type": "markdown",
      "metadata": {
        "id": "OAHHpv-Mducz"
      },
      "source": [
        "At this point, only three steps remain:\n",
        "\n",
        "1. Define your training hyperparameters in [TrainingArguments](https://huggingface.co/docs/transformers/main/en/main_classes/trainer#transformers.TrainingArguments). The only required parameter is `output_dir` which specifies where to save your model. You'll push this model to the Hub by setting `push_to_hub=True` (you need to be signed in to Hugging Face to upload your model). At the end of each epoch, the [Trainer](https://huggingface.co/docs/transformers/main/en/main_classes/trainer#transformers.Trainer) will evaluate the accuracy and save the training checkpoint.\n",
        "2. Pass the training arguments to [Trainer](https://huggingface.co/docs/transformers/main/en/main_classes/trainer#transformers.Trainer) along with the model, dataset, tokenizer, data collator, and `compute_metrics` function.\n",
        "3. Call [train()](https://huggingface.co/docs/transformers/main/en/main_classes/trainer#transformers.Trainer.train) to finetune your model."
      ]
    },
    {
      "cell_type": "code",
      "execution_count": null,
      "metadata": {
        "colab": {
          "base_uri": "https://localhost:8080/",
          "height": 513
        },
        "id": "xW7r7hBddsac",
        "outputId": "6fea8333-da25-4b5b-c292-99933e9fcd96"
      },
      "outputs": [
        {
          "name": "stderr",
          "output_type": "stream",
          "text": [
            "Cloning https://huggingface.co/Juardo/my_awesome_torgo_model_non_shuffled into local empty directory.\n",
            "WARNING:huggingface_hub.repository:Cloning https://huggingface.co/Juardo/my_awesome_torgo_model_non_shuffled into local empty directory.\n",
            "/usr/local/lib/python3.10/dist-packages/transformers/optimization.py:407: FutureWarning: This implementation of AdamW is deprecated and will be removed in a future version. Use the PyTorch implementation torch.optim.AdamW instead, or set `no_deprecation_warning=True` to disable this warning\n",
            "  warnings.warn(\n"
          ]
        },
        {
          "data": {
            "text/html": [
              "\n",
              "    <div>\n",
              "      \n",
              "      <progress value='120' max='120' style='width:300px; height:20px; vertical-align: middle;'></progress>\n",
              "      [120/120 14:29, Epoch 9/10]\n",
              "    </div>\n",
              "    <table border=\"1\" class=\"dataframe\">\n",
              "  <thead>\n",
              " <tr style=\"text-align: left;\">\n",
              "      <th>Epoch</th>\n",
              "      <th>Training Loss</th>\n",
              "      <th>Validation Loss</th>\n",
              "      <th>Accuracy</th>\n",
              "    </tr>\n",
              "  </thead>\n",
              "  <tbody>\n",
              "    <tr>\n",
              "      <td>0</td>\n",
              "      <td>0.682600</td>\n",
              "      <td>0.619502</td>\n",
              "      <td>0.755000</td>\n",
              "    </tr>\n",
              "    <tr>\n",
              "      <td>2</td>\n",
              "      <td>0.609100</td>\n",
              "      <td>0.554602</td>\n",
              "      <td>0.737500</td>\n",
              "    </tr>\n",
              "    <tr>\n",
              "      <td>2</td>\n",
              "      <td>0.560800</td>\n",
              "      <td>0.528405</td>\n",
              "      <td>0.762500</td>\n",
              "    </tr>\n",
              "    <tr>\n",
              "      <td>4</td>\n",
              "      <td>0.588500</td>\n",
              "      <td>0.719929</td>\n",
              "      <td>0.612500</td>\n",
              "    </tr>\n",
              "    <tr>\n",
              "      <td>4</td>\n",
              "      <td>0.540500</td>\n",
              "      <td>0.454548</td>\n",
              "      <td>0.842500</td>\n",
              "    </tr>\n",
              "    <tr>\n",
              "      <td>6</td>\n",
              "      <td>0.499300</td>\n",
              "      <td>0.426132</td>\n",
              "      <td>0.855000</td>\n",
              "    </tr>\n",
              "    <tr>\n",
              "      <td>6</td>\n",
              "      <td>0.435200</td>\n",
              "      <td>0.391444</td>\n",
              "      <td>0.862500</td>\n",
              "    </tr>\n",
              "    <tr>\n",
              "      <td>8</td>\n",
              "      <td>0.365700</td>\n",
              "      <td>0.372050</td>\n",
              "      <td>0.870000</td>\n",
              "    </tr>\n",
              "    <tr>\n",
              "      <td>8</td>\n",
              "      <td>0.319600</td>\n",
              "      <td>0.362654</td>\n",
              "      <td>0.865000</td>\n",
              "    </tr>\n",
              "    <tr>\n",
              "      <td>9</td>\n",
              "      <td>0.318800</td>\n",
              "      <td>0.364948</td>\n",
              "      <td>0.862500</td>\n",
              "    </tr>\n",
              "  </tbody>\n",
              "</table><p>"
            ],
            "text/plain": [
              "<IPython.core.display.HTML object>"
            ]
          },
          "metadata": {},
          "output_type": "display_data"
        },
        {
          "data": {
            "text/plain": [
              "TrainOutput(global_step=120, training_loss=0.48942698041598004, metrics={'train_runtime': 882.6001, 'train_samples_per_second': 18.117, 'train_steps_per_second': 0.136, 'total_flos': 1.3936608965664e+17, 'train_loss': 0.48942698041598004, 'epoch': 9.6})"
            ]
          },
          "execution_count": 36,
          "metadata": {},
          "output_type": "execute_result"
        }
      ],
      "source": [
        "training_args = TrainingArguments(\n",
        "    output_dir=\"my_awesome_torgo_model_non_shuffled\",\n",
        "    evaluation_strategy=\"epoch\",\n",
        "    save_strategy=\"epoch\",\n",
        "    learning_rate=3e-5,\n",
        "    per_device_train_batch_size=32,\n",
        "    gradient_accumulation_steps=4,\n",
        "    per_device_eval_batch_size=32,\n",
        "    num_train_epochs=10,\n",
        "    warmup_ratio=0.1,\n",
        "    logging_steps=10,\n",
        "    load_best_model_at_end=True,\n",
        "    metric_for_best_model=\"accuracy\",\n",
        "    push_to_hub=True,\n",
        ")\n",
        "  \n",
        "# Here - and before the train and test set are being used\n",
        "# the terms 'test' and 'evalutation' are being used mixed up\n",
        "trainer = Trainer(\n",
        "    model=model,\n",
        "    args=training_args,\n",
        "    train_dataset=encoded_torgo[\"train\"],\n",
        "    eval_dataset=encoded_torgo[\"test\"],\n",
        "    tokenizer=feature_extractor,\n",
        "    compute_metrics=compute_metrics,\n",
        ")\n",
        "\n",
        "trainer.train()"
      ]
    },
    {
      "cell_type": "markdown",
      "metadata": {
        "id": "OWZOdd5cepmv"
      },
      "source": [
        "Once training is completed, share my model to the Hub with the [push_to_hub()](https://huggingface.co/docs/transformers/main/en/main_classes/trainer#transformers.Trainer.push_to_hub) method so everyone can use my model:"
      ]
    },
    {
      "cell_type": "code",
      "execution_count": null,
      "metadata": {
        "colab": {
          "base_uri": "https://localhost:8080/",
          "height": 276,
          "referenced_widgets": [
            "e5532adffdc74ad496f30d945f8a1634",
            "e34bbed6bd16429f8622159e031c2ce4",
            "c89b6fe4a2624418a6b3af8f86fd720b",
            "7c5f2c39e01c4cc0b4826b2886dd866c",
            "4c936ff1317549a5bd39081174e7e129",
            "77ffba5dc9964d15806e8c290f15a8aa",
            "bae3a8cc758d4193be360b201109861c",
            "d83e6ba26df547d0b6536bcaf29aaa1b",
            "3a671ba7caa64cf98526652a5791c525",
            "bce6a9ee1db846b59287f872992f3573",
            "0ea34fa0cced4a1384ffb2b1828c1cbf"
          ]
        },
        "id": "DXeLLmRcepUv",
        "outputId": "dadab2fc-f462-4d8b-b084-1a1757175ecf"
      },
      "outputs": [
        {
          "data": {
            "application/vnd.jupyter.widget-view+json": {
              "model_id": "e5532adffdc74ad496f30d945f8a1634",
              "version_major": 2,
              "version_minor": 0
            },
            "text/plain": [
              "Upload file runs/May23_10-55-29_f427f1086e67/events.out.tfevents.1684839335.f427f1086e67.170.0:   0%|         …"
            ]
          },
          "metadata": {},
          "output_type": "display_data"
        },
        {
          "name": "stderr",
          "output_type": "stream",
          "text": [
            "To https://huggingface.co/Juardo/my_awesome_torgo_model_non_shuffled\n",
            "   21aae87..97498bb  main -> main\n",
            "\n",
            "WARNING:huggingface_hub.repository:To https://huggingface.co/Juardo/my_awesome_torgo_model_non_shuffled\n",
            "   21aae87..97498bb  main -> main\n",
            "\n",
            "To https://huggingface.co/Juardo/my_awesome_torgo_model_non_shuffled\n",
            "   97498bb..8f5dd42  main -> main\n",
            "\n",
            "WARNING:huggingface_hub.repository:To https://huggingface.co/Juardo/my_awesome_torgo_model_non_shuffled\n",
            "   97498bb..8f5dd42  main -> main\n",
            "\n"
          ]
        },
        {
          "data": {
            "application/vnd.google.colaboratory.intrinsic+json": {
              "type": "string"
            },
            "text/plain": [
              "'https://huggingface.co/Juardo/my_awesome_torgo_model_non_shuffled/commit/97498bbeeb6eefb013c2970b740e8e85745b2313'"
            ]
          },
          "execution_count": 37,
          "metadata": {},
          "output_type": "execute_result"
        }
      ],
      "source": [
        "trainer.push_to_hub()"
      ]
    },
    {
      "cell_type": "markdown",
      "metadata": {
        "id": "bvuE2m6seyo1"
      },
      "source": [
        "## Inference\n",
        "\n",
        "Great, now that the mode is finetuned, I can use it for inference!\n",
        "\n",
        "I load an audio file that I'd like to run inference on. \n",
        "\n",
        "Remember to resample the sampling rate of the audio file to match the sampling rate of the model if you need to!"
      ]
    },
    {
      "cell_type": "code",
      "execution_count": null,
      "metadata": {
        "id": "frID1pMygvUb"
      },
      "outputs": [],
      "source": [
        "# from datasets import load_dataset, Audio\n",
        "\n",
        "# dataset = load_dataset(\"PolyAI/minds14\", name=\"en-US\", split=\"train\")\n",
        "# dataset = dataset.cast_column(\"audio\", Audio(sampling_rate=16000))\n",
        "# sampling_rate = dataset.features[\"audio\"].sampling_rate\n",
        "# audio_file = dataset[0][\"audio\"][\"path\"]"
      ]
    },
    {
      "cell_type": "markdown",
      "metadata": {
        "id": "QtkFD2Xsgv9g"
      },
      "source": [
        "The simplest way to try out your finetuned model for inference is to use it in a [pipeline()](https://huggingface.co/docs/transformers/main/en/main_classes/pipelines#transformers.pipeline). Instantiate a `pipeline` for audio classification with your model, and pass your audio file to it:"
      ]
    },
    {
      "cell_type": "code",
      "execution_count": null,
      "metadata": {
        "colab": {
          "base_uri": "https://localhost:8080/",
          "height": 148,
          "referenced_widgets": [
            "0c0bc648ac394a0b8b9996277c54559e",
            "641610f203ad47e89e0d424ea3330947",
            "fb04e74ad3b34513a9ac950fb3b078c6",
            "ce3167bf55d4424592d723b05d8510e2",
            "ee72794cafb44b2d9c7841faf0937a1b",
            "942d2a678e5f456faa6a48fee30de1b9",
            "a8ea30d1b1f54a2cb503568f05d08c6c",
            "77c7e835829f4122939843c38f2da18e",
            "0033b72e1b534da0aa31b5a8dc3ebe4c",
            "b9072f807f9a4c19bd88de0ce39dce30",
            "f97c95c5edd2490c8491d29e07d5725b",
            "2e2c977ac66546c5ac9d01f1376f95ed",
            "59660f00ff5f411abfd5ec1b4b493c72",
            "107948d6111e48e79c63c302a97a223b",
            "f86673a365834890a3e668994bf542aa",
            "1d4b50cb95994323b5cb4fcf3b085209",
            "4990f00dfa294ef9a709f1f17120a86d",
            "d1821b8e0eaa42a58b2963135ce92913",
            "c8e5adcc93a54a76a6764df7773b24bc",
            "e045d69c8a4e4d76b664c53add4ace78",
            "e04ec565fb8142b9af8dcfe08fc0432a",
            "ac1ecde82d214d799ae11545e9db9cac",
            "f1ee64712f9c4947a7d5b432c01a7c81",
            "7e43ac3ee56b47ef879dd4fb0f53eb09",
            "82d6a1754d134e00b3644fd8f21f8bbd",
            "b6835a49818b4823b804c1b1664f8f8a",
            "f294c66ca85a42ad9bcf07f59d70f58a",
            "27928178254e46bc85b7041829ee1818",
            "34220fc721d44adf8f6406a78263c5a9",
            "2cdc5ab548e24cf5a868300917cf542c",
            "7cb47ba948e74201a9f27cca2b83c500",
            "10be0ec29e164bbfaaae3fe90a528c69",
            "a98f7749cf3b4710a1717002d2b5dfe0"
          ]
        },
        "id": "GPIWQwkbe0TE",
        "outputId": "e77e6c1d-4d0d-497f-eac1-f663e6eee4eb"
      },
      "outputs": [
        {
          "data": {
            "application/vnd.jupyter.widget-view+json": {
              "model_id": "0c0bc648ac394a0b8b9996277c54559e",
              "version_major": 2,
              "version_minor": 0
            },
            "text/plain": [
              "Downloading (…)lve/main/config.json:   0%|          | 0.00/2.50k [00:00<?, ?B/s]"
            ]
          },
          "metadata": {},
          "output_type": "display_data"
        },
        {
          "data": {
            "application/vnd.jupyter.widget-view+json": {
              "model_id": "2e2c977ac66546c5ac9d01f1376f95ed",
              "version_major": 2,
              "version_minor": 0
            },
            "text/plain": [
              "Downloading pytorch_model.bin:   0%|          | 0.00/378M [00:00<?, ?B/s]"
            ]
          },
          "metadata": {},
          "output_type": "display_data"
        },
        {
          "data": {
            "application/vnd.jupyter.widget-view+json": {
              "model_id": "f1ee64712f9c4947a7d5b432c01a7c81",
              "version_major": 2,
              "version_minor": 0
            },
            "text/plain": [
              "Downloading (…)rocessor_config.json:   0%|          | 0.00/215 [00:00<?, ?B/s]"
            ]
          },
          "metadata": {},
          "output_type": "display_data"
        },
        {
          "data": {
            "text/plain": [
              "[{'score': 0.826084554195404, 'label': 'dysarthria'},\n",
              " {'score': 0.17391543090343475, 'label': 'non_dysarthria'}]"
            ]
          },
          "execution_count": 39,
          "metadata": {},
          "output_type": "execute_result"
        }
      ],
      "source": [
        "from transformers import pipeline\n",
        "\n",
        "classifier = pipeline(\"audio-classification\", model=\"Juardo/my_awesome_torgo_model\")\n",
        "classifier(\"/content/drive/MyDrive/bsc-ai-thesis/OSR_us_000_0010_8k.wav\")"
      ]
    },
    {
      "cell_type": "code",
      "execution_count": null,
      "metadata": {
        "id": "RlqjTVj_ttrC"
      },
      "outputs": [],
      "source": [
        "audio_file = dataset[\"test\"][0][\"audio\"][\"array\"]\n",
        "\n",
        "from transformers import AutoFeatureExtractor\n",
        "\n",
        "feature_extractor = AutoFeatureExtractor.from_pretrained(\"Juardo/my_awesome_torgo_model\")\n",
        "inputs = feature_extractor(audio_file, sampling_rate=16_000, return_tensors=\"pt\")"
      ]
    },
    {
      "cell_type": "code",
      "execution_count": null,
      "metadata": {
        "colab": {
          "base_uri": "https://localhost:8080/",
          "height": 36
        },
        "id": "O9MeSJo1CVR0",
        "outputId": "38b60d8f-1ff5-4861-cfb0-9fc394eaf8e7"
      },
      "outputs": [
        {
          "data": {
            "application/vnd.google.colaboratory.intrinsic+json": {
              "type": "string"
            },
            "text/plain": [
              "'dysarthria'"
            ]
          },
          "execution_count": 41,
          "metadata": {},
          "output_type": "execute_result"
        }
      ],
      "source": [
        "# See what the outcome of the following lines should be: \n",
        "dataset[\"test\"].features[\"disease_class\"].int2str(dataset[\"test\"][0][\"disease_class\"])"
      ]
    },
    {
      "cell_type": "code",
      "execution_count": null,
      "metadata": {
        "id": "DjGmwX4JBMrc"
      },
      "outputs": [],
      "source": [
        "import torch\n",
        "from transformers import AutoModelForAudioClassification\n",
        "\n",
        "model = AutoModelForAudioClassification.from_pretrained(\"Juardo/my_awesome_torgo_model\")\n",
        "with torch.no_grad():\n",
        "    logits = model(**inputs).logits"
      ]
    },
    {
      "cell_type": "code",
      "execution_count": null,
      "metadata": {
        "colab": {
          "base_uri": "https://localhost:8080/",
          "height": 36
        },
        "id": "ZBKvYnpxCEEZ",
        "outputId": "5cac7da3-609e-407d-f180-ab5d95b4cf26"
      },
      "outputs": [
        {
          "data": {
            "application/vnd.google.colaboratory.intrinsic+json": {
              "type": "string"
            },
            "text/plain": [
              "'dysarthria'"
            ]
          },
          "execution_count": 43,
          "metadata": {},
          "output_type": "execute_result"
        }
      ],
      "source": [
        "predicted_class_ids = torch.argmax(logits).item()\n",
        "predicted_label = model.config.id2label[predicted_class_ids]\n",
        "predicted_label"
      ]
    },
    {
      "cell_type": "code",
      "execution_count": null,
      "metadata": {
        "id": "VLbEcbpLCIVT"
      },
      "outputs": [],
      "source": []
    }
  ],
  "metadata": {
    "accelerator": "GPU",
    "colab": {
      "gpuType": "T4",
      "provenance": [],
      "include_colab_link": true
    },
    "gpuClass": "standard",
    "kernelspec": {
      "display_name": "Python 3",
      "language": "python",
      "name": "python3"
    },
    "language_info": {
      "codemirror_mode": {
        "name": "ipython",
        "version": 3
      },
      "file_extension": ".py",
      "mimetype": "text/x-python",
      "name": "python",
      "nbconvert_exporter": "python",
      "pygments_lexer": "ipython3",
      "version": "3.7.6"
    },
    "widgets": {
      "application/vnd.jupyter.widget-state+json": {
        "0033b72e1b534da0aa31b5a8dc3ebe4c": {
          "model_module": "@jupyter-widgets/controls",
          "model_module_version": "1.5.0",
          "model_name": "ProgressStyleModel",
          "state": {
            "_model_module": "@jupyter-widgets/controls",
            "_model_module_version": "1.5.0",
            "_model_name": "ProgressStyleModel",
            "_view_count": null,
            "_view_module": "@jupyter-widgets/base",
            "_view_module_version": "1.2.0",
            "_view_name": "StyleView",
            "bar_color": null,
            "description_width": ""
          }
        },
        "0079b44e7c7b4f0f861ea90cf96d38cf": {
          "model_module": "@jupyter-widgets/base",
          "model_module_version": "1.2.0",
          "model_name": "LayoutModel",
          "state": {
            "_model_module": "@jupyter-widgets/base",
            "_model_module_version": "1.2.0",
            "_model_name": "LayoutModel",
            "_view_count": null,
            "_view_module": "@jupyter-widgets/base",
            "_view_module_version": "1.2.0",
            "_view_name": "LayoutView",
            "align_content": null,
            "align_items": null,
            "align_self": null,
            "border": null,
            "bottom": null,
            "display": null,
            "flex": null,
            "flex_flow": null,
            "grid_area": null,
            "grid_auto_columns": null,
            "grid_auto_flow": null,
            "grid_auto_rows": null,
            "grid_column": null,
            "grid_gap": null,
            "grid_row": null,
            "grid_template_areas": null,
            "grid_template_columns": null,
            "grid_template_rows": null,
            "height": null,
            "justify_content": null,
            "justify_items": null,
            "left": null,
            "margin": null,
            "max_height": null,
            "max_width": null,
            "min_height": null,
            "min_width": null,
            "object_fit": null,
            "object_position": null,
            "order": null,
            "overflow": null,
            "overflow_x": null,
            "overflow_y": null,
            "padding": null,
            "right": null,
            "top": null,
            "visibility": null,
            "width": null
          }
        },
        "01fe728abd124870a623ecb5bd18cb97": {
          "model_module": "@jupyter-widgets/base",
          "model_module_version": "1.2.0",
          "model_name": "LayoutModel",
          "state": {
            "_model_module": "@jupyter-widgets/base",
            "_model_module_version": "1.2.0",
            "_model_name": "LayoutModel",
            "_view_count": null,
            "_view_module": "@jupyter-widgets/base",
            "_view_module_version": "1.2.0",
            "_view_name": "LayoutView",
            "align_content": null,
            "align_items": null,
            "align_self": null,
            "border": null,
            "bottom": null,
            "display": null,
            "flex": null,
            "flex_flow": null,
            "grid_area": null,
            "grid_auto_columns": null,
            "grid_auto_flow": null,
            "grid_auto_rows": null,
            "grid_column": null,
            "grid_gap": null,
            "grid_row": null,
            "grid_template_areas": null,
            "grid_template_columns": null,
            "grid_template_rows": null,
            "height": null,
            "justify_content": null,
            "justify_items": null,
            "left": null,
            "margin": null,
            "max_height": null,
            "max_width": null,
            "min_height": null,
            "min_width": null,
            "object_fit": null,
            "object_position": null,
            "order": null,
            "overflow": null,
            "overflow_x": null,
            "overflow_y": null,
            "padding": null,
            "right": null,
            "top": null,
            "visibility": null,
            "width": null
          }
        },
        "04b3b0398683446b9dc2a77aac28e025": {
          "model_module": "@jupyter-widgets/controls",
          "model_module_version": "1.5.0",
          "model_name": "ProgressStyleModel",
          "state": {
            "_model_module": "@jupyter-widgets/controls",
            "_model_module_version": "1.5.0",
            "_model_name": "ProgressStyleModel",
            "_view_count": null,
            "_view_module": "@jupyter-widgets/base",
            "_view_module_version": "1.2.0",
            "_view_name": "StyleView",
            "bar_color": null,
            "description_width": ""
          }
        },
        "05e30e475fb440feb875362976464afc": {
          "model_module": "@jupyter-widgets/controls",
          "model_module_version": "1.5.0",
          "model_name": "HTMLModel",
          "state": {
            "_dom_classes": [],
            "_model_module": "@jupyter-widgets/controls",
            "_model_module_version": "1.5.0",
            "_model_name": "HTMLModel",
            "_view_count": null,
            "_view_module": "@jupyter-widgets/controls",
            "_view_module_version": "1.5.0",
            "_view_name": "HTMLView",
            "description": "",
            "description_tooltip": null,
            "layout": "IPY_MODEL_01fe728abd124870a623ecb5bd18cb97",
            "placeholder": "​",
            "style": "IPY_MODEL_905c20dff3174cdda721d8fb4fb61938",
            "value": " 1599/1599 [00:06&lt;00:00, 249.02 examples/s]"
          }
        },
        "05f8ffd9765d4a3586dfa0fef7140a97": {
          "model_module": "@jupyter-widgets/base",
          "model_module_version": "1.2.0",
          "model_name": "LayoutModel",
          "state": {
            "_model_module": "@jupyter-widgets/base",
            "_model_module_version": "1.2.0",
            "_model_name": "LayoutModel",
            "_view_count": null,
            "_view_module": "@jupyter-widgets/base",
            "_view_module_version": "1.2.0",
            "_view_name": "LayoutView",
            "align_content": null,
            "align_items": null,
            "align_self": null,
            "border": null,
            "bottom": null,
            "display": null,
            "flex": null,
            "flex_flow": null,
            "grid_area": null,
            "grid_auto_columns": null,
            "grid_auto_flow": null,
            "grid_auto_rows": null,
            "grid_column": null,
            "grid_gap": null,
            "grid_row": null,
            "grid_template_areas": null,
            "grid_template_columns": null,
            "grid_template_rows": null,
            "height": null,
            "justify_content": null,
            "justify_items": null,
            "left": null,
            "margin": null,
            "max_height": null,
            "max_width": null,
            "min_height": null,
            "min_width": null,
            "object_fit": null,
            "object_position": null,
            "order": null,
            "overflow": null,
            "overflow_x": null,
            "overflow_y": null,
            "padding": null,
            "right": null,
            "top": null,
            "visibility": null,
            "width": null
          }
        },
        "08d215f81a8d40a3bbc2cf8ea4f49e70": {
          "model_module": "@jupyter-widgets/controls",
          "model_module_version": "1.5.0",
          "model_name": "DescriptionStyleModel",
          "state": {
            "_model_module": "@jupyter-widgets/controls",
            "_model_module_version": "1.5.0",
            "_model_name": "DescriptionStyleModel",
            "_view_count": null,
            "_view_module": "@jupyter-widgets/base",
            "_view_module_version": "1.2.0",
            "_view_name": "StyleView",
            "description_width": ""
          }
        },
        "0959f951ecfd40c6afd671bcdadec88e": {
          "model_module": "@jupyter-widgets/base",
          "model_module_version": "1.2.0",
          "model_name": "LayoutModel",
          "state": {
            "_model_module": "@jupyter-widgets/base",
            "_model_module_version": "1.2.0",
            "_model_name": "LayoutModel",
            "_view_count": null,
            "_view_module": "@jupyter-widgets/base",
            "_view_module_version": "1.2.0",
            "_view_name": "LayoutView",
            "align_content": null,
            "align_items": null,
            "align_self": null,
            "border": null,
            "bottom": null,
            "display": null,
            "flex": null,
            "flex_flow": null,
            "grid_area": null,
            "grid_auto_columns": null,
            "grid_auto_flow": null,
            "grid_auto_rows": null,
            "grid_column": null,
            "grid_gap": null,
            "grid_row": null,
            "grid_template_areas": null,
            "grid_template_columns": null,
            "grid_template_rows": null,
            "height": null,
            "justify_content": null,
            "justify_items": null,
            "left": null,
            "margin": null,
            "max_height": null,
            "max_width": null,
            "min_height": null,
            "min_width": null,
            "object_fit": null,
            "object_position": null,
            "order": null,
            "overflow": null,
            "overflow_x": null,
            "overflow_y": null,
            "padding": null,
            "right": null,
            "top": null,
            "visibility": "hidden",
            "width": null
          }
        },
        "0b7109e8720a4d279c0e6b39c05b3152": {
          "model_module": "@jupyter-widgets/controls",
          "model_module_version": "1.5.0",
          "model_name": "HTMLModel",
          "state": {
            "_dom_classes": [],
            "_model_module": "@jupyter-widgets/controls",
            "_model_module_version": "1.5.0",
            "_model_name": "HTMLModel",
            "_view_count": null,
            "_view_module": "@jupyter-widgets/controls",
            "_view_module_version": "1.5.0",
            "_view_name": "HTMLView",
            "description": "",
            "description_tooltip": null,
            "layout": "IPY_MODEL_b42a27a68e774ff58fe343bd701c4ad6",
            "placeholder": "​",
            "style": "IPY_MODEL_08d215f81a8d40a3bbc2cf8ea4f49e70",
            "value": "Map: 100%"
          }
        },
        "0c0bc648ac394a0b8b9996277c54559e": {
          "model_module": "@jupyter-widgets/controls",
          "model_module_version": "1.5.0",
          "model_name": "HBoxModel",
          "state": {
            "_dom_classes": [],
            "_model_module": "@jupyter-widgets/controls",
            "_model_module_version": "1.5.0",
            "_model_name": "HBoxModel",
            "_view_count": null,
            "_view_module": "@jupyter-widgets/controls",
            "_view_module_version": "1.5.0",
            "_view_name": "HBoxView",
            "box_style": "",
            "children": [
              "IPY_MODEL_641610f203ad47e89e0d424ea3330947",
              "IPY_MODEL_fb04e74ad3b34513a9ac950fb3b078c6",
              "IPY_MODEL_ce3167bf55d4424592d723b05d8510e2"
            ],
            "layout": "IPY_MODEL_ee72794cafb44b2d9c7841faf0937a1b"
          }
        },
        "0ea34fa0cced4a1384ffb2b1828c1cbf": {
          "model_module": "@jupyter-widgets/controls",
          "model_module_version": "1.5.0",
          "model_name": "DescriptionStyleModel",
          "state": {
            "_model_module": "@jupyter-widgets/controls",
            "_model_module_version": "1.5.0",
            "_model_name": "DescriptionStyleModel",
            "_view_count": null,
            "_view_module": "@jupyter-widgets/base",
            "_view_module_version": "1.2.0",
            "_view_name": "StyleView",
            "description_width": ""
          }
        },
        "100720d0fdd849aa866d0eb4bf1855f3": {
          "model_module": "@jupyter-widgets/controls",
          "model_module_version": "1.5.0",
          "model_name": "HBoxModel",
          "state": {
            "_dom_classes": [],
            "_model_module": "@jupyter-widgets/controls",
            "_model_module_version": "1.5.0",
            "_model_name": "HBoxModel",
            "_view_count": null,
            "_view_module": "@jupyter-widgets/controls",
            "_view_module_version": "1.5.0",
            "_view_name": "HBoxView",
            "box_style": "",
            "children": [
              "IPY_MODEL_b3edf052b52a4398ae0c5b9082f4794c",
              "IPY_MODEL_1ed04b527a454170a6ca912d4cb666e3",
              "IPY_MODEL_ab0085d9f0754d6485fb2e4ab30babcd"
            ],
            "layout": "IPY_MODEL_05f8ffd9765d4a3586dfa0fef7140a97"
          }
        },
        "107948d6111e48e79c63c302a97a223b": {
          "model_module": "@jupyter-widgets/controls",
          "model_module_version": "1.5.0",
          "model_name": "FloatProgressModel",
          "state": {
            "_dom_classes": [],
            "_model_module": "@jupyter-widgets/controls",
            "_model_module_version": "1.5.0",
            "_model_name": "FloatProgressModel",
            "_view_count": null,
            "_view_module": "@jupyter-widgets/controls",
            "_view_module_version": "1.5.0",
            "_view_name": "ProgressView",
            "bar_style": "success",
            "description": "",
            "description_tooltip": null,
            "layout": "IPY_MODEL_c8e5adcc93a54a76a6764df7773b24bc",
            "max": 378350441,
            "min": 0,
            "orientation": "horizontal",
            "style": "IPY_MODEL_e045d69c8a4e4d76b664c53add4ace78",
            "value": 378350441
          }
        },
        "10be0ec29e164bbfaaae3fe90a528c69": {
          "model_module": "@jupyter-widgets/base",
          "model_module_version": "1.2.0",
          "model_name": "LayoutModel",
          "state": {
            "_model_module": "@jupyter-widgets/base",
            "_model_module_version": "1.2.0",
            "_model_name": "LayoutModel",
            "_view_count": null,
            "_view_module": "@jupyter-widgets/base",
            "_view_module_version": "1.2.0",
            "_view_name": "LayoutView",
            "align_content": null,
            "align_items": null,
            "align_self": null,
            "border": null,
            "bottom": null,
            "display": null,
            "flex": null,
            "flex_flow": null,
            "grid_area": null,
            "grid_auto_columns": null,
            "grid_auto_flow": null,
            "grid_auto_rows": null,
            "grid_column": null,
            "grid_gap": null,
            "grid_row": null,
            "grid_template_areas": null,
            "grid_template_columns": null,
            "grid_template_rows": null,
            "height": null,
            "justify_content": null,
            "justify_items": null,
            "left": null,
            "margin": null,
            "max_height": null,
            "max_width": null,
            "min_height": null,
            "min_width": null,
            "object_fit": null,
            "object_position": null,
            "order": null,
            "overflow": null,
            "overflow_x": null,
            "overflow_y": null,
            "padding": null,
            "right": null,
            "top": null,
            "visibility": null,
            "width": null
          }
        },
        "1341932026364eebbd31b7a4fbe4bd79": {
          "model_module": "@jupyter-widgets/controls",
          "model_module_version": "1.5.0",
          "model_name": "DescriptionStyleModel",
          "state": {
            "_model_module": "@jupyter-widgets/controls",
            "_model_module_version": "1.5.0",
            "_model_name": "DescriptionStyleModel",
            "_view_count": null,
            "_view_module": "@jupyter-widgets/base",
            "_view_module_version": "1.2.0",
            "_view_name": "StyleView",
            "description_width": ""
          }
        },
        "1c89b19f143645b3be8b826c4ac44009": {
          "model_module": "@jupyter-widgets/controls",
          "model_module_version": "1.5.0",
          "model_name": "HBoxModel",
          "state": {
            "_dom_classes": [],
            "_model_module": "@jupyter-widgets/controls",
            "_model_module_version": "1.5.0",
            "_model_name": "HBoxModel",
            "_view_count": null,
            "_view_module": "@jupyter-widgets/controls",
            "_view_module_version": "1.5.0",
            "_view_name": "HBoxView",
            "box_style": "",
            "children": [
              "IPY_MODEL_d679a1053e7a44b1bdd5ed6033ecbe1f",
              "IPY_MODEL_906ad001e50943c184a7189e9ce64e45",
              "IPY_MODEL_db78ad4c5c15409d92060234366cc020"
            ],
            "layout": "IPY_MODEL_f35f6f7462ed49689623204b41901a60"
          }
        },
        "1d4b50cb95994323b5cb4fcf3b085209": {
          "model_module": "@jupyter-widgets/base",
          "model_module_version": "1.2.0",
          "model_name": "LayoutModel",
          "state": {
            "_model_module": "@jupyter-widgets/base",
            "_model_module_version": "1.2.0",
            "_model_name": "LayoutModel",
            "_view_count": null,
            "_view_module": "@jupyter-widgets/base",
            "_view_module_version": "1.2.0",
            "_view_name": "LayoutView",
            "align_content": null,
            "align_items": null,
            "align_self": null,
            "border": null,
            "bottom": null,
            "display": null,
            "flex": null,
            "flex_flow": null,
            "grid_area": null,
            "grid_auto_columns": null,
            "grid_auto_flow": null,
            "grid_auto_rows": null,
            "grid_column": null,
            "grid_gap": null,
            "grid_row": null,
            "grid_template_areas": null,
            "grid_template_columns": null,
            "grid_template_rows": null,
            "height": null,
            "justify_content": null,
            "justify_items": null,
            "left": null,
            "margin": null,
            "max_height": null,
            "max_width": null,
            "min_height": null,
            "min_width": null,
            "object_fit": null,
            "object_position": null,
            "order": null,
            "overflow": null,
            "overflow_x": null,
            "overflow_y": null,
            "padding": null,
            "right": null,
            "top": null,
            "visibility": null,
            "width": null
          }
        },
        "1ed04b527a454170a6ca912d4cb666e3": {
          "model_module": "@jupyter-widgets/controls",
          "model_module_version": "1.5.0",
          "model_name": "FloatProgressModel",
          "state": {
            "_dom_classes": [],
            "_model_module": "@jupyter-widgets/controls",
            "_model_module_version": "1.5.0",
            "_model_name": "FloatProgressModel",
            "_view_count": null,
            "_view_module": "@jupyter-widgets/controls",
            "_view_module_version": "1.5.0",
            "_view_name": "ProgressView",
            "bar_style": "success",
            "description": "",
            "description_tooltip": null,
            "layout": "IPY_MODEL_c93d28a8ea8d4dd886ee9ede5117d1db",
            "max": 4203,
            "min": 0,
            "orientation": "horizontal",
            "style": "IPY_MODEL_b43a3f8c1f6e468fa9dd02d4fe075b63",
            "value": 4203
          }
        },
        "21a6897ad7c0457ba20e1ebef343e825": {
          "model_module": "@jupyter-widgets/controls",
          "model_module_version": "1.5.0",
          "model_name": "FloatProgressModel",
          "state": {
            "_dom_classes": [],
            "_model_module": "@jupyter-widgets/controls",
            "_model_module_version": "1.5.0",
            "_model_name": "FloatProgressModel",
            "_view_count": null,
            "_view_module": "@jupyter-widgets/controls",
            "_view_module_version": "1.5.0",
            "_view_name": "ProgressView",
            "bar_style": "success",
            "description": "",
            "description_tooltip": null,
            "layout": "IPY_MODEL_4136026e441f4a39a6dfd9ecefc41503",
            "max": 159,
            "min": 0,
            "orientation": "horizontal",
            "style": "IPY_MODEL_535c113240784998b49380e9c0122f28",
            "value": 159
          }
        },
        "22f4bf5b86c54057a78372b784ef12f9": {
          "model_module": "@jupyter-widgets/controls",
          "model_module_version": "1.5.0",
          "model_name": "HTMLModel",
          "state": {
            "_dom_classes": [],
            "_model_module": "@jupyter-widgets/controls",
            "_model_module_version": "1.5.0",
            "_model_name": "HTMLModel",
            "_view_count": null,
            "_view_module": "@jupyter-widgets/controls",
            "_view_module_version": "1.5.0",
            "_view_name": "HTMLView",
            "description": "",
            "description_tooltip": null,
            "layout": "IPY_MODEL_af94618e14e445f1910a9ac5a5cec359",
            "placeholder": "​",
            "style": "IPY_MODEL_50479255a15d4050be913f336faa97b8",
            "value": " 400/400 [00:00&lt;00:00, 492.42 examples/s]"
          }
        },
        "278cca09cfd041ebbc3514d8825ad9a1": {
          "model_module": "@jupyter-widgets/controls",
          "model_module_version": "1.5.0",
          "model_name": "FloatProgressModel",
          "state": {
            "_dom_classes": [],
            "_model_module": "@jupyter-widgets/controls",
            "_model_module_version": "1.5.0",
            "_model_name": "FloatProgressModel",
            "_view_count": null,
            "_view_module": "@jupyter-widgets/controls",
            "_view_module_version": "1.5.0",
            "_view_name": "ProgressView",
            "bar_style": "",
            "description": "",
            "description_tooltip": null,
            "layout": "IPY_MODEL_4de1f4f7997647de9b28137dc0f2363e",
            "max": 1999,
            "min": 0,
            "orientation": "horizontal",
            "style": "IPY_MODEL_a0c48f35a2f5433fb47c96c2fd722a2c",
            "value": 1999
          }
        },
        "27928178254e46bc85b7041829ee1818": {
          "model_module": "@jupyter-widgets/base",
          "model_module_version": "1.2.0",
          "model_name": "LayoutModel",
          "state": {
            "_model_module": "@jupyter-widgets/base",
            "_model_module_version": "1.2.0",
            "_model_name": "LayoutModel",
            "_view_count": null,
            "_view_module": "@jupyter-widgets/base",
            "_view_module_version": "1.2.0",
            "_view_name": "LayoutView",
            "align_content": null,
            "align_items": null,
            "align_self": null,
            "border": null,
            "bottom": null,
            "display": null,
            "flex": null,
            "flex_flow": null,
            "grid_area": null,
            "grid_auto_columns": null,
            "grid_auto_flow": null,
            "grid_auto_rows": null,
            "grid_column": null,
            "grid_gap": null,
            "grid_row": null,
            "grid_template_areas": null,
            "grid_template_columns": null,
            "grid_template_rows": null,
            "height": null,
            "justify_content": null,
            "justify_items": null,
            "left": null,
            "margin": null,
            "max_height": null,
            "max_width": null,
            "min_height": null,
            "min_width": null,
            "object_fit": null,
            "object_position": null,
            "order": null,
            "overflow": null,
            "overflow_x": null,
            "overflow_y": null,
            "padding": null,
            "right": null,
            "top": null,
            "visibility": null,
            "width": null
          }
        },
        "2a3fefc48a4643bb848eec2a49d600de": {
          "model_module": "@jupyter-widgets/controls",
          "model_module_version": "1.5.0",
          "model_name": "FloatProgressModel",
          "state": {
            "_dom_classes": [],
            "_model_module": "@jupyter-widgets/controls",
            "_model_module_version": "1.5.0",
            "_model_name": "FloatProgressModel",
            "_view_count": null,
            "_view_module": "@jupyter-widgets/controls",
            "_view_module_version": "1.5.0",
            "_view_name": "ProgressView",
            "bar_style": "success",
            "description": "",
            "description_tooltip": null,
            "layout": "IPY_MODEL_405473d3d9374a9aa96dcce620a51359",
            "max": 380267417,
            "min": 0,
            "orientation": "horizontal",
            "style": "IPY_MODEL_72d8bb87e8cb4d9388624e6ae6fbd0a8",
            "value": 380267417
          }
        },
        "2cdc5ab548e24cf5a868300917cf542c": {
          "model_module": "@jupyter-widgets/base",
          "model_module_version": "1.2.0",
          "model_name": "LayoutModel",
          "state": {
            "_model_module": "@jupyter-widgets/base",
            "_model_module_version": "1.2.0",
            "_model_name": "LayoutModel",
            "_view_count": null,
            "_view_module": "@jupyter-widgets/base",
            "_view_module_version": "1.2.0",
            "_view_name": "LayoutView",
            "align_content": null,
            "align_items": null,
            "align_self": null,
            "border": null,
            "bottom": null,
            "display": null,
            "flex": null,
            "flex_flow": null,
            "grid_area": null,
            "grid_auto_columns": null,
            "grid_auto_flow": null,
            "grid_auto_rows": null,
            "grid_column": null,
            "grid_gap": null,
            "grid_row": null,
            "grid_template_areas": null,
            "grid_template_columns": null,
            "grid_template_rows": null,
            "height": null,
            "justify_content": null,
            "justify_items": null,
            "left": null,
            "margin": null,
            "max_height": null,
            "max_width": null,
            "min_height": null,
            "min_width": null,
            "object_fit": null,
            "object_position": null,
            "order": null,
            "overflow": null,
            "overflow_x": null,
            "overflow_y": null,
            "padding": null,
            "right": null,
            "top": null,
            "visibility": null,
            "width": null
          }
        },
        "2e2c977ac66546c5ac9d01f1376f95ed": {
          "model_module": "@jupyter-widgets/controls",
          "model_module_version": "1.5.0",
          "model_name": "HBoxModel",
          "state": {
            "_dom_classes": [],
            "_model_module": "@jupyter-widgets/controls",
            "_model_module_version": "1.5.0",
            "_model_name": "HBoxModel",
            "_view_count": null,
            "_view_module": "@jupyter-widgets/controls",
            "_view_module_version": "1.5.0",
            "_view_name": "HBoxView",
            "box_style": "",
            "children": [
              "IPY_MODEL_59660f00ff5f411abfd5ec1b4b493c72",
              "IPY_MODEL_107948d6111e48e79c63c302a97a223b",
              "IPY_MODEL_f86673a365834890a3e668994bf542aa"
            ],
            "layout": "IPY_MODEL_1d4b50cb95994323b5cb4fcf3b085209"
          }
        },
        "34220fc721d44adf8f6406a78263c5a9": {
          "model_module": "@jupyter-widgets/controls",
          "model_module_version": "1.5.0",
          "model_name": "DescriptionStyleModel",
          "state": {
            "_model_module": "@jupyter-widgets/controls",
            "_model_module_version": "1.5.0",
            "_model_name": "DescriptionStyleModel",
            "_view_count": null,
            "_view_module": "@jupyter-widgets/base",
            "_view_module_version": "1.2.0",
            "_view_name": "StyleView",
            "description_width": ""
          }
        },
        "36b46fae0e4848c4a1a7c3a94471f6ea": {
          "model_module": "@jupyter-widgets/controls",
          "model_module_version": "1.5.0",
          "model_name": "DescriptionStyleModel",
          "state": {
            "_model_module": "@jupyter-widgets/controls",
            "_model_module_version": "1.5.0",
            "_model_name": "DescriptionStyleModel",
            "_view_count": null,
            "_view_module": "@jupyter-widgets/base",
            "_view_module_version": "1.2.0",
            "_view_name": "StyleView",
            "description_width": ""
          }
        },
        "3a671ba7caa64cf98526652a5791c525": {
          "model_module": "@jupyter-widgets/controls",
          "model_module_version": "1.5.0",
          "model_name": "ProgressStyleModel",
          "state": {
            "_model_module": "@jupyter-widgets/controls",
            "_model_module_version": "1.5.0",
            "_model_name": "ProgressStyleModel",
            "_view_count": null,
            "_view_module": "@jupyter-widgets/base",
            "_view_module_version": "1.2.0",
            "_view_name": "StyleView",
            "bar_color": null,
            "description_width": ""
          }
        },
        "3e92653cbb904f63aaddbd9728015edd": {
          "model_module": "@jupyter-widgets/controls",
          "model_module_version": "1.5.0",
          "model_name": "DescriptionStyleModel",
          "state": {
            "_model_module": "@jupyter-widgets/controls",
            "_model_module_version": "1.5.0",
            "_model_name": "DescriptionStyleModel",
            "_view_count": null,
            "_view_module": "@jupyter-widgets/base",
            "_view_module_version": "1.2.0",
            "_view_name": "StyleView",
            "description_width": ""
          }
        },
        "405473d3d9374a9aa96dcce620a51359": {
          "model_module": "@jupyter-widgets/base",
          "model_module_version": "1.2.0",
          "model_name": "LayoutModel",
          "state": {
            "_model_module": "@jupyter-widgets/base",
            "_model_module_version": "1.2.0",
            "_model_name": "LayoutModel",
            "_view_count": null,
            "_view_module": "@jupyter-widgets/base",
            "_view_module_version": "1.2.0",
            "_view_name": "LayoutView",
            "align_content": null,
            "align_items": null,
            "align_self": null,
            "border": null,
            "bottom": null,
            "display": null,
            "flex": null,
            "flex_flow": null,
            "grid_area": null,
            "grid_auto_columns": null,
            "grid_auto_flow": null,
            "grid_auto_rows": null,
            "grid_column": null,
            "grid_gap": null,
            "grid_row": null,
            "grid_template_areas": null,
            "grid_template_columns": null,
            "grid_template_rows": null,
            "height": null,
            "justify_content": null,
            "justify_items": null,
            "left": null,
            "margin": null,
            "max_height": null,
            "max_width": null,
            "min_height": null,
            "min_width": null,
            "object_fit": null,
            "object_position": null,
            "order": null,
            "overflow": null,
            "overflow_x": null,
            "overflow_y": null,
            "padding": null,
            "right": null,
            "top": null,
            "visibility": null,
            "width": null
          }
        },
        "4136026e441f4a39a6dfd9ecefc41503": {
          "model_module": "@jupyter-widgets/base",
          "model_module_version": "1.2.0",
          "model_name": "LayoutModel",
          "state": {
            "_model_module": "@jupyter-widgets/base",
            "_model_module_version": "1.2.0",
            "_model_name": "LayoutModel",
            "_view_count": null,
            "_view_module": "@jupyter-widgets/base",
            "_view_module_version": "1.2.0",
            "_view_name": "LayoutView",
            "align_content": null,
            "align_items": null,
            "align_self": null,
            "border": null,
            "bottom": null,
            "display": null,
            "flex": null,
            "flex_flow": null,
            "grid_area": null,
            "grid_auto_columns": null,
            "grid_auto_flow": null,
            "grid_auto_rows": null,
            "grid_column": null,
            "grid_gap": null,
            "grid_row": null,
            "grid_template_areas": null,
            "grid_template_columns": null,
            "grid_template_rows": null,
            "height": null,
            "justify_content": null,
            "justify_items": null,
            "left": null,
            "margin": null,
            "max_height": null,
            "max_width": null,
            "min_height": null,
            "min_width": null,
            "object_fit": null,
            "object_position": null,
            "order": null,
            "overflow": null,
            "overflow_x": null,
            "overflow_y": null,
            "padding": null,
            "right": null,
            "top": null,
            "visibility": null,
            "width": null
          }
        },
        "424633447f784bee9a7047a14ef8e125": {
          "model_module": "@jupyter-widgets/controls",
          "model_module_version": "1.5.0",
          "model_name": "DescriptionStyleModel",
          "state": {
            "_model_module": "@jupyter-widgets/controls",
            "_model_module_version": "1.5.0",
            "_model_name": "DescriptionStyleModel",
            "_view_count": null,
            "_view_module": "@jupyter-widgets/base",
            "_view_module_version": "1.2.0",
            "_view_name": "StyleView",
            "description_width": ""
          }
        },
        "4990f00dfa294ef9a709f1f17120a86d": {
          "model_module": "@jupyter-widgets/base",
          "model_module_version": "1.2.0",
          "model_name": "LayoutModel",
          "state": {
            "_model_module": "@jupyter-widgets/base",
            "_model_module_version": "1.2.0",
            "_model_name": "LayoutModel",
            "_view_count": null,
            "_view_module": "@jupyter-widgets/base",
            "_view_module_version": "1.2.0",
            "_view_name": "LayoutView",
            "align_content": null,
            "align_items": null,
            "align_self": null,
            "border": null,
            "bottom": null,
            "display": null,
            "flex": null,
            "flex_flow": null,
            "grid_area": null,
            "grid_auto_columns": null,
            "grid_auto_flow": null,
            "grid_auto_rows": null,
            "grid_column": null,
            "grid_gap": null,
            "grid_row": null,
            "grid_template_areas": null,
            "grid_template_columns": null,
            "grid_template_rows": null,
            "height": null,
            "justify_content": null,
            "justify_items": null,
            "left": null,
            "margin": null,
            "max_height": null,
            "max_width": null,
            "min_height": null,
            "min_width": null,
            "object_fit": null,
            "object_position": null,
            "order": null,
            "overflow": null,
            "overflow_x": null,
            "overflow_y": null,
            "padding": null,
            "right": null,
            "top": null,
            "visibility": null,
            "width": null
          }
        },
        "49b232bf97474d9181d353994bdc407c": {
          "model_module": "@jupyter-widgets/base",
          "model_module_version": "1.2.0",
          "model_name": "LayoutModel",
          "state": {
            "_model_module": "@jupyter-widgets/base",
            "_model_module_version": "1.2.0",
            "_model_name": "LayoutModel",
            "_view_count": null,
            "_view_module": "@jupyter-widgets/base",
            "_view_module_version": "1.2.0",
            "_view_name": "LayoutView",
            "align_content": null,
            "align_items": null,
            "align_self": null,
            "border": null,
            "bottom": null,
            "display": null,
            "flex": null,
            "flex_flow": null,
            "grid_area": null,
            "grid_auto_columns": null,
            "grid_auto_flow": null,
            "grid_auto_rows": null,
            "grid_column": null,
            "grid_gap": null,
            "grid_row": null,
            "grid_template_areas": null,
            "grid_template_columns": null,
            "grid_template_rows": null,
            "height": null,
            "justify_content": null,
            "justify_items": null,
            "left": null,
            "margin": null,
            "max_height": null,
            "max_width": null,
            "min_height": null,
            "min_width": null,
            "object_fit": null,
            "object_position": null,
            "order": null,
            "overflow": null,
            "overflow_x": null,
            "overflow_y": null,
            "padding": null,
            "right": null,
            "top": null,
            "visibility": null,
            "width": null
          }
        },
        "4c936ff1317549a5bd39081174e7e129": {
          "model_module": "@jupyter-widgets/base",
          "model_module_version": "1.2.0",
          "model_name": "LayoutModel",
          "state": {
            "_model_module": "@jupyter-widgets/base",
            "_model_module_version": "1.2.0",
            "_model_name": "LayoutModel",
            "_view_count": null,
            "_view_module": "@jupyter-widgets/base",
            "_view_module_version": "1.2.0",
            "_view_name": "LayoutView",
            "align_content": null,
            "align_items": null,
            "align_self": null,
            "border": null,
            "bottom": null,
            "display": null,
            "flex": null,
            "flex_flow": null,
            "grid_area": null,
            "grid_auto_columns": null,
            "grid_auto_flow": null,
            "grid_auto_rows": null,
            "grid_column": null,
            "grid_gap": null,
            "grid_row": null,
            "grid_template_areas": null,
            "grid_template_columns": null,
            "grid_template_rows": null,
            "height": null,
            "justify_content": null,
            "justify_items": null,
            "left": null,
            "margin": null,
            "max_height": null,
            "max_width": null,
            "min_height": null,
            "min_width": null,
            "object_fit": null,
            "object_position": null,
            "order": null,
            "overflow": null,
            "overflow_x": null,
            "overflow_y": null,
            "padding": null,
            "right": null,
            "top": null,
            "visibility": null,
            "width": null
          }
        },
        "4d215d92195a479fae8e154f7dfba7f4": {
          "model_module": "@jupyter-widgets/controls",
          "model_module_version": "1.5.0",
          "model_name": "DescriptionStyleModel",
          "state": {
            "_model_module": "@jupyter-widgets/controls",
            "_model_module_version": "1.5.0",
            "_model_name": "DescriptionStyleModel",
            "_view_count": null,
            "_view_module": "@jupyter-widgets/base",
            "_view_module_version": "1.2.0",
            "_view_name": "StyleView",
            "description_width": ""
          }
        },
        "4de1f4f7997647de9b28137dc0f2363e": {
          "model_module": "@jupyter-widgets/base",
          "model_module_version": "1.2.0",
          "model_name": "LayoutModel",
          "state": {
            "_model_module": "@jupyter-widgets/base",
            "_model_module_version": "1.2.0",
            "_model_name": "LayoutModel",
            "_view_count": null,
            "_view_module": "@jupyter-widgets/base",
            "_view_module_version": "1.2.0",
            "_view_name": "LayoutView",
            "align_content": null,
            "align_items": null,
            "align_self": null,
            "border": null,
            "bottom": null,
            "display": null,
            "flex": null,
            "flex_flow": null,
            "grid_area": null,
            "grid_auto_columns": null,
            "grid_auto_flow": null,
            "grid_auto_rows": null,
            "grid_column": null,
            "grid_gap": null,
            "grid_row": null,
            "grid_template_areas": null,
            "grid_template_columns": null,
            "grid_template_rows": null,
            "height": null,
            "justify_content": null,
            "justify_items": null,
            "left": null,
            "margin": null,
            "max_height": null,
            "max_width": null,
            "min_height": null,
            "min_width": null,
            "object_fit": null,
            "object_position": null,
            "order": null,
            "overflow": null,
            "overflow_x": null,
            "overflow_y": null,
            "padding": null,
            "right": null,
            "top": null,
            "visibility": null,
            "width": null
          }
        },
        "50479255a15d4050be913f336faa97b8": {
          "model_module": "@jupyter-widgets/controls",
          "model_module_version": "1.5.0",
          "model_name": "DescriptionStyleModel",
          "state": {
            "_model_module": "@jupyter-widgets/controls",
            "_model_module_version": "1.5.0",
            "_model_name": "DescriptionStyleModel",
            "_view_count": null,
            "_view_module": "@jupyter-widgets/base",
            "_view_module_version": "1.2.0",
            "_view_name": "StyleView",
            "description_width": ""
          }
        },
        "535c113240784998b49380e9c0122f28": {
          "model_module": "@jupyter-widgets/controls",
          "model_module_version": "1.5.0",
          "model_name": "ProgressStyleModel",
          "state": {
            "_model_module": "@jupyter-widgets/controls",
            "_model_module_version": "1.5.0",
            "_model_name": "ProgressStyleModel",
            "_view_count": null,
            "_view_module": "@jupyter-widgets/base",
            "_view_module_version": "1.2.0",
            "_view_name": "StyleView",
            "bar_color": null,
            "description_width": ""
          }
        },
        "5602b9cb683a4b8187c7999454d78500": {
          "model_module": "@jupyter-widgets/controls",
          "model_module_version": "1.5.0",
          "model_name": "HBoxModel",
          "state": {
            "_dom_classes": [],
            "_model_module": "@jupyter-widgets/controls",
            "_model_module_version": "1.5.0",
            "_model_name": "HBoxModel",
            "_view_count": null,
            "_view_module": "@jupyter-widgets/controls",
            "_view_module_version": "1.5.0",
            "_view_name": "HBoxView",
            "box_style": "",
            "children": [
              "IPY_MODEL_a12e0d337fc64b0cbcc55c7b85716641",
              "IPY_MODEL_278cca09cfd041ebbc3514d8825ad9a1",
              "IPY_MODEL_aba283f75c644f858edb5280c72bf364"
            ],
            "layout": "IPY_MODEL_6efb3260ec7241f4b1ea8e5d55b14488"
          }
        },
        "59660f00ff5f411abfd5ec1b4b493c72": {
          "model_module": "@jupyter-widgets/controls",
          "model_module_version": "1.5.0",
          "model_name": "HTMLModel",
          "state": {
            "_dom_classes": [],
            "_model_module": "@jupyter-widgets/controls",
            "_model_module_version": "1.5.0",
            "_model_name": "HTMLModel",
            "_view_count": null,
            "_view_module": "@jupyter-widgets/controls",
            "_view_module_version": "1.5.0",
            "_view_name": "HTMLView",
            "description": "",
            "description_tooltip": null,
            "layout": "IPY_MODEL_4990f00dfa294ef9a709f1f17120a86d",
            "placeholder": "​",
            "style": "IPY_MODEL_d1821b8e0eaa42a58b2963135ce92913",
            "value": "Downloading pytorch_model.bin: 100%"
          }
        },
        "5accf8ec3beb4791aaf82c1ba0cbf217": {
          "model_module": "@jupyter-widgets/controls",
          "model_module_version": "1.5.0",
          "model_name": "DescriptionStyleModel",
          "state": {
            "_model_module": "@jupyter-widgets/controls",
            "_model_module_version": "1.5.0",
            "_model_name": "DescriptionStyleModel",
            "_view_count": null,
            "_view_module": "@jupyter-widgets/base",
            "_view_module_version": "1.2.0",
            "_view_name": "StyleView",
            "description_width": ""
          }
        },
        "5e0aaeb03b3147fcb7bb184b976279f2": {
          "model_module": "@jupyter-widgets/controls",
          "model_module_version": "1.5.0",
          "model_name": "DescriptionStyleModel",
          "state": {
            "_model_module": "@jupyter-widgets/controls",
            "_model_module_version": "1.5.0",
            "_model_name": "DescriptionStyleModel",
            "_view_count": null,
            "_view_module": "@jupyter-widgets/base",
            "_view_module_version": "1.2.0",
            "_view_name": "StyleView",
            "description_width": ""
          }
        },
        "5ff21c6a016d4cbd968c3f2048d676a6": {
          "model_module": "@jupyter-widgets/controls",
          "model_module_version": "1.5.0",
          "model_name": "HTMLModel",
          "state": {
            "_dom_classes": [],
            "_model_module": "@jupyter-widgets/controls",
            "_model_module_version": "1.5.0",
            "_model_name": "HTMLModel",
            "_view_count": null,
            "_view_module": "@jupyter-widgets/controls",
            "_view_module_version": "1.5.0",
            "_view_name": "HTMLView",
            "description": "",
            "description_tooltip": null,
            "layout": "IPY_MODEL_874a0a7f32634a9a98945e92d9147773",
            "placeholder": "​",
            "style": "IPY_MODEL_36b46fae0e4848c4a1a7c3a94471f6ea",
            "value": "Downloading (…)rocessor_config.json: 100%"
          }
        },
        "6180b86251b244dbbe8798af9a46bd64": {
          "model_module": "@jupyter-widgets/base",
          "model_module_version": "1.2.0",
          "model_name": "LayoutModel",
          "state": {
            "_model_module": "@jupyter-widgets/base",
            "_model_module_version": "1.2.0",
            "_model_name": "LayoutModel",
            "_view_count": null,
            "_view_module": "@jupyter-widgets/base",
            "_view_module_version": "1.2.0",
            "_view_name": "LayoutView",
            "align_content": null,
            "align_items": null,
            "align_self": null,
            "border": null,
            "bottom": null,
            "display": null,
            "flex": null,
            "flex_flow": null,
            "grid_area": null,
            "grid_auto_columns": null,
            "grid_auto_flow": null,
            "grid_auto_rows": null,
            "grid_column": null,
            "grid_gap": null,
            "grid_row": null,
            "grid_template_areas": null,
            "grid_template_columns": null,
            "grid_template_rows": null,
            "height": null,
            "justify_content": null,
            "justify_items": null,
            "left": null,
            "margin": null,
            "max_height": null,
            "max_width": null,
            "min_height": null,
            "min_width": null,
            "object_fit": null,
            "object_position": null,
            "order": null,
            "overflow": null,
            "overflow_x": null,
            "overflow_y": null,
            "padding": null,
            "right": null,
            "top": null,
            "visibility": null,
            "width": null
          }
        },
        "641610f203ad47e89e0d424ea3330947": {
          "model_module": "@jupyter-widgets/controls",
          "model_module_version": "1.5.0",
          "model_name": "HTMLModel",
          "state": {
            "_dom_classes": [],
            "_model_module": "@jupyter-widgets/controls",
            "_model_module_version": "1.5.0",
            "_model_name": "HTMLModel",
            "_view_count": null,
            "_view_module": "@jupyter-widgets/controls",
            "_view_module_version": "1.5.0",
            "_view_name": "HTMLView",
            "description": "",
            "description_tooltip": null,
            "layout": "IPY_MODEL_942d2a678e5f456faa6a48fee30de1b9",
            "placeholder": "​",
            "style": "IPY_MODEL_a8ea30d1b1f54a2cb503568f05d08c6c",
            "value": "Downloading (…)lve/main/config.json: 100%"
          }
        },
        "6d9f004e2c4d4588b768d08ffdcd0e9d": {
          "model_module": "@jupyter-widgets/controls",
          "model_module_version": "1.5.0",
          "model_name": "HBoxModel",
          "state": {
            "_dom_classes": [],
            "_model_module": "@jupyter-widgets/controls",
            "_model_module_version": "1.5.0",
            "_model_name": "HBoxModel",
            "_view_count": null,
            "_view_module": "@jupyter-widgets/controls",
            "_view_module_version": "1.5.0",
            "_view_name": "HBoxView",
            "box_style": "",
            "children": [
              "IPY_MODEL_5ff21c6a016d4cbd968c3f2048d676a6",
              "IPY_MODEL_21a6897ad7c0457ba20e1ebef343e825",
              "IPY_MODEL_a9f91fd9a2ff4f4aa205bb4794e968ac"
            ],
            "layout": "IPY_MODEL_d1c7aece9433453b8d34adc6a0534b4e"
          }
        },
        "6ed8a89409db418eaef8e7a800227792": {
          "model_module": "@jupyter-widgets/base",
          "model_module_version": "1.2.0",
          "model_name": "LayoutModel",
          "state": {
            "_model_module": "@jupyter-widgets/base",
            "_model_module_version": "1.2.0",
            "_model_name": "LayoutModel",
            "_view_count": null,
            "_view_module": "@jupyter-widgets/base",
            "_view_module_version": "1.2.0",
            "_view_name": "LayoutView",
            "align_content": null,
            "align_items": null,
            "align_self": null,
            "border": null,
            "bottom": null,
            "display": null,
            "flex": null,
            "flex_flow": null,
            "grid_area": null,
            "grid_auto_columns": null,
            "grid_auto_flow": null,
            "grid_auto_rows": null,
            "grid_column": null,
            "grid_gap": null,
            "grid_row": null,
            "grid_template_areas": null,
            "grid_template_columns": null,
            "grid_template_rows": null,
            "height": null,
            "justify_content": null,
            "justify_items": null,
            "left": null,
            "margin": null,
            "max_height": null,
            "max_width": null,
            "min_height": null,
            "min_width": null,
            "object_fit": null,
            "object_position": null,
            "order": null,
            "overflow": null,
            "overflow_x": null,
            "overflow_y": null,
            "padding": null,
            "right": null,
            "top": null,
            "visibility": null,
            "width": null
          }
        },
        "6efb3260ec7241f4b1ea8e5d55b14488": {
          "model_module": "@jupyter-widgets/base",
          "model_module_version": "1.2.0",
          "model_name": "LayoutModel",
          "state": {
            "_model_module": "@jupyter-widgets/base",
            "_model_module_version": "1.2.0",
            "_model_name": "LayoutModel",
            "_view_count": null,
            "_view_module": "@jupyter-widgets/base",
            "_view_module_version": "1.2.0",
            "_view_name": "LayoutView",
            "align_content": null,
            "align_items": null,
            "align_self": null,
            "border": null,
            "bottom": null,
            "display": null,
            "flex": null,
            "flex_flow": null,
            "grid_area": null,
            "grid_auto_columns": null,
            "grid_auto_flow": null,
            "grid_auto_rows": null,
            "grid_column": null,
            "grid_gap": null,
            "grid_row": null,
            "grid_template_areas": null,
            "grid_template_columns": null,
            "grid_template_rows": null,
            "height": null,
            "justify_content": null,
            "justify_items": null,
            "left": null,
            "margin": null,
            "max_height": null,
            "max_width": null,
            "min_height": null,
            "min_width": null,
            "object_fit": null,
            "object_position": null,
            "order": null,
            "overflow": null,
            "overflow_x": null,
            "overflow_y": null,
            "padding": null,
            "right": null,
            "top": null,
            "visibility": "hidden",
            "width": null
          }
        },
        "72d8bb87e8cb4d9388624e6ae6fbd0a8": {
          "model_module": "@jupyter-widgets/controls",
          "model_module_version": "1.5.0",
          "model_name": "ProgressStyleModel",
          "state": {
            "_model_module": "@jupyter-widgets/controls",
            "_model_module_version": "1.5.0",
            "_model_name": "ProgressStyleModel",
            "_view_count": null,
            "_view_module": "@jupyter-widgets/base",
            "_view_module_version": "1.2.0",
            "_view_name": "StyleView",
            "bar_color": null,
            "description_width": ""
          }
        },
        "77c7e835829f4122939843c38f2da18e": {
          "model_module": "@jupyter-widgets/base",
          "model_module_version": "1.2.0",
          "model_name": "LayoutModel",
          "state": {
            "_model_module": "@jupyter-widgets/base",
            "_model_module_version": "1.2.0",
            "_model_name": "LayoutModel",
            "_view_count": null,
            "_view_module": "@jupyter-widgets/base",
            "_view_module_version": "1.2.0",
            "_view_name": "LayoutView",
            "align_content": null,
            "align_items": null,
            "align_self": null,
            "border": null,
            "bottom": null,
            "display": null,
            "flex": null,
            "flex_flow": null,
            "grid_area": null,
            "grid_auto_columns": null,
            "grid_auto_flow": null,
            "grid_auto_rows": null,
            "grid_column": null,
            "grid_gap": null,
            "grid_row": null,
            "grid_template_areas": null,
            "grid_template_columns": null,
            "grid_template_rows": null,
            "height": null,
            "justify_content": null,
            "justify_items": null,
            "left": null,
            "margin": null,
            "max_height": null,
            "max_width": null,
            "min_height": null,
            "min_width": null,
            "object_fit": null,
            "object_position": null,
            "order": null,
            "overflow": null,
            "overflow_x": null,
            "overflow_y": null,
            "padding": null,
            "right": null,
            "top": null,
            "visibility": null,
            "width": null
          }
        },
        "77ffba5dc9964d15806e8c290f15a8aa": {
          "model_module": "@jupyter-widgets/base",
          "model_module_version": "1.2.0",
          "model_name": "LayoutModel",
          "state": {
            "_model_module": "@jupyter-widgets/base",
            "_model_module_version": "1.2.0",
            "_model_name": "LayoutModel",
            "_view_count": null,
            "_view_module": "@jupyter-widgets/base",
            "_view_module_version": "1.2.0",
            "_view_name": "LayoutView",
            "align_content": null,
            "align_items": null,
            "align_self": null,
            "border": null,
            "bottom": null,
            "display": null,
            "flex": null,
            "flex_flow": null,
            "grid_area": null,
            "grid_auto_columns": null,
            "grid_auto_flow": null,
            "grid_auto_rows": null,
            "grid_column": null,
            "grid_gap": null,
            "grid_row": null,
            "grid_template_areas": null,
            "grid_template_columns": null,
            "grid_template_rows": null,
            "height": null,
            "justify_content": null,
            "justify_items": null,
            "left": null,
            "margin": null,
            "max_height": null,
            "max_width": null,
            "min_height": null,
            "min_width": null,
            "object_fit": null,
            "object_position": null,
            "order": null,
            "overflow": null,
            "overflow_x": null,
            "overflow_y": null,
            "padding": null,
            "right": null,
            "top": null,
            "visibility": null,
            "width": null
          }
        },
        "7c5f2c39e01c4cc0b4826b2886dd866c": {
          "model_module": "@jupyter-widgets/controls",
          "model_module_version": "1.5.0",
          "model_name": "HTMLModel",
          "state": {
            "_dom_classes": [],
            "_model_module": "@jupyter-widgets/controls",
            "_model_module_version": "1.5.0",
            "_model_name": "HTMLModel",
            "_view_count": null,
            "_view_module": "@jupyter-widgets/controls",
            "_view_module_version": "1.5.0",
            "_view_name": "HTMLView",
            "description": "",
            "description_tooltip": null,
            "layout": "IPY_MODEL_bce6a9ee1db846b59287f872992f3573",
            "placeholder": "​",
            "style": "IPY_MODEL_0ea34fa0cced4a1384ffb2b1828c1cbf",
            "value": " 11.0k/11.0k [00:01&lt;00:00, 15.7MB/s]"
          }
        },
        "7cb47ba948e74201a9f27cca2b83c500": {
          "model_module": "@jupyter-widgets/controls",
          "model_module_version": "1.5.0",
          "model_name": "ProgressStyleModel",
          "state": {
            "_model_module": "@jupyter-widgets/controls",
            "_model_module_version": "1.5.0",
            "_model_name": "ProgressStyleModel",
            "_view_count": null,
            "_view_module": "@jupyter-widgets/base",
            "_view_module_version": "1.2.0",
            "_view_name": "StyleView",
            "bar_color": null,
            "description_width": ""
          }
        },
        "7e43ac3ee56b47ef879dd4fb0f53eb09": {
          "model_module": "@jupyter-widgets/controls",
          "model_module_version": "1.5.0",
          "model_name": "HTMLModel",
          "state": {
            "_dom_classes": [],
            "_model_module": "@jupyter-widgets/controls",
            "_model_module_version": "1.5.0",
            "_model_name": "HTMLModel",
            "_view_count": null,
            "_view_module": "@jupyter-widgets/controls",
            "_view_module_version": "1.5.0",
            "_view_name": "HTMLView",
            "description": "",
            "description_tooltip": null,
            "layout": "IPY_MODEL_27928178254e46bc85b7041829ee1818",
            "placeholder": "​",
            "style": "IPY_MODEL_34220fc721d44adf8f6406a78263c5a9",
            "value": "Downloading (…)rocessor_config.json: 100%"
          }
        },
        "7ee412ebdd8d4f8aad166175a1a47fa3": {
          "model_module": "@jupyter-widgets/base",
          "model_module_version": "1.2.0",
          "model_name": "LayoutModel",
          "state": {
            "_model_module": "@jupyter-widgets/base",
            "_model_module_version": "1.2.0",
            "_model_name": "LayoutModel",
            "_view_count": null,
            "_view_module": "@jupyter-widgets/base",
            "_view_module_version": "1.2.0",
            "_view_name": "LayoutView",
            "align_content": null,
            "align_items": null,
            "align_self": null,
            "border": null,
            "bottom": null,
            "display": null,
            "flex": null,
            "flex_flow": null,
            "grid_area": null,
            "grid_auto_columns": null,
            "grid_auto_flow": null,
            "grid_auto_rows": null,
            "grid_column": null,
            "grid_gap": null,
            "grid_row": null,
            "grid_template_areas": null,
            "grid_template_columns": null,
            "grid_template_rows": null,
            "height": null,
            "justify_content": null,
            "justify_items": null,
            "left": null,
            "margin": null,
            "max_height": null,
            "max_width": null,
            "min_height": null,
            "min_width": null,
            "object_fit": null,
            "object_position": null,
            "order": null,
            "overflow": null,
            "overflow_x": null,
            "overflow_y": null,
            "padding": null,
            "right": null,
            "top": null,
            "visibility": null,
            "width": null
          }
        },
        "82d6a1754d134e00b3644fd8f21f8bbd": {
          "model_module": "@jupyter-widgets/controls",
          "model_module_version": "1.5.0",
          "model_name": "FloatProgressModel",
          "state": {
            "_dom_classes": [],
            "_model_module": "@jupyter-widgets/controls",
            "_model_module_version": "1.5.0",
            "_model_name": "FloatProgressModel",
            "_view_count": null,
            "_view_module": "@jupyter-widgets/controls",
            "_view_module_version": "1.5.0",
            "_view_name": "ProgressView",
            "bar_style": "success",
            "description": "",
            "description_tooltip": null,
            "layout": "IPY_MODEL_2cdc5ab548e24cf5a868300917cf542c",
            "max": 215,
            "min": 0,
            "orientation": "horizontal",
            "style": "IPY_MODEL_7cb47ba948e74201a9f27cca2b83c500",
            "value": 215
          }
        },
        "845c7bb0527e4f4d88f1ec587206b13f": {
          "model_module": "@jupyter-widgets/controls",
          "model_module_version": "1.5.0",
          "model_name": "ProgressStyleModel",
          "state": {
            "_model_module": "@jupyter-widgets/controls",
            "_model_module_version": "1.5.0",
            "_model_name": "ProgressStyleModel",
            "_view_count": null,
            "_view_module": "@jupyter-widgets/base",
            "_view_module_version": "1.2.0",
            "_view_name": "StyleView",
            "bar_color": null,
            "description_width": ""
          }
        },
        "84cc51caac5745a79dab00a71980bc03": {
          "model_module": "@jupyter-widgets/controls",
          "model_module_version": "1.5.0",
          "model_name": "DescriptionStyleModel",
          "state": {
            "_model_module": "@jupyter-widgets/controls",
            "_model_module_version": "1.5.0",
            "_model_name": "DescriptionStyleModel",
            "_view_count": null,
            "_view_module": "@jupyter-widgets/base",
            "_view_module_version": "1.2.0",
            "_view_name": "StyleView",
            "description_width": ""
          }
        },
        "874a0a7f32634a9a98945e92d9147773": {
          "model_module": "@jupyter-widgets/base",
          "model_module_version": "1.2.0",
          "model_name": "LayoutModel",
          "state": {
            "_model_module": "@jupyter-widgets/base",
            "_model_module_version": "1.2.0",
            "_model_name": "LayoutModel",
            "_view_count": null,
            "_view_module": "@jupyter-widgets/base",
            "_view_module_version": "1.2.0",
            "_view_name": "LayoutView",
            "align_content": null,
            "align_items": null,
            "align_self": null,
            "border": null,
            "bottom": null,
            "display": null,
            "flex": null,
            "flex_flow": null,
            "grid_area": null,
            "grid_auto_columns": null,
            "grid_auto_flow": null,
            "grid_auto_rows": null,
            "grid_column": null,
            "grid_gap": null,
            "grid_row": null,
            "grid_template_areas": null,
            "grid_template_columns": null,
            "grid_template_rows": null,
            "height": null,
            "justify_content": null,
            "justify_items": null,
            "left": null,
            "margin": null,
            "max_height": null,
            "max_width": null,
            "min_height": null,
            "min_width": null,
            "object_fit": null,
            "object_position": null,
            "order": null,
            "overflow": null,
            "overflow_x": null,
            "overflow_y": null,
            "padding": null,
            "right": null,
            "top": null,
            "visibility": null,
            "width": null
          }
        },
        "89d0bff28f9c4cd29ec8e597519a758d": {
          "model_module": "@jupyter-widgets/base",
          "model_module_version": "1.2.0",
          "model_name": "LayoutModel",
          "state": {
            "_model_module": "@jupyter-widgets/base",
            "_model_module_version": "1.2.0",
            "_model_name": "LayoutModel",
            "_view_count": null,
            "_view_module": "@jupyter-widgets/base",
            "_view_module_version": "1.2.0",
            "_view_name": "LayoutView",
            "align_content": null,
            "align_items": null,
            "align_self": null,
            "border": null,
            "bottom": null,
            "display": null,
            "flex": null,
            "flex_flow": null,
            "grid_area": null,
            "grid_auto_columns": null,
            "grid_auto_flow": null,
            "grid_auto_rows": null,
            "grid_column": null,
            "grid_gap": null,
            "grid_row": null,
            "grid_template_areas": null,
            "grid_template_columns": null,
            "grid_template_rows": null,
            "height": null,
            "justify_content": null,
            "justify_items": null,
            "left": null,
            "margin": null,
            "max_height": null,
            "max_width": null,
            "min_height": null,
            "min_width": null,
            "object_fit": null,
            "object_position": null,
            "order": null,
            "overflow": null,
            "overflow_x": null,
            "overflow_y": null,
            "padding": null,
            "right": null,
            "top": null,
            "visibility": null,
            "width": null
          }
        },
        "8c98c2c207d244e6a6481c0ed6876c01": {
          "model_module": "@jupyter-widgets/controls",
          "model_module_version": "1.5.0",
          "model_name": "ProgressStyleModel",
          "state": {
            "_model_module": "@jupyter-widgets/controls",
            "_model_module_version": "1.5.0",
            "_model_name": "ProgressStyleModel",
            "_view_count": null,
            "_view_module": "@jupyter-widgets/base",
            "_view_module_version": "1.2.0",
            "_view_name": "StyleView",
            "bar_color": null,
            "description_width": ""
          }
        },
        "905c20dff3174cdda721d8fb4fb61938": {
          "model_module": "@jupyter-widgets/controls",
          "model_module_version": "1.5.0",
          "model_name": "DescriptionStyleModel",
          "state": {
            "_model_module": "@jupyter-widgets/controls",
            "_model_module_version": "1.5.0",
            "_model_name": "DescriptionStyleModel",
            "_view_count": null,
            "_view_module": "@jupyter-widgets/base",
            "_view_module_version": "1.2.0",
            "_view_name": "StyleView",
            "description_width": ""
          }
        },
        "906ad001e50943c184a7189e9ce64e45": {
          "model_module": "@jupyter-widgets/controls",
          "model_module_version": "1.5.0",
          "model_name": "FloatProgressModel",
          "state": {
            "_dom_classes": [],
            "_model_module": "@jupyter-widgets/controls",
            "_model_module_version": "1.5.0",
            "_model_name": "FloatProgressModel",
            "_view_count": null,
            "_view_module": "@jupyter-widgets/controls",
            "_view_module_version": "1.5.0",
            "_view_name": "ProgressView",
            "bar_style": "success",
            "description": "",
            "description_tooltip": null,
            "layout": "IPY_MODEL_d3f779cf7102450e92950627b97b15cb",
            "max": 1842,
            "min": 0,
            "orientation": "horizontal",
            "style": "IPY_MODEL_8c98c2c207d244e6a6481c0ed6876c01",
            "value": 1842
          }
        },
        "942d2a678e5f456faa6a48fee30de1b9": {
          "model_module": "@jupyter-widgets/base",
          "model_module_version": "1.2.0",
          "model_name": "LayoutModel",
          "state": {
            "_model_module": "@jupyter-widgets/base",
            "_model_module_version": "1.2.0",
            "_model_name": "LayoutModel",
            "_view_count": null,
            "_view_module": "@jupyter-widgets/base",
            "_view_module_version": "1.2.0",
            "_view_name": "LayoutView",
            "align_content": null,
            "align_items": null,
            "align_self": null,
            "border": null,
            "bottom": null,
            "display": null,
            "flex": null,
            "flex_flow": null,
            "grid_area": null,
            "grid_auto_columns": null,
            "grid_auto_flow": null,
            "grid_auto_rows": null,
            "grid_column": null,
            "grid_gap": null,
            "grid_row": null,
            "grid_template_areas": null,
            "grid_template_columns": null,
            "grid_template_rows": null,
            "height": null,
            "justify_content": null,
            "justify_items": null,
            "left": null,
            "margin": null,
            "max_height": null,
            "max_width": null,
            "min_height": null,
            "min_width": null,
            "object_fit": null,
            "object_position": null,
            "order": null,
            "overflow": null,
            "overflow_x": null,
            "overflow_y": null,
            "padding": null,
            "right": null,
            "top": null,
            "visibility": null,
            "width": null
          }
        },
        "9fbcb4a3ecdb4d2b941446e647dc0a8f": {
          "model_module": "@jupyter-widgets/base",
          "model_module_version": "1.2.0",
          "model_name": "LayoutModel",
          "state": {
            "_model_module": "@jupyter-widgets/base",
            "_model_module_version": "1.2.0",
            "_model_name": "LayoutModel",
            "_view_count": null,
            "_view_module": "@jupyter-widgets/base",
            "_view_module_version": "1.2.0",
            "_view_name": "LayoutView",
            "align_content": null,
            "align_items": null,
            "align_self": null,
            "border": null,
            "bottom": null,
            "display": null,
            "flex": null,
            "flex_flow": null,
            "grid_area": null,
            "grid_auto_columns": null,
            "grid_auto_flow": null,
            "grid_auto_rows": null,
            "grid_column": null,
            "grid_gap": null,
            "grid_row": null,
            "grid_template_areas": null,
            "grid_template_columns": null,
            "grid_template_rows": null,
            "height": null,
            "justify_content": null,
            "justify_items": null,
            "left": null,
            "margin": null,
            "max_height": null,
            "max_width": null,
            "min_height": null,
            "min_width": null,
            "object_fit": null,
            "object_position": null,
            "order": null,
            "overflow": null,
            "overflow_x": null,
            "overflow_y": null,
            "padding": null,
            "right": null,
            "top": null,
            "visibility": null,
            "width": null
          }
        },
        "a0c48f35a2f5433fb47c96c2fd722a2c": {
          "model_module": "@jupyter-widgets/controls",
          "model_module_version": "1.5.0",
          "model_name": "ProgressStyleModel",
          "state": {
            "_model_module": "@jupyter-widgets/controls",
            "_model_module_version": "1.5.0",
            "_model_name": "ProgressStyleModel",
            "_view_count": null,
            "_view_module": "@jupyter-widgets/base",
            "_view_module_version": "1.2.0",
            "_view_name": "StyleView",
            "bar_color": null,
            "description_width": ""
          }
        },
        "a12e0d337fc64b0cbcc55c7b85716641": {
          "model_module": "@jupyter-widgets/controls",
          "model_module_version": "1.5.0",
          "model_name": "HTMLModel",
          "state": {
            "_dom_classes": [],
            "_model_module": "@jupyter-widgets/controls",
            "_model_module_version": "1.5.0",
            "_model_name": "HTMLModel",
            "_view_count": null,
            "_view_module": "@jupyter-widgets/controls",
            "_view_module_version": "1.5.0",
            "_view_name": "HTMLView",
            "description": "",
            "description_tooltip": null,
            "layout": "IPY_MODEL_9fbcb4a3ecdb4d2b941446e647dc0a8f",
            "placeholder": "​",
            "style": "IPY_MODEL_1341932026364eebbd31b7a4fbe4bd79",
            "value": "Casting the dataset:   0%"
          }
        },
        "a158547e38f843ac895acb0fe69b8a92": {
          "model_module": "@jupyter-widgets/base",
          "model_module_version": "1.2.0",
          "model_name": "LayoutModel",
          "state": {
            "_model_module": "@jupyter-widgets/base",
            "_model_module_version": "1.2.0",
            "_model_name": "LayoutModel",
            "_view_count": null,
            "_view_module": "@jupyter-widgets/base",
            "_view_module_version": "1.2.0",
            "_view_name": "LayoutView",
            "align_content": null,
            "align_items": null,
            "align_self": null,
            "border": null,
            "bottom": null,
            "display": null,
            "flex": null,
            "flex_flow": null,
            "grid_area": null,
            "grid_auto_columns": null,
            "grid_auto_flow": null,
            "grid_auto_rows": null,
            "grid_column": null,
            "grid_gap": null,
            "grid_row": null,
            "grid_template_areas": null,
            "grid_template_columns": null,
            "grid_template_rows": null,
            "height": null,
            "justify_content": null,
            "justify_items": null,
            "left": null,
            "margin": null,
            "max_height": null,
            "max_width": null,
            "min_height": null,
            "min_width": null,
            "object_fit": null,
            "object_position": null,
            "order": null,
            "overflow": null,
            "overflow_x": null,
            "overflow_y": null,
            "padding": null,
            "right": null,
            "top": null,
            "visibility": null,
            "width": null
          }
        },
        "a8ea30d1b1f54a2cb503568f05d08c6c": {
          "model_module": "@jupyter-widgets/controls",
          "model_module_version": "1.5.0",
          "model_name": "DescriptionStyleModel",
          "state": {
            "_model_module": "@jupyter-widgets/controls",
            "_model_module_version": "1.5.0",
            "_model_name": "DescriptionStyleModel",
            "_view_count": null,
            "_view_module": "@jupyter-widgets/base",
            "_view_module_version": "1.2.0",
            "_view_name": "StyleView",
            "description_width": ""
          }
        },
        "a98f7749cf3b4710a1717002d2b5dfe0": {
          "model_module": "@jupyter-widgets/controls",
          "model_module_version": "1.5.0",
          "model_name": "DescriptionStyleModel",
          "state": {
            "_model_module": "@jupyter-widgets/controls",
            "_model_module_version": "1.5.0",
            "_model_name": "DescriptionStyleModel",
            "_view_count": null,
            "_view_module": "@jupyter-widgets/base",
            "_view_module_version": "1.2.0",
            "_view_name": "StyleView",
            "description_width": ""
          }
        },
        "a9f91fd9a2ff4f4aa205bb4794e968ac": {
          "model_module": "@jupyter-widgets/controls",
          "model_module_version": "1.5.0",
          "model_name": "HTMLModel",
          "state": {
            "_dom_classes": [],
            "_model_module": "@jupyter-widgets/controls",
            "_model_module_version": "1.5.0",
            "_model_name": "HTMLModel",
            "_view_count": null,
            "_view_module": "@jupyter-widgets/controls",
            "_view_module_version": "1.5.0",
            "_view_name": "HTMLView",
            "description": "",
            "description_tooltip": null,
            "layout": "IPY_MODEL_f0dba057688449af83084b22a2782d6f",
            "placeholder": "​",
            "style": "IPY_MODEL_d738d5ec4d544bcb9e6c3a6f97ff347d",
            "value": " 159/159 [00:00&lt;00:00, 10.5kB/s]"
          }
        },
        "ab0085d9f0754d6485fb2e4ab30babcd": {
          "model_module": "@jupyter-widgets/controls",
          "model_module_version": "1.5.0",
          "model_name": "HTMLModel",
          "state": {
            "_dom_classes": [],
            "_model_module": "@jupyter-widgets/controls",
            "_model_module_version": "1.5.0",
            "_model_name": "HTMLModel",
            "_view_count": null,
            "_view_module": "@jupyter-widgets/controls",
            "_view_module_version": "1.5.0",
            "_view_name": "HTMLView",
            "description": "",
            "description_tooltip": null,
            "layout": "IPY_MODEL_a158547e38f843ac895acb0fe69b8a92",
            "placeholder": "​",
            "style": "IPY_MODEL_bd2f6121a0cf409483312e691fca0a37",
            "value": " 4.20k/4.20k [00:00&lt;00:00, 205kB/s]"
          }
        },
        "aba283f75c644f858edb5280c72bf364": {
          "model_module": "@jupyter-widgets/controls",
          "model_module_version": "1.5.0",
          "model_name": "HTMLModel",
          "state": {
            "_dom_classes": [],
            "_model_module": "@jupyter-widgets/controls",
            "_model_module_version": "1.5.0",
            "_model_name": "HTMLModel",
            "_view_count": null,
            "_view_module": "@jupyter-widgets/controls",
            "_view_module_version": "1.5.0",
            "_view_name": "HTMLView",
            "description": "",
            "description_tooltip": null,
            "layout": "IPY_MODEL_e10c103694074edeb16adfdab9eb949c",
            "placeholder": "​",
            "style": "IPY_MODEL_424633447f784bee9a7047a14ef8e125",
            "value": " 0/1999 [00:00&lt;?, ? examples/s]"
          }
        },
        "ac1ecde82d214d799ae11545e9db9cac": {
          "model_module": "@jupyter-widgets/controls",
          "model_module_version": "1.5.0",
          "model_name": "DescriptionStyleModel",
          "state": {
            "_model_module": "@jupyter-widgets/controls",
            "_model_module_version": "1.5.0",
            "_model_name": "DescriptionStyleModel",
            "_view_count": null,
            "_view_module": "@jupyter-widgets/base",
            "_view_module_version": "1.2.0",
            "_view_name": "StyleView",
            "description_width": ""
          }
        },
        "ac8200b8b7b54ea59099b09a900d410f": {
          "model_module": "@jupyter-widgets/controls",
          "model_module_version": "1.5.0",
          "model_name": "HBoxModel",
          "state": {
            "_dom_classes": [],
            "_model_module": "@jupyter-widgets/controls",
            "_model_module_version": "1.5.0",
            "_model_name": "HBoxModel",
            "_view_count": null,
            "_view_module": "@jupyter-widgets/controls",
            "_view_module_version": "1.5.0",
            "_view_name": "HBoxView",
            "box_style": "",
            "children": [
              "IPY_MODEL_0b7109e8720a4d279c0e6b39c05b3152",
              "IPY_MODEL_d3be57923ba54554a1157853dfb557a9",
              "IPY_MODEL_05e30e475fb440feb875362976464afc"
            ],
            "layout": "IPY_MODEL_0959f951ecfd40c6afd671bcdadec88e"
          }
        },
        "ad80c0cd8b93464aa04f841c1348bfd8": {
          "model_module": "@jupyter-widgets/controls",
          "model_module_version": "1.5.0",
          "model_name": "HTMLModel",
          "state": {
            "_dom_classes": [],
            "_model_module": "@jupyter-widgets/controls",
            "_model_module_version": "1.5.0",
            "_model_name": "HTMLModel",
            "_view_count": null,
            "_view_module": "@jupyter-widgets/controls",
            "_view_module_version": "1.5.0",
            "_view_name": "HTMLView",
            "description": "",
            "description_tooltip": null,
            "layout": "IPY_MODEL_0079b44e7c7b4f0f861ea90cf96d38cf",
            "placeholder": "​",
            "style": "IPY_MODEL_3e92653cbb904f63aaddbd9728015edd",
            "value": "Map: 100%"
          }
        },
        "af94618e14e445f1910a9ac5a5cec359": {
          "model_module": "@jupyter-widgets/base",
          "model_module_version": "1.2.0",
          "model_name": "LayoutModel",
          "state": {
            "_model_module": "@jupyter-widgets/base",
            "_model_module_version": "1.2.0",
            "_model_name": "LayoutModel",
            "_view_count": null,
            "_view_module": "@jupyter-widgets/base",
            "_view_module_version": "1.2.0",
            "_view_name": "LayoutView",
            "align_content": null,
            "align_items": null,
            "align_self": null,
            "border": null,
            "bottom": null,
            "display": null,
            "flex": null,
            "flex_flow": null,
            "grid_area": null,
            "grid_auto_columns": null,
            "grid_auto_flow": null,
            "grid_auto_rows": null,
            "grid_column": null,
            "grid_gap": null,
            "grid_row": null,
            "grid_template_areas": null,
            "grid_template_columns": null,
            "grid_template_rows": null,
            "height": null,
            "justify_content": null,
            "justify_items": null,
            "left": null,
            "margin": null,
            "max_height": null,
            "max_width": null,
            "min_height": null,
            "min_width": null,
            "object_fit": null,
            "object_position": null,
            "order": null,
            "overflow": null,
            "overflow_x": null,
            "overflow_y": null,
            "padding": null,
            "right": null,
            "top": null,
            "visibility": null,
            "width": null
          }
        },
        "b3edf052b52a4398ae0c5b9082f4794c": {
          "model_module": "@jupyter-widgets/controls",
          "model_module_version": "1.5.0",
          "model_name": "HTMLModel",
          "state": {
            "_dom_classes": [],
            "_model_module": "@jupyter-widgets/controls",
            "_model_module_version": "1.5.0",
            "_model_name": "HTMLModel",
            "_view_count": null,
            "_view_module": "@jupyter-widgets/controls",
            "_view_module_version": "1.5.0",
            "_view_name": "HTMLView",
            "description": "",
            "description_tooltip": null,
            "layout": "IPY_MODEL_89d0bff28f9c4cd29ec8e597519a758d",
            "placeholder": "​",
            "style": "IPY_MODEL_84cc51caac5745a79dab00a71980bc03",
            "value": "Downloading builder script: 100%"
          }
        },
        "b42a27a68e774ff58fe343bd701c4ad6": {
          "model_module": "@jupyter-widgets/base",
          "model_module_version": "1.2.0",
          "model_name": "LayoutModel",
          "state": {
            "_model_module": "@jupyter-widgets/base",
            "_model_module_version": "1.2.0",
            "_model_name": "LayoutModel",
            "_view_count": null,
            "_view_module": "@jupyter-widgets/base",
            "_view_module_version": "1.2.0",
            "_view_name": "LayoutView",
            "align_content": null,
            "align_items": null,
            "align_self": null,
            "border": null,
            "bottom": null,
            "display": null,
            "flex": null,
            "flex_flow": null,
            "grid_area": null,
            "grid_auto_columns": null,
            "grid_auto_flow": null,
            "grid_auto_rows": null,
            "grid_column": null,
            "grid_gap": null,
            "grid_row": null,
            "grid_template_areas": null,
            "grid_template_columns": null,
            "grid_template_rows": null,
            "height": null,
            "justify_content": null,
            "justify_items": null,
            "left": null,
            "margin": null,
            "max_height": null,
            "max_width": null,
            "min_height": null,
            "min_width": null,
            "object_fit": null,
            "object_position": null,
            "order": null,
            "overflow": null,
            "overflow_x": null,
            "overflow_y": null,
            "padding": null,
            "right": null,
            "top": null,
            "visibility": null,
            "width": null
          }
        },
        "b43a3f8c1f6e468fa9dd02d4fe075b63": {
          "model_module": "@jupyter-widgets/controls",
          "model_module_version": "1.5.0",
          "model_name": "ProgressStyleModel",
          "state": {
            "_model_module": "@jupyter-widgets/controls",
            "_model_module_version": "1.5.0",
            "_model_name": "ProgressStyleModel",
            "_view_count": null,
            "_view_module": "@jupyter-widgets/base",
            "_view_module_version": "1.2.0",
            "_view_name": "StyleView",
            "bar_color": null,
            "description_width": ""
          }
        },
        "b44cb392297d4fcd9806d0ba871c891d": {
          "model_module": "@jupyter-widgets/base",
          "model_module_version": "1.2.0",
          "model_name": "LayoutModel",
          "state": {
            "_model_module": "@jupyter-widgets/base",
            "_model_module_version": "1.2.0",
            "_model_name": "LayoutModel",
            "_view_count": null,
            "_view_module": "@jupyter-widgets/base",
            "_view_module_version": "1.2.0",
            "_view_name": "LayoutView",
            "align_content": null,
            "align_items": null,
            "align_self": null,
            "border": null,
            "bottom": null,
            "display": null,
            "flex": null,
            "flex_flow": null,
            "grid_area": null,
            "grid_auto_columns": null,
            "grid_auto_flow": null,
            "grid_auto_rows": null,
            "grid_column": null,
            "grid_gap": null,
            "grid_row": null,
            "grid_template_areas": null,
            "grid_template_columns": null,
            "grid_template_rows": null,
            "height": null,
            "justify_content": null,
            "justify_items": null,
            "left": null,
            "margin": null,
            "max_height": null,
            "max_width": null,
            "min_height": null,
            "min_width": null,
            "object_fit": null,
            "object_position": null,
            "order": null,
            "overflow": null,
            "overflow_x": null,
            "overflow_y": null,
            "padding": null,
            "right": null,
            "top": null,
            "visibility": null,
            "width": null
          }
        },
        "b6835a49818b4823b804c1b1664f8f8a": {
          "model_module": "@jupyter-widgets/controls",
          "model_module_version": "1.5.0",
          "model_name": "HTMLModel",
          "state": {
            "_dom_classes": [],
            "_model_module": "@jupyter-widgets/controls",
            "_model_module_version": "1.5.0",
            "_model_name": "HTMLModel",
            "_view_count": null,
            "_view_module": "@jupyter-widgets/controls",
            "_view_module_version": "1.5.0",
            "_view_name": "HTMLView",
            "description": "",
            "description_tooltip": null,
            "layout": "IPY_MODEL_10be0ec29e164bbfaaae3fe90a528c69",
            "placeholder": "​",
            "style": "IPY_MODEL_a98f7749cf3b4710a1717002d2b5dfe0",
            "value": " 215/215 [00:00&lt;00:00, 10.4kB/s]"
          }
        },
        "b9072f807f9a4c19bd88de0ce39dce30": {
          "model_module": "@jupyter-widgets/base",
          "model_module_version": "1.2.0",
          "model_name": "LayoutModel",
          "state": {
            "_model_module": "@jupyter-widgets/base",
            "_model_module_version": "1.2.0",
            "_model_name": "LayoutModel",
            "_view_count": null,
            "_view_module": "@jupyter-widgets/base",
            "_view_module_version": "1.2.0",
            "_view_name": "LayoutView",
            "align_content": null,
            "align_items": null,
            "align_self": null,
            "border": null,
            "bottom": null,
            "display": null,
            "flex": null,
            "flex_flow": null,
            "grid_area": null,
            "grid_auto_columns": null,
            "grid_auto_flow": null,
            "grid_auto_rows": null,
            "grid_column": null,
            "grid_gap": null,
            "grid_row": null,
            "grid_template_areas": null,
            "grid_template_columns": null,
            "grid_template_rows": null,
            "height": null,
            "justify_content": null,
            "justify_items": null,
            "left": null,
            "margin": null,
            "max_height": null,
            "max_width": null,
            "min_height": null,
            "min_width": null,
            "object_fit": null,
            "object_position": null,
            "order": null,
            "overflow": null,
            "overflow_x": null,
            "overflow_y": null,
            "padding": null,
            "right": null,
            "top": null,
            "visibility": null,
            "width": null
          }
        },
        "bae3a8cc758d4193be360b201109861c": {
          "model_module": "@jupyter-widgets/controls",
          "model_module_version": "1.5.0",
          "model_name": "DescriptionStyleModel",
          "state": {
            "_model_module": "@jupyter-widgets/controls",
            "_model_module_version": "1.5.0",
            "_model_name": "DescriptionStyleModel",
            "_view_count": null,
            "_view_module": "@jupyter-widgets/base",
            "_view_module_version": "1.2.0",
            "_view_name": "StyleView",
            "description_width": ""
          }
        },
        "bce6a9ee1db846b59287f872992f3573": {
          "model_module": "@jupyter-widgets/base",
          "model_module_version": "1.2.0",
          "model_name": "LayoutModel",
          "state": {
            "_model_module": "@jupyter-widgets/base",
            "_model_module_version": "1.2.0",
            "_model_name": "LayoutModel",
            "_view_count": null,
            "_view_module": "@jupyter-widgets/base",
            "_view_module_version": "1.2.0",
            "_view_name": "LayoutView",
            "align_content": null,
            "align_items": null,
            "align_self": null,
            "border": null,
            "bottom": null,
            "display": null,
            "flex": null,
            "flex_flow": null,
            "grid_area": null,
            "grid_auto_columns": null,
            "grid_auto_flow": null,
            "grid_auto_rows": null,
            "grid_column": null,
            "grid_gap": null,
            "grid_row": null,
            "grid_template_areas": null,
            "grid_template_columns": null,
            "grid_template_rows": null,
            "height": null,
            "justify_content": null,
            "justify_items": null,
            "left": null,
            "margin": null,
            "max_height": null,
            "max_width": null,
            "min_height": null,
            "min_width": null,
            "object_fit": null,
            "object_position": null,
            "order": null,
            "overflow": null,
            "overflow_x": null,
            "overflow_y": null,
            "padding": null,
            "right": null,
            "top": null,
            "visibility": null,
            "width": null
          }
        },
        "bd2f6121a0cf409483312e691fca0a37": {
          "model_module": "@jupyter-widgets/controls",
          "model_module_version": "1.5.0",
          "model_name": "DescriptionStyleModel",
          "state": {
            "_model_module": "@jupyter-widgets/controls",
            "_model_module_version": "1.5.0",
            "_model_name": "DescriptionStyleModel",
            "_view_count": null,
            "_view_module": "@jupyter-widgets/base",
            "_view_module_version": "1.2.0",
            "_view_name": "StyleView",
            "description_width": ""
          }
        },
        "c89b6fe4a2624418a6b3af8f86fd720b": {
          "model_module": "@jupyter-widgets/controls",
          "model_module_version": "1.5.0",
          "model_name": "FloatProgressModel",
          "state": {
            "_dom_classes": [],
            "_model_module": "@jupyter-widgets/controls",
            "_model_module_version": "1.5.0",
            "_model_name": "FloatProgressModel",
            "_view_count": null,
            "_view_module": "@jupyter-widgets/controls",
            "_view_module_version": "1.5.0",
            "_view_name": "ProgressView",
            "bar_style": "success",
            "description": "",
            "description_tooltip": null,
            "layout": "IPY_MODEL_d83e6ba26df547d0b6536bcaf29aaa1b",
            "max": 11254,
            "min": 0,
            "orientation": "horizontal",
            "style": "IPY_MODEL_3a671ba7caa64cf98526652a5791c525",
            "value": 11254
          }
        },
        "c8e5adcc93a54a76a6764df7773b24bc": {
          "model_module": "@jupyter-widgets/base",
          "model_module_version": "1.2.0",
          "model_name": "LayoutModel",
          "state": {
            "_model_module": "@jupyter-widgets/base",
            "_model_module_version": "1.2.0",
            "_model_name": "LayoutModel",
            "_view_count": null,
            "_view_module": "@jupyter-widgets/base",
            "_view_module_version": "1.2.0",
            "_view_name": "LayoutView",
            "align_content": null,
            "align_items": null,
            "align_self": null,
            "border": null,
            "bottom": null,
            "display": null,
            "flex": null,
            "flex_flow": null,
            "grid_area": null,
            "grid_auto_columns": null,
            "grid_auto_flow": null,
            "grid_auto_rows": null,
            "grid_column": null,
            "grid_gap": null,
            "grid_row": null,
            "grid_template_areas": null,
            "grid_template_columns": null,
            "grid_template_rows": null,
            "height": null,
            "justify_content": null,
            "justify_items": null,
            "left": null,
            "margin": null,
            "max_height": null,
            "max_width": null,
            "min_height": null,
            "min_width": null,
            "object_fit": null,
            "object_position": null,
            "order": null,
            "overflow": null,
            "overflow_x": null,
            "overflow_y": null,
            "padding": null,
            "right": null,
            "top": null,
            "visibility": null,
            "width": null
          }
        },
        "c93d28a8ea8d4dd886ee9ede5117d1db": {
          "model_module": "@jupyter-widgets/base",
          "model_module_version": "1.2.0",
          "model_name": "LayoutModel",
          "state": {
            "_model_module": "@jupyter-widgets/base",
            "_model_module_version": "1.2.0",
            "_model_name": "LayoutModel",
            "_view_count": null,
            "_view_module": "@jupyter-widgets/base",
            "_view_module_version": "1.2.0",
            "_view_name": "LayoutView",
            "align_content": null,
            "align_items": null,
            "align_self": null,
            "border": null,
            "bottom": null,
            "display": null,
            "flex": null,
            "flex_flow": null,
            "grid_area": null,
            "grid_auto_columns": null,
            "grid_auto_flow": null,
            "grid_auto_rows": null,
            "grid_column": null,
            "grid_gap": null,
            "grid_row": null,
            "grid_template_areas": null,
            "grid_template_columns": null,
            "grid_template_rows": null,
            "height": null,
            "justify_content": null,
            "justify_items": null,
            "left": null,
            "margin": null,
            "max_height": null,
            "max_width": null,
            "min_height": null,
            "min_width": null,
            "object_fit": null,
            "object_position": null,
            "order": null,
            "overflow": null,
            "overflow_x": null,
            "overflow_y": null,
            "padding": null,
            "right": null,
            "top": null,
            "visibility": null,
            "width": null
          }
        },
        "ce3167bf55d4424592d723b05d8510e2": {
          "model_module": "@jupyter-widgets/controls",
          "model_module_version": "1.5.0",
          "model_name": "HTMLModel",
          "state": {
            "_dom_classes": [],
            "_model_module": "@jupyter-widgets/controls",
            "_model_module_version": "1.5.0",
            "_model_name": "HTMLModel",
            "_view_count": null,
            "_view_module": "@jupyter-widgets/controls",
            "_view_module_version": "1.5.0",
            "_view_name": "HTMLView",
            "description": "",
            "description_tooltip": null,
            "layout": "IPY_MODEL_b9072f807f9a4c19bd88de0ce39dce30",
            "placeholder": "​",
            "style": "IPY_MODEL_f97c95c5edd2490c8491d29e07d5725b",
            "value": " 2.50k/2.50k [00:00&lt;00:00, 197kB/s]"
          }
        },
        "ce3f2139bbe0435a8b6ffed40e3501db": {
          "model_module": "@jupyter-widgets/controls",
          "model_module_version": "1.5.0",
          "model_name": "HBoxModel",
          "state": {
            "_dom_classes": [],
            "_model_module": "@jupyter-widgets/controls",
            "_model_module_version": "1.5.0",
            "_model_name": "HBoxModel",
            "_view_count": null,
            "_view_module": "@jupyter-widgets/controls",
            "_view_module_version": "1.5.0",
            "_view_name": "HBoxView",
            "box_style": "",
            "children": [
              "IPY_MODEL_ad80c0cd8b93464aa04f841c1348bfd8",
              "IPY_MODEL_edf0d1d7dedf42e297b12b8e91f6b97f",
              "IPY_MODEL_22f4bf5b86c54057a78372b784ef12f9"
            ],
            "layout": "IPY_MODEL_e58b3579b1bc470e91acd7166c3499aa"
          }
        },
        "d1821b8e0eaa42a58b2963135ce92913": {
          "model_module": "@jupyter-widgets/controls",
          "model_module_version": "1.5.0",
          "model_name": "DescriptionStyleModel",
          "state": {
            "_model_module": "@jupyter-widgets/controls",
            "_model_module_version": "1.5.0",
            "_model_name": "DescriptionStyleModel",
            "_view_count": null,
            "_view_module": "@jupyter-widgets/base",
            "_view_module_version": "1.2.0",
            "_view_name": "StyleView",
            "description_width": ""
          }
        },
        "d1c7aece9433453b8d34adc6a0534b4e": {
          "model_module": "@jupyter-widgets/base",
          "model_module_version": "1.2.0",
          "model_name": "LayoutModel",
          "state": {
            "_model_module": "@jupyter-widgets/base",
            "_model_module_version": "1.2.0",
            "_model_name": "LayoutModel",
            "_view_count": null,
            "_view_module": "@jupyter-widgets/base",
            "_view_module_version": "1.2.0",
            "_view_name": "LayoutView",
            "align_content": null,
            "align_items": null,
            "align_self": null,
            "border": null,
            "bottom": null,
            "display": null,
            "flex": null,
            "flex_flow": null,
            "grid_area": null,
            "grid_auto_columns": null,
            "grid_auto_flow": null,
            "grid_auto_rows": null,
            "grid_column": null,
            "grid_gap": null,
            "grid_row": null,
            "grid_template_areas": null,
            "grid_template_columns": null,
            "grid_template_rows": null,
            "height": null,
            "justify_content": null,
            "justify_items": null,
            "left": null,
            "margin": null,
            "max_height": null,
            "max_width": null,
            "min_height": null,
            "min_width": null,
            "object_fit": null,
            "object_position": null,
            "order": null,
            "overflow": null,
            "overflow_x": null,
            "overflow_y": null,
            "padding": null,
            "right": null,
            "top": null,
            "visibility": null,
            "width": null
          }
        },
        "d3be57923ba54554a1157853dfb557a9": {
          "model_module": "@jupyter-widgets/controls",
          "model_module_version": "1.5.0",
          "model_name": "FloatProgressModel",
          "state": {
            "_dom_classes": [],
            "_model_module": "@jupyter-widgets/controls",
            "_model_module_version": "1.5.0",
            "_model_name": "FloatProgressModel",
            "_view_count": null,
            "_view_module": "@jupyter-widgets/controls",
            "_view_module_version": "1.5.0",
            "_view_name": "ProgressView",
            "bar_style": "",
            "description": "",
            "description_tooltip": null,
            "layout": "IPY_MODEL_fc5905ac8f784480ace9a969bbb26a23",
            "max": 1599,
            "min": 0,
            "orientation": "horizontal",
            "style": "IPY_MODEL_04b3b0398683446b9dc2a77aac28e025",
            "value": 1599
          }
        },
        "d3f779cf7102450e92950627b97b15cb": {
          "model_module": "@jupyter-widgets/base",
          "model_module_version": "1.2.0",
          "model_name": "LayoutModel",
          "state": {
            "_model_module": "@jupyter-widgets/base",
            "_model_module_version": "1.2.0",
            "_model_name": "LayoutModel",
            "_view_count": null,
            "_view_module": "@jupyter-widgets/base",
            "_view_module_version": "1.2.0",
            "_view_name": "LayoutView",
            "align_content": null,
            "align_items": null,
            "align_self": null,
            "border": null,
            "bottom": null,
            "display": null,
            "flex": null,
            "flex_flow": null,
            "grid_area": null,
            "grid_auto_columns": null,
            "grid_auto_flow": null,
            "grid_auto_rows": null,
            "grid_column": null,
            "grid_gap": null,
            "grid_row": null,
            "grid_template_areas": null,
            "grid_template_columns": null,
            "grid_template_rows": null,
            "height": null,
            "justify_content": null,
            "justify_items": null,
            "left": null,
            "margin": null,
            "max_height": null,
            "max_width": null,
            "min_height": null,
            "min_width": null,
            "object_fit": null,
            "object_position": null,
            "order": null,
            "overflow": null,
            "overflow_x": null,
            "overflow_y": null,
            "padding": null,
            "right": null,
            "top": null,
            "visibility": null,
            "width": null
          }
        },
        "d4b1c8751f9f4cbca776eb25d69fc69a": {
          "model_module": "@jupyter-widgets/controls",
          "model_module_version": "1.5.0",
          "model_name": "DescriptionStyleModel",
          "state": {
            "_model_module": "@jupyter-widgets/controls",
            "_model_module_version": "1.5.0",
            "_model_name": "DescriptionStyleModel",
            "_view_count": null,
            "_view_module": "@jupyter-widgets/base",
            "_view_module_version": "1.2.0",
            "_view_name": "StyleView",
            "description_width": ""
          }
        },
        "d679a1053e7a44b1bdd5ed6033ecbe1f": {
          "model_module": "@jupyter-widgets/controls",
          "model_module_version": "1.5.0",
          "model_name": "HTMLModel",
          "state": {
            "_dom_classes": [],
            "_model_module": "@jupyter-widgets/controls",
            "_model_module_version": "1.5.0",
            "_model_name": "HTMLModel",
            "_view_count": null,
            "_view_module": "@jupyter-widgets/controls",
            "_view_module_version": "1.5.0",
            "_view_name": "HTMLView",
            "description": "",
            "description_tooltip": null,
            "layout": "IPY_MODEL_6180b86251b244dbbe8798af9a46bd64",
            "placeholder": "​",
            "style": "IPY_MODEL_5e0aaeb03b3147fcb7bb184b976279f2",
            "value": "Downloading (…)lve/main/config.json: 100%"
          }
        },
        "d738d5ec4d544bcb9e6c3a6f97ff347d": {
          "model_module": "@jupyter-widgets/controls",
          "model_module_version": "1.5.0",
          "model_name": "DescriptionStyleModel",
          "state": {
            "_model_module": "@jupyter-widgets/controls",
            "_model_module_version": "1.5.0",
            "_model_name": "DescriptionStyleModel",
            "_view_count": null,
            "_view_module": "@jupyter-widgets/base",
            "_view_module_version": "1.2.0",
            "_view_name": "StyleView",
            "description_width": ""
          }
        },
        "d83e6ba26df547d0b6536bcaf29aaa1b": {
          "model_module": "@jupyter-widgets/base",
          "model_module_version": "1.2.0",
          "model_name": "LayoutModel",
          "state": {
            "_model_module": "@jupyter-widgets/base",
            "_model_module_version": "1.2.0",
            "_model_name": "LayoutModel",
            "_view_count": null,
            "_view_module": "@jupyter-widgets/base",
            "_view_module_version": "1.2.0",
            "_view_name": "LayoutView",
            "align_content": null,
            "align_items": null,
            "align_self": null,
            "border": null,
            "bottom": null,
            "display": null,
            "flex": null,
            "flex_flow": null,
            "grid_area": null,
            "grid_auto_columns": null,
            "grid_auto_flow": null,
            "grid_auto_rows": null,
            "grid_column": null,
            "grid_gap": null,
            "grid_row": null,
            "grid_template_areas": null,
            "grid_template_columns": null,
            "grid_template_rows": null,
            "height": null,
            "justify_content": null,
            "justify_items": null,
            "left": null,
            "margin": null,
            "max_height": null,
            "max_width": null,
            "min_height": null,
            "min_width": null,
            "object_fit": null,
            "object_position": null,
            "order": null,
            "overflow": null,
            "overflow_x": null,
            "overflow_y": null,
            "padding": null,
            "right": null,
            "top": null,
            "visibility": null,
            "width": null
          }
        },
        "db78ad4c5c15409d92060234366cc020": {
          "model_module": "@jupyter-widgets/controls",
          "model_module_version": "1.5.0",
          "model_name": "HTMLModel",
          "state": {
            "_dom_classes": [],
            "_model_module": "@jupyter-widgets/controls",
            "_model_module_version": "1.5.0",
            "_model_name": "HTMLModel",
            "_view_count": null,
            "_view_module": "@jupyter-widgets/controls",
            "_view_module_version": "1.5.0",
            "_view_name": "HTMLView",
            "description": "",
            "description_tooltip": null,
            "layout": "IPY_MODEL_e474deeb18e24dd1a9bb196585a5e149",
            "placeholder": "​",
            "style": "IPY_MODEL_5accf8ec3beb4791aaf82c1ba0cbf217",
            "value": " 1.84k/1.84k [00:00&lt;00:00, 148kB/s]"
          }
        },
        "e045d69c8a4e4d76b664c53add4ace78": {
          "model_module": "@jupyter-widgets/controls",
          "model_module_version": "1.5.0",
          "model_name": "ProgressStyleModel",
          "state": {
            "_model_module": "@jupyter-widgets/controls",
            "_model_module_version": "1.5.0",
            "_model_name": "ProgressStyleModel",
            "_view_count": null,
            "_view_module": "@jupyter-widgets/base",
            "_view_module_version": "1.2.0",
            "_view_name": "StyleView",
            "bar_color": null,
            "description_width": ""
          }
        },
        "e04ec565fb8142b9af8dcfe08fc0432a": {
          "model_module": "@jupyter-widgets/base",
          "model_module_version": "1.2.0",
          "model_name": "LayoutModel",
          "state": {
            "_model_module": "@jupyter-widgets/base",
            "_model_module_version": "1.2.0",
            "_model_name": "LayoutModel",
            "_view_count": null,
            "_view_module": "@jupyter-widgets/base",
            "_view_module_version": "1.2.0",
            "_view_name": "LayoutView",
            "align_content": null,
            "align_items": null,
            "align_self": null,
            "border": null,
            "bottom": null,
            "display": null,
            "flex": null,
            "flex_flow": null,
            "grid_area": null,
            "grid_auto_columns": null,
            "grid_auto_flow": null,
            "grid_auto_rows": null,
            "grid_column": null,
            "grid_gap": null,
            "grid_row": null,
            "grid_template_areas": null,
            "grid_template_columns": null,
            "grid_template_rows": null,
            "height": null,
            "justify_content": null,
            "justify_items": null,
            "left": null,
            "margin": null,
            "max_height": null,
            "max_width": null,
            "min_height": null,
            "min_width": null,
            "object_fit": null,
            "object_position": null,
            "order": null,
            "overflow": null,
            "overflow_x": null,
            "overflow_y": null,
            "padding": null,
            "right": null,
            "top": null,
            "visibility": null,
            "width": null
          }
        },
        "e10c103694074edeb16adfdab9eb949c": {
          "model_module": "@jupyter-widgets/base",
          "model_module_version": "1.2.0",
          "model_name": "LayoutModel",
          "state": {
            "_model_module": "@jupyter-widgets/base",
            "_model_module_version": "1.2.0",
            "_model_name": "LayoutModel",
            "_view_count": null,
            "_view_module": "@jupyter-widgets/base",
            "_view_module_version": "1.2.0",
            "_view_name": "LayoutView",
            "align_content": null,
            "align_items": null,
            "align_self": null,
            "border": null,
            "bottom": null,
            "display": null,
            "flex": null,
            "flex_flow": null,
            "grid_area": null,
            "grid_auto_columns": null,
            "grid_auto_flow": null,
            "grid_auto_rows": null,
            "grid_column": null,
            "grid_gap": null,
            "grid_row": null,
            "grid_template_areas": null,
            "grid_template_columns": null,
            "grid_template_rows": null,
            "height": null,
            "justify_content": null,
            "justify_items": null,
            "left": null,
            "margin": null,
            "max_height": null,
            "max_width": null,
            "min_height": null,
            "min_width": null,
            "object_fit": null,
            "object_position": null,
            "order": null,
            "overflow": null,
            "overflow_x": null,
            "overflow_y": null,
            "padding": null,
            "right": null,
            "top": null,
            "visibility": null,
            "width": null
          }
        },
        "e34bbed6bd16429f8622159e031c2ce4": {
          "model_module": "@jupyter-widgets/controls",
          "model_module_version": "1.5.0",
          "model_name": "HTMLModel",
          "state": {
            "_dom_classes": [],
            "_model_module": "@jupyter-widgets/controls",
            "_model_module_version": "1.5.0",
            "_model_name": "HTMLModel",
            "_view_count": null,
            "_view_module": "@jupyter-widgets/controls",
            "_view_module_version": "1.5.0",
            "_view_name": "HTMLView",
            "description": "",
            "description_tooltip": null,
            "layout": "IPY_MODEL_77ffba5dc9964d15806e8c290f15a8aa",
            "placeholder": "​",
            "style": "IPY_MODEL_bae3a8cc758d4193be360b201109861c",
            "value": "Upload file runs/May23_10-55-29_f427f1086e67/events.out.tfevents.1684839335.f427f1086e67.170.0: 100%"
          }
        },
        "e474deeb18e24dd1a9bb196585a5e149": {
          "model_module": "@jupyter-widgets/base",
          "model_module_version": "1.2.0",
          "model_name": "LayoutModel",
          "state": {
            "_model_module": "@jupyter-widgets/base",
            "_model_module_version": "1.2.0",
            "_model_name": "LayoutModel",
            "_view_count": null,
            "_view_module": "@jupyter-widgets/base",
            "_view_module_version": "1.2.0",
            "_view_name": "LayoutView",
            "align_content": null,
            "align_items": null,
            "align_self": null,
            "border": null,
            "bottom": null,
            "display": null,
            "flex": null,
            "flex_flow": null,
            "grid_area": null,
            "grid_auto_columns": null,
            "grid_auto_flow": null,
            "grid_auto_rows": null,
            "grid_column": null,
            "grid_gap": null,
            "grid_row": null,
            "grid_template_areas": null,
            "grid_template_columns": null,
            "grid_template_rows": null,
            "height": null,
            "justify_content": null,
            "justify_items": null,
            "left": null,
            "margin": null,
            "max_height": null,
            "max_width": null,
            "min_height": null,
            "min_width": null,
            "object_fit": null,
            "object_position": null,
            "order": null,
            "overflow": null,
            "overflow_x": null,
            "overflow_y": null,
            "padding": null,
            "right": null,
            "top": null,
            "visibility": null,
            "width": null
          }
        },
        "e5532adffdc74ad496f30d945f8a1634": {
          "model_module": "@jupyter-widgets/controls",
          "model_module_version": "1.5.0",
          "model_name": "HBoxModel",
          "state": {
            "_dom_classes": [],
            "_model_module": "@jupyter-widgets/controls",
            "_model_module_version": "1.5.0",
            "_model_name": "HBoxModel",
            "_view_count": null,
            "_view_module": "@jupyter-widgets/controls",
            "_view_module_version": "1.5.0",
            "_view_name": "HBoxView",
            "box_style": "",
            "children": [
              "IPY_MODEL_e34bbed6bd16429f8622159e031c2ce4",
              "IPY_MODEL_c89b6fe4a2624418a6b3af8f86fd720b",
              "IPY_MODEL_7c5f2c39e01c4cc0b4826b2886dd866c"
            ],
            "layout": "IPY_MODEL_4c936ff1317549a5bd39081174e7e129"
          }
        },
        "e58b3579b1bc470e91acd7166c3499aa": {
          "model_module": "@jupyter-widgets/base",
          "model_module_version": "1.2.0",
          "model_name": "LayoutModel",
          "state": {
            "_model_module": "@jupyter-widgets/base",
            "_model_module_version": "1.2.0",
            "_model_name": "LayoutModel",
            "_view_count": null,
            "_view_module": "@jupyter-widgets/base",
            "_view_module_version": "1.2.0",
            "_view_name": "LayoutView",
            "align_content": null,
            "align_items": null,
            "align_self": null,
            "border": null,
            "bottom": null,
            "display": null,
            "flex": null,
            "flex_flow": null,
            "grid_area": null,
            "grid_auto_columns": null,
            "grid_auto_flow": null,
            "grid_auto_rows": null,
            "grid_column": null,
            "grid_gap": null,
            "grid_row": null,
            "grid_template_areas": null,
            "grid_template_columns": null,
            "grid_template_rows": null,
            "height": null,
            "justify_content": null,
            "justify_items": null,
            "left": null,
            "margin": null,
            "max_height": null,
            "max_width": null,
            "min_height": null,
            "min_width": null,
            "object_fit": null,
            "object_position": null,
            "order": null,
            "overflow": null,
            "overflow_x": null,
            "overflow_y": null,
            "padding": null,
            "right": null,
            "top": null,
            "visibility": "hidden",
            "width": null
          }
        },
        "e95c993cc7294794bbdc3e1e3b2530c4": {
          "model_module": "@jupyter-widgets/controls",
          "model_module_version": "1.5.0",
          "model_name": "HTMLModel",
          "state": {
            "_dom_classes": [],
            "_model_module": "@jupyter-widgets/controls",
            "_model_module_version": "1.5.0",
            "_model_name": "HTMLModel",
            "_view_count": null,
            "_view_module": "@jupyter-widgets/controls",
            "_view_module_version": "1.5.0",
            "_view_name": "HTMLView",
            "description": "",
            "description_tooltip": null,
            "layout": "IPY_MODEL_6ed8a89409db418eaef8e7a800227792",
            "placeholder": "​",
            "style": "IPY_MODEL_d4b1c8751f9f4cbca776eb25d69fc69a",
            "value": "Downloading pytorch_model.bin: 100%"
          }
        },
        "edf0d1d7dedf42e297b12b8e91f6b97f": {
          "model_module": "@jupyter-widgets/controls",
          "model_module_version": "1.5.0",
          "model_name": "FloatProgressModel",
          "state": {
            "_dom_classes": [],
            "_model_module": "@jupyter-widgets/controls",
            "_model_module_version": "1.5.0",
            "_model_name": "FloatProgressModel",
            "_view_count": null,
            "_view_module": "@jupyter-widgets/controls",
            "_view_module_version": "1.5.0",
            "_view_name": "ProgressView",
            "bar_style": "",
            "description": "",
            "description_tooltip": null,
            "layout": "IPY_MODEL_b44cb392297d4fcd9806d0ba871c891d",
            "max": 400,
            "min": 0,
            "orientation": "horizontal",
            "style": "IPY_MODEL_845c7bb0527e4f4d88f1ec587206b13f",
            "value": 400
          }
        },
        "ee72794cafb44b2d9c7841faf0937a1b": {
          "model_module": "@jupyter-widgets/base",
          "model_module_version": "1.2.0",
          "model_name": "LayoutModel",
          "state": {
            "_model_module": "@jupyter-widgets/base",
            "_model_module_version": "1.2.0",
            "_model_name": "LayoutModel",
            "_view_count": null,
            "_view_module": "@jupyter-widgets/base",
            "_view_module_version": "1.2.0",
            "_view_name": "LayoutView",
            "align_content": null,
            "align_items": null,
            "align_self": null,
            "border": null,
            "bottom": null,
            "display": null,
            "flex": null,
            "flex_flow": null,
            "grid_area": null,
            "grid_auto_columns": null,
            "grid_auto_flow": null,
            "grid_auto_rows": null,
            "grid_column": null,
            "grid_gap": null,
            "grid_row": null,
            "grid_template_areas": null,
            "grid_template_columns": null,
            "grid_template_rows": null,
            "height": null,
            "justify_content": null,
            "justify_items": null,
            "left": null,
            "margin": null,
            "max_height": null,
            "max_width": null,
            "min_height": null,
            "min_width": null,
            "object_fit": null,
            "object_position": null,
            "order": null,
            "overflow": null,
            "overflow_x": null,
            "overflow_y": null,
            "padding": null,
            "right": null,
            "top": null,
            "visibility": null,
            "width": null
          }
        },
        "eeb3440243ee447fb7fadd43a9bcb06b": {
          "model_module": "@jupyter-widgets/controls",
          "model_module_version": "1.5.0",
          "model_name": "HBoxModel",
          "state": {
            "_dom_classes": [],
            "_model_module": "@jupyter-widgets/controls",
            "_model_module_version": "1.5.0",
            "_model_name": "HBoxModel",
            "_view_count": null,
            "_view_module": "@jupyter-widgets/controls",
            "_view_module_version": "1.5.0",
            "_view_name": "HBoxView",
            "box_style": "",
            "children": [
              "IPY_MODEL_e95c993cc7294794bbdc3e1e3b2530c4",
              "IPY_MODEL_2a3fefc48a4643bb848eec2a49d600de",
              "IPY_MODEL_f137db6ae3cd43f1859767ffbc4d6861"
            ],
            "layout": "IPY_MODEL_7ee412ebdd8d4f8aad166175a1a47fa3"
          }
        },
        "f0dba057688449af83084b22a2782d6f": {
          "model_module": "@jupyter-widgets/base",
          "model_module_version": "1.2.0",
          "model_name": "LayoutModel",
          "state": {
            "_model_module": "@jupyter-widgets/base",
            "_model_module_version": "1.2.0",
            "_model_name": "LayoutModel",
            "_view_count": null,
            "_view_module": "@jupyter-widgets/base",
            "_view_module_version": "1.2.0",
            "_view_name": "LayoutView",
            "align_content": null,
            "align_items": null,
            "align_self": null,
            "border": null,
            "bottom": null,
            "display": null,
            "flex": null,
            "flex_flow": null,
            "grid_area": null,
            "grid_auto_columns": null,
            "grid_auto_flow": null,
            "grid_auto_rows": null,
            "grid_column": null,
            "grid_gap": null,
            "grid_row": null,
            "grid_template_areas": null,
            "grid_template_columns": null,
            "grid_template_rows": null,
            "height": null,
            "justify_content": null,
            "justify_items": null,
            "left": null,
            "margin": null,
            "max_height": null,
            "max_width": null,
            "min_height": null,
            "min_width": null,
            "object_fit": null,
            "object_position": null,
            "order": null,
            "overflow": null,
            "overflow_x": null,
            "overflow_y": null,
            "padding": null,
            "right": null,
            "top": null,
            "visibility": null,
            "width": null
          }
        },
        "f137db6ae3cd43f1859767ffbc4d6861": {
          "model_module": "@jupyter-widgets/controls",
          "model_module_version": "1.5.0",
          "model_name": "HTMLModel",
          "state": {
            "_dom_classes": [],
            "_model_module": "@jupyter-widgets/controls",
            "_model_module_version": "1.5.0",
            "_model_name": "HTMLModel",
            "_view_count": null,
            "_view_module": "@jupyter-widgets/controls",
            "_view_module_version": "1.5.0",
            "_view_name": "HTMLView",
            "description": "",
            "description_tooltip": null,
            "layout": "IPY_MODEL_49b232bf97474d9181d353994bdc407c",
            "placeholder": "​",
            "style": "IPY_MODEL_4d215d92195a479fae8e154f7dfba7f4",
            "value": " 380M/380M [00:01&lt;00:00, 221MB/s]"
          }
        },
        "f1ee64712f9c4947a7d5b432c01a7c81": {
          "model_module": "@jupyter-widgets/controls",
          "model_module_version": "1.5.0",
          "model_name": "HBoxModel",
          "state": {
            "_dom_classes": [],
            "_model_module": "@jupyter-widgets/controls",
            "_model_module_version": "1.5.0",
            "_model_name": "HBoxModel",
            "_view_count": null,
            "_view_module": "@jupyter-widgets/controls",
            "_view_module_version": "1.5.0",
            "_view_name": "HBoxView",
            "box_style": "",
            "children": [
              "IPY_MODEL_7e43ac3ee56b47ef879dd4fb0f53eb09",
              "IPY_MODEL_82d6a1754d134e00b3644fd8f21f8bbd",
              "IPY_MODEL_b6835a49818b4823b804c1b1664f8f8a"
            ],
            "layout": "IPY_MODEL_f294c66ca85a42ad9bcf07f59d70f58a"
          }
        },
        "f294c66ca85a42ad9bcf07f59d70f58a": {
          "model_module": "@jupyter-widgets/base",
          "model_module_version": "1.2.0",
          "model_name": "LayoutModel",
          "state": {
            "_model_module": "@jupyter-widgets/base",
            "_model_module_version": "1.2.0",
            "_model_name": "LayoutModel",
            "_view_count": null,
            "_view_module": "@jupyter-widgets/base",
            "_view_module_version": "1.2.0",
            "_view_name": "LayoutView",
            "align_content": null,
            "align_items": null,
            "align_self": null,
            "border": null,
            "bottom": null,
            "display": null,
            "flex": null,
            "flex_flow": null,
            "grid_area": null,
            "grid_auto_columns": null,
            "grid_auto_flow": null,
            "grid_auto_rows": null,
            "grid_column": null,
            "grid_gap": null,
            "grid_row": null,
            "grid_template_areas": null,
            "grid_template_columns": null,
            "grid_template_rows": null,
            "height": null,
            "justify_content": null,
            "justify_items": null,
            "left": null,
            "margin": null,
            "max_height": null,
            "max_width": null,
            "min_height": null,
            "min_width": null,
            "object_fit": null,
            "object_position": null,
            "order": null,
            "overflow": null,
            "overflow_x": null,
            "overflow_y": null,
            "padding": null,
            "right": null,
            "top": null,
            "visibility": null,
            "width": null
          }
        },
        "f35f6f7462ed49689623204b41901a60": {
          "model_module": "@jupyter-widgets/base",
          "model_module_version": "1.2.0",
          "model_name": "LayoutModel",
          "state": {
            "_model_module": "@jupyter-widgets/base",
            "_model_module_version": "1.2.0",
            "_model_name": "LayoutModel",
            "_view_count": null,
            "_view_module": "@jupyter-widgets/base",
            "_view_module_version": "1.2.0",
            "_view_name": "LayoutView",
            "align_content": null,
            "align_items": null,
            "align_self": null,
            "border": null,
            "bottom": null,
            "display": null,
            "flex": null,
            "flex_flow": null,
            "grid_area": null,
            "grid_auto_columns": null,
            "grid_auto_flow": null,
            "grid_auto_rows": null,
            "grid_column": null,
            "grid_gap": null,
            "grid_row": null,
            "grid_template_areas": null,
            "grid_template_columns": null,
            "grid_template_rows": null,
            "height": null,
            "justify_content": null,
            "justify_items": null,
            "left": null,
            "margin": null,
            "max_height": null,
            "max_width": null,
            "min_height": null,
            "min_width": null,
            "object_fit": null,
            "object_position": null,
            "order": null,
            "overflow": null,
            "overflow_x": null,
            "overflow_y": null,
            "padding": null,
            "right": null,
            "top": null,
            "visibility": null,
            "width": null
          }
        },
        "f86673a365834890a3e668994bf542aa": {
          "model_module": "@jupyter-widgets/controls",
          "model_module_version": "1.5.0",
          "model_name": "HTMLModel",
          "state": {
            "_dom_classes": [],
            "_model_module": "@jupyter-widgets/controls",
            "_model_module_version": "1.5.0",
            "_model_name": "HTMLModel",
            "_view_count": null,
            "_view_module": "@jupyter-widgets/controls",
            "_view_module_version": "1.5.0",
            "_view_name": "HTMLView",
            "description": "",
            "description_tooltip": null,
            "layout": "IPY_MODEL_e04ec565fb8142b9af8dcfe08fc0432a",
            "placeholder": "​",
            "style": "IPY_MODEL_ac1ecde82d214d799ae11545e9db9cac",
            "value": " 378M/378M [00:07&lt;00:00, 55.3MB/s]"
          }
        },
        "f97c95c5edd2490c8491d29e07d5725b": {
          "model_module": "@jupyter-widgets/controls",
          "model_module_version": "1.5.0",
          "model_name": "DescriptionStyleModel",
          "state": {
            "_model_module": "@jupyter-widgets/controls",
            "_model_module_version": "1.5.0",
            "_model_name": "DescriptionStyleModel",
            "_view_count": null,
            "_view_module": "@jupyter-widgets/base",
            "_view_module_version": "1.2.0",
            "_view_name": "StyleView",
            "description_width": ""
          }
        },
        "fb04e74ad3b34513a9ac950fb3b078c6": {
          "model_module": "@jupyter-widgets/controls",
          "model_module_version": "1.5.0",
          "model_name": "FloatProgressModel",
          "state": {
            "_dom_classes": [],
            "_model_module": "@jupyter-widgets/controls",
            "_model_module_version": "1.5.0",
            "_model_name": "FloatProgressModel",
            "_view_count": null,
            "_view_module": "@jupyter-widgets/controls",
            "_view_module_version": "1.5.0",
            "_view_name": "ProgressView",
            "bar_style": "success",
            "description": "",
            "description_tooltip": null,
            "layout": "IPY_MODEL_77c7e835829f4122939843c38f2da18e",
            "max": 2497,
            "min": 0,
            "orientation": "horizontal",
            "style": "IPY_MODEL_0033b72e1b534da0aa31b5a8dc3ebe4c",
            "value": 2497
          }
        },
        "fc5905ac8f784480ace9a969bbb26a23": {
          "model_module": "@jupyter-widgets/base",
          "model_module_version": "1.2.0",
          "model_name": "LayoutModel",
          "state": {
            "_model_module": "@jupyter-widgets/base",
            "_model_module_version": "1.2.0",
            "_model_name": "LayoutModel",
            "_view_count": null,
            "_view_module": "@jupyter-widgets/base",
            "_view_module_version": "1.2.0",
            "_view_name": "LayoutView",
            "align_content": null,
            "align_items": null,
            "align_self": null,
            "border": null,
            "bottom": null,
            "display": null,
            "flex": null,
            "flex_flow": null,
            "grid_area": null,
            "grid_auto_columns": null,
            "grid_auto_flow": null,
            "grid_auto_rows": null,
            "grid_column": null,
            "grid_gap": null,
            "grid_row": null,
            "grid_template_areas": null,
            "grid_template_columns": null,
            "grid_template_rows": null,
            "height": null,
            "justify_content": null,
            "justify_items": null,
            "left": null,
            "margin": null,
            "max_height": null,
            "max_width": null,
            "min_height": null,
            "min_width": null,
            "object_fit": null,
            "object_position": null,
            "order": null,
            "overflow": null,
            "overflow_x": null,
            "overflow_y": null,
            "padding": null,
            "right": null,
            "top": null,
            "visibility": null,
            "width": null
          }
        }
      }
    }
  },
  "nbformat": 4,
  "nbformat_minor": 0
}