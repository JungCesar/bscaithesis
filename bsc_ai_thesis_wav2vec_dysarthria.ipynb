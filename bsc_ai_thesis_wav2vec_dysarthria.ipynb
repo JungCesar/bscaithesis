{
  "cells": [
    {
      "cell_type": "markdown",
      "metadata": {
        "id": "view-in-github",
        "colab_type": "text"
      },
      "source": [
        "<a href=\"https://colab.research.google.com/github/JungCesar/bscaithesis/blob/master/bsc_ai_thesis_wav2vec_dysarthria.ipynb\" target=\"_parent\"><img src=\"https://colab.research.google.com/assets/colab-badge.svg\" alt=\"Open In Colab\"/></a>"
      ]
    },
    {
      "cell_type": "markdown",
      "metadata": {
        "id": "4uKhO4nxZIpd",
        "tags": []
      },
      "source": [
        "# Dysarthria Classification Algorithm\n",
        "\n",
        "In this notebook, I will create a dyasarthria classification algorithm for my bachelor's thesis Artificial Intelligence at the University of Amsterdam. Dysarthria occurs when the muscles you use for speech are weak or you have difficulty controlling them. The title of my thesis is \"Investigating Pre-Trained Self-Supervised Deep Learning Models for Disease Recognition\". The idea is to apply the algorithm created here to other datasets as well, for example audiofiles from the DementiaBank databases.\n",
        "\n",
        "The [Torgo](http://www.cs.toronto.edu/~complingweb/data/TORGO/torgo.html) dataste perfectly fits this purpose. It consists of dyasrthric male and female speakers, either caused by cerebral palsy (CP) or amyotrophic lateral sclerosis (ALS) and their non-dysarthric counterparts, also known as the healthy control group.\n",
        "\n",
        "I will fine-tune a pre-trained self-supervised deep-learning model, namely Facebook's [wav2vec](https://ai.facebook.com/blog/wav2vec-20-learning-the-structure-of-speech-from-raw-audio/), on our specific training data. Then I will extract the fine-tuned wav2vec features from our test data. Then, these features will be used as input for the classifier to distinnguish between the two categories.\n",
        "\n",
        "I will take a bottom-up approach, try to be as operating system-independent as possible and explain the steps in detail below. The structure will be as follows:\n",
        "\n",
        "1.   Installing and Exlpaining Necessary Packages\n",
        "2.   Downloading, Storing, and Accessing (Loading) the Dataset\n",
        "3.   Exploratory Data Analysis (EDA)\n",
        "4.   Dataset Preprocessing\n",
        "5.   Dataset Splitting (into a train- and test set)\n",
        "6.   Fine-tuning Wav2vec\n",
        "7.   Feature Extraction\n",
        "8.   Training Classifier\n",
        "9.   Model Validation\n",
        "10.   Model Evaluation\n",
        "\n",
        "Notes:\n",
        "\n",
        "*   The above link to TORGO redirects to the Computational Linguistics website of the university of Toronto. An in-depth explanation can be found there, but the actual dataset that will be used in this notebook, comes from Kaggle. [Kaggle's version of Torgo](https://www.kaggle.com/datasets/iamhungundji/dysarthria-detection) is already some sort of preprocessed form of the original one.\n",
        "*   Wav2vec has been made publicly available by Facebook on Hugging Face, it can be found [here](https://huggingface.co/facebook/wav2vec2-base)."
      ]
    },
    {
      "cell_type": "markdown",
      "metadata": {
        "id": "sk7KEVHPgQEm",
        "tags": []
      },
      "source": [
        "## 1. Installing Necessary Packages and Explaining Them\n",
        "Huggins Face's Transformers provides APIs and tools to easily download and train state-of-the-art pretrained models, like wav2vec. Installing Datasets is optional if you want to use one of the available datasets on their platform. Evaluate is a package for easily evaluating machine learning models and datasets.\n",
        "\n",
        "Accelerate is a library that enables the same PyTorch code to be run across any distributed configuration by adding just four lines of code! In short, training and inference at scale made simple, efficient and adaptable.\n",
        "\n",
        "Uninstalling and installing transformers and accelerate again was the solution to a bug I perceived."
      ]
    },
    {
      "cell_type": "code",
      "execution_count": 1,
      "metadata": {
        "id": "8cO03xqmgK3W",
        "tags": []
      },
      "outputs": [],
      "source": [
        "%%capture\n",
        "# !pip install --upgrade pip\n",
        "!pip install transformers==4.28.0 datasets evaluate accelerate\n",
        "# !pip uninstall -y transformers\n",
        "# !pip install transformers accelerate\n",
        "!pip install torchaudio\n",
        "# !pip install numba==0.48\n",
        "!pip install librosa"
      ]
    },
    {
      "cell_type": "code",
      "execution_count": 2,
      "metadata": {
        "id": "ynO9Q30ltdJl",
        "tags": []
      },
      "outputs": [],
      "source": [
        "from sklearn.model_selection import train_test_split\n",
        "\n",
        "import os\n",
        "import sys"
      ]
    },
    {
      "cell_type": "markdown",
      "metadata": {
        "id": "j9SoDgTOq-HM",
        "tags": []
      },
      "source": [
        "## 2. Downloading, Storing, and Accessing (Loading) the Dataset\n",
        "\n",
        "There are two obvious ways to proceed: downloading the dataset and keep storing it locally or uploading it to Google Drive and working from there. The latter is especially useful when working in Google Colab, then you don't need to upload the whole dataset every time you start a new session. I will show both ways for clarity and operating system independence, but it will be in the form of a comment in the final version.\n",
        "\n",
        "After downloading the TORGO wav files from Kaggle [here](https://www.kaggle.com/datasets/iamhungundji/dysarthria-detection), I will load the individual TORGO wav files into a Python dictionary and put all of those dicts together into a list called **data**.\n",
        "\n",
        "**Note: The Google Drive method should only be used when working in a Google Colab environment. Then, uncomment the cell below to mount your Drive.**"
      ]
    },
    {
      "cell_type": "code",
      "execution_count": 3,
      "metadata": {
        "tags": [],
        "colab": {
          "base_uri": "https://localhost:8080/"
        },
        "id": "-QUXL_klk0xZ",
        "outputId": "c3e20e64-1304-4d40-805d-6ceb84de3c3c"
      },
      "outputs": [
        {
          "output_type": "stream",
          "name": "stdout",
          "text": [
            "Mounted at /content/drive\n"
          ]
        }
      ],
      "source": [
        "# Get access to Google Drive \n",
        "from google.colab import drive\n",
        "drive.mount('/content/drive')"
      ]
    },
    {
      "cell_type": "code",
      "execution_count": 4,
      "metadata": {
        "id": "aPD2jaW8oFmF",
        "tags": [],
        "colab": {
          "base_uri": "https://localhost:8080/"
        },
        "outputId": "ff44a144-fe5c-4ecc-90d6-a6f38b8ec820"
      },
      "outputs": [
        {
          "output_type": "stream",
          "name": "stderr",
          "text": [
            "139it [00:11, 75.77it/s]"
          ]
        },
        {
          "output_type": "stream",
          "name": "stdout",
          "text": [
            "/content/drive/MyDrive/bsc-ai-thesis/torgo_data/dysarthria_female/F01_Session1_0068.wav Failed to open the input \"/content/drive/MyDrive/bsc-ai-thesis/torgo_data/dysarthria_female/F01_Session1_0068.wav\" (Invalid data found when processing input).\n"
          ]
        },
        {
          "output_type": "stream",
          "name": "stderr",
          "text": [
            "2000it [00:36, 54.48it/s] \n"
          ]
        }
      ],
      "source": [
        "# str(path) returns something like: /content/drive/MyDrive/bsc-ai-thesis/torgo_data/dysarthria_female/F01_Session1_0002.wav\n",
        "# tqdm is used to create a smart progress bar for the loops, for example it shows loading time\n",
        "import glob\n",
        "import torchaudio\n",
        "from pathlib import Path\n",
        "from tqdm import tqdm\n",
        "\n",
        "# Specify where the folder with all audio data is stored\n",
        "# For Google Drive, use the first, for local, use the second\n",
        "folder_path = \"/content/drive/MyDrive/bsc-ai-thesis/torgo_data\"\n",
        "# folder_path = \"C:/Users/Gebruiker/Documents/bsc-ai-thesis/torgo_data\"\n",
        "\n",
        "data = []\n",
        "for path in tqdm(Path(folder_path).glob(\"**/*.wav\")):\n",
        "    path_str = str(path).replace('\\\\', '/')\n",
        "    name = str(path_str).split('/')[-1].split('.')[0]\n",
        "    label = str(path_str).split('/')[-2]\n",
        "    \n",
        "    try:\n",
        "        # There are some broken files\n",
        "        s = torchaudio.load(path)\n",
        "        data.append({\n",
        "            \"filename\": name,\n",
        "            \"path\": path_str,\n",
        "            \"disease_class\": label\n",
        "        })\n",
        "\n",
        "    except Exception as e:\n",
        "        print(str(path), e)\n",
        "        pass"
      ]
    },
    {
      "cell_type": "markdown",
      "metadata": {
        "id": "iuYf7wv993xP",
        "tags": []
      },
      "source": [
        "## 3. Exploratory Data Analysis (EDA)\n",
        "\n",
        "1.   Convert the previously assembled list of dicts into a Pandas DataFrame\n",
        "2.   Show the distribution of samples over the different categories\n",
        "3.   Load and play one random audio sample"
      ]
    },
    {
      "cell_type": "code",
      "execution_count": 5,
      "metadata": {
        "colab": {
          "base_uri": "https://localhost:8080/",
          "height": 206
        },
        "id": "VN1bSU4E8EZN",
        "outputId": "8c7d49aa-1181-4c4e-e6e6-faf0bbfa6987",
        "tags": []
      },
      "outputs": [
        {
          "output_type": "execute_result",
          "data": {
            "text/plain": [
              "            filename                                               path  \\\n",
              "0  F01_Session1_0006  /content/drive/MyDrive/bsc-ai-thesis/torgo_dat...   \n",
              "1  F01_Session1_0038  /content/drive/MyDrive/bsc-ai-thesis/torgo_dat...   \n",
              "2  F01_Session1_0015  /content/drive/MyDrive/bsc-ai-thesis/torgo_dat...   \n",
              "3  F01_Session1_0024  /content/drive/MyDrive/bsc-ai-thesis/torgo_dat...   \n",
              "4  F01_Session1_0053  /content/drive/MyDrive/bsc-ai-thesis/torgo_dat...   \n",
              "\n",
              "       disease_class  \n",
              "0  dysarthria_female  \n",
              "1  dysarthria_female  \n",
              "2  dysarthria_female  \n",
              "3  dysarthria_female  \n",
              "4  dysarthria_female  "
            ],
            "text/html": [
              "\n",
              "  <div id=\"df-fa3052c4-ecc8-4e8d-bf5d-47eabfd08717\">\n",
              "    <div class=\"colab-df-container\">\n",
              "      <div>\n",
              "<style scoped>\n",
              "    .dataframe tbody tr th:only-of-type {\n",
              "        vertical-align: middle;\n",
              "    }\n",
              "\n",
              "    .dataframe tbody tr th {\n",
              "        vertical-align: top;\n",
              "    }\n",
              "\n",
              "    .dataframe thead th {\n",
              "        text-align: right;\n",
              "    }\n",
              "</style>\n",
              "<table border=\"1\" class=\"dataframe\">\n",
              "  <thead>\n",
              "    <tr style=\"text-align: right;\">\n",
              "      <th></th>\n",
              "      <th>filename</th>\n",
              "      <th>path</th>\n",
              "      <th>disease_class</th>\n",
              "    </tr>\n",
              "  </thead>\n",
              "  <tbody>\n",
              "    <tr>\n",
              "      <th>0</th>\n",
              "      <td>F01_Session1_0006</td>\n",
              "      <td>/content/drive/MyDrive/bsc-ai-thesis/torgo_dat...</td>\n",
              "      <td>dysarthria_female</td>\n",
              "    </tr>\n",
              "    <tr>\n",
              "      <th>1</th>\n",
              "      <td>F01_Session1_0038</td>\n",
              "      <td>/content/drive/MyDrive/bsc-ai-thesis/torgo_dat...</td>\n",
              "      <td>dysarthria_female</td>\n",
              "    </tr>\n",
              "    <tr>\n",
              "      <th>2</th>\n",
              "      <td>F01_Session1_0015</td>\n",
              "      <td>/content/drive/MyDrive/bsc-ai-thesis/torgo_dat...</td>\n",
              "      <td>dysarthria_female</td>\n",
              "    </tr>\n",
              "    <tr>\n",
              "      <th>3</th>\n",
              "      <td>F01_Session1_0024</td>\n",
              "      <td>/content/drive/MyDrive/bsc-ai-thesis/torgo_dat...</td>\n",
              "      <td>dysarthria_female</td>\n",
              "    </tr>\n",
              "    <tr>\n",
              "      <th>4</th>\n",
              "      <td>F01_Session1_0053</td>\n",
              "      <td>/content/drive/MyDrive/bsc-ai-thesis/torgo_dat...</td>\n",
              "      <td>dysarthria_female</td>\n",
              "    </tr>\n",
              "  </tbody>\n",
              "</table>\n",
              "</div>\n",
              "      <button class=\"colab-df-convert\" onclick=\"convertToInteractive('df-fa3052c4-ecc8-4e8d-bf5d-47eabfd08717')\"\n",
              "              title=\"Convert this dataframe to an interactive table.\"\n",
              "              style=\"display:none;\">\n",
              "        \n",
              "  <svg xmlns=\"http://www.w3.org/2000/svg\" height=\"24px\"viewBox=\"0 0 24 24\"\n",
              "       width=\"24px\">\n",
              "    <path d=\"M0 0h24v24H0V0z\" fill=\"none\"/>\n",
              "    <path d=\"M18.56 5.44l.94 2.06.94-2.06 2.06-.94-2.06-.94-.94-2.06-.94 2.06-2.06.94zm-11 1L8.5 8.5l.94-2.06 2.06-.94-2.06-.94L8.5 2.5l-.94 2.06-2.06.94zm10 10l.94 2.06.94-2.06 2.06-.94-2.06-.94-.94-2.06-.94 2.06-2.06.94z\"/><path d=\"M17.41 7.96l-1.37-1.37c-.4-.4-.92-.59-1.43-.59-.52 0-1.04.2-1.43.59L10.3 9.45l-7.72 7.72c-.78.78-.78 2.05 0 2.83L4 21.41c.39.39.9.59 1.41.59.51 0 1.02-.2 1.41-.59l7.78-7.78 2.81-2.81c.8-.78.8-2.07 0-2.86zM5.41 20L4 18.59l7.72-7.72 1.47 1.35L5.41 20z\"/>\n",
              "  </svg>\n",
              "      </button>\n",
              "      \n",
              "  <style>\n",
              "    .colab-df-container {\n",
              "      display:flex;\n",
              "      flex-wrap:wrap;\n",
              "      gap: 12px;\n",
              "    }\n",
              "\n",
              "    .colab-df-convert {\n",
              "      background-color: #E8F0FE;\n",
              "      border: none;\n",
              "      border-radius: 50%;\n",
              "      cursor: pointer;\n",
              "      display: none;\n",
              "      fill: #1967D2;\n",
              "      height: 32px;\n",
              "      padding: 0 0 0 0;\n",
              "      width: 32px;\n",
              "    }\n",
              "\n",
              "    .colab-df-convert:hover {\n",
              "      background-color: #E2EBFA;\n",
              "      box-shadow: 0px 1px 2px rgba(60, 64, 67, 0.3), 0px 1px 3px 1px rgba(60, 64, 67, 0.15);\n",
              "      fill: #174EA6;\n",
              "    }\n",
              "\n",
              "    [theme=dark] .colab-df-convert {\n",
              "      background-color: #3B4455;\n",
              "      fill: #D2E3FC;\n",
              "    }\n",
              "\n",
              "    [theme=dark] .colab-df-convert:hover {\n",
              "      background-color: #434B5C;\n",
              "      box-shadow: 0px 1px 3px 1px rgba(0, 0, 0, 0.15);\n",
              "      filter: drop-shadow(0px 1px 2px rgba(0, 0, 0, 0.3));\n",
              "      fill: #FFFFFF;\n",
              "    }\n",
              "  </style>\n",
              "\n",
              "      <script>\n",
              "        const buttonEl =\n",
              "          document.querySelector('#df-fa3052c4-ecc8-4e8d-bf5d-47eabfd08717 button.colab-df-convert');\n",
              "        buttonEl.style.display =\n",
              "          google.colab.kernel.accessAllowed ? 'block' : 'none';\n",
              "\n",
              "        async function convertToInteractive(key) {\n",
              "          const element = document.querySelector('#df-fa3052c4-ecc8-4e8d-bf5d-47eabfd08717');\n",
              "          const dataTable =\n",
              "            await google.colab.kernel.invokeFunction('convertToInteractive',\n",
              "                                                     [key], {});\n",
              "          if (!dataTable) return;\n",
              "\n",
              "          const docLinkHtml = 'Like what you see? Visit the ' +\n",
              "            '<a target=\"_blank\" href=https://colab.research.google.com/notebooks/data_table.ipynb>data table notebook</a>'\n",
              "            + ' to learn more about interactive tables.';\n",
              "          element.innerHTML = '';\n",
              "          dataTable['output_type'] = 'display_data';\n",
              "          await google.colab.output.renderOutput(dataTable, element);\n",
              "          const docLink = document.createElement('div');\n",
              "          docLink.innerHTML = docLinkHtml;\n",
              "          element.appendChild(docLink);\n",
              "        }\n",
              "      </script>\n",
              "    </div>\n",
              "  </div>\n",
              "  "
            ]
          },
          "metadata": {},
          "execution_count": 5
        }
      ],
      "source": [
        "# Show how the Pandas dataframe looks like currently\n",
        "import pandas as pd\n",
        "df = pd.DataFrame(data)\n",
        "df.head()"
      ]
    },
    {
      "cell_type": "code",
      "execution_count": 6,
      "metadata": {
        "colab": {
          "base_uri": "https://localhost:8080/",
          "height": 206
        },
        "id": "nLgnxCwUuwt6",
        "outputId": "eb153460-9b54-4c52-d6f2-b0561fedb1e7",
        "tags": []
      },
      "outputs": [
        {
          "output_type": "execute_result",
          "data": {
            "text/plain": [
              "                       path\n",
              "disease_class              \n",
              "dysarthria_female       499\n",
              "dysarthria_male         500\n",
              "non_dysarthria_female   500\n",
              "non_dysarthria_male     500"
            ],
            "text/html": [
              "\n",
              "  <div id=\"df-c77816d6-238f-4465-867a-58876277b82f\">\n",
              "    <div class=\"colab-df-container\">\n",
              "      <div>\n",
              "<style scoped>\n",
              "    .dataframe tbody tr th:only-of-type {\n",
              "        vertical-align: middle;\n",
              "    }\n",
              "\n",
              "    .dataframe tbody tr th {\n",
              "        vertical-align: top;\n",
              "    }\n",
              "\n",
              "    .dataframe thead th {\n",
              "        text-align: right;\n",
              "    }\n",
              "</style>\n",
              "<table border=\"1\" class=\"dataframe\">\n",
              "  <thead>\n",
              "    <tr style=\"text-align: right;\">\n",
              "      <th></th>\n",
              "      <th>path</th>\n",
              "    </tr>\n",
              "    <tr>\n",
              "      <th>disease_class</th>\n",
              "      <th></th>\n",
              "    </tr>\n",
              "  </thead>\n",
              "  <tbody>\n",
              "    <tr>\n",
              "      <th>dysarthria_female</th>\n",
              "      <td>499</td>\n",
              "    </tr>\n",
              "    <tr>\n",
              "      <th>dysarthria_male</th>\n",
              "      <td>500</td>\n",
              "    </tr>\n",
              "    <tr>\n",
              "      <th>non_dysarthria_female</th>\n",
              "      <td>500</td>\n",
              "    </tr>\n",
              "    <tr>\n",
              "      <th>non_dysarthria_male</th>\n",
              "      <td>500</td>\n",
              "    </tr>\n",
              "  </tbody>\n",
              "</table>\n",
              "</div>\n",
              "      <button class=\"colab-df-convert\" onclick=\"convertToInteractive('df-c77816d6-238f-4465-867a-58876277b82f')\"\n",
              "              title=\"Convert this dataframe to an interactive table.\"\n",
              "              style=\"display:none;\">\n",
              "        \n",
              "  <svg xmlns=\"http://www.w3.org/2000/svg\" height=\"24px\"viewBox=\"0 0 24 24\"\n",
              "       width=\"24px\">\n",
              "    <path d=\"M0 0h24v24H0V0z\" fill=\"none\"/>\n",
              "    <path d=\"M18.56 5.44l.94 2.06.94-2.06 2.06-.94-2.06-.94-.94-2.06-.94 2.06-2.06.94zm-11 1L8.5 8.5l.94-2.06 2.06-.94-2.06-.94L8.5 2.5l-.94 2.06-2.06.94zm10 10l.94 2.06.94-2.06 2.06-.94-2.06-.94-.94-2.06-.94 2.06-2.06.94z\"/><path d=\"M17.41 7.96l-1.37-1.37c-.4-.4-.92-.59-1.43-.59-.52 0-1.04.2-1.43.59L10.3 9.45l-7.72 7.72c-.78.78-.78 2.05 0 2.83L4 21.41c.39.39.9.59 1.41.59.51 0 1.02-.2 1.41-.59l7.78-7.78 2.81-2.81c.8-.78.8-2.07 0-2.86zM5.41 20L4 18.59l7.72-7.72 1.47 1.35L5.41 20z\"/>\n",
              "  </svg>\n",
              "      </button>\n",
              "      \n",
              "  <style>\n",
              "    .colab-df-container {\n",
              "      display:flex;\n",
              "      flex-wrap:wrap;\n",
              "      gap: 12px;\n",
              "    }\n",
              "\n",
              "    .colab-df-convert {\n",
              "      background-color: #E8F0FE;\n",
              "      border: none;\n",
              "      border-radius: 50%;\n",
              "      cursor: pointer;\n",
              "      display: none;\n",
              "      fill: #1967D2;\n",
              "      height: 32px;\n",
              "      padding: 0 0 0 0;\n",
              "      width: 32px;\n",
              "    }\n",
              "\n",
              "    .colab-df-convert:hover {\n",
              "      background-color: #E2EBFA;\n",
              "      box-shadow: 0px 1px 2px rgba(60, 64, 67, 0.3), 0px 1px 3px 1px rgba(60, 64, 67, 0.15);\n",
              "      fill: #174EA6;\n",
              "    }\n",
              "\n",
              "    [theme=dark] .colab-df-convert {\n",
              "      background-color: #3B4455;\n",
              "      fill: #D2E3FC;\n",
              "    }\n",
              "\n",
              "    [theme=dark] .colab-df-convert:hover {\n",
              "      background-color: #434B5C;\n",
              "      box-shadow: 0px 1px 3px 1px rgba(0, 0, 0, 0.15);\n",
              "      filter: drop-shadow(0px 1px 2px rgba(0, 0, 0, 0.3));\n",
              "      fill: #FFFFFF;\n",
              "    }\n",
              "  </style>\n",
              "\n",
              "      <script>\n",
              "        const buttonEl =\n",
              "          document.querySelector('#df-c77816d6-238f-4465-867a-58876277b82f button.colab-df-convert');\n",
              "        buttonEl.style.display =\n",
              "          google.colab.kernel.accessAllowed ? 'block' : 'none';\n",
              "\n",
              "        async function convertToInteractive(key) {\n",
              "          const element = document.querySelector('#df-c77816d6-238f-4465-867a-58876277b82f');\n",
              "          const dataTable =\n",
              "            await google.colab.kernel.invokeFunction('convertToInteractive',\n",
              "                                                     [key], {});\n",
              "          if (!dataTable) return;\n",
              "\n",
              "          const docLinkHtml = 'Like what you see? Visit the ' +\n",
              "            '<a target=\"_blank\" href=https://colab.research.google.com/notebooks/data_table.ipynb>data table notebook</a>'\n",
              "            + ' to learn more about interactive tables.';\n",
              "          element.innerHTML = '';\n",
              "          dataTable['output_type'] = 'display_data';\n",
              "          await google.colab.output.renderOutput(dataTable, element);\n",
              "          const docLink = document.createElement('div');\n",
              "          docLink.innerHTML = docLinkHtml;\n",
              "          element.appendChild(docLink);\n",
              "        }\n",
              "      </script>\n",
              "    </div>\n",
              "  </div>\n",
              "  "
            ]
          },
          "metadata": {},
          "execution_count": 6
        }
      ],
      "source": [
        "# Show the distribution over the different categories or labels\n",
        "df.groupby(\"disease_class\").count()[[\"path\"]]"
      ]
    },
    {
      "cell_type": "markdown",
      "metadata": {
        "id": "Jt_9n5RZk0xc"
      },
      "source": [
        "Let's display a random sample of the dataset and run it a couple of times to get a feeling for the audio and the dysarthria label."
      ]
    },
    {
      "cell_type": "code",
      "execution_count": 7,
      "metadata": {
        "colab": {
          "base_uri": "https://localhost:8080/",
          "height": 128
        },
        "id": "r4f55Enzk0xd",
        "outputId": "c9700c96-6bf4-42b5-ad61-3a8f8822b85b"
      },
      "outputs": [
        {
          "output_type": "stream",
          "name": "stdout",
          "text": [
            "ID Location: 73\n",
            "      Label: dysarthria_female\n",
            "\n"
          ]
        },
        {
          "output_type": "execute_result",
          "data": {
            "text/plain": [
              "<IPython.lib.display.Audio object>"
            ],
            "text/html": [
              "\n",
              "                <audio  controls=\"controls\" autoplay=\"autoplay\">\n",
              "                    <source src=\"data:audio/wav;base64,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\" type=\"audio/wav\" />\n",
              "                    Your browser does not support the audio element.\n",
              "                </audio>\n",
              "              "
            ]
          },
          "metadata": {},
          "execution_count": 7
        }
      ],
      "source": [
        "import torchaudio\n",
        "import librosa\n",
        "import IPython.display as ipd\n",
        "import numpy as np\n",
        "\n",
        "idx = np.random.randint(0, len(df))\n",
        "sample = df.iloc[idx]\n",
        "path = sample[\"path\"]\n",
        "label = sample[\"disease_class\"]\n",
        "\n",
        "print(f\"ID Location: {idx}\")\n",
        "print(f\"      Label: {label}\")\n",
        "print()\n",
        "\n",
        "speech, sr = torchaudio.load(path)\n",
        "speech = speech[0].numpy().squeeze()\n",
        "speech = librosa.resample(np.asarray(speech), orig_sr=sr, target_sr=16_000)\n",
        "ipd.Audio(data=np.asarray(speech), autoplay=True, rate=16000)"
      ]
    },
    {
      "cell_type": "markdown",
      "metadata": {
        "id": "6vfypmKmgJke"
      },
      "source": [
        "## 4. Dataset Preprocessing\n",
        "\n",
        "There might be some inconsistencies in the data and some specific formats that are required by the Python packages I use.\n",
        "\n",
        "While initially loading the data locally, not in Google Colab, I already received the following error:\n",
        "\n",
        ">C:\\Users\\Gebruiker\\Documents\\bsc-ai-thesis\\torgo_data\\dysarthria_female\\F01_Session1_0068.wav Error opening 'C:\\\\Users\\\\Gebruiker\\\\Documents\\\\bsc-ai-thesis\\\\torgo_data\\\\dysarthria_female\\\\F01_Session1_0068.wav': File contains data in an unknown format.\n",
        "\n",
        "This was filtered out before, but I might want to check again if all the extracted paths really exist."
      ]
    },
    {
      "cell_type": "code",
      "execution_count": 8,
      "metadata": {
        "colab": {
          "base_uri": "https://localhost:8080/"
        },
        "id": "rW7CRRRLDNZG",
        "outputId": "d08fc34a-04be-4a68-a521-5bdeeee338c7"
      },
      "outputs": [
        {
          "output_type": "stream",
          "name": "stdout",
          "text": [
            "Step 0: 1999\n",
            "Step 1: 1999\n"
          ]
        }
      ],
      "source": [
        "import os\n",
        "\n",
        "# Filter broken and non-existed paths\n",
        "print(f\"Step 0: {len(df)}\")\n",
        "\n",
        "df[\"status\"] = df[\"path\"].apply(lambda path: True if os.path.exists(path) else None)\n",
        "df = df.dropna(subset=[\"path\"])\n",
        "df = df.drop(columns='status')\n",
        "\n",
        "print(f\"Step 1: {len(df)}\")\n",
        "\n",
        "df = df.sample(frac=1)\n",
        "df = df.reset_index(drop=True)"
      ]
    },
    {
      "cell_type": "markdown",
      "metadata": {
        "id": "-2G_5xcVe5pZ"
      },
      "source": [
        "Next, my goal is to train a model to recognize the presence or absence of dysarthria in speech, it would be appropriate to combine the four data folders into two categories: patients *with* the disease and patients *without* the disease. This will simplify the training process and ensure that the model is focused on recognizing the presence of dysarthria, instead of recognizing a gender. Let's see how many audio files each of the now two categories contain.\n",
        "\n",
        "It is noticeable that there was one instance of audio filtered out previously, specifically an instance of 'dysarthria'. The 1000 samples for each class, were reduced to 999 for 'dysarthria'."
      ]
    },
    {
      "cell_type": "code",
      "execution_count": 9,
      "metadata": {
        "colab": {
          "base_uri": "https://localhost:8080/",
          "height": 178
        },
        "id": "tNKnWN_2lA5z",
        "outputId": "54b7da38-5795-45b3-b980-58ccce34ebc3"
      },
      "outputs": [
        {
          "output_type": "stream",
          "name": "stdout",
          "text": [
            "Labels:  ['non_dysarthria' 'dysarthria']\n",
            "\n"
          ]
        },
        {
          "output_type": "execute_result",
          "data": {
            "text/plain": [
              "                path\n",
              "disease_class       \n",
              "dysarthria       999\n",
              "non_dysarthria  1000"
            ],
            "text/html": [
              "\n",
              "  <div id=\"df-f37037d4-ce03-4fbc-b94f-69da5d41a661\">\n",
              "    <div class=\"colab-df-container\">\n",
              "      <div>\n",
              "<style scoped>\n",
              "    .dataframe tbody tr th:only-of-type {\n",
              "        vertical-align: middle;\n",
              "    }\n",
              "\n",
              "    .dataframe tbody tr th {\n",
              "        vertical-align: top;\n",
              "    }\n",
              "\n",
              "    .dataframe thead th {\n",
              "        text-align: right;\n",
              "    }\n",
              "</style>\n",
              "<table border=\"1\" class=\"dataframe\">\n",
              "  <thead>\n",
              "    <tr style=\"text-align: right;\">\n",
              "      <th></th>\n",
              "      <th>path</th>\n",
              "    </tr>\n",
              "    <tr>\n",
              "      <th>disease_class</th>\n",
              "      <th></th>\n",
              "    </tr>\n",
              "  </thead>\n",
              "  <tbody>\n",
              "    <tr>\n",
              "      <th>dysarthria</th>\n",
              "      <td>999</td>\n",
              "    </tr>\n",
              "    <tr>\n",
              "      <th>non_dysarthria</th>\n",
              "      <td>1000</td>\n",
              "    </tr>\n",
              "  </tbody>\n",
              "</table>\n",
              "</div>\n",
              "      <button class=\"colab-df-convert\" onclick=\"convertToInteractive('df-f37037d4-ce03-4fbc-b94f-69da5d41a661')\"\n",
              "              title=\"Convert this dataframe to an interactive table.\"\n",
              "              style=\"display:none;\">\n",
              "        \n",
              "  <svg xmlns=\"http://www.w3.org/2000/svg\" height=\"24px\"viewBox=\"0 0 24 24\"\n",
              "       width=\"24px\">\n",
              "    <path d=\"M0 0h24v24H0V0z\" fill=\"none\"/>\n",
              "    <path d=\"M18.56 5.44l.94 2.06.94-2.06 2.06-.94-2.06-.94-.94-2.06-.94 2.06-2.06.94zm-11 1L8.5 8.5l.94-2.06 2.06-.94-2.06-.94L8.5 2.5l-.94 2.06-2.06.94zm10 10l.94 2.06.94-2.06 2.06-.94-2.06-.94-.94-2.06-.94 2.06-2.06.94z\"/><path d=\"M17.41 7.96l-1.37-1.37c-.4-.4-.92-.59-1.43-.59-.52 0-1.04.2-1.43.59L10.3 9.45l-7.72 7.72c-.78.78-.78 2.05 0 2.83L4 21.41c.39.39.9.59 1.41.59.51 0 1.02-.2 1.41-.59l7.78-7.78 2.81-2.81c.8-.78.8-2.07 0-2.86zM5.41 20L4 18.59l7.72-7.72 1.47 1.35L5.41 20z\"/>\n",
              "  </svg>\n",
              "      </button>\n",
              "      \n",
              "  <style>\n",
              "    .colab-df-container {\n",
              "      display:flex;\n",
              "      flex-wrap:wrap;\n",
              "      gap: 12px;\n",
              "    }\n",
              "\n",
              "    .colab-df-convert {\n",
              "      background-color: #E8F0FE;\n",
              "      border: none;\n",
              "      border-radius: 50%;\n",
              "      cursor: pointer;\n",
              "      display: none;\n",
              "      fill: #1967D2;\n",
              "      height: 32px;\n",
              "      padding: 0 0 0 0;\n",
              "      width: 32px;\n",
              "    }\n",
              "\n",
              "    .colab-df-convert:hover {\n",
              "      background-color: #E2EBFA;\n",
              "      box-shadow: 0px 1px 2px rgba(60, 64, 67, 0.3), 0px 1px 3px 1px rgba(60, 64, 67, 0.15);\n",
              "      fill: #174EA6;\n",
              "    }\n",
              "\n",
              "    [theme=dark] .colab-df-convert {\n",
              "      background-color: #3B4455;\n",
              "      fill: #D2E3FC;\n",
              "    }\n",
              "\n",
              "    [theme=dark] .colab-df-convert:hover {\n",
              "      background-color: #434B5C;\n",
              "      box-shadow: 0px 1px 3px 1px rgba(0, 0, 0, 0.15);\n",
              "      filter: drop-shadow(0px 1px 2px rgba(0, 0, 0, 0.3));\n",
              "      fill: #FFFFFF;\n",
              "    }\n",
              "  </style>\n",
              "\n",
              "      <script>\n",
              "        const buttonEl =\n",
              "          document.querySelector('#df-f37037d4-ce03-4fbc-b94f-69da5d41a661 button.colab-df-convert');\n",
              "        buttonEl.style.display =\n",
              "          google.colab.kernel.accessAllowed ? 'block' : 'none';\n",
              "\n",
              "        async function convertToInteractive(key) {\n",
              "          const element = document.querySelector('#df-f37037d4-ce03-4fbc-b94f-69da5d41a661');\n",
              "          const dataTable =\n",
              "            await google.colab.kernel.invokeFunction('convertToInteractive',\n",
              "                                                     [key], {});\n",
              "          if (!dataTable) return;\n",
              "\n",
              "          const docLinkHtml = 'Like what you see? Visit the ' +\n",
              "            '<a target=\"_blank\" href=https://colab.research.google.com/notebooks/data_table.ipynb>data table notebook</a>'\n",
              "            + ' to learn more about interactive tables.';\n",
              "          element.innerHTML = '';\n",
              "          dataTable['output_type'] = 'display_data';\n",
              "          await google.colab.output.renderOutput(dataTable, element);\n",
              "          const docLink = document.createElement('div');\n",
              "          docLink.innerHTML = docLinkHtml;\n",
              "          element.appendChild(docLink);\n",
              "        }\n",
              "      </script>\n",
              "    </div>\n",
              "  </div>\n",
              "  "
            ]
          },
          "metadata": {},
          "execution_count": 9
        }
      ],
      "source": [
        "# Eliminate difference between male and female and print distribbution\n",
        "df = df.replace({'disease_class' : {'dysarthria_female': 'dysarthria', 'dysarthria_male': 'dysarthria', 'non_dysarthria_female': 'non_dysarthria', 'non_dysarthria_male': 'non_dysarthria'}})\n",
        "print(\"Labels: \", df[\"disease_class\"].unique())\n",
        "print()\n",
        "df.groupby(\"disease_class\").count()[[\"path\"]]"
      ]
    },
    {
      "cell_type": "markdown",
      "metadata": {
        "id": "z1CGu00iYqNF"
      },
      "source": [
        "Hugging’s models require tensors as input. Since we are working with Hugging Face models, and they require a specific format as input, we convert our Pandas DataFrame to a Hugging Face [dataset](https://huggingface.co/docs/datasets/index) here. The samples from our dataset are already at 16000 kHz, but to be sure I include a resampling part here. Also, I will convert the 'path' column to a Hugging Face [audio feature](https://huggingface.co/docs/datasets/v2.12.0/en/package_reference/main_classes#datasets.Audio)."
      ]
    },
    {
      "cell_type": "code",
      "execution_count": 10,
      "metadata": {
        "colab": {
          "base_uri": "https://localhost:8080/",
          "height": 86,
          "referenced_widgets": [
            "a47c84667e6d41f7ab2c51ed50837402",
            "08e4a86e24f84f6881097fbd9c62ca27",
            "64f1be4f5733458f8db3d4dd174347f4",
            "215c361720244720be5674532fe6f5a5",
            "30718e231f2245a89e642f86afb0c9a3",
            "c12ae9365d6f4244a6ce701962341f76",
            "261c1a36c928498a8186654d139f859c",
            "5f02ba35c5f14ae6b6758678ab6165c9",
            "7899231ce8ac485ca319efe40944ca07",
            "54b66dfc48d349c4a73dc34008977def",
            "b552b6216f0a4380a93cc70e79274c37"
          ]
        },
        "id": "DPuxhE8_31wt",
        "outputId": "2f8effb5-9c09-4c10-d8c0-4068a9ebfe33"
      },
      "outputs": [
        {
          "output_type": "display_data",
          "data": {
            "text/plain": [
              "Casting the dataset:   0%|          | 0/1999 [00:00<?, ? examples/s]"
            ],
            "application/vnd.jupyter.widget-view+json": {
              "version_major": 2,
              "version_minor": 0,
              "model_id": "a47c84667e6d41f7ab2c51ed50837402"
            }
          },
          "metadata": {}
        },
        {
          "output_type": "execute_result",
          "data": {
            "text/plain": [
              "Dataset({\n",
              "    features: ['filename', 'audio', 'disease_class'],\n",
              "    num_rows: 1999\n",
              "})"
            ]
          },
          "metadata": {},
          "execution_count": 10
        }
      ],
      "source": [
        "from datasets import Dataset, Audio\n",
        "from datasets import ClassLabel\n",
        "\n",
        "# Conevrt Pandas DataFrame to Hugging Face Dataset\n",
        "dataset = Dataset.from_pandas(df)\n",
        "\n",
        "# Cast 'path' column to Hugging Face Audio feature and resample to 16kHz\n",
        "dataset = dataset.cast_column(\"path\", Audio(sampling_rate=16_000))\n",
        "dataset = dataset.rename_column(\"path\", \"audio\")\n",
        "\n",
        "# Change column names to Hugging Face ClassLabel instances\n",
        "disease_class = ClassLabel(num_classes = 2, names=[\"dysarthria\", \"non_dysarthria\"])\n",
        "dataset = dataset.cast_column(\"disease_class\", disease_class)\n",
        "\n",
        "dataset"
      ]
    },
    {
      "cell_type": "code",
      "execution_count": 11,
      "metadata": {
        "colab": {
          "base_uri": "https://localhost:8080/"
        },
        "id": "2Jw5vIF5uhbE",
        "outputId": "dfb39647-88b0-496c-c3eb-ffba4f56d747"
      },
      "outputs": [
        {
          "output_type": "execute_result",
          "data": {
            "text/plain": [
              "{'filename': Value(dtype='string', id=None),\n",
              " 'audio': Audio(sampling_rate=16000, mono=True, decode=True, id=None),\n",
              " 'disease_class': ClassLabel(names=['dysarthria', 'non_dysarthria'], id=None)}"
            ]
          },
          "metadata": {},
          "execution_count": 11
        }
      ],
      "source": [
        "dataset.features"
      ]
    },
    {
      "cell_type": "code",
      "execution_count": 12,
      "metadata": {
        "colab": {
          "base_uri": "https://localhost:8080/"
        },
        "id": "eZYLFSlb0ew4",
        "outputId": "be6e9392-b42a-4c63-b0e0-48edad5fc19c"
      },
      "outputs": [
        {
          "output_type": "execute_result",
          "data": {
            "text/plain": [
              "Audio(sampling_rate=16000, mono=True, decode=True, id=None)"
            ]
          },
          "metadata": {},
          "execution_count": 12
        }
      ],
      "source": [
        "dataset.features['audio']"
      ]
    },
    {
      "cell_type": "code",
      "execution_count": 13,
      "metadata": {
        "colab": {
          "base_uri": "https://localhost:8080/"
        },
        "id": "fKeiijNjseh6",
        "outputId": "89a968c9-9772-4fb0-8c87-0e6963a0624b"
      },
      "outputs": [
        {
          "output_type": "execute_result",
          "data": {
            "text/plain": [
              "ClassLabel(names=['dysarthria', 'non_dysarthria'], id=None)"
            ]
          },
          "metadata": {},
          "execution_count": 13
        }
      ],
      "source": [
        "dataset.features['disease_class']"
      ]
    },
    {
      "cell_type": "markdown",
      "metadata": {
        "id": "TNpPQnEsk0xi"
      },
      "source": [
        "## 5. Dataset Splitting (into a train- and test set)\n",
        "\n",
        "Difference between sklearn.model_selection.train_test_split and cross-validation:\n",
        "\n",
        "Cross-validation is used only when you have smaller datasets and cannot afford to get statistically representative samples after splitting the dataset."
      ]
    },
    {
      "cell_type": "code",
      "execution_count": 14,
      "metadata": {
        "colab": {
          "base_uri": "https://localhost:8080/"
        },
        "id": "ihFnV1YPDFWd",
        "outputId": "e2c72c2b-f5cd-4cd9-bf96-6ed9cd2cad4c"
      },
      "outputs": [
        {
          "output_type": "execute_result",
          "data": {
            "text/plain": [
              "DatasetDict({\n",
              "    train: Dataset({\n",
              "        features: ['filename', 'audio', 'disease_class'],\n",
              "        num_rows: 1599\n",
              "    })\n",
              "    test: Dataset({\n",
              "        features: ['filename', 'audio', 'disease_class'],\n",
              "        num_rows: 400\n",
              "    })\n",
              "})"
            ]
          },
          "metadata": {},
          "execution_count": 14
        }
      ],
      "source": [
        "# Since the dataset is not perfectly balanced after filtering, I could choose for stratifying here\n",
        "# Shuffle could be set to False for making a more honest comparison (orignal: shuffle=True)\n",
        "# train_df, test_df = train_test_split(df, test_size=0.2, random_state=101, stratify=df[\"dysarthria\"])\n",
        "dataset = dataset.train_test_split(test_size=0.2, shuffle=False)\n",
        "\n",
        "dataset\n",
        "\n",
        "# # We could save the splitted dataset here on Google Drive\n",
        "# save_path = \"/content/drive/MyDrive/bsc-ai-thesis/torgo_data\"\n",
        "# train_df = dataset[\"train\"].reset_index(drop=True)\n",
        "# test_df = dataset[\"test\"].reset_index(drop=True)\n",
        "# train_df.to_csv(f\"{save_path}/train.csv\", sep=\"\\t\", encoding=\"utf-8\", index=False)\n",
        "# test_df.to_csv(f\"{save_path}/test.csv\", sep=\"\\t\", encoding=\"utf-8\", index=False)"
      ]
    },
    {
      "cell_type": "code",
      "execution_count": 15,
      "metadata": {
        "colab": {
          "base_uri": "https://localhost:8080/"
        },
        "id": "E5lrVgizYNwL",
        "outputId": "e362bc54-397f-4a74-ea33-931d8e5f1a68"
      },
      "outputs": [
        {
          "output_type": "execute_result",
          "data": {
            "text/plain": [
              "{'audio': {'path': '/content/drive/MyDrive/bsc-ai-thesis/torgo_data/non_dysarthria_male/MC03_Session1_0130.wav',\n",
              "  'array': array([-0.00634766,  0.00900269,  0.01443481, ...,  0.00683594,\n",
              "          0.01138306,  0.02127075]),\n",
              "  'sampling_rate': 16000},\n",
              " 'disease_class': 1}"
            ]
          },
          "metadata": {},
          "execution_count": 15
        }
      ],
      "source": [
        "dataset = dataset.remove_columns([\"filename\"])\n",
        "dataset[\"train\"][0]"
      ]
    },
    {
      "cell_type": "markdown",
      "metadata": {
        "id": "kkKm5U9DShKL"
      },
      "source": [
        "To make it easier for the model to get the label name from the label id, create a dictionary that maps the label name to an integer and vice versa:"
      ]
    },
    {
      "cell_type": "code",
      "execution_count": 16,
      "metadata": {
        "id": "6Sebf3NoUQLr"
      },
      "outputs": [],
      "source": [
        "labels = dataset[\"train\"].features[\"disease_class\"].names\n",
        "label2id, id2label = dict(), dict()\n",
        "for i, label in enumerate(labels):\n",
        "    label2id[label] = str(i)\n",
        "    id2label[str(i)] = label"
      ]
    },
    {
      "cell_type": "markdown",
      "metadata": {
        "id": "QtRofxcnXZEP"
      },
      "source": [
        "Now you can convert the label id to a label name:"
      ]
    },
    {
      "cell_type": "code",
      "execution_count": 17,
      "metadata": {
        "colab": {
          "base_uri": "https://localhost:8080/",
          "height": 36
        },
        "id": "yfugCvk8XYP4",
        "outputId": "e456fc12-e533-4d52-8c0d-f558e24bc449"
      },
      "outputs": [
        {
          "output_type": "execute_result",
          "data": {
            "text/plain": [
              "'non_dysarthria'"
            ],
            "application/vnd.google.colaboratory.intrinsic+json": {
              "type": "string"
            }
          },
          "metadata": {},
          "execution_count": 17
        }
      ],
      "source": [
        "id2label[str(1)]"
      ]
    },
    {
      "cell_type": "code",
      "execution_count": 18,
      "metadata": {
        "id": "nqLU4MkKLZZ2"
      },
      "outputs": [],
      "source": [
        "# Loading the created dataset using datasets\n",
        "# from datasets import load_dataset, load_metric\n",
        "\n",
        "# data_files = {\n",
        "#     \"train\": \"/content/drive/MyDrive//bsc-ai-thesis/torgo_data/train.csv\", \n",
        "#     \"validation\": \"/content/drive/MyDrive//bsc-ai-thesis/torgo_data/test.csv\",\n",
        "# }\n",
        "\n",
        "# dataset = load_dataset(\"csv\", data_files=data_files, delimiter=\"\\t\", )\n",
        "# train_dataset = dataset[\"train\"]\n",
        "# eval_dataset = dataset[\"validation\"]\n",
        "\n",
        "# print(train_dataset)\n",
        "# print(eval_dataset)"
      ]
    },
    {
      "cell_type": "code",
      "execution_count": 19,
      "metadata": {
        "id": "xiDS2KyHLx2b"
      },
      "outputs": [],
      "source": [
        "# # We need to specify the input and output column\n",
        "# input_column = \"path\"\n",
        "# output_column = \"disease_class\""
      ]
    },
    {
      "cell_type": "code",
      "execution_count": 20,
      "metadata": {
        "id": "LsGCB0YTL41x"
      },
      "outputs": [],
      "source": [
        "# # we need to distinguish the unique labels in our Dysarthria dataset\n",
        "# label_list = train_dataset.unique(output_column)\n",
        "# label_list.sort()  # Let's sort it for determinism\n",
        "# num_labels = len(label_list)\n",
        "# print(f\"A classification problem with {num_labels} classes: {label_list}\")"
      ]
    },
    {
      "cell_type": "markdown",
      "metadata": {
        "id": "cThCNA8k2UZK"
      },
      "source": [
        "## Preprocess Data\n",
        "\n",
        "So far, we downloaded, loaded, and split the Dysarhtria dataset into train and test sets.\n",
        "\n",
        "Now, we need to extract features from the audio path in context representation tensors and feed them into our classification model to determine the presence of dysarthria in the speech.\n",
        "\n",
        "Therefore, the next step is to load a Wav2Vec2 feature extractor to process the audio signal:"
      ]
    },
    {
      "cell_type": "code",
      "execution_count": 21,
      "metadata": {
        "colab": {
          "base_uri": "https://localhost:8080/",
          "height": 136,
          "referenced_widgets": [
            "cf3fdd7d91bb4c7a97c2b33cdb6d79fa",
            "78336c3e7bad4b1f9f28df0e9d324b83",
            "c6e8d40be510468483c98a91d09f44d8",
            "6e0ad28ba6d241b493a37f62a583c79b",
            "12bb79b2ec2f4e12b3e9fae85e6c548a",
            "0b5eedf84a034c9ea5e6098dee5134f2",
            "a530d1d45f104d908c529f303dd70822",
            "235cdefc8709458c9d2b8d56be8ff2d8",
            "77cdd63597784bf29d5d0d799bca8f88",
            "1ef34211aa2f43f6bd45f81c806c9650",
            "9b911d483b924b8185bf837ff578f511",
            "b905b18d43d34009b9879761dc85a336",
            "498942530ebf46b1b2b1d4557bfdb0ae",
            "fd6cac5862914cfdb9da69581cfcde76",
            "e8840931b24846a39643d5928b40ab7a",
            "8448ddcaa1304998b22d7a16bfc287e3",
            "c0959f15cb5b43c0ba7b0d60264926e7",
            "cb2a2b7483c74eb7846aad34d5a2b44c",
            "1d4d3f6dd1c74268931e2fca0699ff92",
            "35dfa35c638e40f4a055c39186b87850",
            "c61145dff49948e9a32a9f9ec3dcc3ec",
            "6429fff20012416886586b41a82aa847"
          ]
        },
        "id": "fauoIEV53iw8",
        "outputId": "a3600dc3-6e90-43b9-bda3-bfa6c3f0c814"
      },
      "outputs": [
        {
          "output_type": "display_data",
          "data": {
            "text/plain": [
              "Downloading (…)rocessor_config.json:   0%|          | 0.00/159 [00:00<?, ?B/s]"
            ],
            "application/vnd.jupyter.widget-view+json": {
              "version_major": 2,
              "version_minor": 0,
              "model_id": "cf3fdd7d91bb4c7a97c2b33cdb6d79fa"
            }
          },
          "metadata": {}
        },
        {
          "output_type": "display_data",
          "data": {
            "text/plain": [
              "Downloading (…)lve/main/config.json:   0%|          | 0.00/1.84k [00:00<?, ?B/s]"
            ],
            "application/vnd.jupyter.widget-view+json": {
              "version_major": 2,
              "version_minor": 0,
              "model_id": "b905b18d43d34009b9879761dc85a336"
            }
          },
          "metadata": {}
        },
        {
          "output_type": "stream",
          "name": "stderr",
          "text": [
            "/usr/local/lib/python3.10/dist-packages/transformers/configuration_utils.py:379: UserWarning: Passing `gradient_checkpointing` to a config initialization is deprecated and will be removed in v5 Transformers. Using `model.gradient_checkpointing_enable()` instead, or if you are using the `Trainer` API, pass `gradient_checkpointing=True` in your `TrainingArguments`.\n",
            "  warnings.warn(\n"
          ]
        }
      ],
      "source": [
        "# from transformers import Wav2Vec2FeatureExtractor\n",
        "\n",
        "# feature_extractor = Wav2Vec2FeatureExtractor(feature_size=1, sampling_rate=16000, padding_value=0.0, do_normalize=True, return_attention_mask=False)\n",
        "\n",
        "from transformers import AutoFeatureExtractor\n",
        "\n",
        "feature_extractor = AutoFeatureExtractor.from_pretrained(\"facebook/wav2vec2-base\")"
      ]
    },
    {
      "cell_type": "code",
      "execution_count": 22,
      "metadata": {
        "colab": {
          "base_uri": "https://localhost:8080/"
        },
        "id": "MQGqFxn0Gi2B",
        "outputId": "3a2d877e-ee21-4cc0-af9e-871bea5ff3cb"
      },
      "outputs": [
        {
          "output_type": "execute_result",
          "data": {
            "text/plain": [
              "{'audio': {'path': '/content/drive/MyDrive/bsc-ai-thesis/torgo_data/non_dysarthria_male/MC03_Session1_0130.wav',\n",
              "  'array': array([-0.00634766,  0.00900269,  0.01443481, ...,  0.00683594,\n",
              "          0.01138306,  0.02127075]),\n",
              "  'sampling_rate': 16000},\n",
              " 'disease_class': 1}"
            ]
          },
          "metadata": {},
          "execution_count": 22
        }
      ],
      "source": [
        "dataset = dataset.cast_column(\"audio\", Audio(sampling_rate=16_000))\n",
        "dataset[\"train\"][0]"
      ]
    },
    {
      "cell_type": "markdown",
      "metadata": {
        "id": "2a_IFzGIaRR4"
      },
      "source": [
        "Now create a preprocessing function that:\n",
        "\n",
        "1. Calls the `audio` column to load, and if necessary, resample the audio file. (is already at required sample rate.)\n",
        "2. Checks if the sampling rate of the audio file matches the sampling rate of the audio data a model was pretrained with. You can find this information in the Wav2Vec2 [model card](https://huggingface.co/facebook/wav2vec2-base).\n",
        "3. Set a maximum input length to batch longer inputs without truncating them."
      ]
    },
    {
      "cell_type": "code",
      "execution_count": 23,
      "metadata": {
        "id": "XJxBMeEiT4Nz"
      },
      "outputs": [],
      "source": [
        "# !!! Read more about maximum length, truncation, padding and the feature_extractor\n",
        "def preprocess_function(examples):\n",
        "    audio_arrays = [x[\"array\"] for x in examples[\"audio\"]]\n",
        "    inputs = feature_extractor(\n",
        "        audio_arrays, sampling_rate=feature_extractor.sampling_rate, max_length=16000, truncation=True, padding=True\n",
        "    )\n",
        "    return inputs"
      ]
    },
    {
      "cell_type": "markdown",
      "metadata": {
        "id": "5j-K71SLT4Nz"
      },
      "source": [
        "To apply the preprocessing function over the entire dataset, use 🤗 Datasets [map](https://huggingface.co/docs/datasets/main/en/package_reference/main_classes#datasets.Dataset.map) function. You can speed up `map` by setting `batched=True` to process multiple elements of the dataset at once. Remove the columns you don't need, and rename `intent_class` to `label` because that's the name the model expects:"
      ]
    },
    {
      "cell_type": "code",
      "execution_count": 24,
      "metadata": {
        "colab": {
          "base_uri": "https://localhost:8080/",
          "height": 17,
          "referenced_widgets": [
            "bfa81c212534477fb0b9b3c0e0306a40",
            "14ffe34625bd430faca3ac18626d7509",
            "83bd506f8f154f28b27d32f677af26df",
            "5fd50e8f2cfa4164b0325a8c5d13475b",
            "50176f2c28c7409982629e198f0d4b67",
            "2a054de95fc94580bde044c9b70c6dff",
            "4e225d731dc243c686ce4efbe6d2144a",
            "dd85b1968ef246309d0f748fb9402647",
            "360280014d994566b1af8d217a01711d",
            "78007067707c404fb32bf0d80a3c5457",
            "bd2c280ce5a94bd49be34d7bb310cfc8",
            "0a2cc121d9c24a4fb40f34d4608953c7",
            "b34de20e538146cc8cf371ad6b75d45e",
            "1613b27555f34429a0bf5d846035023d",
            "342af178eddf47b5bdcb73440c479c7a",
            "a751e3f64ae74fe491aa92333722425c",
            "b13dedc17bf64b12b3abc597c7466b0f",
            "5a48b0f94ec04546a4bb4da6c83951c7",
            "26d1461e7d534c9f91e3e050a15edd87",
            "8ba087310abd4eae9216233e8b95f0cb",
            "0aa81e37ad97471f8f73e73e9f3cae18",
            "6377543d57f84cb38c14214637756a09"
          ]
        },
        "id": "uciGO_igT4Nz",
        "outputId": "299d45c4-97d8-4d8b-8cef-f1319b6761e0"
      },
      "outputs": [
        {
          "output_type": "display_data",
          "data": {
            "text/plain": [
              "Map:   0%|          | 0/1599 [00:00<?, ? examples/s]"
            ],
            "application/vnd.jupyter.widget-view+json": {
              "version_major": 2,
              "version_minor": 0,
              "model_id": "bfa81c212534477fb0b9b3c0e0306a40"
            }
          },
          "metadata": {}
        },
        {
          "output_type": "display_data",
          "data": {
            "text/plain": [
              "Map:   0%|          | 0/400 [00:00<?, ? examples/s]"
            ],
            "application/vnd.jupyter.widget-view+json": {
              "version_major": 2,
              "version_minor": 0,
              "model_id": "0a2cc121d9c24a4fb40f34d4608953c7"
            }
          },
          "metadata": {}
        }
      ],
      "source": [
        "np.warnings.filterwarnings('error', category=np.VisibleDeprecationWarning)\n",
        "\n",
        "encoded_torgo = dataset.map(preprocess_function, remove_columns=\"audio\", batched=True)\n",
        "encoded_torgo = encoded_torgo.rename_column(\"disease_class\", \"label\")"
      ]
    },
    {
      "cell_type": "markdown",
      "metadata": {
        "id": "31DXDD0Fasey"
      },
      "source": [
        "## Evaluate\n",
        "\n",
        "Including a metric during training is often helpful for evaluating your model's performance. You can quickly load a evaluation method with the 🤗 [Evaluate](https://huggingface.co/docs/evaluate/index) library. For this task, load the [accuracy](https://huggingface.co/spaces/evaluate-metric/accuracy) metric (see the 🤗 Evaluate [quick tour](https://huggingface.co/docs/evaluate/a_quick_tour) to learn more about how to load and compute a metric):"
      ]
    },
    {
      "cell_type": "code",
      "execution_count": 25,
      "metadata": {
        "colab": {
          "base_uri": "https://localhost:8080/",
          "height": 49,
          "referenced_widgets": [
            "284e2c7f59444a0b8195ec3740687eae",
            "e940614f04df45358a47b5ecf16ea844",
            "5bc9fd64f8bb4920b45f6e253dcf7035",
            "d36b219958f54c25b6c458ff6c305d01",
            "4949a8b71f384804b8b83122bc24e011",
            "83ad79df96b944ada6b99513772dd0fc",
            "2debce6fb8f24a919cfa9ae6560a8bc0",
            "7a7224b1d56e49928dbf4eadf921b137",
            "a27950147e0343f7966f9b9ba85c714b",
            "5c6c204fac9f40488274b4ad341e0dea",
            "41254d6210b845e097c1ea6e6879a878"
          ]
        },
        "id": "hSj2gmj7aQ7N",
        "outputId": "51fb641f-eeb6-4129-8841-d1000c390775"
      },
      "outputs": [
        {
          "output_type": "display_data",
          "data": {
            "text/plain": [
              "Downloading builder script:   0%|          | 0.00/4.20k [00:00<?, ?B/s]"
            ],
            "application/vnd.jupyter.widget-view+json": {
              "version_major": 2,
              "version_minor": 0,
              "model_id": "284e2c7f59444a0b8195ec3740687eae"
            }
          },
          "metadata": {}
        }
      ],
      "source": [
        "import evaluate\n",
        "\n",
        "accuracy = evaluate.load(\"accuracy\")"
      ]
    },
    {
      "cell_type": "markdown",
      "metadata": {
        "id": "uDQismtIcnfe"
      },
      "source": [
        "Then create a function that passes your predictions and labels to [compute](https://huggingface.co/docs/evaluate/main/en/package_reference/main_classes#evaluate.EvaluationModule.compute) the accuracy:"
      ]
    },
    {
      "cell_type": "code",
      "execution_count": 26,
      "metadata": {
        "id": "fCM7GCrFffrL"
      },
      "outputs": [],
      "source": [
        "import numpy as np\n",
        "\n",
        "def compute_metrics(eval_pred):\n",
        "    predictions = np.argmax(eval_pred.predictions, axis=1)\n",
        "    return accuracy.compute(predictions=predictions, references=eval_pred.label_ids)"
      ]
    },
    {
      "cell_type": "markdown",
      "metadata": {
        "id": "KKo7T7Kxcuwd"
      },
      "source": [
        "Your compute_metrics function is ready to go now, and you'll return to it when you setup your training."
      ]
    },
    {
      "cell_type": "markdown",
      "metadata": {
        "id": "aHZSWVHacw2O"
      },
      "source": [
        "##Train\n",
        "\n",
        "Now, I am ready to start training my model! I load Wav2Vec2 with AutoModelForAudioClassification along with the number of expected labels, and the label mappings:"
      ]
    },
    {
      "cell_type": "code",
      "execution_count": 27,
      "metadata": {
        "colab": {
          "base_uri": "https://localhost:8080/",
          "height": 190,
          "referenced_widgets": [
            "c396f95066c14a44bc58ef0f70a771a7",
            "58ce7f5a28934445910cf29a3a4fab5f",
            "e7c5b9de0da9478e8142f3242f359d03",
            "ec601700b8ae42c48b43aa1e1f8e2bb2",
            "a43982b45f704292b97bbd03b1db8e4e",
            "a06723d7f5c84d598e575fb8d9111ea6",
            "be8ac9f21fb944ac95a4eef92ec97c01",
            "2cdf0fb9398b4fd5ad74ae7b5819cb4a",
            "c2e75438ef434b97a9e7ff74b5f8333b",
            "e6e20c2c04194ba298e169b1d0f0085c",
            "0daec7f7c37848ecb1bf5ae207536752"
          ]
        },
        "id": "HEMiNzTrcwLe",
        "outputId": "3928ffb5-5e5c-4d12-ef97-2ec49d724c99"
      },
      "outputs": [
        {
          "output_type": "stream",
          "name": "stderr",
          "text": [
            "/usr/local/lib/python3.10/dist-packages/transformers/configuration_utils.py:379: UserWarning: Passing `gradient_checkpointing` to a config initialization is deprecated and will be removed in v5 Transformers. Using `model.gradient_checkpointing_enable()` instead, or if you are using the `Trainer` API, pass `gradient_checkpointing=True` in your `TrainingArguments`.\n",
            "  warnings.warn(\n"
          ]
        },
        {
          "output_type": "display_data",
          "data": {
            "text/plain": [
              "Downloading pytorch_model.bin:   0%|          | 0.00/380M [00:00<?, ?B/s]"
            ],
            "application/vnd.jupyter.widget-view+json": {
              "version_major": 2,
              "version_minor": 0,
              "model_id": "c396f95066c14a44bc58ef0f70a771a7"
            }
          },
          "metadata": {}
        },
        {
          "output_type": "stream",
          "name": "stderr",
          "text": [
            "Some weights of the model checkpoint at facebook/wav2vec2-base were not used when initializing Wav2Vec2ForSequenceClassification: ['quantizer.codevectors', 'quantizer.weight_proj.weight', 'project_q.bias', 'project_q.weight', 'project_hid.weight', 'project_hid.bias', 'quantizer.weight_proj.bias']\n",
            "- This IS expected if you are initializing Wav2Vec2ForSequenceClassification from the checkpoint of a model trained on another task or with another architecture (e.g. initializing a BertForSequenceClassification model from a BertForPreTraining model).\n",
            "- This IS NOT expected if you are initializing Wav2Vec2ForSequenceClassification from the checkpoint of a model that you expect to be exactly identical (initializing a BertForSequenceClassification model from a BertForSequenceClassification model).\n",
            "Some weights of Wav2Vec2ForSequenceClassification were not initialized from the model checkpoint at facebook/wav2vec2-base and are newly initialized: ['classifier.bias', 'classifier.weight', 'projector.weight', 'projector.bias']\n",
            "You should probably TRAIN this model on a down-stream task to be able to use it for predictions and inference.\n"
          ]
        }
      ],
      "source": [
        "from transformers import AutoModelForAudioClassification, TrainingArguments, Trainer\n",
        "\n",
        "num_labels = len(id2label)\n",
        "model = AutoModelForAudioClassification.from_pretrained(\n",
        "    \"facebook/wav2vec2-base\", num_labels=num_labels, label2id=label2id, id2label=id2label\n",
        ")"
      ]
    },
    {
      "cell_type": "markdown",
      "metadata": {
        "id": "OAHHpv-Mducz"
      },
      "source": [
        "At this point, only three steps remain:\n",
        "\n",
        "1. Define your training hyperparameters in [TrainingArguments](https://huggingface.co/docs/transformers/main/en/main_classes/trainer#transformers.TrainingArguments). The only required parameter is `output_dir` which specifies where to save your model. You can push the model to the HuggingFace Hub by setting `push_to_hub=True` (you need to be signed in to Hugging Face with your token to upload your model). At the end of each epoch, the [Trainer](https://huggingface.co/docs/transformers/main/en/main_classes/trainer#transformers.Trainer) will evaluate the accuracy and save the training checkpoint.\n",
        "2. Pass the training arguments to [Trainer](https://huggingface.co/docs/transformers/main/en/main_classes/trainer#transformers.Trainer) along with the model, dataset, tokenizer, data collator, and `compute_metrics` function.\n",
        "3. Call [train()](https://huggingface.co/docs/transformers/main/en/main_classes/trainer#transformers.Trainer.train) to finetune your model."
      ]
    },
    {
      "cell_type": "code",
      "execution_count": 28,
      "metadata": {
        "colab": {
          "base_uri": "https://localhost:8080/",
          "height": 478
        },
        "id": "xW7r7hBddsac",
        "outputId": "4242aec8-effa-4460-db3e-cafd6c45304b"
      },
      "outputs": [
        {
          "output_type": "stream",
          "name": "stderr",
          "text": [
            "/usr/local/lib/python3.10/dist-packages/transformers/optimization.py:391: FutureWarning: This implementation of AdamW is deprecated and will be removed in a future version. Use the PyTorch implementation torch.optim.AdamW instead, or set `no_deprecation_warning=True` to disable this warning\n",
            "  warnings.warn(\n"
          ]
        },
        {
          "output_type": "display_data",
          "data": {
            "text/plain": [
              "<IPython.core.display.HTML object>"
            ],
            "text/html": [
              "\n",
              "    <div>\n",
              "      \n",
              "      <progress value='120' max='120' style='width:300px; height:20px; vertical-align: middle;'></progress>\n",
              "      [120/120 08:31, Epoch 9/10]\n",
              "    </div>\n",
              "    <table border=\"1\" class=\"dataframe\">\n",
              "  <thead>\n",
              " <tr style=\"text-align: left;\">\n",
              "      <th>Epoch</th>\n",
              "      <th>Training Loss</th>\n",
              "      <th>Validation Loss</th>\n",
              "      <th>Accuracy</th>\n",
              "    </tr>\n",
              "  </thead>\n",
              "  <tbody>\n",
              "    <tr>\n",
              "      <td>0</td>\n",
              "      <td>0.676100</td>\n",
              "      <td>0.700923</td>\n",
              "      <td>0.542500</td>\n",
              "    </tr>\n",
              "    <tr>\n",
              "      <td>2</td>\n",
              "      <td>0.587900</td>\n",
              "      <td>0.624355</td>\n",
              "      <td>0.690000</td>\n",
              "    </tr>\n",
              "    <tr>\n",
              "      <td>2</td>\n",
              "      <td>0.525400</td>\n",
              "      <td>0.516715</td>\n",
              "      <td>0.775000</td>\n",
              "    </tr>\n",
              "    <tr>\n",
              "      <td>4</td>\n",
              "      <td>0.510400</td>\n",
              "      <td>0.573275</td>\n",
              "      <td>0.755000</td>\n",
              "    </tr>\n",
              "    <tr>\n",
              "      <td>4</td>\n",
              "      <td>0.456000</td>\n",
              "      <td>0.484953</td>\n",
              "      <td>0.815000</td>\n",
              "    </tr>\n",
              "    <tr>\n",
              "      <td>6</td>\n",
              "      <td>0.409600</td>\n",
              "      <td>0.427611</td>\n",
              "      <td>0.852500</td>\n",
              "    </tr>\n",
              "    <tr>\n",
              "      <td>6</td>\n",
              "      <td>0.446700</td>\n",
              "      <td>0.421833</td>\n",
              "      <td>0.837500</td>\n",
              "    </tr>\n",
              "    <tr>\n",
              "      <td>8</td>\n",
              "      <td>0.342100</td>\n",
              "      <td>0.411524</td>\n",
              "      <td>0.840000</td>\n",
              "    </tr>\n",
              "    <tr>\n",
              "      <td>8</td>\n",
              "      <td>0.312500</td>\n",
              "      <td>0.406416</td>\n",
              "      <td>0.840000</td>\n",
              "    </tr>\n",
              "    <tr>\n",
              "      <td>9</td>\n",
              "      <td>0.335500</td>\n",
              "      <td>0.442094</td>\n",
              "      <td>0.827500</td>\n",
              "    </tr>\n",
              "  </tbody>\n",
              "</table><p>"
            ]
          },
          "metadata": {}
        },
        {
          "output_type": "execute_result",
          "data": {
            "text/plain": [
              "TrainOutput(global_step=120, training_loss=0.45850373307863873, metrics={'train_runtime': 525.4663, 'train_samples_per_second': 30.43, 'train_steps_per_second': 0.228, 'total_flos': 1.3936608965664e+17, 'train_loss': 0.45850373307863873, 'epoch': 9.6})"
            ]
          },
          "metadata": {},
          "execution_count": 28
        }
      ],
      "source": [
        "training_args = TrainingArguments(\n",
        "    output_dir=\"my_awesome_torgo_model_non_shuffled\",\n",
        "    evaluation_strategy=\"epoch\",\n",
        "    save_strategy=\"epoch\",\n",
        "    learning_rate=3e-5,\n",
        "    per_device_train_batch_size=32,\n",
        "    gradient_accumulation_steps=4,\n",
        "    per_device_eval_batch_size=32,\n",
        "    num_train_epochs=10,\n",
        "    warmup_ratio=0.1,\n",
        "    logging_steps=10,\n",
        "    load_best_model_at_end=True,\n",
        "    metric_for_best_model=\"accuracy\",\n",
        "    push_to_hub=False,\n",
        ")\n",
        "  \n",
        "# Here - and before the train and test set are being used\n",
        "# the terms 'test' and 'evalutation' are being used mixed up\n",
        "trainer = Trainer(\n",
        "    model=model,\n",
        "    args=training_args,\n",
        "    train_dataset=encoded_torgo[\"train\"],\n",
        "    eval_dataset=encoded_torgo[\"test\"],\n",
        "    tokenizer=feature_extractor,\n",
        "    compute_metrics=compute_metrics,\n",
        ")\n",
        "\n",
        "trainer.train()"
      ]
    },
    {
      "cell_type": "markdown",
      "metadata": {
        "id": "OWZOdd5cepmv"
      },
      "source": [
        "Once training is completed, share my model to the Hub with the [push_to_hub()](https://huggingface.co/docs/transformers/main/en/main_classes/trainer#transformers.Trainer.push_to_hub) method so everyone can use my model:"
      ]
    },
    {
      "cell_type": "code",
      "execution_count": 29,
      "metadata": {
        "id": "DXeLLmRcepUv"
      },
      "outputs": [],
      "source": [
        "# trainer.push_to_hub()"
      ]
    },
    {
      "cell_type": "markdown",
      "metadata": {
        "id": "bvuE2m6seyo1"
      },
      "source": [
        "## Inference\n",
        "\n",
        "Great, now that the mode is finetuned, I can use it for inference!\n",
        "\n",
        "I load an audio file that I'd like to run inference on. \n",
        "\n",
        "Remember to resample the sampling rate of the audio file to match the sampling rate of the model if you need to!"
      ]
    },
    {
      "cell_type": "code",
      "execution_count": 30,
      "metadata": {
        "id": "frID1pMygvUb"
      },
      "outputs": [],
      "source": [
        "# from datasets import load_dataset, Audio\n",
        "\n",
        "# dataset = load_dataset(\"PolyAI/minds14\", name=\"en-US\", split=\"train\")\n",
        "# dataset = dataset.cast_column(\"audio\", Audio(sampling_rate=16000))\n",
        "# sampling_rate = dataset.features[\"audio\"].sampling_rate\n",
        "# audio_file = dataset[0][\"audio\"][\"path\"]"
      ]
    },
    {
      "cell_type": "markdown",
      "metadata": {
        "id": "QtkFD2Xsgv9g"
      },
      "source": [
        "The simplest way to try out your finetuned model for inference is to use it in a [pipeline()](https://huggingface.co/docs/transformers/main/en/main_classes/pipelines#transformers.pipeline). Instantiate a `pipeline` for audio classification with your model, and pass your audio file to it:"
      ]
    },
    {
      "cell_type": "code",
      "execution_count": 31,
      "metadata": {
        "colab": {
          "base_uri": "https://localhost:8080/",
          "height": 148,
          "referenced_widgets": [
            "f526de5e718446febb88cbb4c2ee798a",
            "54dd7354c34c4a65bfcfc8d986068c4c",
            "5b8e5137f010455a8d4acdc0d31ee58d",
            "5dc5978b78714c66915a8e512f18c0a7",
            "d427429e1d224821963125c60fdefd44",
            "3a3e781b631b4217bdba2837a37547f0",
            "e9960699ed55471fb016df1feafa8a89",
            "585610a1bd55440e9a277f3a1ad4a5c3",
            "dd6a9236f04a4760be3a7986bf2f0794",
            "94bc890cef6547bb9ad95954c9f22a3e",
            "6a0cdc3a5ad64dfe936efa5c946ab045",
            "87c66c416ddf42cda819908365d91fb4",
            "90ae4d9a8e51478ca7e6a3fb5c903b83",
            "38fadc422f5a4431ab32993961f910cc",
            "1cc5cc04e72740669f68ee525fea7278",
            "f016fb19b8054dccbf63e178eea1a5b7",
            "6da92d0d085a4e88bc671e95aaf60fe8",
            "7290675182394a87b16d319253cecde5",
            "47708ffb8830484fabb4ed37a5d0e508",
            "f4f2b159d1c74be6b75f3a32e645a397",
            "edc53156ab8e41629188158ab71e3e9b",
            "def61472a3064bf6b5a32d7dc7f386af",
            "45db99bc29cb4331ae86ebcb7a7367c3",
            "3c43b4eccb3c4f4aa725a9ce049bdd5a",
            "982fd17d78f247ee9e18f549234ab0d1",
            "1e052b04e7704bef8af2a047592960f4",
            "6b291e6f275142ed916f41e721a29c4f",
            "2e8c82dfab16401184b2cb9ebdacffba",
            "442728d523cf446d902a72c9873feb75",
            "ba0c7588e8d04980991fcb1b2ac05220",
            "9baaa41b8f9d403ca0879d76900c9165",
            "a1cc18fcebaf4d228ecd9c54b2bee56a",
            "d418d0ba84b44f46aa13444e1e5572b6"
          ]
        },
        "id": "GPIWQwkbe0TE",
        "outputId": "1c6f6de2-87e8-42f1-ee9a-300358a7c5e7"
      },
      "outputs": [
        {
          "output_type": "display_data",
          "data": {
            "text/plain": [
              "Downloading (…)lve/main/config.json:   0%|          | 0.00/2.50k [00:00<?, ?B/s]"
            ],
            "application/vnd.jupyter.widget-view+json": {
              "version_major": 2,
              "version_minor": 0,
              "model_id": "f526de5e718446febb88cbb4c2ee798a"
            }
          },
          "metadata": {}
        },
        {
          "output_type": "display_data",
          "data": {
            "text/plain": [
              "Downloading pytorch_model.bin:   0%|          | 0.00/378M [00:00<?, ?B/s]"
            ],
            "application/vnd.jupyter.widget-view+json": {
              "version_major": 2,
              "version_minor": 0,
              "model_id": "87c66c416ddf42cda819908365d91fb4"
            }
          },
          "metadata": {}
        },
        {
          "output_type": "display_data",
          "data": {
            "text/plain": [
              "Downloading (…)rocessor_config.json:   0%|          | 0.00/215 [00:00<?, ?B/s]"
            ],
            "application/vnd.jupyter.widget-view+json": {
              "version_major": 2,
              "version_minor": 0,
              "model_id": "45db99bc29cb4331ae86ebcb7a7367c3"
            }
          },
          "metadata": {}
        },
        {
          "output_type": "execute_result",
          "data": {
            "text/plain": [
              "[{'score': 0.8873335123062134, 'label': 'dysarthria'},\n",
              " {'score': 0.11266651749610901, 'label': 'non_dysarthria'}]"
            ]
          },
          "metadata": {},
          "execution_count": 31
        }
      ],
      "source": [
        "from transformers import pipeline\n",
        "\n",
        "classifier = pipeline(\"audio-classification\", model=\"Juardo/my_awesome_torgo_model\")\n",
        "classifier(\"/content/drive/MyDrive/bsc-ai-thesis/OSR_us_000_0010_8k.wav\")"
      ]
    },
    {
      "cell_type": "code",
      "execution_count": 32,
      "metadata": {
        "id": "RlqjTVj_ttrC"
      },
      "outputs": [],
      "source": [
        "audio_file = dataset[\"test\"][0][\"audio\"][\"array\"]\n",
        "\n",
        "from transformers import AutoFeatureExtractor\n",
        "\n",
        "feature_extractor = AutoFeatureExtractor.from_pretrained(\"Juardo/my_awesome_torgo_model\")\n",
        "inputs = feature_extractor(audio_file, sampling_rate=16_000, return_tensors=\"pt\")"
      ]
    },
    {
      "cell_type": "code",
      "execution_count": 33,
      "metadata": {
        "colab": {
          "base_uri": "https://localhost:8080/",
          "height": 36
        },
        "id": "O9MeSJo1CVR0",
        "outputId": "9280f7dc-046d-4701-c202-a47f5c3c9d49"
      },
      "outputs": [
        {
          "output_type": "execute_result",
          "data": {
            "text/plain": [
              "'non_dysarthria'"
            ],
            "application/vnd.google.colaboratory.intrinsic+json": {
              "type": "string"
            }
          },
          "metadata": {},
          "execution_count": 33
        }
      ],
      "source": [
        "# See what the outcome of the following lines should be: \n",
        "dataset[\"test\"].features[\"disease_class\"].int2str(dataset[\"test\"][0][\"disease_class\"])"
      ]
    },
    {
      "cell_type": "code",
      "execution_count": 34,
      "metadata": {
        "id": "DjGmwX4JBMrc"
      },
      "outputs": [],
      "source": [
        "import torch\n",
        "from transformers import AutoModelForAudioClassification\n",
        "\n",
        "model = AutoModelForAudioClassification.from_pretrained(\"Juardo/my_awesome_torgo_model\")\n",
        "with torch.no_grad():\n",
        "    logits = model(**inputs).logits"
      ]
    },
    {
      "cell_type": "code",
      "execution_count": 35,
      "metadata": {
        "colab": {
          "base_uri": "https://localhost:8080/",
          "height": 36
        },
        "id": "ZBKvYnpxCEEZ",
        "outputId": "b01e48f2-44cd-48c9-d33d-197b4a53116f"
      },
      "outputs": [
        {
          "output_type": "execute_result",
          "data": {
            "text/plain": [
              "'non_dysarthria'"
            ],
            "application/vnd.google.colaboratory.intrinsic+json": {
              "type": "string"
            }
          },
          "metadata": {},
          "execution_count": 35
        }
      ],
      "source": [
        "predicted_class_ids = torch.argmax(logits).item()\n",
        "predicted_label = model.config.id2label[predicted_class_ids]\n",
        "predicted_label"
      ]
    },
    {
      "cell_type": "code",
      "execution_count": 35,
      "metadata": {
        "id": "VLbEcbpLCIVT"
      },
      "outputs": [],
      "source": []
    }
  ],
  "metadata": {
    "accelerator": "GPU",
    "colab": {
      "gpuType": "T4",
      "provenance": [],
      "toc_visible": true,
      "include_colab_link": true
    },
    "kernelspec": {
      "display_name": "Python 3",
      "name": "python3"
    },
    "language_info": {
      "codemirror_mode": {
        "name": "ipython",
        "version": 3
      },
      "file_extension": ".py",
      "mimetype": "text/x-python",
      "name": "python",
      "nbconvert_exporter": "python",
      "pygments_lexer": "ipython3",
      "version": "3.8.3"
    },
    "widgets": {
      "application/vnd.jupyter.widget-state+json": {
        "a47c84667e6d41f7ab2c51ed50837402": {
          "model_module": "@jupyter-widgets/controls",
          "model_name": "HBoxModel",
          "model_module_version": "1.5.0",
          "state": {
            "_dom_classes": [],
            "_model_module": "@jupyter-widgets/controls",
            "_model_module_version": "1.5.0",
            "_model_name": "HBoxModel",
            "_view_count": null,
            "_view_module": "@jupyter-widgets/controls",
            "_view_module_version": "1.5.0",
            "_view_name": "HBoxView",
            "box_style": "",
            "children": [
              "IPY_MODEL_08e4a86e24f84f6881097fbd9c62ca27",
              "IPY_MODEL_64f1be4f5733458f8db3d4dd174347f4",
              "IPY_MODEL_215c361720244720be5674532fe6f5a5"
            ],
            "layout": "IPY_MODEL_30718e231f2245a89e642f86afb0c9a3"
          }
        },
        "08e4a86e24f84f6881097fbd9c62ca27": {
          "model_module": "@jupyter-widgets/controls",
          "model_name": "HTMLModel",
          "model_module_version": "1.5.0",
          "state": {
            "_dom_classes": [],
            "_model_module": "@jupyter-widgets/controls",
            "_model_module_version": "1.5.0",
            "_model_name": "HTMLModel",
            "_view_count": null,
            "_view_module": "@jupyter-widgets/controls",
            "_view_module_version": "1.5.0",
            "_view_name": "HTMLView",
            "description": "",
            "description_tooltip": null,
            "layout": "IPY_MODEL_c12ae9365d6f4244a6ce701962341f76",
            "placeholder": "​",
            "style": "IPY_MODEL_261c1a36c928498a8186654d139f859c",
            "value": "Casting the dataset:   0%"
          }
        },
        "64f1be4f5733458f8db3d4dd174347f4": {
          "model_module": "@jupyter-widgets/controls",
          "model_name": "FloatProgressModel",
          "model_module_version": "1.5.0",
          "state": {
            "_dom_classes": [],
            "_model_module": "@jupyter-widgets/controls",
            "_model_module_version": "1.5.0",
            "_model_name": "FloatProgressModel",
            "_view_count": null,
            "_view_module": "@jupyter-widgets/controls",
            "_view_module_version": "1.5.0",
            "_view_name": "ProgressView",
            "bar_style": "",
            "description": "",
            "description_tooltip": null,
            "layout": "IPY_MODEL_5f02ba35c5f14ae6b6758678ab6165c9",
            "max": 1999,
            "min": 0,
            "orientation": "horizontal",
            "style": "IPY_MODEL_7899231ce8ac485ca319efe40944ca07",
            "value": 1999
          }
        },
        "215c361720244720be5674532fe6f5a5": {
          "model_module": "@jupyter-widgets/controls",
          "model_name": "HTMLModel",
          "model_module_version": "1.5.0",
          "state": {
            "_dom_classes": [],
            "_model_module": "@jupyter-widgets/controls",
            "_model_module_version": "1.5.0",
            "_model_name": "HTMLModel",
            "_view_count": null,
            "_view_module": "@jupyter-widgets/controls",
            "_view_module_version": "1.5.0",
            "_view_name": "HTMLView",
            "description": "",
            "description_tooltip": null,
            "layout": "IPY_MODEL_54b66dfc48d349c4a73dc34008977def",
            "placeholder": "​",
            "style": "IPY_MODEL_b552b6216f0a4380a93cc70e79274c37",
            "value": " 0/1999 [00:00&lt;?, ? examples/s]"
          }
        },
        "30718e231f2245a89e642f86afb0c9a3": {
          "model_module": "@jupyter-widgets/base",
          "model_name": "LayoutModel",
          "model_module_version": "1.2.0",
          "state": {
            "_model_module": "@jupyter-widgets/base",
            "_model_module_version": "1.2.0",
            "_model_name": "LayoutModel",
            "_view_count": null,
            "_view_module": "@jupyter-widgets/base",
            "_view_module_version": "1.2.0",
            "_view_name": "LayoutView",
            "align_content": null,
            "align_items": null,
            "align_self": null,
            "border": null,
            "bottom": null,
            "display": null,
            "flex": null,
            "flex_flow": null,
            "grid_area": null,
            "grid_auto_columns": null,
            "grid_auto_flow": null,
            "grid_auto_rows": null,
            "grid_column": null,
            "grid_gap": null,
            "grid_row": null,
            "grid_template_areas": null,
            "grid_template_columns": null,
            "grid_template_rows": null,
            "height": null,
            "justify_content": null,
            "justify_items": null,
            "left": null,
            "margin": null,
            "max_height": null,
            "max_width": null,
            "min_height": null,
            "min_width": null,
            "object_fit": null,
            "object_position": null,
            "order": null,
            "overflow": null,
            "overflow_x": null,
            "overflow_y": null,
            "padding": null,
            "right": null,
            "top": null,
            "visibility": "hidden",
            "width": null
          }
        },
        "c12ae9365d6f4244a6ce701962341f76": {
          "model_module": "@jupyter-widgets/base",
          "model_name": "LayoutModel",
          "model_module_version": "1.2.0",
          "state": {
            "_model_module": "@jupyter-widgets/base",
            "_model_module_version": "1.2.0",
            "_model_name": "LayoutModel",
            "_view_count": null,
            "_view_module": "@jupyter-widgets/base",
            "_view_module_version": "1.2.0",
            "_view_name": "LayoutView",
            "align_content": null,
            "align_items": null,
            "align_self": null,
            "border": null,
            "bottom": null,
            "display": null,
            "flex": null,
            "flex_flow": null,
            "grid_area": null,
            "grid_auto_columns": null,
            "grid_auto_flow": null,
            "grid_auto_rows": null,
            "grid_column": null,
            "grid_gap": null,
            "grid_row": null,
            "grid_template_areas": null,
            "grid_template_columns": null,
            "grid_template_rows": null,
            "height": null,
            "justify_content": null,
            "justify_items": null,
            "left": null,
            "margin": null,
            "max_height": null,
            "max_width": null,
            "min_height": null,
            "min_width": null,
            "object_fit": null,
            "object_position": null,
            "order": null,
            "overflow": null,
            "overflow_x": null,
            "overflow_y": null,
            "padding": null,
            "right": null,
            "top": null,
            "visibility": null,
            "width": null
          }
        },
        "261c1a36c928498a8186654d139f859c": {
          "model_module": "@jupyter-widgets/controls",
          "model_name": "DescriptionStyleModel",
          "model_module_version": "1.5.0",
          "state": {
            "_model_module": "@jupyter-widgets/controls",
            "_model_module_version": "1.5.0",
            "_model_name": "DescriptionStyleModel",
            "_view_count": null,
            "_view_module": "@jupyter-widgets/base",
            "_view_module_version": "1.2.0",
            "_view_name": "StyleView",
            "description_width": ""
          }
        },
        "5f02ba35c5f14ae6b6758678ab6165c9": {
          "model_module": "@jupyter-widgets/base",
          "model_name": "LayoutModel",
          "model_module_version": "1.2.0",
          "state": {
            "_model_module": "@jupyter-widgets/base",
            "_model_module_version": "1.2.0",
            "_model_name": "LayoutModel",
            "_view_count": null,
            "_view_module": "@jupyter-widgets/base",
            "_view_module_version": "1.2.0",
            "_view_name": "LayoutView",
            "align_content": null,
            "align_items": null,
            "align_self": null,
            "border": null,
            "bottom": null,
            "display": null,
            "flex": null,
            "flex_flow": null,
            "grid_area": null,
            "grid_auto_columns": null,
            "grid_auto_flow": null,
            "grid_auto_rows": null,
            "grid_column": null,
            "grid_gap": null,
            "grid_row": null,
            "grid_template_areas": null,
            "grid_template_columns": null,
            "grid_template_rows": null,
            "height": null,
            "justify_content": null,
            "justify_items": null,
            "left": null,
            "margin": null,
            "max_height": null,
            "max_width": null,
            "min_height": null,
            "min_width": null,
            "object_fit": null,
            "object_position": null,
            "order": null,
            "overflow": null,
            "overflow_x": null,
            "overflow_y": null,
            "padding": null,
            "right": null,
            "top": null,
            "visibility": null,
            "width": null
          }
        },
        "7899231ce8ac485ca319efe40944ca07": {
          "model_module": "@jupyter-widgets/controls",
          "model_name": "ProgressStyleModel",
          "model_module_version": "1.5.0",
          "state": {
            "_model_module": "@jupyter-widgets/controls",
            "_model_module_version": "1.5.0",
            "_model_name": "ProgressStyleModel",
            "_view_count": null,
            "_view_module": "@jupyter-widgets/base",
            "_view_module_version": "1.2.0",
            "_view_name": "StyleView",
            "bar_color": null,
            "description_width": ""
          }
        },
        "54b66dfc48d349c4a73dc34008977def": {
          "model_module": "@jupyter-widgets/base",
          "model_name": "LayoutModel",
          "model_module_version": "1.2.0",
          "state": {
            "_model_module": "@jupyter-widgets/base",
            "_model_module_version": "1.2.0",
            "_model_name": "LayoutModel",
            "_view_count": null,
            "_view_module": "@jupyter-widgets/base",
            "_view_module_version": "1.2.0",
            "_view_name": "LayoutView",
            "align_content": null,
            "align_items": null,
            "align_self": null,
            "border": null,
            "bottom": null,
            "display": null,
            "flex": null,
            "flex_flow": null,
            "grid_area": null,
            "grid_auto_columns": null,
            "grid_auto_flow": null,
            "grid_auto_rows": null,
            "grid_column": null,
            "grid_gap": null,
            "grid_row": null,
            "grid_template_areas": null,
            "grid_template_columns": null,
            "grid_template_rows": null,
            "height": null,
            "justify_content": null,
            "justify_items": null,
            "left": null,
            "margin": null,
            "max_height": null,
            "max_width": null,
            "min_height": null,
            "min_width": null,
            "object_fit": null,
            "object_position": null,
            "order": null,
            "overflow": null,
            "overflow_x": null,
            "overflow_y": null,
            "padding": null,
            "right": null,
            "top": null,
            "visibility": null,
            "width": null
          }
        },
        "b552b6216f0a4380a93cc70e79274c37": {
          "model_module": "@jupyter-widgets/controls",
          "model_name": "DescriptionStyleModel",
          "model_module_version": "1.5.0",
          "state": {
            "_model_module": "@jupyter-widgets/controls",
            "_model_module_version": "1.5.0",
            "_model_name": "DescriptionStyleModel",
            "_view_count": null,
            "_view_module": "@jupyter-widgets/base",
            "_view_module_version": "1.2.0",
            "_view_name": "StyleView",
            "description_width": ""
          }
        },
        "cf3fdd7d91bb4c7a97c2b33cdb6d79fa": {
          "model_module": "@jupyter-widgets/controls",
          "model_name": "HBoxModel",
          "model_module_version": "1.5.0",
          "state": {
            "_dom_classes": [],
            "_model_module": "@jupyter-widgets/controls",
            "_model_module_version": "1.5.0",
            "_model_name": "HBoxModel",
            "_view_count": null,
            "_view_module": "@jupyter-widgets/controls",
            "_view_module_version": "1.5.0",
            "_view_name": "HBoxView",
            "box_style": "",
            "children": [
              "IPY_MODEL_78336c3e7bad4b1f9f28df0e9d324b83",
              "IPY_MODEL_c6e8d40be510468483c98a91d09f44d8",
              "IPY_MODEL_6e0ad28ba6d241b493a37f62a583c79b"
            ],
            "layout": "IPY_MODEL_12bb79b2ec2f4e12b3e9fae85e6c548a"
          }
        },
        "78336c3e7bad4b1f9f28df0e9d324b83": {
          "model_module": "@jupyter-widgets/controls",
          "model_name": "HTMLModel",
          "model_module_version": "1.5.0",
          "state": {
            "_dom_classes": [],
            "_model_module": "@jupyter-widgets/controls",
            "_model_module_version": "1.5.0",
            "_model_name": "HTMLModel",
            "_view_count": null,
            "_view_module": "@jupyter-widgets/controls",
            "_view_module_version": "1.5.0",
            "_view_name": "HTMLView",
            "description": "",
            "description_tooltip": null,
            "layout": "IPY_MODEL_0b5eedf84a034c9ea5e6098dee5134f2",
            "placeholder": "​",
            "style": "IPY_MODEL_a530d1d45f104d908c529f303dd70822",
            "value": "Downloading (…)rocessor_config.json: 100%"
          }
        },
        "c6e8d40be510468483c98a91d09f44d8": {
          "model_module": "@jupyter-widgets/controls",
          "model_name": "FloatProgressModel",
          "model_module_version": "1.5.0",
          "state": {
            "_dom_classes": [],
            "_model_module": "@jupyter-widgets/controls",
            "_model_module_version": "1.5.0",
            "_model_name": "FloatProgressModel",
            "_view_count": null,
            "_view_module": "@jupyter-widgets/controls",
            "_view_module_version": "1.5.0",
            "_view_name": "ProgressView",
            "bar_style": "success",
            "description": "",
            "description_tooltip": null,
            "layout": "IPY_MODEL_235cdefc8709458c9d2b8d56be8ff2d8",
            "max": 159,
            "min": 0,
            "orientation": "horizontal",
            "style": "IPY_MODEL_77cdd63597784bf29d5d0d799bca8f88",
            "value": 159
          }
        },
        "6e0ad28ba6d241b493a37f62a583c79b": {
          "model_module": "@jupyter-widgets/controls",
          "model_name": "HTMLModel",
          "model_module_version": "1.5.0",
          "state": {
            "_dom_classes": [],
            "_model_module": "@jupyter-widgets/controls",
            "_model_module_version": "1.5.0",
            "_model_name": "HTMLModel",
            "_view_count": null,
            "_view_module": "@jupyter-widgets/controls",
            "_view_module_version": "1.5.0",
            "_view_name": "HTMLView",
            "description": "",
            "description_tooltip": null,
            "layout": "IPY_MODEL_1ef34211aa2f43f6bd45f81c806c9650",
            "placeholder": "​",
            "style": "IPY_MODEL_9b911d483b924b8185bf837ff578f511",
            "value": " 159/159 [00:00&lt;00:00, 12.1kB/s]"
          }
        },
        "12bb79b2ec2f4e12b3e9fae85e6c548a": {
          "model_module": "@jupyter-widgets/base",
          "model_name": "LayoutModel",
          "model_module_version": "1.2.0",
          "state": {
            "_model_module": "@jupyter-widgets/base",
            "_model_module_version": "1.2.0",
            "_model_name": "LayoutModel",
            "_view_count": null,
            "_view_module": "@jupyter-widgets/base",
            "_view_module_version": "1.2.0",
            "_view_name": "LayoutView",
            "align_content": null,
            "align_items": null,
            "align_self": null,
            "border": null,
            "bottom": null,
            "display": null,
            "flex": null,
            "flex_flow": null,
            "grid_area": null,
            "grid_auto_columns": null,
            "grid_auto_flow": null,
            "grid_auto_rows": null,
            "grid_column": null,
            "grid_gap": null,
            "grid_row": null,
            "grid_template_areas": null,
            "grid_template_columns": null,
            "grid_template_rows": null,
            "height": null,
            "justify_content": null,
            "justify_items": null,
            "left": null,
            "margin": null,
            "max_height": null,
            "max_width": null,
            "min_height": null,
            "min_width": null,
            "object_fit": null,
            "object_position": null,
            "order": null,
            "overflow": null,
            "overflow_x": null,
            "overflow_y": null,
            "padding": null,
            "right": null,
            "top": null,
            "visibility": null,
            "width": null
          }
        },
        "0b5eedf84a034c9ea5e6098dee5134f2": {
          "model_module": "@jupyter-widgets/base",
          "model_name": "LayoutModel",
          "model_module_version": "1.2.0",
          "state": {
            "_model_module": "@jupyter-widgets/base",
            "_model_module_version": "1.2.0",
            "_model_name": "LayoutModel",
            "_view_count": null,
            "_view_module": "@jupyter-widgets/base",
            "_view_module_version": "1.2.0",
            "_view_name": "LayoutView",
            "align_content": null,
            "align_items": null,
            "align_self": null,
            "border": null,
            "bottom": null,
            "display": null,
            "flex": null,
            "flex_flow": null,
            "grid_area": null,
            "grid_auto_columns": null,
            "grid_auto_flow": null,
            "grid_auto_rows": null,
            "grid_column": null,
            "grid_gap": null,
            "grid_row": null,
            "grid_template_areas": null,
            "grid_template_columns": null,
            "grid_template_rows": null,
            "height": null,
            "justify_content": null,
            "justify_items": null,
            "left": null,
            "margin": null,
            "max_height": null,
            "max_width": null,
            "min_height": null,
            "min_width": null,
            "object_fit": null,
            "object_position": null,
            "order": null,
            "overflow": null,
            "overflow_x": null,
            "overflow_y": null,
            "padding": null,
            "right": null,
            "top": null,
            "visibility": null,
            "width": null
          }
        },
        "a530d1d45f104d908c529f303dd70822": {
          "model_module": "@jupyter-widgets/controls",
          "model_name": "DescriptionStyleModel",
          "model_module_version": "1.5.0",
          "state": {
            "_model_module": "@jupyter-widgets/controls",
            "_model_module_version": "1.5.0",
            "_model_name": "DescriptionStyleModel",
            "_view_count": null,
            "_view_module": "@jupyter-widgets/base",
            "_view_module_version": "1.2.0",
            "_view_name": "StyleView",
            "description_width": ""
          }
        },
        "235cdefc8709458c9d2b8d56be8ff2d8": {
          "model_module": "@jupyter-widgets/base",
          "model_name": "LayoutModel",
          "model_module_version": "1.2.0",
          "state": {
            "_model_module": "@jupyter-widgets/base",
            "_model_module_version": "1.2.0",
            "_model_name": "LayoutModel",
            "_view_count": null,
            "_view_module": "@jupyter-widgets/base",
            "_view_module_version": "1.2.0",
            "_view_name": "LayoutView",
            "align_content": null,
            "align_items": null,
            "align_self": null,
            "border": null,
            "bottom": null,
            "display": null,
            "flex": null,
            "flex_flow": null,
            "grid_area": null,
            "grid_auto_columns": null,
            "grid_auto_flow": null,
            "grid_auto_rows": null,
            "grid_column": null,
            "grid_gap": null,
            "grid_row": null,
            "grid_template_areas": null,
            "grid_template_columns": null,
            "grid_template_rows": null,
            "height": null,
            "justify_content": null,
            "justify_items": null,
            "left": null,
            "margin": null,
            "max_height": null,
            "max_width": null,
            "min_height": null,
            "min_width": null,
            "object_fit": null,
            "object_position": null,
            "order": null,
            "overflow": null,
            "overflow_x": null,
            "overflow_y": null,
            "padding": null,
            "right": null,
            "top": null,
            "visibility": null,
            "width": null
          }
        },
        "77cdd63597784bf29d5d0d799bca8f88": {
          "model_module": "@jupyter-widgets/controls",
          "model_name": "ProgressStyleModel",
          "model_module_version": "1.5.0",
          "state": {
            "_model_module": "@jupyter-widgets/controls",
            "_model_module_version": "1.5.0",
            "_model_name": "ProgressStyleModel",
            "_view_count": null,
            "_view_module": "@jupyter-widgets/base",
            "_view_module_version": "1.2.0",
            "_view_name": "StyleView",
            "bar_color": null,
            "description_width": ""
          }
        },
        "1ef34211aa2f43f6bd45f81c806c9650": {
          "model_module": "@jupyter-widgets/base",
          "model_name": "LayoutModel",
          "model_module_version": "1.2.0",
          "state": {
            "_model_module": "@jupyter-widgets/base",
            "_model_module_version": "1.2.0",
            "_model_name": "LayoutModel",
            "_view_count": null,
            "_view_module": "@jupyter-widgets/base",
            "_view_module_version": "1.2.0",
            "_view_name": "LayoutView",
            "align_content": null,
            "align_items": null,
            "align_self": null,
            "border": null,
            "bottom": null,
            "display": null,
            "flex": null,
            "flex_flow": null,
            "grid_area": null,
            "grid_auto_columns": null,
            "grid_auto_flow": null,
            "grid_auto_rows": null,
            "grid_column": null,
            "grid_gap": null,
            "grid_row": null,
            "grid_template_areas": null,
            "grid_template_columns": null,
            "grid_template_rows": null,
            "height": null,
            "justify_content": null,
            "justify_items": null,
            "left": null,
            "margin": null,
            "max_height": null,
            "max_width": null,
            "min_height": null,
            "min_width": null,
            "object_fit": null,
            "object_position": null,
            "order": null,
            "overflow": null,
            "overflow_x": null,
            "overflow_y": null,
            "padding": null,
            "right": null,
            "top": null,
            "visibility": null,
            "width": null
          }
        },
        "9b911d483b924b8185bf837ff578f511": {
          "model_module": "@jupyter-widgets/controls",
          "model_name": "DescriptionStyleModel",
          "model_module_version": "1.5.0",
          "state": {
            "_model_module": "@jupyter-widgets/controls",
            "_model_module_version": "1.5.0",
            "_model_name": "DescriptionStyleModel",
            "_view_count": null,
            "_view_module": "@jupyter-widgets/base",
            "_view_module_version": "1.2.0",
            "_view_name": "StyleView",
            "description_width": ""
          }
        },
        "b905b18d43d34009b9879761dc85a336": {
          "model_module": "@jupyter-widgets/controls",
          "model_name": "HBoxModel",
          "model_module_version": "1.5.0",
          "state": {
            "_dom_classes": [],
            "_model_module": "@jupyter-widgets/controls",
            "_model_module_version": "1.5.0",
            "_model_name": "HBoxModel",
            "_view_count": null,
            "_view_module": "@jupyter-widgets/controls",
            "_view_module_version": "1.5.0",
            "_view_name": "HBoxView",
            "box_style": "",
            "children": [
              "IPY_MODEL_498942530ebf46b1b2b1d4557bfdb0ae",
              "IPY_MODEL_fd6cac5862914cfdb9da69581cfcde76",
              "IPY_MODEL_e8840931b24846a39643d5928b40ab7a"
            ],
            "layout": "IPY_MODEL_8448ddcaa1304998b22d7a16bfc287e3"
          }
        },
        "498942530ebf46b1b2b1d4557bfdb0ae": {
          "model_module": "@jupyter-widgets/controls",
          "model_name": "HTMLModel",
          "model_module_version": "1.5.0",
          "state": {
            "_dom_classes": [],
            "_model_module": "@jupyter-widgets/controls",
            "_model_module_version": "1.5.0",
            "_model_name": "HTMLModel",
            "_view_count": null,
            "_view_module": "@jupyter-widgets/controls",
            "_view_module_version": "1.5.0",
            "_view_name": "HTMLView",
            "description": "",
            "description_tooltip": null,
            "layout": "IPY_MODEL_c0959f15cb5b43c0ba7b0d60264926e7",
            "placeholder": "​",
            "style": "IPY_MODEL_cb2a2b7483c74eb7846aad34d5a2b44c",
            "value": "Downloading (…)lve/main/config.json: 100%"
          }
        },
        "fd6cac5862914cfdb9da69581cfcde76": {
          "model_module": "@jupyter-widgets/controls",
          "model_name": "FloatProgressModel",
          "model_module_version": "1.5.0",
          "state": {
            "_dom_classes": [],
            "_model_module": "@jupyter-widgets/controls",
            "_model_module_version": "1.5.0",
            "_model_name": "FloatProgressModel",
            "_view_count": null,
            "_view_module": "@jupyter-widgets/controls",
            "_view_module_version": "1.5.0",
            "_view_name": "ProgressView",
            "bar_style": "success",
            "description": "",
            "description_tooltip": null,
            "layout": "IPY_MODEL_1d4d3f6dd1c74268931e2fca0699ff92",
            "max": 1842,
            "min": 0,
            "orientation": "horizontal",
            "style": "IPY_MODEL_35dfa35c638e40f4a055c39186b87850",
            "value": 1842
          }
        },
        "e8840931b24846a39643d5928b40ab7a": {
          "model_module": "@jupyter-widgets/controls",
          "model_name": "HTMLModel",
          "model_module_version": "1.5.0",
          "state": {
            "_dom_classes": [],
            "_model_module": "@jupyter-widgets/controls",
            "_model_module_version": "1.5.0",
            "_model_name": "HTMLModel",
            "_view_count": null,
            "_view_module": "@jupyter-widgets/controls",
            "_view_module_version": "1.5.0",
            "_view_name": "HTMLView",
            "description": "",
            "description_tooltip": null,
            "layout": "IPY_MODEL_c61145dff49948e9a32a9f9ec3dcc3ec",
            "placeholder": "​",
            "style": "IPY_MODEL_6429fff20012416886586b41a82aa847",
            "value": " 1.84k/1.84k [00:00&lt;00:00, 133kB/s]"
          }
        },
        "8448ddcaa1304998b22d7a16bfc287e3": {
          "model_module": "@jupyter-widgets/base",
          "model_name": "LayoutModel",
          "model_module_version": "1.2.0",
          "state": {
            "_model_module": "@jupyter-widgets/base",
            "_model_module_version": "1.2.0",
            "_model_name": "LayoutModel",
            "_view_count": null,
            "_view_module": "@jupyter-widgets/base",
            "_view_module_version": "1.2.0",
            "_view_name": "LayoutView",
            "align_content": null,
            "align_items": null,
            "align_self": null,
            "border": null,
            "bottom": null,
            "display": null,
            "flex": null,
            "flex_flow": null,
            "grid_area": null,
            "grid_auto_columns": null,
            "grid_auto_flow": null,
            "grid_auto_rows": null,
            "grid_column": null,
            "grid_gap": null,
            "grid_row": null,
            "grid_template_areas": null,
            "grid_template_columns": null,
            "grid_template_rows": null,
            "height": null,
            "justify_content": null,
            "justify_items": null,
            "left": null,
            "margin": null,
            "max_height": null,
            "max_width": null,
            "min_height": null,
            "min_width": null,
            "object_fit": null,
            "object_position": null,
            "order": null,
            "overflow": null,
            "overflow_x": null,
            "overflow_y": null,
            "padding": null,
            "right": null,
            "top": null,
            "visibility": null,
            "width": null
          }
        },
        "c0959f15cb5b43c0ba7b0d60264926e7": {
          "model_module": "@jupyter-widgets/base",
          "model_name": "LayoutModel",
          "model_module_version": "1.2.0",
          "state": {
            "_model_module": "@jupyter-widgets/base",
            "_model_module_version": "1.2.0",
            "_model_name": "LayoutModel",
            "_view_count": null,
            "_view_module": "@jupyter-widgets/base",
            "_view_module_version": "1.2.0",
            "_view_name": "LayoutView",
            "align_content": null,
            "align_items": null,
            "align_self": null,
            "border": null,
            "bottom": null,
            "display": null,
            "flex": null,
            "flex_flow": null,
            "grid_area": null,
            "grid_auto_columns": null,
            "grid_auto_flow": null,
            "grid_auto_rows": null,
            "grid_column": null,
            "grid_gap": null,
            "grid_row": null,
            "grid_template_areas": null,
            "grid_template_columns": null,
            "grid_template_rows": null,
            "height": null,
            "justify_content": null,
            "justify_items": null,
            "left": null,
            "margin": null,
            "max_height": null,
            "max_width": null,
            "min_height": null,
            "min_width": null,
            "object_fit": null,
            "object_position": null,
            "order": null,
            "overflow": null,
            "overflow_x": null,
            "overflow_y": null,
            "padding": null,
            "right": null,
            "top": null,
            "visibility": null,
            "width": null
          }
        },
        "cb2a2b7483c74eb7846aad34d5a2b44c": {
          "model_module": "@jupyter-widgets/controls",
          "model_name": "DescriptionStyleModel",
          "model_module_version": "1.5.0",
          "state": {
            "_model_module": "@jupyter-widgets/controls",
            "_model_module_version": "1.5.0",
            "_model_name": "DescriptionStyleModel",
            "_view_count": null,
            "_view_module": "@jupyter-widgets/base",
            "_view_module_version": "1.2.0",
            "_view_name": "StyleView",
            "description_width": ""
          }
        },
        "1d4d3f6dd1c74268931e2fca0699ff92": {
          "model_module": "@jupyter-widgets/base",
          "model_name": "LayoutModel",
          "model_module_version": "1.2.0",
          "state": {
            "_model_module": "@jupyter-widgets/base",
            "_model_module_version": "1.2.0",
            "_model_name": "LayoutModel",
            "_view_count": null,
            "_view_module": "@jupyter-widgets/base",
            "_view_module_version": "1.2.0",
            "_view_name": "LayoutView",
            "align_content": null,
            "align_items": null,
            "align_self": null,
            "border": null,
            "bottom": null,
            "display": null,
            "flex": null,
            "flex_flow": null,
            "grid_area": null,
            "grid_auto_columns": null,
            "grid_auto_flow": null,
            "grid_auto_rows": null,
            "grid_column": null,
            "grid_gap": null,
            "grid_row": null,
            "grid_template_areas": null,
            "grid_template_columns": null,
            "grid_template_rows": null,
            "height": null,
            "justify_content": null,
            "justify_items": null,
            "left": null,
            "margin": null,
            "max_height": null,
            "max_width": null,
            "min_height": null,
            "min_width": null,
            "object_fit": null,
            "object_position": null,
            "order": null,
            "overflow": null,
            "overflow_x": null,
            "overflow_y": null,
            "padding": null,
            "right": null,
            "top": null,
            "visibility": null,
            "width": null
          }
        },
        "35dfa35c638e40f4a055c39186b87850": {
          "model_module": "@jupyter-widgets/controls",
          "model_name": "ProgressStyleModel",
          "model_module_version": "1.5.0",
          "state": {
            "_model_module": "@jupyter-widgets/controls",
            "_model_module_version": "1.5.0",
            "_model_name": "ProgressStyleModel",
            "_view_count": null,
            "_view_module": "@jupyter-widgets/base",
            "_view_module_version": "1.2.0",
            "_view_name": "StyleView",
            "bar_color": null,
            "description_width": ""
          }
        },
        "c61145dff49948e9a32a9f9ec3dcc3ec": {
          "model_module": "@jupyter-widgets/base",
          "model_name": "LayoutModel",
          "model_module_version": "1.2.0",
          "state": {
            "_model_module": "@jupyter-widgets/base",
            "_model_module_version": "1.2.0",
            "_model_name": "LayoutModel",
            "_view_count": null,
            "_view_module": "@jupyter-widgets/base",
            "_view_module_version": "1.2.0",
            "_view_name": "LayoutView",
            "align_content": null,
            "align_items": null,
            "align_self": null,
            "border": null,
            "bottom": null,
            "display": null,
            "flex": null,
            "flex_flow": null,
            "grid_area": null,
            "grid_auto_columns": null,
            "grid_auto_flow": null,
            "grid_auto_rows": null,
            "grid_column": null,
            "grid_gap": null,
            "grid_row": null,
            "grid_template_areas": null,
            "grid_template_columns": null,
            "grid_template_rows": null,
            "height": null,
            "justify_content": null,
            "justify_items": null,
            "left": null,
            "margin": null,
            "max_height": null,
            "max_width": null,
            "min_height": null,
            "min_width": null,
            "object_fit": null,
            "object_position": null,
            "order": null,
            "overflow": null,
            "overflow_x": null,
            "overflow_y": null,
            "padding": null,
            "right": null,
            "top": null,
            "visibility": null,
            "width": null
          }
        },
        "6429fff20012416886586b41a82aa847": {
          "model_module": "@jupyter-widgets/controls",
          "model_name": "DescriptionStyleModel",
          "model_module_version": "1.5.0",
          "state": {
            "_model_module": "@jupyter-widgets/controls",
            "_model_module_version": "1.5.0",
            "_model_name": "DescriptionStyleModel",
            "_view_count": null,
            "_view_module": "@jupyter-widgets/base",
            "_view_module_version": "1.2.0",
            "_view_name": "StyleView",
            "description_width": ""
          }
        },
        "bfa81c212534477fb0b9b3c0e0306a40": {
          "model_module": "@jupyter-widgets/controls",
          "model_name": "HBoxModel",
          "model_module_version": "1.5.0",
          "state": {
            "_dom_classes": [],
            "_model_module": "@jupyter-widgets/controls",
            "_model_module_version": "1.5.0",
            "_model_name": "HBoxModel",
            "_view_count": null,
            "_view_module": "@jupyter-widgets/controls",
            "_view_module_version": "1.5.0",
            "_view_name": "HBoxView",
            "box_style": "",
            "children": [
              "IPY_MODEL_14ffe34625bd430faca3ac18626d7509",
              "IPY_MODEL_83bd506f8f154f28b27d32f677af26df",
              "IPY_MODEL_5fd50e8f2cfa4164b0325a8c5d13475b"
            ],
            "layout": "IPY_MODEL_50176f2c28c7409982629e198f0d4b67"
          }
        },
        "14ffe34625bd430faca3ac18626d7509": {
          "model_module": "@jupyter-widgets/controls",
          "model_name": "HTMLModel",
          "model_module_version": "1.5.0",
          "state": {
            "_dom_classes": [],
            "_model_module": "@jupyter-widgets/controls",
            "_model_module_version": "1.5.0",
            "_model_name": "HTMLModel",
            "_view_count": null,
            "_view_module": "@jupyter-widgets/controls",
            "_view_module_version": "1.5.0",
            "_view_name": "HTMLView",
            "description": "",
            "description_tooltip": null,
            "layout": "IPY_MODEL_2a054de95fc94580bde044c9b70c6dff",
            "placeholder": "​",
            "style": "IPY_MODEL_4e225d731dc243c686ce4efbe6d2144a",
            "value": "Map: 100%"
          }
        },
        "83bd506f8f154f28b27d32f677af26df": {
          "model_module": "@jupyter-widgets/controls",
          "model_name": "FloatProgressModel",
          "model_module_version": "1.5.0",
          "state": {
            "_dom_classes": [],
            "_model_module": "@jupyter-widgets/controls",
            "_model_module_version": "1.5.0",
            "_model_name": "FloatProgressModel",
            "_view_count": null,
            "_view_module": "@jupyter-widgets/controls",
            "_view_module_version": "1.5.0",
            "_view_name": "ProgressView",
            "bar_style": "",
            "description": "",
            "description_tooltip": null,
            "layout": "IPY_MODEL_dd85b1968ef246309d0f748fb9402647",
            "max": 1599,
            "min": 0,
            "orientation": "horizontal",
            "style": "IPY_MODEL_360280014d994566b1af8d217a01711d",
            "value": 1599
          }
        },
        "5fd50e8f2cfa4164b0325a8c5d13475b": {
          "model_module": "@jupyter-widgets/controls",
          "model_name": "HTMLModel",
          "model_module_version": "1.5.0",
          "state": {
            "_dom_classes": [],
            "_model_module": "@jupyter-widgets/controls",
            "_model_module_version": "1.5.0",
            "_model_name": "HTMLModel",
            "_view_count": null,
            "_view_module": "@jupyter-widgets/controls",
            "_view_module_version": "1.5.0",
            "_view_name": "HTMLView",
            "description": "",
            "description_tooltip": null,
            "layout": "IPY_MODEL_78007067707c404fb32bf0d80a3c5457",
            "placeholder": "​",
            "style": "IPY_MODEL_bd2c280ce5a94bd49be34d7bb310cfc8",
            "value": " 1599/1599 [00:06&lt;00:00, 279.35 examples/s]"
          }
        },
        "50176f2c28c7409982629e198f0d4b67": {
          "model_module": "@jupyter-widgets/base",
          "model_name": "LayoutModel",
          "model_module_version": "1.2.0",
          "state": {
            "_model_module": "@jupyter-widgets/base",
            "_model_module_version": "1.2.0",
            "_model_name": "LayoutModel",
            "_view_count": null,
            "_view_module": "@jupyter-widgets/base",
            "_view_module_version": "1.2.0",
            "_view_name": "LayoutView",
            "align_content": null,
            "align_items": null,
            "align_self": null,
            "border": null,
            "bottom": null,
            "display": null,
            "flex": null,
            "flex_flow": null,
            "grid_area": null,
            "grid_auto_columns": null,
            "grid_auto_flow": null,
            "grid_auto_rows": null,
            "grid_column": null,
            "grid_gap": null,
            "grid_row": null,
            "grid_template_areas": null,
            "grid_template_columns": null,
            "grid_template_rows": null,
            "height": null,
            "justify_content": null,
            "justify_items": null,
            "left": null,
            "margin": null,
            "max_height": null,
            "max_width": null,
            "min_height": null,
            "min_width": null,
            "object_fit": null,
            "object_position": null,
            "order": null,
            "overflow": null,
            "overflow_x": null,
            "overflow_y": null,
            "padding": null,
            "right": null,
            "top": null,
            "visibility": "hidden",
            "width": null
          }
        },
        "2a054de95fc94580bde044c9b70c6dff": {
          "model_module": "@jupyter-widgets/base",
          "model_name": "LayoutModel",
          "model_module_version": "1.2.0",
          "state": {
            "_model_module": "@jupyter-widgets/base",
            "_model_module_version": "1.2.0",
            "_model_name": "LayoutModel",
            "_view_count": null,
            "_view_module": "@jupyter-widgets/base",
            "_view_module_version": "1.2.0",
            "_view_name": "LayoutView",
            "align_content": null,
            "align_items": null,
            "align_self": null,
            "border": null,
            "bottom": null,
            "display": null,
            "flex": null,
            "flex_flow": null,
            "grid_area": null,
            "grid_auto_columns": null,
            "grid_auto_flow": null,
            "grid_auto_rows": null,
            "grid_column": null,
            "grid_gap": null,
            "grid_row": null,
            "grid_template_areas": null,
            "grid_template_columns": null,
            "grid_template_rows": null,
            "height": null,
            "justify_content": null,
            "justify_items": null,
            "left": null,
            "margin": null,
            "max_height": null,
            "max_width": null,
            "min_height": null,
            "min_width": null,
            "object_fit": null,
            "object_position": null,
            "order": null,
            "overflow": null,
            "overflow_x": null,
            "overflow_y": null,
            "padding": null,
            "right": null,
            "top": null,
            "visibility": null,
            "width": null
          }
        },
        "4e225d731dc243c686ce4efbe6d2144a": {
          "model_module": "@jupyter-widgets/controls",
          "model_name": "DescriptionStyleModel",
          "model_module_version": "1.5.0",
          "state": {
            "_model_module": "@jupyter-widgets/controls",
            "_model_module_version": "1.5.0",
            "_model_name": "DescriptionStyleModel",
            "_view_count": null,
            "_view_module": "@jupyter-widgets/base",
            "_view_module_version": "1.2.0",
            "_view_name": "StyleView",
            "description_width": ""
          }
        },
        "dd85b1968ef246309d0f748fb9402647": {
          "model_module": "@jupyter-widgets/base",
          "model_name": "LayoutModel",
          "model_module_version": "1.2.0",
          "state": {
            "_model_module": "@jupyter-widgets/base",
            "_model_module_version": "1.2.0",
            "_model_name": "LayoutModel",
            "_view_count": null,
            "_view_module": "@jupyter-widgets/base",
            "_view_module_version": "1.2.0",
            "_view_name": "LayoutView",
            "align_content": null,
            "align_items": null,
            "align_self": null,
            "border": null,
            "bottom": null,
            "display": null,
            "flex": null,
            "flex_flow": null,
            "grid_area": null,
            "grid_auto_columns": null,
            "grid_auto_flow": null,
            "grid_auto_rows": null,
            "grid_column": null,
            "grid_gap": null,
            "grid_row": null,
            "grid_template_areas": null,
            "grid_template_columns": null,
            "grid_template_rows": null,
            "height": null,
            "justify_content": null,
            "justify_items": null,
            "left": null,
            "margin": null,
            "max_height": null,
            "max_width": null,
            "min_height": null,
            "min_width": null,
            "object_fit": null,
            "object_position": null,
            "order": null,
            "overflow": null,
            "overflow_x": null,
            "overflow_y": null,
            "padding": null,
            "right": null,
            "top": null,
            "visibility": null,
            "width": null
          }
        },
        "360280014d994566b1af8d217a01711d": {
          "model_module": "@jupyter-widgets/controls",
          "model_name": "ProgressStyleModel",
          "model_module_version": "1.5.0",
          "state": {
            "_model_module": "@jupyter-widgets/controls",
            "_model_module_version": "1.5.0",
            "_model_name": "ProgressStyleModel",
            "_view_count": null,
            "_view_module": "@jupyter-widgets/base",
            "_view_module_version": "1.2.0",
            "_view_name": "StyleView",
            "bar_color": null,
            "description_width": ""
          }
        },
        "78007067707c404fb32bf0d80a3c5457": {
          "model_module": "@jupyter-widgets/base",
          "model_name": "LayoutModel",
          "model_module_version": "1.2.0",
          "state": {
            "_model_module": "@jupyter-widgets/base",
            "_model_module_version": "1.2.0",
            "_model_name": "LayoutModel",
            "_view_count": null,
            "_view_module": "@jupyter-widgets/base",
            "_view_module_version": "1.2.0",
            "_view_name": "LayoutView",
            "align_content": null,
            "align_items": null,
            "align_self": null,
            "border": null,
            "bottom": null,
            "display": null,
            "flex": null,
            "flex_flow": null,
            "grid_area": null,
            "grid_auto_columns": null,
            "grid_auto_flow": null,
            "grid_auto_rows": null,
            "grid_column": null,
            "grid_gap": null,
            "grid_row": null,
            "grid_template_areas": null,
            "grid_template_columns": null,
            "grid_template_rows": null,
            "height": null,
            "justify_content": null,
            "justify_items": null,
            "left": null,
            "margin": null,
            "max_height": null,
            "max_width": null,
            "min_height": null,
            "min_width": null,
            "object_fit": null,
            "object_position": null,
            "order": null,
            "overflow": null,
            "overflow_x": null,
            "overflow_y": null,
            "padding": null,
            "right": null,
            "top": null,
            "visibility": null,
            "width": null
          }
        },
        "bd2c280ce5a94bd49be34d7bb310cfc8": {
          "model_module": "@jupyter-widgets/controls",
          "model_name": "DescriptionStyleModel",
          "model_module_version": "1.5.0",
          "state": {
            "_model_module": "@jupyter-widgets/controls",
            "_model_module_version": "1.5.0",
            "_model_name": "DescriptionStyleModel",
            "_view_count": null,
            "_view_module": "@jupyter-widgets/base",
            "_view_module_version": "1.2.0",
            "_view_name": "StyleView",
            "description_width": ""
          }
        },
        "0a2cc121d9c24a4fb40f34d4608953c7": {
          "model_module": "@jupyter-widgets/controls",
          "model_name": "HBoxModel",
          "model_module_version": "1.5.0",
          "state": {
            "_dom_classes": [],
            "_model_module": "@jupyter-widgets/controls",
            "_model_module_version": "1.5.0",
            "_model_name": "HBoxModel",
            "_view_count": null,
            "_view_module": "@jupyter-widgets/controls",
            "_view_module_version": "1.5.0",
            "_view_name": "HBoxView",
            "box_style": "",
            "children": [
              "IPY_MODEL_b34de20e538146cc8cf371ad6b75d45e",
              "IPY_MODEL_1613b27555f34429a0bf5d846035023d",
              "IPY_MODEL_342af178eddf47b5bdcb73440c479c7a"
            ],
            "layout": "IPY_MODEL_a751e3f64ae74fe491aa92333722425c"
          }
        },
        "b34de20e538146cc8cf371ad6b75d45e": {
          "model_module": "@jupyter-widgets/controls",
          "model_name": "HTMLModel",
          "model_module_version": "1.5.0",
          "state": {
            "_dom_classes": [],
            "_model_module": "@jupyter-widgets/controls",
            "_model_module_version": "1.5.0",
            "_model_name": "HTMLModel",
            "_view_count": null,
            "_view_module": "@jupyter-widgets/controls",
            "_view_module_version": "1.5.0",
            "_view_name": "HTMLView",
            "description": "",
            "description_tooltip": null,
            "layout": "IPY_MODEL_b13dedc17bf64b12b3abc597c7466b0f",
            "placeholder": "​",
            "style": "IPY_MODEL_5a48b0f94ec04546a4bb4da6c83951c7",
            "value": "Map: 100%"
          }
        },
        "1613b27555f34429a0bf5d846035023d": {
          "model_module": "@jupyter-widgets/controls",
          "model_name": "FloatProgressModel",
          "model_module_version": "1.5.0",
          "state": {
            "_dom_classes": [],
            "_model_module": "@jupyter-widgets/controls",
            "_model_module_version": "1.5.0",
            "_model_name": "FloatProgressModel",
            "_view_count": null,
            "_view_module": "@jupyter-widgets/controls",
            "_view_module_version": "1.5.0",
            "_view_name": "ProgressView",
            "bar_style": "",
            "description": "",
            "description_tooltip": null,
            "layout": "IPY_MODEL_26d1461e7d534c9f91e3e050a15edd87",
            "max": 400,
            "min": 0,
            "orientation": "horizontal",
            "style": "IPY_MODEL_8ba087310abd4eae9216233e8b95f0cb",
            "value": 400
          }
        },
        "342af178eddf47b5bdcb73440c479c7a": {
          "model_module": "@jupyter-widgets/controls",
          "model_name": "HTMLModel",
          "model_module_version": "1.5.0",
          "state": {
            "_dom_classes": [],
            "_model_module": "@jupyter-widgets/controls",
            "_model_module_version": "1.5.0",
            "_model_name": "HTMLModel",
            "_view_count": null,
            "_view_module": "@jupyter-widgets/controls",
            "_view_module_version": "1.5.0",
            "_view_name": "HTMLView",
            "description": "",
            "description_tooltip": null,
            "layout": "IPY_MODEL_0aa81e37ad97471f8f73e73e9f3cae18",
            "placeholder": "​",
            "style": "IPY_MODEL_6377543d57f84cb38c14214637756a09",
            "value": " 400/400 [00:00&lt;00:00, 438.46 examples/s]"
          }
        },
        "a751e3f64ae74fe491aa92333722425c": {
          "model_module": "@jupyter-widgets/base",
          "model_name": "LayoutModel",
          "model_module_version": "1.2.0",
          "state": {
            "_model_module": "@jupyter-widgets/base",
            "_model_module_version": "1.2.0",
            "_model_name": "LayoutModel",
            "_view_count": null,
            "_view_module": "@jupyter-widgets/base",
            "_view_module_version": "1.2.0",
            "_view_name": "LayoutView",
            "align_content": null,
            "align_items": null,
            "align_self": null,
            "border": null,
            "bottom": null,
            "display": null,
            "flex": null,
            "flex_flow": null,
            "grid_area": null,
            "grid_auto_columns": null,
            "grid_auto_flow": null,
            "grid_auto_rows": null,
            "grid_column": null,
            "grid_gap": null,
            "grid_row": null,
            "grid_template_areas": null,
            "grid_template_columns": null,
            "grid_template_rows": null,
            "height": null,
            "justify_content": null,
            "justify_items": null,
            "left": null,
            "margin": null,
            "max_height": null,
            "max_width": null,
            "min_height": null,
            "min_width": null,
            "object_fit": null,
            "object_position": null,
            "order": null,
            "overflow": null,
            "overflow_x": null,
            "overflow_y": null,
            "padding": null,
            "right": null,
            "top": null,
            "visibility": "hidden",
            "width": null
          }
        },
        "b13dedc17bf64b12b3abc597c7466b0f": {
          "model_module": "@jupyter-widgets/base",
          "model_name": "LayoutModel",
          "model_module_version": "1.2.0",
          "state": {
            "_model_module": "@jupyter-widgets/base",
            "_model_module_version": "1.2.0",
            "_model_name": "LayoutModel",
            "_view_count": null,
            "_view_module": "@jupyter-widgets/base",
            "_view_module_version": "1.2.0",
            "_view_name": "LayoutView",
            "align_content": null,
            "align_items": null,
            "align_self": null,
            "border": null,
            "bottom": null,
            "display": null,
            "flex": null,
            "flex_flow": null,
            "grid_area": null,
            "grid_auto_columns": null,
            "grid_auto_flow": null,
            "grid_auto_rows": null,
            "grid_column": null,
            "grid_gap": null,
            "grid_row": null,
            "grid_template_areas": null,
            "grid_template_columns": null,
            "grid_template_rows": null,
            "height": null,
            "justify_content": null,
            "justify_items": null,
            "left": null,
            "margin": null,
            "max_height": null,
            "max_width": null,
            "min_height": null,
            "min_width": null,
            "object_fit": null,
            "object_position": null,
            "order": null,
            "overflow": null,
            "overflow_x": null,
            "overflow_y": null,
            "padding": null,
            "right": null,
            "top": null,
            "visibility": null,
            "width": null
          }
        },
        "5a48b0f94ec04546a4bb4da6c83951c7": {
          "model_module": "@jupyter-widgets/controls",
          "model_name": "DescriptionStyleModel",
          "model_module_version": "1.5.0",
          "state": {
            "_model_module": "@jupyter-widgets/controls",
            "_model_module_version": "1.5.0",
            "_model_name": "DescriptionStyleModel",
            "_view_count": null,
            "_view_module": "@jupyter-widgets/base",
            "_view_module_version": "1.2.0",
            "_view_name": "StyleView",
            "description_width": ""
          }
        },
        "26d1461e7d534c9f91e3e050a15edd87": {
          "model_module": "@jupyter-widgets/base",
          "model_name": "LayoutModel",
          "model_module_version": "1.2.0",
          "state": {
            "_model_module": "@jupyter-widgets/base",
            "_model_module_version": "1.2.0",
            "_model_name": "LayoutModel",
            "_view_count": null,
            "_view_module": "@jupyter-widgets/base",
            "_view_module_version": "1.2.0",
            "_view_name": "LayoutView",
            "align_content": null,
            "align_items": null,
            "align_self": null,
            "border": null,
            "bottom": null,
            "display": null,
            "flex": null,
            "flex_flow": null,
            "grid_area": null,
            "grid_auto_columns": null,
            "grid_auto_flow": null,
            "grid_auto_rows": null,
            "grid_column": null,
            "grid_gap": null,
            "grid_row": null,
            "grid_template_areas": null,
            "grid_template_columns": null,
            "grid_template_rows": null,
            "height": null,
            "justify_content": null,
            "justify_items": null,
            "left": null,
            "margin": null,
            "max_height": null,
            "max_width": null,
            "min_height": null,
            "min_width": null,
            "object_fit": null,
            "object_position": null,
            "order": null,
            "overflow": null,
            "overflow_x": null,
            "overflow_y": null,
            "padding": null,
            "right": null,
            "top": null,
            "visibility": null,
            "width": null
          }
        },
        "8ba087310abd4eae9216233e8b95f0cb": {
          "model_module": "@jupyter-widgets/controls",
          "model_name": "ProgressStyleModel",
          "model_module_version": "1.5.0",
          "state": {
            "_model_module": "@jupyter-widgets/controls",
            "_model_module_version": "1.5.0",
            "_model_name": "ProgressStyleModel",
            "_view_count": null,
            "_view_module": "@jupyter-widgets/base",
            "_view_module_version": "1.2.0",
            "_view_name": "StyleView",
            "bar_color": null,
            "description_width": ""
          }
        },
        "0aa81e37ad97471f8f73e73e9f3cae18": {
          "model_module": "@jupyter-widgets/base",
          "model_name": "LayoutModel",
          "model_module_version": "1.2.0",
          "state": {
            "_model_module": "@jupyter-widgets/base",
            "_model_module_version": "1.2.0",
            "_model_name": "LayoutModel",
            "_view_count": null,
            "_view_module": "@jupyter-widgets/base",
            "_view_module_version": "1.2.0",
            "_view_name": "LayoutView",
            "align_content": null,
            "align_items": null,
            "align_self": null,
            "border": null,
            "bottom": null,
            "display": null,
            "flex": null,
            "flex_flow": null,
            "grid_area": null,
            "grid_auto_columns": null,
            "grid_auto_flow": null,
            "grid_auto_rows": null,
            "grid_column": null,
            "grid_gap": null,
            "grid_row": null,
            "grid_template_areas": null,
            "grid_template_columns": null,
            "grid_template_rows": null,
            "height": null,
            "justify_content": null,
            "justify_items": null,
            "left": null,
            "margin": null,
            "max_height": null,
            "max_width": null,
            "min_height": null,
            "min_width": null,
            "object_fit": null,
            "object_position": null,
            "order": null,
            "overflow": null,
            "overflow_x": null,
            "overflow_y": null,
            "padding": null,
            "right": null,
            "top": null,
            "visibility": null,
            "width": null
          }
        },
        "6377543d57f84cb38c14214637756a09": {
          "model_module": "@jupyter-widgets/controls",
          "model_name": "DescriptionStyleModel",
          "model_module_version": "1.5.0",
          "state": {
            "_model_module": "@jupyter-widgets/controls",
            "_model_module_version": "1.5.0",
            "_model_name": "DescriptionStyleModel",
            "_view_count": null,
            "_view_module": "@jupyter-widgets/base",
            "_view_module_version": "1.2.0",
            "_view_name": "StyleView",
            "description_width": ""
          }
        },
        "284e2c7f59444a0b8195ec3740687eae": {
          "model_module": "@jupyter-widgets/controls",
          "model_name": "HBoxModel",
          "model_module_version": "1.5.0",
          "state": {
            "_dom_classes": [],
            "_model_module": "@jupyter-widgets/controls",
            "_model_module_version": "1.5.0",
            "_model_name": "HBoxModel",
            "_view_count": null,
            "_view_module": "@jupyter-widgets/controls",
            "_view_module_version": "1.5.0",
            "_view_name": "HBoxView",
            "box_style": "",
            "children": [
              "IPY_MODEL_e940614f04df45358a47b5ecf16ea844",
              "IPY_MODEL_5bc9fd64f8bb4920b45f6e253dcf7035",
              "IPY_MODEL_d36b219958f54c25b6c458ff6c305d01"
            ],
            "layout": "IPY_MODEL_4949a8b71f384804b8b83122bc24e011"
          }
        },
        "e940614f04df45358a47b5ecf16ea844": {
          "model_module": "@jupyter-widgets/controls",
          "model_name": "HTMLModel",
          "model_module_version": "1.5.0",
          "state": {
            "_dom_classes": [],
            "_model_module": "@jupyter-widgets/controls",
            "_model_module_version": "1.5.0",
            "_model_name": "HTMLModel",
            "_view_count": null,
            "_view_module": "@jupyter-widgets/controls",
            "_view_module_version": "1.5.0",
            "_view_name": "HTMLView",
            "description": "",
            "description_tooltip": null,
            "layout": "IPY_MODEL_83ad79df96b944ada6b99513772dd0fc",
            "placeholder": "​",
            "style": "IPY_MODEL_2debce6fb8f24a919cfa9ae6560a8bc0",
            "value": "Downloading builder script: 100%"
          }
        },
        "5bc9fd64f8bb4920b45f6e253dcf7035": {
          "model_module": "@jupyter-widgets/controls",
          "model_name": "FloatProgressModel",
          "model_module_version": "1.5.0",
          "state": {
            "_dom_classes": [],
            "_model_module": "@jupyter-widgets/controls",
            "_model_module_version": "1.5.0",
            "_model_name": "FloatProgressModel",
            "_view_count": null,
            "_view_module": "@jupyter-widgets/controls",
            "_view_module_version": "1.5.0",
            "_view_name": "ProgressView",
            "bar_style": "success",
            "description": "",
            "description_tooltip": null,
            "layout": "IPY_MODEL_7a7224b1d56e49928dbf4eadf921b137",
            "max": 4203,
            "min": 0,
            "orientation": "horizontal",
            "style": "IPY_MODEL_a27950147e0343f7966f9b9ba85c714b",
            "value": 4203
          }
        },
        "d36b219958f54c25b6c458ff6c305d01": {
          "model_module": "@jupyter-widgets/controls",
          "model_name": "HTMLModel",
          "model_module_version": "1.5.0",
          "state": {
            "_dom_classes": [],
            "_model_module": "@jupyter-widgets/controls",
            "_model_module_version": "1.5.0",
            "_model_name": "HTMLModel",
            "_view_count": null,
            "_view_module": "@jupyter-widgets/controls",
            "_view_module_version": "1.5.0",
            "_view_name": "HTMLView",
            "description": "",
            "description_tooltip": null,
            "layout": "IPY_MODEL_5c6c204fac9f40488274b4ad341e0dea",
            "placeholder": "​",
            "style": "IPY_MODEL_41254d6210b845e097c1ea6e6879a878",
            "value": " 4.20k/4.20k [00:00&lt;00:00, 141kB/s]"
          }
        },
        "4949a8b71f384804b8b83122bc24e011": {
          "model_module": "@jupyter-widgets/base",
          "model_name": "LayoutModel",
          "model_module_version": "1.2.0",
          "state": {
            "_model_module": "@jupyter-widgets/base",
            "_model_module_version": "1.2.0",
            "_model_name": "LayoutModel",
            "_view_count": null,
            "_view_module": "@jupyter-widgets/base",
            "_view_module_version": "1.2.0",
            "_view_name": "LayoutView",
            "align_content": null,
            "align_items": null,
            "align_self": null,
            "border": null,
            "bottom": null,
            "display": null,
            "flex": null,
            "flex_flow": null,
            "grid_area": null,
            "grid_auto_columns": null,
            "grid_auto_flow": null,
            "grid_auto_rows": null,
            "grid_column": null,
            "grid_gap": null,
            "grid_row": null,
            "grid_template_areas": null,
            "grid_template_columns": null,
            "grid_template_rows": null,
            "height": null,
            "justify_content": null,
            "justify_items": null,
            "left": null,
            "margin": null,
            "max_height": null,
            "max_width": null,
            "min_height": null,
            "min_width": null,
            "object_fit": null,
            "object_position": null,
            "order": null,
            "overflow": null,
            "overflow_x": null,
            "overflow_y": null,
            "padding": null,
            "right": null,
            "top": null,
            "visibility": null,
            "width": null
          }
        },
        "83ad79df96b944ada6b99513772dd0fc": {
          "model_module": "@jupyter-widgets/base",
          "model_name": "LayoutModel",
          "model_module_version": "1.2.0",
          "state": {
            "_model_module": "@jupyter-widgets/base",
            "_model_module_version": "1.2.0",
            "_model_name": "LayoutModel",
            "_view_count": null,
            "_view_module": "@jupyter-widgets/base",
            "_view_module_version": "1.2.0",
            "_view_name": "LayoutView",
            "align_content": null,
            "align_items": null,
            "align_self": null,
            "border": null,
            "bottom": null,
            "display": null,
            "flex": null,
            "flex_flow": null,
            "grid_area": null,
            "grid_auto_columns": null,
            "grid_auto_flow": null,
            "grid_auto_rows": null,
            "grid_column": null,
            "grid_gap": null,
            "grid_row": null,
            "grid_template_areas": null,
            "grid_template_columns": null,
            "grid_template_rows": null,
            "height": null,
            "justify_content": null,
            "justify_items": null,
            "left": null,
            "margin": null,
            "max_height": null,
            "max_width": null,
            "min_height": null,
            "min_width": null,
            "object_fit": null,
            "object_position": null,
            "order": null,
            "overflow": null,
            "overflow_x": null,
            "overflow_y": null,
            "padding": null,
            "right": null,
            "top": null,
            "visibility": null,
            "width": null
          }
        },
        "2debce6fb8f24a919cfa9ae6560a8bc0": {
          "model_module": "@jupyter-widgets/controls",
          "model_name": "DescriptionStyleModel",
          "model_module_version": "1.5.0",
          "state": {
            "_model_module": "@jupyter-widgets/controls",
            "_model_module_version": "1.5.0",
            "_model_name": "DescriptionStyleModel",
            "_view_count": null,
            "_view_module": "@jupyter-widgets/base",
            "_view_module_version": "1.2.0",
            "_view_name": "StyleView",
            "description_width": ""
          }
        },
        "7a7224b1d56e49928dbf4eadf921b137": {
          "model_module": "@jupyter-widgets/base",
          "model_name": "LayoutModel",
          "model_module_version": "1.2.0",
          "state": {
            "_model_module": "@jupyter-widgets/base",
            "_model_module_version": "1.2.0",
            "_model_name": "LayoutModel",
            "_view_count": null,
            "_view_module": "@jupyter-widgets/base",
            "_view_module_version": "1.2.0",
            "_view_name": "LayoutView",
            "align_content": null,
            "align_items": null,
            "align_self": null,
            "border": null,
            "bottom": null,
            "display": null,
            "flex": null,
            "flex_flow": null,
            "grid_area": null,
            "grid_auto_columns": null,
            "grid_auto_flow": null,
            "grid_auto_rows": null,
            "grid_column": null,
            "grid_gap": null,
            "grid_row": null,
            "grid_template_areas": null,
            "grid_template_columns": null,
            "grid_template_rows": null,
            "height": null,
            "justify_content": null,
            "justify_items": null,
            "left": null,
            "margin": null,
            "max_height": null,
            "max_width": null,
            "min_height": null,
            "min_width": null,
            "object_fit": null,
            "object_position": null,
            "order": null,
            "overflow": null,
            "overflow_x": null,
            "overflow_y": null,
            "padding": null,
            "right": null,
            "top": null,
            "visibility": null,
            "width": null
          }
        },
        "a27950147e0343f7966f9b9ba85c714b": {
          "model_module": "@jupyter-widgets/controls",
          "model_name": "ProgressStyleModel",
          "model_module_version": "1.5.0",
          "state": {
            "_model_module": "@jupyter-widgets/controls",
            "_model_module_version": "1.5.0",
            "_model_name": "ProgressStyleModel",
            "_view_count": null,
            "_view_module": "@jupyter-widgets/base",
            "_view_module_version": "1.2.0",
            "_view_name": "StyleView",
            "bar_color": null,
            "description_width": ""
          }
        },
        "5c6c204fac9f40488274b4ad341e0dea": {
          "model_module": "@jupyter-widgets/base",
          "model_name": "LayoutModel",
          "model_module_version": "1.2.0",
          "state": {
            "_model_module": "@jupyter-widgets/base",
            "_model_module_version": "1.2.0",
            "_model_name": "LayoutModel",
            "_view_count": null,
            "_view_module": "@jupyter-widgets/base",
            "_view_module_version": "1.2.0",
            "_view_name": "LayoutView",
            "align_content": null,
            "align_items": null,
            "align_self": null,
            "border": null,
            "bottom": null,
            "display": null,
            "flex": null,
            "flex_flow": null,
            "grid_area": null,
            "grid_auto_columns": null,
            "grid_auto_flow": null,
            "grid_auto_rows": null,
            "grid_column": null,
            "grid_gap": null,
            "grid_row": null,
            "grid_template_areas": null,
            "grid_template_columns": null,
            "grid_template_rows": null,
            "height": null,
            "justify_content": null,
            "justify_items": null,
            "left": null,
            "margin": null,
            "max_height": null,
            "max_width": null,
            "min_height": null,
            "min_width": null,
            "object_fit": null,
            "object_position": null,
            "order": null,
            "overflow": null,
            "overflow_x": null,
            "overflow_y": null,
            "padding": null,
            "right": null,
            "top": null,
            "visibility": null,
            "width": null
          }
        },
        "41254d6210b845e097c1ea6e6879a878": {
          "model_module": "@jupyter-widgets/controls",
          "model_name": "DescriptionStyleModel",
          "model_module_version": "1.5.0",
          "state": {
            "_model_module": "@jupyter-widgets/controls",
            "_model_module_version": "1.5.0",
            "_model_name": "DescriptionStyleModel",
            "_view_count": null,
            "_view_module": "@jupyter-widgets/base",
            "_view_module_version": "1.2.0",
            "_view_name": "StyleView",
            "description_width": ""
          }
        },
        "c396f95066c14a44bc58ef0f70a771a7": {
          "model_module": "@jupyter-widgets/controls",
          "model_name": "HBoxModel",
          "model_module_version": "1.5.0",
          "state": {
            "_dom_classes": [],
            "_model_module": "@jupyter-widgets/controls",
            "_model_module_version": "1.5.0",
            "_model_name": "HBoxModel",
            "_view_count": null,
            "_view_module": "@jupyter-widgets/controls",
            "_view_module_version": "1.5.0",
            "_view_name": "HBoxView",
            "box_style": "",
            "children": [
              "IPY_MODEL_58ce7f5a28934445910cf29a3a4fab5f",
              "IPY_MODEL_e7c5b9de0da9478e8142f3242f359d03",
              "IPY_MODEL_ec601700b8ae42c48b43aa1e1f8e2bb2"
            ],
            "layout": "IPY_MODEL_a43982b45f704292b97bbd03b1db8e4e"
          }
        },
        "58ce7f5a28934445910cf29a3a4fab5f": {
          "model_module": "@jupyter-widgets/controls",
          "model_name": "HTMLModel",
          "model_module_version": "1.5.0",
          "state": {
            "_dom_classes": [],
            "_model_module": "@jupyter-widgets/controls",
            "_model_module_version": "1.5.0",
            "_model_name": "HTMLModel",
            "_view_count": null,
            "_view_module": "@jupyter-widgets/controls",
            "_view_module_version": "1.5.0",
            "_view_name": "HTMLView",
            "description": "",
            "description_tooltip": null,
            "layout": "IPY_MODEL_a06723d7f5c84d598e575fb8d9111ea6",
            "placeholder": "​",
            "style": "IPY_MODEL_be8ac9f21fb944ac95a4eef92ec97c01",
            "value": "Downloading pytorch_model.bin: 100%"
          }
        },
        "e7c5b9de0da9478e8142f3242f359d03": {
          "model_module": "@jupyter-widgets/controls",
          "model_name": "FloatProgressModel",
          "model_module_version": "1.5.0",
          "state": {
            "_dom_classes": [],
            "_model_module": "@jupyter-widgets/controls",
            "_model_module_version": "1.5.0",
            "_model_name": "FloatProgressModel",
            "_view_count": null,
            "_view_module": "@jupyter-widgets/controls",
            "_view_module_version": "1.5.0",
            "_view_name": "ProgressView",
            "bar_style": "success",
            "description": "",
            "description_tooltip": null,
            "layout": "IPY_MODEL_2cdf0fb9398b4fd5ad74ae7b5819cb4a",
            "max": 380267417,
            "min": 0,
            "orientation": "horizontal",
            "style": "IPY_MODEL_c2e75438ef434b97a9e7ff74b5f8333b",
            "value": 380267417
          }
        },
        "ec601700b8ae42c48b43aa1e1f8e2bb2": {
          "model_module": "@jupyter-widgets/controls",
          "model_name": "HTMLModel",
          "model_module_version": "1.5.0",
          "state": {
            "_dom_classes": [],
            "_model_module": "@jupyter-widgets/controls",
            "_model_module_version": "1.5.0",
            "_model_name": "HTMLModel",
            "_view_count": null,
            "_view_module": "@jupyter-widgets/controls",
            "_view_module_version": "1.5.0",
            "_view_name": "HTMLView",
            "description": "",
            "description_tooltip": null,
            "layout": "IPY_MODEL_e6e20c2c04194ba298e169b1d0f0085c",
            "placeholder": "​",
            "style": "IPY_MODEL_0daec7f7c37848ecb1bf5ae207536752",
            "value": " 380M/380M [00:01&lt;00:00, 224MB/s]"
          }
        },
        "a43982b45f704292b97bbd03b1db8e4e": {
          "model_module": "@jupyter-widgets/base",
          "model_name": "LayoutModel",
          "model_module_version": "1.2.0",
          "state": {
            "_model_module": "@jupyter-widgets/base",
            "_model_module_version": "1.2.0",
            "_model_name": "LayoutModel",
            "_view_count": null,
            "_view_module": "@jupyter-widgets/base",
            "_view_module_version": "1.2.0",
            "_view_name": "LayoutView",
            "align_content": null,
            "align_items": null,
            "align_self": null,
            "border": null,
            "bottom": null,
            "display": null,
            "flex": null,
            "flex_flow": null,
            "grid_area": null,
            "grid_auto_columns": null,
            "grid_auto_flow": null,
            "grid_auto_rows": null,
            "grid_column": null,
            "grid_gap": null,
            "grid_row": null,
            "grid_template_areas": null,
            "grid_template_columns": null,
            "grid_template_rows": null,
            "height": null,
            "justify_content": null,
            "justify_items": null,
            "left": null,
            "margin": null,
            "max_height": null,
            "max_width": null,
            "min_height": null,
            "min_width": null,
            "object_fit": null,
            "object_position": null,
            "order": null,
            "overflow": null,
            "overflow_x": null,
            "overflow_y": null,
            "padding": null,
            "right": null,
            "top": null,
            "visibility": null,
            "width": null
          }
        },
        "a06723d7f5c84d598e575fb8d9111ea6": {
          "model_module": "@jupyter-widgets/base",
          "model_name": "LayoutModel",
          "model_module_version": "1.2.0",
          "state": {
            "_model_module": "@jupyter-widgets/base",
            "_model_module_version": "1.2.0",
            "_model_name": "LayoutModel",
            "_view_count": null,
            "_view_module": "@jupyter-widgets/base",
            "_view_module_version": "1.2.0",
            "_view_name": "LayoutView",
            "align_content": null,
            "align_items": null,
            "align_self": null,
            "border": null,
            "bottom": null,
            "display": null,
            "flex": null,
            "flex_flow": null,
            "grid_area": null,
            "grid_auto_columns": null,
            "grid_auto_flow": null,
            "grid_auto_rows": null,
            "grid_column": null,
            "grid_gap": null,
            "grid_row": null,
            "grid_template_areas": null,
            "grid_template_columns": null,
            "grid_template_rows": null,
            "height": null,
            "justify_content": null,
            "justify_items": null,
            "left": null,
            "margin": null,
            "max_height": null,
            "max_width": null,
            "min_height": null,
            "min_width": null,
            "object_fit": null,
            "object_position": null,
            "order": null,
            "overflow": null,
            "overflow_x": null,
            "overflow_y": null,
            "padding": null,
            "right": null,
            "top": null,
            "visibility": null,
            "width": null
          }
        },
        "be8ac9f21fb944ac95a4eef92ec97c01": {
          "model_module": "@jupyter-widgets/controls",
          "model_name": "DescriptionStyleModel",
          "model_module_version": "1.5.0",
          "state": {
            "_model_module": "@jupyter-widgets/controls",
            "_model_module_version": "1.5.0",
            "_model_name": "DescriptionStyleModel",
            "_view_count": null,
            "_view_module": "@jupyter-widgets/base",
            "_view_module_version": "1.2.0",
            "_view_name": "StyleView",
            "description_width": ""
          }
        },
        "2cdf0fb9398b4fd5ad74ae7b5819cb4a": {
          "model_module": "@jupyter-widgets/base",
          "model_name": "LayoutModel",
          "model_module_version": "1.2.0",
          "state": {
            "_model_module": "@jupyter-widgets/base",
            "_model_module_version": "1.2.0",
            "_model_name": "LayoutModel",
            "_view_count": null,
            "_view_module": "@jupyter-widgets/base",
            "_view_module_version": "1.2.0",
            "_view_name": "LayoutView",
            "align_content": null,
            "align_items": null,
            "align_self": null,
            "border": null,
            "bottom": null,
            "display": null,
            "flex": null,
            "flex_flow": null,
            "grid_area": null,
            "grid_auto_columns": null,
            "grid_auto_flow": null,
            "grid_auto_rows": null,
            "grid_column": null,
            "grid_gap": null,
            "grid_row": null,
            "grid_template_areas": null,
            "grid_template_columns": null,
            "grid_template_rows": null,
            "height": null,
            "justify_content": null,
            "justify_items": null,
            "left": null,
            "margin": null,
            "max_height": null,
            "max_width": null,
            "min_height": null,
            "min_width": null,
            "object_fit": null,
            "object_position": null,
            "order": null,
            "overflow": null,
            "overflow_x": null,
            "overflow_y": null,
            "padding": null,
            "right": null,
            "top": null,
            "visibility": null,
            "width": null
          }
        },
        "c2e75438ef434b97a9e7ff74b5f8333b": {
          "model_module": "@jupyter-widgets/controls",
          "model_name": "ProgressStyleModel",
          "model_module_version": "1.5.0",
          "state": {
            "_model_module": "@jupyter-widgets/controls",
            "_model_module_version": "1.5.0",
            "_model_name": "ProgressStyleModel",
            "_view_count": null,
            "_view_module": "@jupyter-widgets/base",
            "_view_module_version": "1.2.0",
            "_view_name": "StyleView",
            "bar_color": null,
            "description_width": ""
          }
        },
        "e6e20c2c04194ba298e169b1d0f0085c": {
          "model_module": "@jupyter-widgets/base",
          "model_name": "LayoutModel",
          "model_module_version": "1.2.0",
          "state": {
            "_model_module": "@jupyter-widgets/base",
            "_model_module_version": "1.2.0",
            "_model_name": "LayoutModel",
            "_view_count": null,
            "_view_module": "@jupyter-widgets/base",
            "_view_module_version": "1.2.0",
            "_view_name": "LayoutView",
            "align_content": null,
            "align_items": null,
            "align_self": null,
            "border": null,
            "bottom": null,
            "display": null,
            "flex": null,
            "flex_flow": null,
            "grid_area": null,
            "grid_auto_columns": null,
            "grid_auto_flow": null,
            "grid_auto_rows": null,
            "grid_column": null,
            "grid_gap": null,
            "grid_row": null,
            "grid_template_areas": null,
            "grid_template_columns": null,
            "grid_template_rows": null,
            "height": null,
            "justify_content": null,
            "justify_items": null,
            "left": null,
            "margin": null,
            "max_height": null,
            "max_width": null,
            "min_height": null,
            "min_width": null,
            "object_fit": null,
            "object_position": null,
            "order": null,
            "overflow": null,
            "overflow_x": null,
            "overflow_y": null,
            "padding": null,
            "right": null,
            "top": null,
            "visibility": null,
            "width": null
          }
        },
        "0daec7f7c37848ecb1bf5ae207536752": {
          "model_module": "@jupyter-widgets/controls",
          "model_name": "DescriptionStyleModel",
          "model_module_version": "1.5.0",
          "state": {
            "_model_module": "@jupyter-widgets/controls",
            "_model_module_version": "1.5.0",
            "_model_name": "DescriptionStyleModel",
            "_view_count": null,
            "_view_module": "@jupyter-widgets/base",
            "_view_module_version": "1.2.0",
            "_view_name": "StyleView",
            "description_width": ""
          }
        },
        "f526de5e718446febb88cbb4c2ee798a": {
          "model_module": "@jupyter-widgets/controls",
          "model_name": "HBoxModel",
          "model_module_version": "1.5.0",
          "state": {
            "_dom_classes": [],
            "_model_module": "@jupyter-widgets/controls",
            "_model_module_version": "1.5.0",
            "_model_name": "HBoxModel",
            "_view_count": null,
            "_view_module": "@jupyter-widgets/controls",
            "_view_module_version": "1.5.0",
            "_view_name": "HBoxView",
            "box_style": "",
            "children": [
              "IPY_MODEL_54dd7354c34c4a65bfcfc8d986068c4c",
              "IPY_MODEL_5b8e5137f010455a8d4acdc0d31ee58d",
              "IPY_MODEL_5dc5978b78714c66915a8e512f18c0a7"
            ],
            "layout": "IPY_MODEL_d427429e1d224821963125c60fdefd44"
          }
        },
        "54dd7354c34c4a65bfcfc8d986068c4c": {
          "model_module": "@jupyter-widgets/controls",
          "model_name": "HTMLModel",
          "model_module_version": "1.5.0",
          "state": {
            "_dom_classes": [],
            "_model_module": "@jupyter-widgets/controls",
            "_model_module_version": "1.5.0",
            "_model_name": "HTMLModel",
            "_view_count": null,
            "_view_module": "@jupyter-widgets/controls",
            "_view_module_version": "1.5.0",
            "_view_name": "HTMLView",
            "description": "",
            "description_tooltip": null,
            "layout": "IPY_MODEL_3a3e781b631b4217bdba2837a37547f0",
            "placeholder": "​",
            "style": "IPY_MODEL_e9960699ed55471fb016df1feafa8a89",
            "value": "Downloading (…)lve/main/config.json: 100%"
          }
        },
        "5b8e5137f010455a8d4acdc0d31ee58d": {
          "model_module": "@jupyter-widgets/controls",
          "model_name": "FloatProgressModel",
          "model_module_version": "1.5.0",
          "state": {
            "_dom_classes": [],
            "_model_module": "@jupyter-widgets/controls",
            "_model_module_version": "1.5.0",
            "_model_name": "FloatProgressModel",
            "_view_count": null,
            "_view_module": "@jupyter-widgets/controls",
            "_view_module_version": "1.5.0",
            "_view_name": "ProgressView",
            "bar_style": "success",
            "description": "",
            "description_tooltip": null,
            "layout": "IPY_MODEL_585610a1bd55440e9a277f3a1ad4a5c3",
            "max": 2497,
            "min": 0,
            "orientation": "horizontal",
            "style": "IPY_MODEL_dd6a9236f04a4760be3a7986bf2f0794",
            "value": 2497
          }
        },
        "5dc5978b78714c66915a8e512f18c0a7": {
          "model_module": "@jupyter-widgets/controls",
          "model_name": "HTMLModel",
          "model_module_version": "1.5.0",
          "state": {
            "_dom_classes": [],
            "_model_module": "@jupyter-widgets/controls",
            "_model_module_version": "1.5.0",
            "_model_name": "HTMLModel",
            "_view_count": null,
            "_view_module": "@jupyter-widgets/controls",
            "_view_module_version": "1.5.0",
            "_view_name": "HTMLView",
            "description": "",
            "description_tooltip": null,
            "layout": "IPY_MODEL_94bc890cef6547bb9ad95954c9f22a3e",
            "placeholder": "​",
            "style": "IPY_MODEL_6a0cdc3a5ad64dfe936efa5c946ab045",
            "value": " 2.50k/2.50k [00:00&lt;00:00, 140kB/s]"
          }
        },
        "d427429e1d224821963125c60fdefd44": {
          "model_module": "@jupyter-widgets/base",
          "model_name": "LayoutModel",
          "model_module_version": "1.2.0",
          "state": {
            "_model_module": "@jupyter-widgets/base",
            "_model_module_version": "1.2.0",
            "_model_name": "LayoutModel",
            "_view_count": null,
            "_view_module": "@jupyter-widgets/base",
            "_view_module_version": "1.2.0",
            "_view_name": "LayoutView",
            "align_content": null,
            "align_items": null,
            "align_self": null,
            "border": null,
            "bottom": null,
            "display": null,
            "flex": null,
            "flex_flow": null,
            "grid_area": null,
            "grid_auto_columns": null,
            "grid_auto_flow": null,
            "grid_auto_rows": null,
            "grid_column": null,
            "grid_gap": null,
            "grid_row": null,
            "grid_template_areas": null,
            "grid_template_columns": null,
            "grid_template_rows": null,
            "height": null,
            "justify_content": null,
            "justify_items": null,
            "left": null,
            "margin": null,
            "max_height": null,
            "max_width": null,
            "min_height": null,
            "min_width": null,
            "object_fit": null,
            "object_position": null,
            "order": null,
            "overflow": null,
            "overflow_x": null,
            "overflow_y": null,
            "padding": null,
            "right": null,
            "top": null,
            "visibility": null,
            "width": null
          }
        },
        "3a3e781b631b4217bdba2837a37547f0": {
          "model_module": "@jupyter-widgets/base",
          "model_name": "LayoutModel",
          "model_module_version": "1.2.0",
          "state": {
            "_model_module": "@jupyter-widgets/base",
            "_model_module_version": "1.2.0",
            "_model_name": "LayoutModel",
            "_view_count": null,
            "_view_module": "@jupyter-widgets/base",
            "_view_module_version": "1.2.0",
            "_view_name": "LayoutView",
            "align_content": null,
            "align_items": null,
            "align_self": null,
            "border": null,
            "bottom": null,
            "display": null,
            "flex": null,
            "flex_flow": null,
            "grid_area": null,
            "grid_auto_columns": null,
            "grid_auto_flow": null,
            "grid_auto_rows": null,
            "grid_column": null,
            "grid_gap": null,
            "grid_row": null,
            "grid_template_areas": null,
            "grid_template_columns": null,
            "grid_template_rows": null,
            "height": null,
            "justify_content": null,
            "justify_items": null,
            "left": null,
            "margin": null,
            "max_height": null,
            "max_width": null,
            "min_height": null,
            "min_width": null,
            "object_fit": null,
            "object_position": null,
            "order": null,
            "overflow": null,
            "overflow_x": null,
            "overflow_y": null,
            "padding": null,
            "right": null,
            "top": null,
            "visibility": null,
            "width": null
          }
        },
        "e9960699ed55471fb016df1feafa8a89": {
          "model_module": "@jupyter-widgets/controls",
          "model_name": "DescriptionStyleModel",
          "model_module_version": "1.5.0",
          "state": {
            "_model_module": "@jupyter-widgets/controls",
            "_model_module_version": "1.5.0",
            "_model_name": "DescriptionStyleModel",
            "_view_count": null,
            "_view_module": "@jupyter-widgets/base",
            "_view_module_version": "1.2.0",
            "_view_name": "StyleView",
            "description_width": ""
          }
        },
        "585610a1bd55440e9a277f3a1ad4a5c3": {
          "model_module": "@jupyter-widgets/base",
          "model_name": "LayoutModel",
          "model_module_version": "1.2.0",
          "state": {
            "_model_module": "@jupyter-widgets/base",
            "_model_module_version": "1.2.0",
            "_model_name": "LayoutModel",
            "_view_count": null,
            "_view_module": "@jupyter-widgets/base",
            "_view_module_version": "1.2.0",
            "_view_name": "LayoutView",
            "align_content": null,
            "align_items": null,
            "align_self": null,
            "border": null,
            "bottom": null,
            "display": null,
            "flex": null,
            "flex_flow": null,
            "grid_area": null,
            "grid_auto_columns": null,
            "grid_auto_flow": null,
            "grid_auto_rows": null,
            "grid_column": null,
            "grid_gap": null,
            "grid_row": null,
            "grid_template_areas": null,
            "grid_template_columns": null,
            "grid_template_rows": null,
            "height": null,
            "justify_content": null,
            "justify_items": null,
            "left": null,
            "margin": null,
            "max_height": null,
            "max_width": null,
            "min_height": null,
            "min_width": null,
            "object_fit": null,
            "object_position": null,
            "order": null,
            "overflow": null,
            "overflow_x": null,
            "overflow_y": null,
            "padding": null,
            "right": null,
            "top": null,
            "visibility": null,
            "width": null
          }
        },
        "dd6a9236f04a4760be3a7986bf2f0794": {
          "model_module": "@jupyter-widgets/controls",
          "model_name": "ProgressStyleModel",
          "model_module_version": "1.5.0",
          "state": {
            "_model_module": "@jupyter-widgets/controls",
            "_model_module_version": "1.5.0",
            "_model_name": "ProgressStyleModel",
            "_view_count": null,
            "_view_module": "@jupyter-widgets/base",
            "_view_module_version": "1.2.0",
            "_view_name": "StyleView",
            "bar_color": null,
            "description_width": ""
          }
        },
        "94bc890cef6547bb9ad95954c9f22a3e": {
          "model_module": "@jupyter-widgets/base",
          "model_name": "LayoutModel",
          "model_module_version": "1.2.0",
          "state": {
            "_model_module": "@jupyter-widgets/base",
            "_model_module_version": "1.2.0",
            "_model_name": "LayoutModel",
            "_view_count": null,
            "_view_module": "@jupyter-widgets/base",
            "_view_module_version": "1.2.0",
            "_view_name": "LayoutView",
            "align_content": null,
            "align_items": null,
            "align_self": null,
            "border": null,
            "bottom": null,
            "display": null,
            "flex": null,
            "flex_flow": null,
            "grid_area": null,
            "grid_auto_columns": null,
            "grid_auto_flow": null,
            "grid_auto_rows": null,
            "grid_column": null,
            "grid_gap": null,
            "grid_row": null,
            "grid_template_areas": null,
            "grid_template_columns": null,
            "grid_template_rows": null,
            "height": null,
            "justify_content": null,
            "justify_items": null,
            "left": null,
            "margin": null,
            "max_height": null,
            "max_width": null,
            "min_height": null,
            "min_width": null,
            "object_fit": null,
            "object_position": null,
            "order": null,
            "overflow": null,
            "overflow_x": null,
            "overflow_y": null,
            "padding": null,
            "right": null,
            "top": null,
            "visibility": null,
            "width": null
          }
        },
        "6a0cdc3a5ad64dfe936efa5c946ab045": {
          "model_module": "@jupyter-widgets/controls",
          "model_name": "DescriptionStyleModel",
          "model_module_version": "1.5.0",
          "state": {
            "_model_module": "@jupyter-widgets/controls",
            "_model_module_version": "1.5.0",
            "_model_name": "DescriptionStyleModel",
            "_view_count": null,
            "_view_module": "@jupyter-widgets/base",
            "_view_module_version": "1.2.0",
            "_view_name": "StyleView",
            "description_width": ""
          }
        },
        "87c66c416ddf42cda819908365d91fb4": {
          "model_module": "@jupyter-widgets/controls",
          "model_name": "HBoxModel",
          "model_module_version": "1.5.0",
          "state": {
            "_dom_classes": [],
            "_model_module": "@jupyter-widgets/controls",
            "_model_module_version": "1.5.0",
            "_model_name": "HBoxModel",
            "_view_count": null,
            "_view_module": "@jupyter-widgets/controls",
            "_view_module_version": "1.5.0",
            "_view_name": "HBoxView",
            "box_style": "",
            "children": [
              "IPY_MODEL_90ae4d9a8e51478ca7e6a3fb5c903b83",
              "IPY_MODEL_38fadc422f5a4431ab32993961f910cc",
              "IPY_MODEL_1cc5cc04e72740669f68ee525fea7278"
            ],
            "layout": "IPY_MODEL_f016fb19b8054dccbf63e178eea1a5b7"
          }
        },
        "90ae4d9a8e51478ca7e6a3fb5c903b83": {
          "model_module": "@jupyter-widgets/controls",
          "model_name": "HTMLModel",
          "model_module_version": "1.5.0",
          "state": {
            "_dom_classes": [],
            "_model_module": "@jupyter-widgets/controls",
            "_model_module_version": "1.5.0",
            "_model_name": "HTMLModel",
            "_view_count": null,
            "_view_module": "@jupyter-widgets/controls",
            "_view_module_version": "1.5.0",
            "_view_name": "HTMLView",
            "description": "",
            "description_tooltip": null,
            "layout": "IPY_MODEL_6da92d0d085a4e88bc671e95aaf60fe8",
            "placeholder": "​",
            "style": "IPY_MODEL_7290675182394a87b16d319253cecde5",
            "value": "Downloading pytorch_model.bin: 100%"
          }
        },
        "38fadc422f5a4431ab32993961f910cc": {
          "model_module": "@jupyter-widgets/controls",
          "model_name": "FloatProgressModel",
          "model_module_version": "1.5.0",
          "state": {
            "_dom_classes": [],
            "_model_module": "@jupyter-widgets/controls",
            "_model_module_version": "1.5.0",
            "_model_name": "FloatProgressModel",
            "_view_count": null,
            "_view_module": "@jupyter-widgets/controls",
            "_view_module_version": "1.5.0",
            "_view_name": "ProgressView",
            "bar_style": "success",
            "description": "",
            "description_tooltip": null,
            "layout": "IPY_MODEL_47708ffb8830484fabb4ed37a5d0e508",
            "max": 378350441,
            "min": 0,
            "orientation": "horizontal",
            "style": "IPY_MODEL_f4f2b159d1c74be6b75f3a32e645a397",
            "value": 378350441
          }
        },
        "1cc5cc04e72740669f68ee525fea7278": {
          "model_module": "@jupyter-widgets/controls",
          "model_name": "HTMLModel",
          "model_module_version": "1.5.0",
          "state": {
            "_dom_classes": [],
            "_model_module": "@jupyter-widgets/controls",
            "_model_module_version": "1.5.0",
            "_model_name": "HTMLModel",
            "_view_count": null,
            "_view_module": "@jupyter-widgets/controls",
            "_view_module_version": "1.5.0",
            "_view_name": "HTMLView",
            "description": "",
            "description_tooltip": null,
            "layout": "IPY_MODEL_edc53156ab8e41629188158ab71e3e9b",
            "placeholder": "​",
            "style": "IPY_MODEL_def61472a3064bf6b5a32d7dc7f386af",
            "value": " 378M/378M [00:09&lt;00:00, 41.3MB/s]"
          }
        },
        "f016fb19b8054dccbf63e178eea1a5b7": {
          "model_module": "@jupyter-widgets/base",
          "model_name": "LayoutModel",
          "model_module_version": "1.2.0",
          "state": {
            "_model_module": "@jupyter-widgets/base",
            "_model_module_version": "1.2.0",
            "_model_name": "LayoutModel",
            "_view_count": null,
            "_view_module": "@jupyter-widgets/base",
            "_view_module_version": "1.2.0",
            "_view_name": "LayoutView",
            "align_content": null,
            "align_items": null,
            "align_self": null,
            "border": null,
            "bottom": null,
            "display": null,
            "flex": null,
            "flex_flow": null,
            "grid_area": null,
            "grid_auto_columns": null,
            "grid_auto_flow": null,
            "grid_auto_rows": null,
            "grid_column": null,
            "grid_gap": null,
            "grid_row": null,
            "grid_template_areas": null,
            "grid_template_columns": null,
            "grid_template_rows": null,
            "height": null,
            "justify_content": null,
            "justify_items": null,
            "left": null,
            "margin": null,
            "max_height": null,
            "max_width": null,
            "min_height": null,
            "min_width": null,
            "object_fit": null,
            "object_position": null,
            "order": null,
            "overflow": null,
            "overflow_x": null,
            "overflow_y": null,
            "padding": null,
            "right": null,
            "top": null,
            "visibility": null,
            "width": null
          }
        },
        "6da92d0d085a4e88bc671e95aaf60fe8": {
          "model_module": "@jupyter-widgets/base",
          "model_name": "LayoutModel",
          "model_module_version": "1.2.0",
          "state": {
            "_model_module": "@jupyter-widgets/base",
            "_model_module_version": "1.2.0",
            "_model_name": "LayoutModel",
            "_view_count": null,
            "_view_module": "@jupyter-widgets/base",
            "_view_module_version": "1.2.0",
            "_view_name": "LayoutView",
            "align_content": null,
            "align_items": null,
            "align_self": null,
            "border": null,
            "bottom": null,
            "display": null,
            "flex": null,
            "flex_flow": null,
            "grid_area": null,
            "grid_auto_columns": null,
            "grid_auto_flow": null,
            "grid_auto_rows": null,
            "grid_column": null,
            "grid_gap": null,
            "grid_row": null,
            "grid_template_areas": null,
            "grid_template_columns": null,
            "grid_template_rows": null,
            "height": null,
            "justify_content": null,
            "justify_items": null,
            "left": null,
            "margin": null,
            "max_height": null,
            "max_width": null,
            "min_height": null,
            "min_width": null,
            "object_fit": null,
            "object_position": null,
            "order": null,
            "overflow": null,
            "overflow_x": null,
            "overflow_y": null,
            "padding": null,
            "right": null,
            "top": null,
            "visibility": null,
            "width": null
          }
        },
        "7290675182394a87b16d319253cecde5": {
          "model_module": "@jupyter-widgets/controls",
          "model_name": "DescriptionStyleModel",
          "model_module_version": "1.5.0",
          "state": {
            "_model_module": "@jupyter-widgets/controls",
            "_model_module_version": "1.5.0",
            "_model_name": "DescriptionStyleModel",
            "_view_count": null,
            "_view_module": "@jupyter-widgets/base",
            "_view_module_version": "1.2.0",
            "_view_name": "StyleView",
            "description_width": ""
          }
        },
        "47708ffb8830484fabb4ed37a5d0e508": {
          "model_module": "@jupyter-widgets/base",
          "model_name": "LayoutModel",
          "model_module_version": "1.2.0",
          "state": {
            "_model_module": "@jupyter-widgets/base",
            "_model_module_version": "1.2.0",
            "_model_name": "LayoutModel",
            "_view_count": null,
            "_view_module": "@jupyter-widgets/base",
            "_view_module_version": "1.2.0",
            "_view_name": "LayoutView",
            "align_content": null,
            "align_items": null,
            "align_self": null,
            "border": null,
            "bottom": null,
            "display": null,
            "flex": null,
            "flex_flow": null,
            "grid_area": null,
            "grid_auto_columns": null,
            "grid_auto_flow": null,
            "grid_auto_rows": null,
            "grid_column": null,
            "grid_gap": null,
            "grid_row": null,
            "grid_template_areas": null,
            "grid_template_columns": null,
            "grid_template_rows": null,
            "height": null,
            "justify_content": null,
            "justify_items": null,
            "left": null,
            "margin": null,
            "max_height": null,
            "max_width": null,
            "min_height": null,
            "min_width": null,
            "object_fit": null,
            "object_position": null,
            "order": null,
            "overflow": null,
            "overflow_x": null,
            "overflow_y": null,
            "padding": null,
            "right": null,
            "top": null,
            "visibility": null,
            "width": null
          }
        },
        "f4f2b159d1c74be6b75f3a32e645a397": {
          "model_module": "@jupyter-widgets/controls",
          "model_name": "ProgressStyleModel",
          "model_module_version": "1.5.0",
          "state": {
            "_model_module": "@jupyter-widgets/controls",
            "_model_module_version": "1.5.0",
            "_model_name": "ProgressStyleModel",
            "_view_count": null,
            "_view_module": "@jupyter-widgets/base",
            "_view_module_version": "1.2.0",
            "_view_name": "StyleView",
            "bar_color": null,
            "description_width": ""
          }
        },
        "edc53156ab8e41629188158ab71e3e9b": {
          "model_module": "@jupyter-widgets/base",
          "model_name": "LayoutModel",
          "model_module_version": "1.2.0",
          "state": {
            "_model_module": "@jupyter-widgets/base",
            "_model_module_version": "1.2.0",
            "_model_name": "LayoutModel",
            "_view_count": null,
            "_view_module": "@jupyter-widgets/base",
            "_view_module_version": "1.2.0",
            "_view_name": "LayoutView",
            "align_content": null,
            "align_items": null,
            "align_self": null,
            "border": null,
            "bottom": null,
            "display": null,
            "flex": null,
            "flex_flow": null,
            "grid_area": null,
            "grid_auto_columns": null,
            "grid_auto_flow": null,
            "grid_auto_rows": null,
            "grid_column": null,
            "grid_gap": null,
            "grid_row": null,
            "grid_template_areas": null,
            "grid_template_columns": null,
            "grid_template_rows": null,
            "height": null,
            "justify_content": null,
            "justify_items": null,
            "left": null,
            "margin": null,
            "max_height": null,
            "max_width": null,
            "min_height": null,
            "min_width": null,
            "object_fit": null,
            "object_position": null,
            "order": null,
            "overflow": null,
            "overflow_x": null,
            "overflow_y": null,
            "padding": null,
            "right": null,
            "top": null,
            "visibility": null,
            "width": null
          }
        },
        "def61472a3064bf6b5a32d7dc7f386af": {
          "model_module": "@jupyter-widgets/controls",
          "model_name": "DescriptionStyleModel",
          "model_module_version": "1.5.0",
          "state": {
            "_model_module": "@jupyter-widgets/controls",
            "_model_module_version": "1.5.0",
            "_model_name": "DescriptionStyleModel",
            "_view_count": null,
            "_view_module": "@jupyter-widgets/base",
            "_view_module_version": "1.2.0",
            "_view_name": "StyleView",
            "description_width": ""
          }
        },
        "45db99bc29cb4331ae86ebcb7a7367c3": {
          "model_module": "@jupyter-widgets/controls",
          "model_name": "HBoxModel",
          "model_module_version": "1.5.0",
          "state": {
            "_dom_classes": [],
            "_model_module": "@jupyter-widgets/controls",
            "_model_module_version": "1.5.0",
            "_model_name": "HBoxModel",
            "_view_count": null,
            "_view_module": "@jupyter-widgets/controls",
            "_view_module_version": "1.5.0",
            "_view_name": "HBoxView",
            "box_style": "",
            "children": [
              "IPY_MODEL_3c43b4eccb3c4f4aa725a9ce049bdd5a",
              "IPY_MODEL_982fd17d78f247ee9e18f549234ab0d1",
              "IPY_MODEL_1e052b04e7704bef8af2a047592960f4"
            ],
            "layout": "IPY_MODEL_6b291e6f275142ed916f41e721a29c4f"
          }
        },
        "3c43b4eccb3c4f4aa725a9ce049bdd5a": {
          "model_module": "@jupyter-widgets/controls",
          "model_name": "HTMLModel",
          "model_module_version": "1.5.0",
          "state": {
            "_dom_classes": [],
            "_model_module": "@jupyter-widgets/controls",
            "_model_module_version": "1.5.0",
            "_model_name": "HTMLModel",
            "_view_count": null,
            "_view_module": "@jupyter-widgets/controls",
            "_view_module_version": "1.5.0",
            "_view_name": "HTMLView",
            "description": "",
            "description_tooltip": null,
            "layout": "IPY_MODEL_2e8c82dfab16401184b2cb9ebdacffba",
            "placeholder": "​",
            "style": "IPY_MODEL_442728d523cf446d902a72c9873feb75",
            "value": "Downloading (…)rocessor_config.json: 100%"
          }
        },
        "982fd17d78f247ee9e18f549234ab0d1": {
          "model_module": "@jupyter-widgets/controls",
          "model_name": "FloatProgressModel",
          "model_module_version": "1.5.0",
          "state": {
            "_dom_classes": [],
            "_model_module": "@jupyter-widgets/controls",
            "_model_module_version": "1.5.0",
            "_model_name": "FloatProgressModel",
            "_view_count": null,
            "_view_module": "@jupyter-widgets/controls",
            "_view_module_version": "1.5.0",
            "_view_name": "ProgressView",
            "bar_style": "success",
            "description": "",
            "description_tooltip": null,
            "layout": "IPY_MODEL_ba0c7588e8d04980991fcb1b2ac05220",
            "max": 215,
            "min": 0,
            "orientation": "horizontal",
            "style": "IPY_MODEL_9baaa41b8f9d403ca0879d76900c9165",
            "value": 215
          }
        },
        "1e052b04e7704bef8af2a047592960f4": {
          "model_module": "@jupyter-widgets/controls",
          "model_name": "HTMLModel",
          "model_module_version": "1.5.0",
          "state": {
            "_dom_classes": [],
            "_model_module": "@jupyter-widgets/controls",
            "_model_module_version": "1.5.0",
            "_model_name": "HTMLModel",
            "_view_count": null,
            "_view_module": "@jupyter-widgets/controls",
            "_view_module_version": "1.5.0",
            "_view_name": "HTMLView",
            "description": "",
            "description_tooltip": null,
            "layout": "IPY_MODEL_a1cc18fcebaf4d228ecd9c54b2bee56a",
            "placeholder": "​",
            "style": "IPY_MODEL_d418d0ba84b44f46aa13444e1e5572b6",
            "value": " 215/215 [00:00&lt;00:00, 11.1kB/s]"
          }
        },
        "6b291e6f275142ed916f41e721a29c4f": {
          "model_module": "@jupyter-widgets/base",
          "model_name": "LayoutModel",
          "model_module_version": "1.2.0",
          "state": {
            "_model_module": "@jupyter-widgets/base",
            "_model_module_version": "1.2.0",
            "_model_name": "LayoutModel",
            "_view_count": null,
            "_view_module": "@jupyter-widgets/base",
            "_view_module_version": "1.2.0",
            "_view_name": "LayoutView",
            "align_content": null,
            "align_items": null,
            "align_self": null,
            "border": null,
            "bottom": null,
            "display": null,
            "flex": null,
            "flex_flow": null,
            "grid_area": null,
            "grid_auto_columns": null,
            "grid_auto_flow": null,
            "grid_auto_rows": null,
            "grid_column": null,
            "grid_gap": null,
            "grid_row": null,
            "grid_template_areas": null,
            "grid_template_columns": null,
            "grid_template_rows": null,
            "height": null,
            "justify_content": null,
            "justify_items": null,
            "left": null,
            "margin": null,
            "max_height": null,
            "max_width": null,
            "min_height": null,
            "min_width": null,
            "object_fit": null,
            "object_position": null,
            "order": null,
            "overflow": null,
            "overflow_x": null,
            "overflow_y": null,
            "padding": null,
            "right": null,
            "top": null,
            "visibility": null,
            "width": null
          }
        },
        "2e8c82dfab16401184b2cb9ebdacffba": {
          "model_module": "@jupyter-widgets/base",
          "model_name": "LayoutModel",
          "model_module_version": "1.2.0",
          "state": {
            "_model_module": "@jupyter-widgets/base",
            "_model_module_version": "1.2.0",
            "_model_name": "LayoutModel",
            "_view_count": null,
            "_view_module": "@jupyter-widgets/base",
            "_view_module_version": "1.2.0",
            "_view_name": "LayoutView",
            "align_content": null,
            "align_items": null,
            "align_self": null,
            "border": null,
            "bottom": null,
            "display": null,
            "flex": null,
            "flex_flow": null,
            "grid_area": null,
            "grid_auto_columns": null,
            "grid_auto_flow": null,
            "grid_auto_rows": null,
            "grid_column": null,
            "grid_gap": null,
            "grid_row": null,
            "grid_template_areas": null,
            "grid_template_columns": null,
            "grid_template_rows": null,
            "height": null,
            "justify_content": null,
            "justify_items": null,
            "left": null,
            "margin": null,
            "max_height": null,
            "max_width": null,
            "min_height": null,
            "min_width": null,
            "object_fit": null,
            "object_position": null,
            "order": null,
            "overflow": null,
            "overflow_x": null,
            "overflow_y": null,
            "padding": null,
            "right": null,
            "top": null,
            "visibility": null,
            "width": null
          }
        },
        "442728d523cf446d902a72c9873feb75": {
          "model_module": "@jupyter-widgets/controls",
          "model_name": "DescriptionStyleModel",
          "model_module_version": "1.5.0",
          "state": {
            "_model_module": "@jupyter-widgets/controls",
            "_model_module_version": "1.5.0",
            "_model_name": "DescriptionStyleModel",
            "_view_count": null,
            "_view_module": "@jupyter-widgets/base",
            "_view_module_version": "1.2.0",
            "_view_name": "StyleView",
            "description_width": ""
          }
        },
        "ba0c7588e8d04980991fcb1b2ac05220": {
          "model_module": "@jupyter-widgets/base",
          "model_name": "LayoutModel",
          "model_module_version": "1.2.0",
          "state": {
            "_model_module": "@jupyter-widgets/base",
            "_model_module_version": "1.2.0",
            "_model_name": "LayoutModel",
            "_view_count": null,
            "_view_module": "@jupyter-widgets/base",
            "_view_module_version": "1.2.0",
            "_view_name": "LayoutView",
            "align_content": null,
            "align_items": null,
            "align_self": null,
            "border": null,
            "bottom": null,
            "display": null,
            "flex": null,
            "flex_flow": null,
            "grid_area": null,
            "grid_auto_columns": null,
            "grid_auto_flow": null,
            "grid_auto_rows": null,
            "grid_column": null,
            "grid_gap": null,
            "grid_row": null,
            "grid_template_areas": null,
            "grid_template_columns": null,
            "grid_template_rows": null,
            "height": null,
            "justify_content": null,
            "justify_items": null,
            "left": null,
            "margin": null,
            "max_height": null,
            "max_width": null,
            "min_height": null,
            "min_width": null,
            "object_fit": null,
            "object_position": null,
            "order": null,
            "overflow": null,
            "overflow_x": null,
            "overflow_y": null,
            "padding": null,
            "right": null,
            "top": null,
            "visibility": null,
            "width": null
          }
        },
        "9baaa41b8f9d403ca0879d76900c9165": {
          "model_module": "@jupyter-widgets/controls",
          "model_name": "ProgressStyleModel",
          "model_module_version": "1.5.0",
          "state": {
            "_model_module": "@jupyter-widgets/controls",
            "_model_module_version": "1.5.0",
            "_model_name": "ProgressStyleModel",
            "_view_count": null,
            "_view_module": "@jupyter-widgets/base",
            "_view_module_version": "1.2.0",
            "_view_name": "StyleView",
            "bar_color": null,
            "description_width": ""
          }
        },
        "a1cc18fcebaf4d228ecd9c54b2bee56a": {
          "model_module": "@jupyter-widgets/base",
          "model_name": "LayoutModel",
          "model_module_version": "1.2.0",
          "state": {
            "_model_module": "@jupyter-widgets/base",
            "_model_module_version": "1.2.0",
            "_model_name": "LayoutModel",
            "_view_count": null,
            "_view_module": "@jupyter-widgets/base",
            "_view_module_version": "1.2.0",
            "_view_name": "LayoutView",
            "align_content": null,
            "align_items": null,
            "align_self": null,
            "border": null,
            "bottom": null,
            "display": null,
            "flex": null,
            "flex_flow": null,
            "grid_area": null,
            "grid_auto_columns": null,
            "grid_auto_flow": null,
            "grid_auto_rows": null,
            "grid_column": null,
            "grid_gap": null,
            "grid_row": null,
            "grid_template_areas": null,
            "grid_template_columns": null,
            "grid_template_rows": null,
            "height": null,
            "justify_content": null,
            "justify_items": null,
            "left": null,
            "margin": null,
            "max_height": null,
            "max_width": null,
            "min_height": null,
            "min_width": null,
            "object_fit": null,
            "object_position": null,
            "order": null,
            "overflow": null,
            "overflow_x": null,
            "overflow_y": null,
            "padding": null,
            "right": null,
            "top": null,
            "visibility": null,
            "width": null
          }
        },
        "d418d0ba84b44f46aa13444e1e5572b6": {
          "model_module": "@jupyter-widgets/controls",
          "model_name": "DescriptionStyleModel",
          "model_module_version": "1.5.0",
          "state": {
            "_model_module": "@jupyter-widgets/controls",
            "_model_module_version": "1.5.0",
            "_model_name": "DescriptionStyleModel",
            "_view_count": null,
            "_view_module": "@jupyter-widgets/base",
            "_view_module_version": "1.2.0",
            "_view_name": "StyleView",
            "description_width": ""
          }
        }
      }
    }
  },
  "nbformat": 4,
  "nbformat_minor": 0
}